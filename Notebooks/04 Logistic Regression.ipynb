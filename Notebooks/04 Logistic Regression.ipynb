{
 "cells": [
  {
   "cell_type": "markdown",
   "id": "ba497995",
   "metadata": {},
   "source": [
    "Notebook focuses on implementing Logistic Regression with Hyperparameter tuning in various forms.\n",
    "1. Binary Classification (2 Output Classes)\n",
    "2. Multi-class Classification\n",
    "3. Imbalanced Datasets\n",
    "4. Using ROC Curve and AUC Score"
   ]
  },
  {
   "cell_type": "markdown",
   "id": "859df50c",
   "metadata": {},
   "source": [
    "# Logistic Regression for Binary Classification"
   ]
  },
  {
   "cell_type": "code",
   "execution_count": 106,
   "id": "b1e907e6",
   "metadata": {},
   "outputs": [],
   "source": [
    "import pandas as pd\n",
    "import numpy as np\n",
    "import matplotlib.pyplot as plt\n",
    "import seaborn as sns\n",
    "import warnings\n",
    "%matplotlib inline"
   ]
  },
  {
   "cell_type": "code",
   "execution_count": 107,
   "id": "7031d2a2",
   "metadata": {},
   "outputs": [],
   "source": [
    "from sklearn.datasets import make_classification"
   ]
  },
  {
   "cell_type": "code",
   "execution_count": 108,
   "id": "6713ee28",
   "metadata": {},
   "outputs": [],
   "source": [
    "## Creating dataset with 2(binary) classes\n",
    "X, y = make_classification(n_samples=1000, n_features=10, n_classes=2, random_state=42)"
   ]
  },
  {
   "cell_type": "code",
   "execution_count": 109,
   "id": "c659232f",
   "metadata": {
    "scrolled": true
   },
   "outputs": [
    {
     "data": {
      "text/plain": [
       "array([[ 0.96479937, -0.06644898,  0.98676805, -0.35807945,  0.99726557,\n",
       "         1.18189004, -1.61567885, -1.2101605 , -0.62807677,  1.22727382],\n",
       "       [-0.91651053, -0.56639459, -1.00861409,  0.83161679, -1.17696211,\n",
       "         1.82054391,  1.75237485, -0.98453405,  0.36389642,  0.20947008],\n",
       "       [-0.10948373, -0.43277388, -0.4576493 ,  0.79381847, -0.26864575,\n",
       "        -1.83635978,  1.23908594, -0.2463834 , -1.05814521, -0.29737608]])"
      ]
     },
     "execution_count": 109,
     "metadata": {},
     "output_type": "execute_result"
    }
   ],
   "source": [
    "X[:3]"
   ]
  },
  {
   "cell_type": "raw",
   "id": "4591c81e",
   "metadata": {},
   "source": [
    "X has 10 independent features"
   ]
  },
  {
   "cell_type": "code",
   "execution_count": 110,
   "id": "bf3f4c9f",
   "metadata": {},
   "outputs": [
    {
     "data": {
      "text/plain": [
       "array([0, 1])"
      ]
     },
     "execution_count": 110,
     "metadata": {},
     "output_type": "execute_result"
    }
   ],
   "source": [
    "np.unique(y)"
   ]
  },
  {
   "cell_type": "raw",
   "id": "78eacca3",
   "metadata": {},
   "source": [
    "y has 2 classes - 0 and 1"
   ]
  },
  {
   "cell_type": "markdown",
   "id": "0284fea8",
   "metadata": {},
   "source": [
    "## Train Test Split"
   ]
  },
  {
   "cell_type": "code",
   "execution_count": 111,
   "id": "5ee32766",
   "metadata": {},
   "outputs": [],
   "source": [
    "from sklearn.model_selection import train_test_split"
   ]
  },
  {
   "cell_type": "code",
   "execution_count": 112,
   "id": "8bc94eaf",
   "metadata": {},
   "outputs": [],
   "source": [
    "X_train, X_test, y_train, y_test = train_test_split(X, y, test_size=0.3 , random_state=42)"
   ]
  },
  {
   "cell_type": "code",
   "execution_count": 113,
   "id": "f2038af7",
   "metadata": {},
   "outputs": [
    {
     "data": {
      "text/plain": [
       "(700, 10)"
      ]
     },
     "execution_count": 113,
     "metadata": {},
     "output_type": "execute_result"
    }
   ],
   "source": [
    "X_train.shape"
   ]
  },
  {
   "cell_type": "code",
   "execution_count": 114,
   "id": "ed044094",
   "metadata": {},
   "outputs": [
    {
     "data": {
      "text/plain": [
       "(700,)"
      ]
     },
     "execution_count": 114,
     "metadata": {},
     "output_type": "execute_result"
    }
   ],
   "source": [
    "y_train.shape"
   ]
  },
  {
   "cell_type": "markdown",
   "id": "afc58a50",
   "metadata": {},
   "source": [
    "## Model Training"
   ]
  },
  {
   "cell_type": "code",
   "execution_count": 115,
   "id": "696d5f63",
   "metadata": {},
   "outputs": [],
   "source": [
    "from sklearn.linear_model import LogisticRegression\n",
    "\n",
    "# model\n",
    "logistic = LogisticRegression()\n",
    "logistic.fit(X_train, y_train)\n",
    "y_pred = logistic.predict(X_test)"
   ]
  },
  {
   "cell_type": "code",
   "execution_count": 116,
   "id": "ce94e8c6",
   "metadata": {},
   "outputs": [
    {
     "data": {
      "text/plain": [
       "array([0, 1, 0, 1, 0, 1, 0, 0, 0, 0, 0, 1, 0, 1, 0, 0, 1, 1, 1, 1, 0, 0,\n",
       "       1, 0, 0, 1, 0, 0, 1, 1, 1, 1, 0, 0, 0, 0, 1, 1, 1, 1, 0, 1, 1, 0,\n",
       "       0, 0, 1, 1, 1, 1, 0, 1, 0, 0, 1, 0, 1, 0, 1, 0, 1, 0, 0, 1, 1, 1,\n",
       "       0, 0, 1, 1, 1, 1, 1, 0, 1, 0, 0, 1, 0, 1, 0, 0, 1, 0, 1, 0, 0, 0,\n",
       "       0, 1, 1, 1, 1, 1, 1, 1, 0, 0, 1, 0, 1, 0, 1, 0, 0, 1, 0, 1, 1, 1,\n",
       "       1, 1, 1, 1, 1, 0, 0, 1, 0, 0, 1, 1, 0, 1, 1, 1, 1, 1, 1, 1, 1, 0,\n",
       "       1, 1, 1, 1, 0, 0, 0, 1, 1, 0, 0, 0, 0, 0, 1, 0, 0, 0, 1, 0, 0, 1,\n",
       "       0, 0, 1, 0, 1, 1, 0, 1, 0, 0, 0, 0, 0, 0, 0, 1, 1, 0, 0, 0, 1, 1,\n",
       "       0, 0, 1, 1, 1, 1, 1, 1, 1, 0, 0, 0, 0, 1, 0, 0, 0, 0, 1, 0, 0, 1,\n",
       "       1, 1, 0, 1, 0, 0, 0, 1, 1, 1, 1, 1, 0, 0, 0, 0, 0, 1, 0, 1, 0, 1,\n",
       "       1, 0, 0, 1, 1, 1, 0, 1, 1, 0, 0, 0, 0, 0, 0, 0, 0, 0, 1, 1, 0, 1,\n",
       "       0, 1, 1, 0, 1, 0, 1, 0, 1, 1, 1, 0, 0, 1, 1, 1, 1, 0, 1, 0, 1, 1,\n",
       "       0, 0, 0, 1, 1, 0, 1, 1, 0, 0, 1, 0, 0, 0, 0, 1, 1, 0, 1, 0, 1, 1,\n",
       "       1, 0, 0, 1, 0, 1, 1, 0, 1, 1, 1, 1, 1, 0])"
      ]
     },
     "execution_count": 116,
     "metadata": {},
     "output_type": "execute_result"
    }
   ],
   "source": [
    "y_pred"
   ]
  },
  {
   "cell_type": "code",
   "execution_count": 117,
   "id": "bc8152b2",
   "metadata": {},
   "outputs": [
    {
     "data": {
      "text/plain": [
       "array([[7.74481865e-01, 2.25518135e-01],\n",
       "       [3.36701953e-02, 9.66329805e-01],\n",
       "       [6.70684311e-01, 3.29315689e-01],\n",
       "       [7.98688284e-02, 9.20131172e-01],\n",
       "       [9.76617515e-01, 2.33824847e-02],\n",
       "       [4.13590037e-02, 9.58640996e-01],\n",
       "       [9.79029806e-01, 2.09701936e-02],\n",
       "       [9.59367633e-01, 4.06323668e-02],\n",
       "       [8.08516510e-01, 1.91483490e-01],\n",
       "       [6.84961496e-01, 3.15038504e-01],\n",
       "       [9.13670314e-01, 8.63296857e-02],\n",
       "       [2.63599422e-01, 7.36400578e-01],\n",
       "       [5.25846966e-01, 4.74153034e-01],\n",
       "       [2.11919907e-01, 7.88080093e-01],\n",
       "       [7.93598597e-01, 2.06401403e-01],\n",
       "       [9.46623760e-01, 5.33762402e-02],\n",
       "       [2.62972095e-02, 9.73702790e-01],\n",
       "       [3.24226362e-01, 6.75773638e-01],\n",
       "       [3.14809449e-01, 6.85190551e-01],\n",
       "       [2.04954712e-01, 7.95045288e-01],\n",
       "       [5.04587814e-01, 4.95412186e-01],\n",
       "       [9.66703959e-01, 3.32960407e-02],\n",
       "       [2.00518184e-01, 7.99481816e-01],\n",
       "       [7.77899761e-01, 2.22100239e-01],\n",
       "       [8.72991320e-01, 1.27008680e-01],\n",
       "       [4.01992876e-02, 9.59800712e-01],\n",
       "       [9.21219173e-01, 7.87808267e-02],\n",
       "       [8.14309281e-01, 1.85690719e-01],\n",
       "       [4.84332824e-01, 5.15667176e-01],\n",
       "       [3.45972984e-01, 6.54027016e-01],\n",
       "       [6.82537540e-02, 9.31746246e-01],\n",
       "       [5.40131363e-04, 9.99459869e-01],\n",
       "       [9.69329547e-01, 3.06704527e-02],\n",
       "       [9.72909700e-01, 2.70903002e-02],\n",
       "       [9.42368579e-01, 5.76314206e-02],\n",
       "       [5.19297868e-01, 4.80702132e-01],\n",
       "       [8.46485360e-02, 9.15351464e-01],\n",
       "       [3.25973489e-01, 6.74026511e-01],\n",
       "       [4.76896441e-01, 5.23103559e-01],\n",
       "       [1.53792182e-04, 9.99846208e-01],\n",
       "       [9.15876864e-01, 8.41231355e-02],\n",
       "       [8.64941639e-02, 9.13505836e-01],\n",
       "       [4.79534466e-01, 5.20465534e-01],\n",
       "       [9.35684881e-01, 6.43151186e-02],\n",
       "       [9.77892432e-01, 2.21075678e-02],\n",
       "       [5.85647729e-01, 4.14352271e-01],\n",
       "       [1.57850274e-02, 9.84214973e-01],\n",
       "       [7.62153473e-02, 9.23784653e-01],\n",
       "       [1.34856191e-02, 9.86514381e-01],\n",
       "       [5.30434207e-02, 9.46956579e-01],\n",
       "       [8.06446491e-01, 1.93553509e-01],\n",
       "       [4.80640441e-03, 9.95193596e-01],\n",
       "       [5.04842439e-01, 4.95157561e-01],\n",
       "       [8.68426696e-01, 1.31573304e-01],\n",
       "       [8.92672785e-03, 9.91073272e-01],\n",
       "       [5.92496250e-01, 4.07503750e-01],\n",
       "       [1.57436250e-01, 8.42563750e-01],\n",
       "       [9.76377528e-01, 2.36224722e-02],\n",
       "       [9.85841380e-02, 9.01415862e-01],\n",
       "       [9.04180754e-01, 9.58192457e-02],\n",
       "       [6.72500548e-03, 9.93274995e-01],\n",
       "       [6.94841326e-01, 3.05158674e-01],\n",
       "       [7.57556928e-01, 2.42443072e-01],\n",
       "       [3.10058692e-02, 9.68994131e-01],\n",
       "       [3.06678156e-01, 6.93321844e-01],\n",
       "       [1.74768485e-01, 8.25231515e-01],\n",
       "       [8.36521054e-01, 1.63478946e-01],\n",
       "       [8.97502104e-01, 1.02497896e-01],\n",
       "       [3.36206495e-01, 6.63793505e-01],\n",
       "       [1.63594256e-01, 8.36405744e-01],\n",
       "       [3.22760752e-01, 6.77239248e-01],\n",
       "       [4.48407621e-02, 9.55159238e-01],\n",
       "       [2.14636531e-04, 9.99785363e-01],\n",
       "       [9.68626945e-01, 3.13730548e-02],\n",
       "       [1.85288140e-01, 8.14711860e-01],\n",
       "       [8.76098052e-01, 1.23901948e-01],\n",
       "       [9.74553011e-01, 2.54469887e-02],\n",
       "       [1.69197167e-03, 9.98308028e-01],\n",
       "       [9.42492972e-01, 5.75070276e-02],\n",
       "       [1.66995263e-01, 8.33004737e-01],\n",
       "       [7.93679632e-01, 2.06320368e-01],\n",
       "       [9.40837464e-01, 5.91625357e-02],\n",
       "       [1.01615314e-01, 8.98384686e-01],\n",
       "       [8.74076764e-01, 1.25923236e-01],\n",
       "       [2.28543145e-04, 9.99771457e-01],\n",
       "       [8.78527123e-01, 1.21472877e-01],\n",
       "       [8.44947807e-01, 1.55052193e-01],\n",
       "       [8.53359591e-01, 1.46640409e-01],\n",
       "       [8.69064992e-01, 1.30935008e-01],\n",
       "       [1.28583877e-01, 8.71416123e-01],\n",
       "       [2.73400137e-03, 9.97265999e-01],\n",
       "       [2.14411341e-02, 9.78558866e-01],\n",
       "       [1.08234081e-01, 8.91765919e-01],\n",
       "       [2.63736527e-01, 7.36263473e-01],\n",
       "       [5.78022690e-02, 9.42197731e-01],\n",
       "       [2.16043961e-01, 7.83956039e-01],\n",
       "       [9.32822742e-01, 6.71772580e-02],\n",
       "       [9.41557827e-01, 5.84421729e-02],\n",
       "       [4.08775347e-01, 5.91224653e-01],\n",
       "       [9.17169218e-01, 8.28307822e-02],\n",
       "       [4.74766726e-03, 9.95252333e-01],\n",
       "       [9.38740890e-01, 6.12591101e-02],\n",
       "       [1.56657301e-02, 9.84334270e-01],\n",
       "       [9.97834478e-01, 2.16552153e-03],\n",
       "       [9.91498842e-01, 8.50115780e-03],\n",
       "       [2.95811194e-01, 7.04188806e-01],\n",
       "       [9.79658129e-01, 2.03418708e-02],\n",
       "       [4.24497885e-03, 9.95755021e-01],\n",
       "       [4.46640159e-01, 5.53359841e-01],\n",
       "       [1.04695114e-01, 8.95304886e-01],\n",
       "       [1.74853656e-01, 8.25146344e-01],\n",
       "       [6.03245449e-02, 9.39675455e-01],\n",
       "       [6.56140824e-02, 9.34385918e-01],\n",
       "       [1.19932755e-01, 8.80067245e-01],\n",
       "       [8.58139148e-03, 9.91418609e-01],\n",
       "       [8.59877793e-01, 1.40122207e-01],\n",
       "       [6.84720111e-01, 3.15279889e-01],\n",
       "       [1.95239503e-01, 8.04760497e-01],\n",
       "       [9.82842411e-01, 1.71575890e-02],\n",
       "       [9.47845022e-01, 5.21549784e-02],\n",
       "       [6.97673013e-04, 9.99302327e-01],\n",
       "       [3.92559718e-02, 9.60744028e-01],\n",
       "       [9.40312854e-01, 5.96871456e-02],\n",
       "       [2.89286381e-02, 9.71071362e-01],\n",
       "       [5.42289824e-02, 9.45771018e-01],\n",
       "       [1.63545398e-01, 8.36454602e-01],\n",
       "       [2.30250688e-03, 9.97697493e-01],\n",
       "       [1.31065468e-01, 8.68934532e-01],\n",
       "       [7.18456043e-02, 9.28154396e-01],\n",
       "       [5.19761272e-03, 9.94802387e-01],\n",
       "       [1.66745837e-01, 8.33254163e-01],\n",
       "       [8.64726781e-01, 1.35273219e-01],\n",
       "       [2.03825685e-01, 7.96174315e-01],\n",
       "       [3.85209992e-02, 9.61479001e-01],\n",
       "       [4.25742886e-01, 5.74257114e-01],\n",
       "       [1.22170814e-01, 8.77829186e-01],\n",
       "       [9.69782987e-01, 3.02170132e-02],\n",
       "       [8.44239030e-01, 1.55760970e-01],\n",
       "       [9.51010813e-01, 4.89891866e-02],\n",
       "       [3.65223925e-02, 9.63477607e-01],\n",
       "       [2.97238616e-01, 7.02761384e-01],\n",
       "       [9.83931108e-01, 1.60688920e-02],\n",
       "       [8.50485458e-01, 1.49514542e-01],\n",
       "       [9.69227221e-01, 3.07727794e-02],\n",
       "       [5.70768012e-01, 4.29231988e-01],\n",
       "       [6.08976444e-01, 3.91023556e-01],\n",
       "       [1.52019067e-03, 9.98479809e-01],\n",
       "       [9.05745569e-01, 9.42544308e-02],\n",
       "       [9.84756939e-01, 1.52430607e-02],\n",
       "       [9.88123177e-01, 1.18768231e-02],\n",
       "       [2.69251140e-02, 9.73074886e-01],\n",
       "       [9.93780698e-01, 6.21930198e-03],\n",
       "       [9.23254454e-01, 7.67455462e-02],\n",
       "       [4.96000594e-01, 5.03999406e-01],\n",
       "       [9.29593709e-01, 7.04062907e-02],\n",
       "       [9.83111918e-01, 1.68880817e-02],\n",
       "       [3.74697480e-03, 9.96253025e-01],\n",
       "       [9.41062693e-01, 5.89373066e-02],\n",
       "       [4.83202797e-01, 5.16797203e-01],\n",
       "       [1.28935173e-01, 8.71064827e-01],\n",
       "       [9.66521035e-01, 3.34789653e-02],\n",
       "       [9.51215587e-02, 9.04878441e-01],\n",
       "       [8.98677902e-01, 1.01322098e-01],\n",
       "       [9.34913945e-01, 6.50860555e-02],\n",
       "       [8.83540452e-01, 1.16459548e-01],\n",
       "       [7.75754015e-01, 2.24245985e-01],\n",
       "       [8.74341146e-01, 1.25658854e-01],\n",
       "       [8.47578762e-01, 1.52421238e-01],\n",
       "       [9.62575606e-01, 3.74243942e-02],\n",
       "       [2.72316024e-01, 7.27683976e-01],\n",
       "       [1.02520173e-01, 8.97479827e-01],\n",
       "       [5.00237888e-01, 4.99762112e-01],\n",
       "       [8.54022574e-01, 1.45977426e-01],\n",
       "       [9.18044055e-01, 8.19559450e-02],\n",
       "       [1.42417516e-01, 8.57582484e-01],\n",
       "       [5.78345565e-02, 9.42165444e-01],\n",
       "       [8.08097044e-01, 1.91902956e-01],\n",
       "       [5.20477079e-01, 4.79522921e-01],\n",
       "       [1.34065429e-01, 8.65934571e-01],\n",
       "       [9.08221455e-02, 9.09177855e-01],\n",
       "       [8.49746926e-03, 9.91502531e-01],\n",
       "       [2.60308357e-01, 7.39691643e-01],\n",
       "       [5.84156069e-02, 9.41584393e-01],\n",
       "       [3.63803552e-02, 9.63619645e-01],\n",
       "       [1.19269549e-01, 8.80730451e-01],\n",
       "       [7.89893915e-01, 2.10106085e-01],\n",
       "       [8.43223196e-01, 1.56776804e-01],\n",
       "       [9.98692315e-01, 1.30768462e-03],\n",
       "       [8.78879748e-01, 1.21120252e-01],\n",
       "       [3.56788101e-02, 9.64321190e-01],\n",
       "       [6.03056823e-01, 3.96943177e-01],\n",
       "       [9.86431468e-01, 1.35685316e-02],\n",
       "       [7.93147418e-01, 2.06852582e-01],\n",
       "       [8.47471429e-01, 1.52528571e-01],\n",
       "       [1.13681024e-01, 8.86318976e-01],\n",
       "       [8.19144936e-01, 1.80855064e-01],\n",
       "       [8.96157436e-01, 1.03842564e-01],\n",
       "       [9.08684103e-02, 9.09131590e-01],\n",
       "       [1.34430955e-02, 9.86556905e-01],\n",
       "       [6.36423872e-03, 9.93635761e-01],\n",
       "       [8.98003490e-01, 1.01996510e-01],\n",
       "       [1.42697682e-02, 9.85730232e-01],\n",
       "       [6.47051534e-01, 3.52948466e-01],\n",
       "       [6.45803242e-01, 3.54196758e-01],\n",
       "       [8.98932746e-01, 1.01067254e-01],\n",
       "       [3.98254483e-01, 6.01745517e-01],\n",
       "       [4.78063005e-02, 9.52193700e-01],\n",
       "       [1.25482536e-01, 8.74517464e-01],\n",
       "       [4.58966773e-04, 9.99541033e-01],\n",
       "       [1.81793809e-01, 8.18206191e-01],\n",
       "       [9.76613816e-01, 2.33861841e-02],\n",
       "       [9.05274286e-01, 9.47257137e-02],\n",
       "       [7.81835426e-01, 2.18164574e-01],\n",
       "       [9.35072370e-01, 6.49276298e-02],\n",
       "       [9.77101449e-01, 2.28985506e-02],\n",
       "       [4.05115858e-01, 5.94884142e-01],\n",
       "       [9.51059930e-01, 4.89400698e-02],\n",
       "       [1.38472467e-03, 9.98615275e-01],\n",
       "       [8.12440196e-01, 1.87559804e-01],\n",
       "       [2.25592515e-01, 7.74407485e-01],\n",
       "       [2.36374312e-01, 7.63625688e-01],\n",
       "       [8.08299917e-01, 1.91700083e-01],\n",
       "       [9.36603168e-01, 6.33968322e-02],\n",
       "       [1.88735249e-02, 9.81126475e-01],\n",
       "       [1.77460025e-01, 8.22539975e-01],\n",
       "       [2.46437562e-02, 9.75356244e-01],\n",
       "       [8.70664788e-01, 1.29335212e-01],\n",
       "       [9.63075851e-04, 9.99036924e-01],\n",
       "       [8.29865504e-02, 9.17013450e-01],\n",
       "       [9.78392869e-01, 2.16071311e-02],\n",
       "       [9.69095602e-01, 3.09043980e-02],\n",
       "       [7.81409686e-01, 2.18590314e-01],\n",
       "       [9.96733275e-01, 3.26672513e-03],\n",
       "       [9.57755578e-01, 4.22444220e-02],\n",
       "       [8.04248877e-01, 1.95751123e-01],\n",
       "       [9.61517522e-01, 3.84824778e-02],\n",
       "       [9.97874659e-01, 2.12534085e-03],\n",
       "       [9.24711686e-01, 7.52883138e-02],\n",
       "       [2.42346010e-02, 9.75765399e-01],\n",
       "       [1.35493128e-01, 8.64506872e-01],\n",
       "       [9.93125860e-01, 6.87414044e-03],\n",
       "       [3.44926809e-03, 9.96550732e-01],\n",
       "       [7.44652070e-01, 2.55347930e-01],\n",
       "       [1.36444131e-01, 8.63555869e-01],\n",
       "       [2.40979535e-02, 9.75902046e-01],\n",
       "       [8.43426032e-01, 1.56573968e-01],\n",
       "       [1.45788436e-04, 9.99854212e-01],\n",
       "       [9.40089263e-01, 5.99107368e-02],\n",
       "       [1.05127669e-02, 9.89487233e-01],\n",
       "       [7.86959717e-01, 2.13040283e-01],\n",
       "       [7.24052243e-02, 9.27594776e-01],\n",
       "       [4.59900226e-01, 5.40099774e-01],\n",
       "       [4.78129992e-01, 5.21870008e-01],\n",
       "       [9.84777199e-01, 1.52228013e-02],\n",
       "       [9.27077179e-01, 7.29228213e-02],\n",
       "       [6.48952060e-03, 9.93510479e-01],\n",
       "       [5.64521972e-02, 9.43547803e-01],\n",
       "       [3.32902546e-02, 9.66709745e-01],\n",
       "       [2.84423727e-03, 9.97155763e-01],\n",
       "       [9.84839839e-01, 1.51601607e-02],\n",
       "       [2.32776846e-01, 7.67223154e-01],\n",
       "       [5.81291922e-01, 4.18708078e-01],\n",
       "       [6.14520121e-02, 9.38547988e-01],\n",
       "       [2.20628779e-02, 9.77937122e-01],\n",
       "       [9.97792652e-01, 2.20734794e-03],\n",
       "       [9.69145599e-01, 3.08544007e-02],\n",
       "       [6.10738877e-01, 3.89261123e-01],\n",
       "       [4.52029934e-03, 9.95479701e-01],\n",
       "       [5.22485488e-03, 9.94775145e-01],\n",
       "       [8.38893325e-01, 1.61106675e-01],\n",
       "       [2.94097052e-02, 9.70590295e-01],\n",
       "       [2.44818311e-02, 9.75518169e-01],\n",
       "       [5.04737096e-01, 4.95262904e-01],\n",
       "       [9.96970942e-01, 3.02905783e-03],\n",
       "       [4.38371748e-01, 5.61628252e-01],\n",
       "       [7.55540093e-01, 2.44459907e-01],\n",
       "       [7.21771966e-01, 2.78228034e-01],\n",
       "       [9.15380208e-01, 8.46197921e-02],\n",
       "       [9.55610942e-01, 4.43890578e-02],\n",
       "       [1.49460460e-01, 8.50539540e-01],\n",
       "       [4.73409051e-01, 5.26590949e-01],\n",
       "       [8.82431144e-01, 1.17568856e-01],\n",
       "       [1.02707612e-02, 9.89729239e-01],\n",
       "       [9.86046846e-01, 1.39531536e-02],\n",
       "       [1.41032967e-01, 8.58967033e-01],\n",
       "       [1.44358323e-01, 8.55641677e-01],\n",
       "       [4.31392623e-04, 9.99568607e-01],\n",
       "       [8.21144889e-01, 1.78855111e-01],\n",
       "       [9.60789878e-01, 3.92101221e-02],\n",
       "       [7.05652583e-03, 9.92943474e-01],\n",
       "       [8.69526443e-01, 1.30473557e-01],\n",
       "       [4.76296467e-02, 9.52370353e-01],\n",
       "       [3.64455780e-01, 6.35544220e-01],\n",
       "       [7.16395657e-01, 2.83604343e-01],\n",
       "       [4.75936227e-01, 5.24063773e-01],\n",
       "       [2.76519062e-01, 7.23480938e-01],\n",
       "       [1.77151018e-01, 8.22848982e-01],\n",
       "       [3.87696775e-01, 6.12303225e-01],\n",
       "       [8.73576301e-02, 9.12642370e-01],\n",
       "       [8.74641465e-01, 1.25358535e-01]])"
      ]
     },
     "execution_count": 117,
     "metadata": {},
     "output_type": "execute_result"
    }
   ],
   "source": [
    "# Class Probabilities\n",
    "logistic.predict_proba(X_test)"
   ]
  },
  {
   "cell_type": "markdown",
   "id": "ea01fc8b",
   "metadata": {},
   "source": [
    "## Performance Metrics"
   ]
  },
  {
   "cell_type": "code",
   "execution_count": 118,
   "id": "7bc14090",
   "metadata": {},
   "outputs": [],
   "source": [
    "from sklearn.metrics import accuracy_score, confusion_matrix, classification_report"
   ]
  },
  {
   "cell_type": "code",
   "execution_count": 119,
   "id": "25c13ba1",
   "metadata": {},
   "outputs": [],
   "source": [
    "accuracy = accuracy_score(y_test, y_pred)\n",
    "cm = confusion_matrix(y_test, y_pred)\n",
    "cr = classification_report(y_test, y_pred)"
   ]
  },
  {
   "cell_type": "code",
   "execution_count": 120,
   "id": "8414eb71",
   "metadata": {
    "scrolled": true
   },
   "outputs": [
    {
     "name": "stdout",
     "output_type": "stream",
     "text": [
      "0.8466666666666667\n",
      "[[118  17]\n",
      " [ 29 136]]\n",
      "              precision    recall  f1-score   support\n",
      "\n",
      "           0       0.80      0.87      0.84       135\n",
      "           1       0.89      0.82      0.86       165\n",
      "\n",
      "    accuracy                           0.85       300\n",
      "   macro avg       0.85      0.85      0.85       300\n",
      "weighted avg       0.85      0.85      0.85       300\n",
      "\n"
     ]
    }
   ],
   "source": [
    "print(accuracy, cm, cr, sep=\"\\n\")"
   ]
  },
  {
   "cell_type": "markdown",
   "id": "fde38b49",
   "metadata": {},
   "source": [
    "## Hyperparameter Tuning & Cross-validation"
   ]
  },
  {
   "cell_type": "markdown",
   "id": "85fe0c34",
   "metadata": {},
   "source": [
    "### Hyperparameter Tuning Using GridSearchCV"
   ]
  },
  {
   "cell_type": "code",
   "execution_count": 121,
   "id": "64033162",
   "metadata": {},
   "outputs": [],
   "source": [
    "# Initializing model\n",
    "model = LogisticRegression()\n",
    "# initializing parameters\n",
    "penalty = ['l1', 'l2', 'elasticnet']\n",
    "C = [100, 10, 1.0, 0.1, 0.01]\n",
    "solver = ['lbfgs', 'liblinear', 'newton-cg', 'sag', 'saga']\n",
    "# Creating Parameter dictionary\n",
    "params = dict(penalty=penalty,\n",
    "    C=C,\n",
    "    solver=solver)"
   ]
  },
  {
   "cell_type": "code",
   "execution_count": 122,
   "id": "4261ffcb",
   "metadata": {},
   "outputs": [],
   "source": [
    "# Hyperparameter Tuning\n",
    "from sklearn.model_selection import GridSearchCV, StratifiedKFold\n",
    "\n",
    "# Cross-validation\n",
    "cv = StratifiedKFold()\n",
    "grid = GridSearchCV(estimator=model, param_grid=params, scoring='accuracy', cv=cv, n_jobs=-1)"
   ]
  },
  {
   "cell_type": "code",
   "execution_count": 123,
   "id": "3375278b",
   "metadata": {},
   "outputs": [
    {
     "data": {
      "text/html": [
       "<style>#sk-container-id-5 {color: black;}#sk-container-id-5 pre{padding: 0;}#sk-container-id-5 div.sk-toggleable {background-color: white;}#sk-container-id-5 label.sk-toggleable__label {cursor: pointer;display: block;width: 100%;margin-bottom: 0;padding: 0.3em;box-sizing: border-box;text-align: center;}#sk-container-id-5 label.sk-toggleable__label-arrow:before {content: \"▸\";float: left;margin-right: 0.25em;color: #696969;}#sk-container-id-5 label.sk-toggleable__label-arrow:hover:before {color: black;}#sk-container-id-5 div.sk-estimator:hover label.sk-toggleable__label-arrow:before {color: black;}#sk-container-id-5 div.sk-toggleable__content {max-height: 0;max-width: 0;overflow: hidden;text-align: left;background-color: #f0f8ff;}#sk-container-id-5 div.sk-toggleable__content pre {margin: 0.2em;color: black;border-radius: 0.25em;background-color: #f0f8ff;}#sk-container-id-5 input.sk-toggleable__control:checked~div.sk-toggleable__content {max-height: 200px;max-width: 100%;overflow: auto;}#sk-container-id-5 input.sk-toggleable__control:checked~label.sk-toggleable__label-arrow:before {content: \"▾\";}#sk-container-id-5 div.sk-estimator input.sk-toggleable__control:checked~label.sk-toggleable__label {background-color: #d4ebff;}#sk-container-id-5 div.sk-label input.sk-toggleable__control:checked~label.sk-toggleable__label {background-color: #d4ebff;}#sk-container-id-5 input.sk-hidden--visually {border: 0;clip: rect(1px 1px 1px 1px);clip: rect(1px, 1px, 1px, 1px);height: 1px;margin: -1px;overflow: hidden;padding: 0;position: absolute;width: 1px;}#sk-container-id-5 div.sk-estimator {font-family: monospace;background-color: #f0f8ff;border: 1px dotted black;border-radius: 0.25em;box-sizing: border-box;margin-bottom: 0.5em;}#sk-container-id-5 div.sk-estimator:hover {background-color: #d4ebff;}#sk-container-id-5 div.sk-parallel-item::after {content: \"\";width: 100%;border-bottom: 1px solid gray;flex-grow: 1;}#sk-container-id-5 div.sk-label:hover label.sk-toggleable__label {background-color: #d4ebff;}#sk-container-id-5 div.sk-serial::before {content: \"\";position: absolute;border-left: 1px solid gray;box-sizing: border-box;top: 0;bottom: 0;left: 50%;z-index: 0;}#sk-container-id-5 div.sk-serial {display: flex;flex-direction: column;align-items: center;background-color: white;padding-right: 0.2em;padding-left: 0.2em;position: relative;}#sk-container-id-5 div.sk-item {position: relative;z-index: 1;}#sk-container-id-5 div.sk-parallel {display: flex;align-items: stretch;justify-content: center;background-color: white;position: relative;}#sk-container-id-5 div.sk-item::before, #sk-container-id-5 div.sk-parallel-item::before {content: \"\";position: absolute;border-left: 1px solid gray;box-sizing: border-box;top: 0;bottom: 0;left: 50%;z-index: -1;}#sk-container-id-5 div.sk-parallel-item {display: flex;flex-direction: column;z-index: 1;position: relative;background-color: white;}#sk-container-id-5 div.sk-parallel-item:first-child::after {align-self: flex-end;width: 50%;}#sk-container-id-5 div.sk-parallel-item:last-child::after {align-self: flex-start;width: 50%;}#sk-container-id-5 div.sk-parallel-item:only-child::after {width: 0;}#sk-container-id-5 div.sk-dashed-wrapped {border: 1px dashed gray;margin: 0 0.4em 0.5em 0.4em;box-sizing: border-box;padding-bottom: 0.4em;background-color: white;}#sk-container-id-5 div.sk-label label {font-family: monospace;font-weight: bold;display: inline-block;line-height: 1.2em;}#sk-container-id-5 div.sk-label-container {text-align: center;}#sk-container-id-5 div.sk-container {/* jupyter's `normalize.less` sets `[hidden] { display: none; }` but bootstrap.min.css set `[hidden] { display: none !important; }` so we also need the `!important` here to be able to override the default hidden behavior on the sphinx rendered scikit-learn.org. See: https://github.com/scikit-learn/scikit-learn/issues/21755 */display: inline-block !important;position: relative;}#sk-container-id-5 div.sk-text-repr-fallback {display: none;}</style><div id=\"sk-container-id-5\" class=\"sk-top-container\"><div class=\"sk-text-repr-fallback\"><pre>GridSearchCV(cv=StratifiedKFold(n_splits=5, random_state=None, shuffle=False),\n",
       "             estimator=LogisticRegression(), n_jobs=-1,\n",
       "             param_grid={&#x27;C&#x27;: [100, 10, 1.0, 0.1, 0.01],\n",
       "                         &#x27;penalty&#x27;: [&#x27;l1&#x27;, &#x27;l2&#x27;, &#x27;elasticnet&#x27;],\n",
       "                         &#x27;solver&#x27;: [&#x27;lbfgs&#x27;, &#x27;liblinear&#x27;, &#x27;newton-cg&#x27;, &#x27;sag&#x27;,\n",
       "                                    &#x27;saga&#x27;]},\n",
       "             scoring=&#x27;accuracy&#x27;)</pre><b>In a Jupyter environment, please rerun this cell to show the HTML representation or trust the notebook. <br />On GitHub, the HTML representation is unable to render, please try loading this page with nbviewer.org.</b></div><div class=\"sk-container\" hidden><div class=\"sk-item sk-dashed-wrapped\"><div class=\"sk-label-container\"><div class=\"sk-label sk-toggleable\"><input class=\"sk-toggleable__control sk-hidden--visually\" id=\"sk-estimator-id-11\" type=\"checkbox\" ><label for=\"sk-estimator-id-11\" class=\"sk-toggleable__label sk-toggleable__label-arrow\">GridSearchCV</label><div class=\"sk-toggleable__content\"><pre>GridSearchCV(cv=StratifiedKFold(n_splits=5, random_state=None, shuffle=False),\n",
       "             estimator=LogisticRegression(), n_jobs=-1,\n",
       "             param_grid={&#x27;C&#x27;: [100, 10, 1.0, 0.1, 0.01],\n",
       "                         &#x27;penalty&#x27;: [&#x27;l1&#x27;, &#x27;l2&#x27;, &#x27;elasticnet&#x27;],\n",
       "                         &#x27;solver&#x27;: [&#x27;lbfgs&#x27;, &#x27;liblinear&#x27;, &#x27;newton-cg&#x27;, &#x27;sag&#x27;,\n",
       "                                    &#x27;saga&#x27;]},\n",
       "             scoring=&#x27;accuracy&#x27;)</pre></div></div></div><div class=\"sk-parallel\"><div class=\"sk-parallel-item\"><div class=\"sk-item\"><div class=\"sk-label-container\"><div class=\"sk-label sk-toggleable\"><input class=\"sk-toggleable__control sk-hidden--visually\" id=\"sk-estimator-id-12\" type=\"checkbox\" ><label for=\"sk-estimator-id-12\" class=\"sk-toggleable__label sk-toggleable__label-arrow\">estimator: LogisticRegression</label><div class=\"sk-toggleable__content\"><pre>LogisticRegression()</pre></div></div></div><div class=\"sk-serial\"><div class=\"sk-item\"><div class=\"sk-estimator sk-toggleable\"><input class=\"sk-toggleable__control sk-hidden--visually\" id=\"sk-estimator-id-13\" type=\"checkbox\" ><label for=\"sk-estimator-id-13\" class=\"sk-toggleable__label sk-toggleable__label-arrow\">LogisticRegression</label><div class=\"sk-toggleable__content\"><pre>LogisticRegression()</pre></div></div></div></div></div></div></div></div></div></div>"
      ],
      "text/plain": [
       "GridSearchCV(cv=StratifiedKFold(n_splits=5, random_state=None, shuffle=False),\n",
       "             estimator=LogisticRegression(), n_jobs=-1,\n",
       "             param_grid={'C': [100, 10, 1.0, 0.1, 0.01],\n",
       "                         'penalty': ['l1', 'l2', 'elasticnet'],\n",
       "                         'solver': ['lbfgs', 'liblinear', 'newton-cg', 'sag',\n",
       "                                    'saga']},\n",
       "             scoring='accuracy')"
      ]
     },
     "execution_count": 123,
     "metadata": {},
     "output_type": "execute_result"
    }
   ],
   "source": [
    "grid"
   ]
  },
  {
   "cell_type": "code",
   "execution_count": 124,
   "id": "13c962f5",
   "metadata": {},
   "outputs": [],
   "source": [
    "# Suppress all warnings\n",
    "warnings.filterwarnings('ignore')\n",
    "# Fitting to data\n",
    "grid.fit(X_train, y_train)\n",
    "# Restore warnings\n",
    "warnings.filterwarnings('default')"
   ]
  },
  {
   "cell_type": "markdown",
   "id": "4191249a",
   "metadata": {},
   "source": [
    "#### Best Parameters"
   ]
  },
  {
   "cell_type": "code",
   "execution_count": 125,
   "id": "45975ba1",
   "metadata": {},
   "outputs": [
    {
     "data": {
      "text/plain": [
       "{'C': 0.01, 'penalty': 'l2', 'solver': 'newton-cg'}"
      ]
     },
     "execution_count": 125,
     "metadata": {},
     "output_type": "execute_result"
    }
   ],
   "source": [
    "grid.best_params_"
   ]
  },
  {
   "cell_type": "markdown",
   "id": "2dde3bf5",
   "metadata": {},
   "source": [
    "#### Best Score"
   ]
  },
  {
   "cell_type": "code",
   "execution_count": 126,
   "id": "35a5b36d",
   "metadata": {},
   "outputs": [
    {
     "data": {
      "text/plain": [
       "0.8785714285714287"
      ]
     },
     "execution_count": 126,
     "metadata": {},
     "output_type": "execute_result"
    }
   ],
   "source": [
    "grid.best_score_"
   ]
  },
  {
   "cell_type": "markdown",
   "id": "abe2df6f",
   "metadata": {},
   "source": [
    "#### Scores after Hyperparameter Tuning using GridSearchCV"
   ]
  },
  {
   "cell_type": "code",
   "execution_count": 127,
   "id": "21eb7900",
   "metadata": {},
   "outputs": [
    {
     "name": "stdout",
     "output_type": "stream",
     "text": [
      "0.8533333333333334\n",
      "[[124  11]\n",
      " [ 33 132]]\n",
      "              precision    recall  f1-score   support\n",
      "\n",
      "           0       0.79      0.92      0.85       135\n",
      "           1       0.92      0.80      0.86       165\n",
      "\n",
      "    accuracy                           0.85       300\n",
      "   macro avg       0.86      0.86      0.85       300\n",
      "weighted avg       0.86      0.85      0.85       300\n",
      "\n"
     ]
    }
   ],
   "source": [
    "y_pred = grid.predict(X_test)\n",
    "accuracy = accuracy_score(y_test, y_pred)\n",
    "cm = confusion_matrix(y_test, y_pred)\n",
    "cr = classification_report(y_test, y_pred)\n",
    "print(accuracy, cm, cr, sep=\"\\n\")"
   ]
  },
  {
   "cell_type": "markdown",
   "id": "5c7cd7b1",
   "metadata": {},
   "source": [
    "### Using RandomizedSearchCV"
   ]
  },
  {
   "cell_type": "code",
   "execution_count": 128,
   "id": "0247a23a",
   "metadata": {},
   "outputs": [],
   "source": [
    "# Initializing model\n",
    "model = LogisticRegression()\n",
    "# initializing parameters\n",
    "penalty = ['l1', 'l2', 'elasticnet']\n",
    "C = [100, 10, 1.0, 0.1, 0.01]\n",
    "solver = ['lbfgs', 'liblinear', 'newton-cg', 'sag', 'saga']\n",
    "# Creating Parameter dictionary\n",
    "params = dict(penalty=penalty,\n",
    "    C=C,\n",
    "    solver=solver)"
   ]
  },
  {
   "cell_type": "code",
   "execution_count": 129,
   "id": "970e088b",
   "metadata": {},
   "outputs": [],
   "source": [
    "# Hyperparameter Tuning\n",
    "from sklearn.model_selection import RandomizedSearchCV\n",
    "\n",
    "randomcv = RandomizedSearchCV(estimator=model, param_distributions=params, scoring='accuracy', n_jobs=-1, cv=5)"
   ]
  },
  {
   "cell_type": "code",
   "execution_count": 130,
   "id": "e44e561d",
   "metadata": {},
   "outputs": [
    {
     "data": {
      "text/html": [
       "<style>#sk-container-id-6 {color: black;}#sk-container-id-6 pre{padding: 0;}#sk-container-id-6 div.sk-toggleable {background-color: white;}#sk-container-id-6 label.sk-toggleable__label {cursor: pointer;display: block;width: 100%;margin-bottom: 0;padding: 0.3em;box-sizing: border-box;text-align: center;}#sk-container-id-6 label.sk-toggleable__label-arrow:before {content: \"▸\";float: left;margin-right: 0.25em;color: #696969;}#sk-container-id-6 label.sk-toggleable__label-arrow:hover:before {color: black;}#sk-container-id-6 div.sk-estimator:hover label.sk-toggleable__label-arrow:before {color: black;}#sk-container-id-6 div.sk-toggleable__content {max-height: 0;max-width: 0;overflow: hidden;text-align: left;background-color: #f0f8ff;}#sk-container-id-6 div.sk-toggleable__content pre {margin: 0.2em;color: black;border-radius: 0.25em;background-color: #f0f8ff;}#sk-container-id-6 input.sk-toggleable__control:checked~div.sk-toggleable__content {max-height: 200px;max-width: 100%;overflow: auto;}#sk-container-id-6 input.sk-toggleable__control:checked~label.sk-toggleable__label-arrow:before {content: \"▾\";}#sk-container-id-6 div.sk-estimator input.sk-toggleable__control:checked~label.sk-toggleable__label {background-color: #d4ebff;}#sk-container-id-6 div.sk-label input.sk-toggleable__control:checked~label.sk-toggleable__label {background-color: #d4ebff;}#sk-container-id-6 input.sk-hidden--visually {border: 0;clip: rect(1px 1px 1px 1px);clip: rect(1px, 1px, 1px, 1px);height: 1px;margin: -1px;overflow: hidden;padding: 0;position: absolute;width: 1px;}#sk-container-id-6 div.sk-estimator {font-family: monospace;background-color: #f0f8ff;border: 1px dotted black;border-radius: 0.25em;box-sizing: border-box;margin-bottom: 0.5em;}#sk-container-id-6 div.sk-estimator:hover {background-color: #d4ebff;}#sk-container-id-6 div.sk-parallel-item::after {content: \"\";width: 100%;border-bottom: 1px solid gray;flex-grow: 1;}#sk-container-id-6 div.sk-label:hover label.sk-toggleable__label {background-color: #d4ebff;}#sk-container-id-6 div.sk-serial::before {content: \"\";position: absolute;border-left: 1px solid gray;box-sizing: border-box;top: 0;bottom: 0;left: 50%;z-index: 0;}#sk-container-id-6 div.sk-serial {display: flex;flex-direction: column;align-items: center;background-color: white;padding-right: 0.2em;padding-left: 0.2em;position: relative;}#sk-container-id-6 div.sk-item {position: relative;z-index: 1;}#sk-container-id-6 div.sk-parallel {display: flex;align-items: stretch;justify-content: center;background-color: white;position: relative;}#sk-container-id-6 div.sk-item::before, #sk-container-id-6 div.sk-parallel-item::before {content: \"\";position: absolute;border-left: 1px solid gray;box-sizing: border-box;top: 0;bottom: 0;left: 50%;z-index: -1;}#sk-container-id-6 div.sk-parallel-item {display: flex;flex-direction: column;z-index: 1;position: relative;background-color: white;}#sk-container-id-6 div.sk-parallel-item:first-child::after {align-self: flex-end;width: 50%;}#sk-container-id-6 div.sk-parallel-item:last-child::after {align-self: flex-start;width: 50%;}#sk-container-id-6 div.sk-parallel-item:only-child::after {width: 0;}#sk-container-id-6 div.sk-dashed-wrapped {border: 1px dashed gray;margin: 0 0.4em 0.5em 0.4em;box-sizing: border-box;padding-bottom: 0.4em;background-color: white;}#sk-container-id-6 div.sk-label label {font-family: monospace;font-weight: bold;display: inline-block;line-height: 1.2em;}#sk-container-id-6 div.sk-label-container {text-align: center;}#sk-container-id-6 div.sk-container {/* jupyter's `normalize.less` sets `[hidden] { display: none; }` but bootstrap.min.css set `[hidden] { display: none !important; }` so we also need the `!important` here to be able to override the default hidden behavior on the sphinx rendered scikit-learn.org. See: https://github.com/scikit-learn/scikit-learn/issues/21755 */display: inline-block !important;position: relative;}#sk-container-id-6 div.sk-text-repr-fallback {display: none;}</style><div id=\"sk-container-id-6\" class=\"sk-top-container\"><div class=\"sk-text-repr-fallback\"><pre>RandomizedSearchCV(cv=5, estimator=LogisticRegression(), n_jobs=-1,\n",
       "                   param_distributions={&#x27;C&#x27;: [100, 10, 1.0, 0.1, 0.01],\n",
       "                                        &#x27;penalty&#x27;: [&#x27;l1&#x27;, &#x27;l2&#x27;, &#x27;elasticnet&#x27;],\n",
       "                                        &#x27;solver&#x27;: [&#x27;lbfgs&#x27;, &#x27;liblinear&#x27;,\n",
       "                                                   &#x27;newton-cg&#x27;, &#x27;sag&#x27;,\n",
       "                                                   &#x27;saga&#x27;]},\n",
       "                   scoring=&#x27;accuracy&#x27;)</pre><b>In a Jupyter environment, please rerun this cell to show the HTML representation or trust the notebook. <br />On GitHub, the HTML representation is unable to render, please try loading this page with nbviewer.org.</b></div><div class=\"sk-container\" hidden><div class=\"sk-item sk-dashed-wrapped\"><div class=\"sk-label-container\"><div class=\"sk-label sk-toggleable\"><input class=\"sk-toggleable__control sk-hidden--visually\" id=\"sk-estimator-id-14\" type=\"checkbox\" ><label for=\"sk-estimator-id-14\" class=\"sk-toggleable__label sk-toggleable__label-arrow\">RandomizedSearchCV</label><div class=\"sk-toggleable__content\"><pre>RandomizedSearchCV(cv=5, estimator=LogisticRegression(), n_jobs=-1,\n",
       "                   param_distributions={&#x27;C&#x27;: [100, 10, 1.0, 0.1, 0.01],\n",
       "                                        &#x27;penalty&#x27;: [&#x27;l1&#x27;, &#x27;l2&#x27;, &#x27;elasticnet&#x27;],\n",
       "                                        &#x27;solver&#x27;: [&#x27;lbfgs&#x27;, &#x27;liblinear&#x27;,\n",
       "                                                   &#x27;newton-cg&#x27;, &#x27;sag&#x27;,\n",
       "                                                   &#x27;saga&#x27;]},\n",
       "                   scoring=&#x27;accuracy&#x27;)</pre></div></div></div><div class=\"sk-parallel\"><div class=\"sk-parallel-item\"><div class=\"sk-item\"><div class=\"sk-label-container\"><div class=\"sk-label sk-toggleable\"><input class=\"sk-toggleable__control sk-hidden--visually\" id=\"sk-estimator-id-15\" type=\"checkbox\" ><label for=\"sk-estimator-id-15\" class=\"sk-toggleable__label sk-toggleable__label-arrow\">estimator: LogisticRegression</label><div class=\"sk-toggleable__content\"><pre>LogisticRegression()</pre></div></div></div><div class=\"sk-serial\"><div class=\"sk-item\"><div class=\"sk-estimator sk-toggleable\"><input class=\"sk-toggleable__control sk-hidden--visually\" id=\"sk-estimator-id-16\" type=\"checkbox\" ><label for=\"sk-estimator-id-16\" class=\"sk-toggleable__label sk-toggleable__label-arrow\">LogisticRegression</label><div class=\"sk-toggleable__content\"><pre>LogisticRegression()</pre></div></div></div></div></div></div></div></div></div></div>"
      ],
      "text/plain": [
       "RandomizedSearchCV(cv=5, estimator=LogisticRegression(), n_jobs=-1,\n",
       "                   param_distributions={'C': [100, 10, 1.0, 0.1, 0.01],\n",
       "                                        'penalty': ['l1', 'l2', 'elasticnet'],\n",
       "                                        'solver': ['lbfgs', 'liblinear',\n",
       "                                                   'newton-cg', 'sag',\n",
       "                                                   'saga']},\n",
       "                   scoring='accuracy')"
      ]
     },
     "execution_count": 130,
     "metadata": {},
     "output_type": "execute_result"
    }
   ],
   "source": [
    "randomcv"
   ]
  },
  {
   "cell_type": "code",
   "execution_count": 131,
   "id": "eda1706a",
   "metadata": {},
   "outputs": [],
   "source": [
    "# Suppress all warnings\n",
    "warnings.filterwarnings('ignore')\n",
    "# Fitting to data\n",
    "randomcv.fit(X_train, y_train)\n",
    "# Restore warnings\n",
    "warnings.filterwarnings('default')"
   ]
  },
  {
   "cell_type": "markdown",
   "id": "f798d1a4",
   "metadata": {},
   "source": [
    "#### Best Parameters"
   ]
  },
  {
   "cell_type": "code",
   "execution_count": 132,
   "id": "aea16652",
   "metadata": {},
   "outputs": [
    {
     "data": {
      "text/plain": [
       "{'solver': 'lbfgs', 'penalty': 'l2', 'C': 0.01}"
      ]
     },
     "execution_count": 132,
     "metadata": {},
     "output_type": "execute_result"
    }
   ],
   "source": [
    "randomcv.best_params_"
   ]
  },
  {
   "cell_type": "markdown",
   "id": "046558c4",
   "metadata": {},
   "source": [
    "#### Best Score"
   ]
  },
  {
   "cell_type": "code",
   "execution_count": 133,
   "id": "175c3931",
   "metadata": {},
   "outputs": [
    {
     "data": {
      "text/plain": [
       "0.8771428571428572"
      ]
     },
     "execution_count": 133,
     "metadata": {},
     "output_type": "execute_result"
    }
   ],
   "source": [
    "randomcv.best_score_"
   ]
  },
  {
   "cell_type": "markdown",
   "id": "6cf478d6",
   "metadata": {},
   "source": [
    "#### Scores after Hyperparameter Tuning using GridSearchCV"
   ]
  },
  {
   "cell_type": "code",
   "execution_count": 134,
   "id": "efa4ffbb",
   "metadata": {},
   "outputs": [
    {
     "name": "stdout",
     "output_type": "stream",
     "text": [
      "0.8533333333333334\n",
      "[[124  11]\n",
      " [ 33 132]]\n",
      "              precision    recall  f1-score   support\n",
      "\n",
      "           0       0.79      0.92      0.85       135\n",
      "           1       0.92      0.80      0.86       165\n",
      "\n",
      "    accuracy                           0.85       300\n",
      "   macro avg       0.86      0.86      0.85       300\n",
      "weighted avg       0.86      0.85      0.85       300\n",
      "\n"
     ]
    }
   ],
   "source": [
    "y_pred = grid.predict(X_test)\n",
    "accuracy = accuracy_score(y_test, y_pred)\n",
    "cm = confusion_matrix(y_test, y_pred)\n",
    "cr = classification_report(y_test, y_pred)\n",
    "print(accuracy, cm, cr, sep=\"\\n\")"
   ]
  },
  {
   "cell_type": "markdown",
   "id": "3af475ed",
   "metadata": {},
   "source": [
    "# Logisitic Regression for Multiclass Classification Problem using OVR"
   ]
  },
  {
   "cell_type": "code",
   "execution_count": 135,
   "id": "d3640a2d",
   "metadata": {},
   "outputs": [],
   "source": [
    "## Creating dataset with 3(multi-class) classes\n",
    "X, y = make_classification(n_samples=1000, n_features=10, n_classes=3, n_informative=3, random_state=15)"
   ]
  },
  {
   "cell_type": "code",
   "execution_count": 136,
   "id": "2b3726ea",
   "metadata": {},
   "outputs": [
    {
     "data": {
      "text/plain": [
       "array([[-1.28613186, -0.64833414,  1.04411477, -0.46971483,  0.78985885,\n",
       "        -0.08372744, -1.64730936, -1.3164116 ,  1.01191003, -0.89806282],\n",
       "       [-0.22222406,  2.083232  ,  1.19111402, -1.3545267 , -0.95699183,\n",
       "         1.69602841, -1.07040599,  0.98140271, -1.62879759,  1.37759419],\n",
       "       [-0.43196264,  0.37574543, -1.37033375,  0.81921405,  0.34524337,\n",
       "         1.38944677, -1.90412997,  1.2926021 ,  0.925545  ,  0.23270542]])"
      ]
     },
     "execution_count": 136,
     "metadata": {},
     "output_type": "execute_result"
    }
   ],
   "source": [
    "# 10 independent features\n",
    "X[:3]"
   ]
  },
  {
   "cell_type": "code",
   "execution_count": 137,
   "id": "d52016a3",
   "metadata": {},
   "outputs": [
    {
     "data": {
      "text/plain": [
       "array([0, 1, 2])"
      ]
     },
     "execution_count": 137,
     "metadata": {},
     "output_type": "execute_result"
    }
   ],
   "source": [
    "# 3 target classes\n",
    "np.unique(y)"
   ]
  },
  {
   "cell_type": "markdown",
   "id": "0b501724",
   "metadata": {},
   "source": [
    "## Train Test Split"
   ]
  },
  {
   "cell_type": "code",
   "execution_count": 138,
   "id": "4e028ece",
   "metadata": {},
   "outputs": [],
   "source": [
    "from sklearn.model_selection import train_test_split"
   ]
  },
  {
   "cell_type": "code",
   "execution_count": 139,
   "id": "8b3c3e15",
   "metadata": {},
   "outputs": [],
   "source": [
    "X_train, X_test, y_train, y_test = train_test_split(X, y, test_size=0.3 , random_state=42)"
   ]
  },
  {
   "cell_type": "code",
   "execution_count": 140,
   "id": "779ac538",
   "metadata": {},
   "outputs": [
    {
     "data": {
      "text/plain": [
       "(700, 10)"
      ]
     },
     "execution_count": 140,
     "metadata": {},
     "output_type": "execute_result"
    }
   ],
   "source": [
    "X_train.shape"
   ]
  },
  {
   "cell_type": "code",
   "execution_count": 141,
   "id": "a9bad7b1",
   "metadata": {},
   "outputs": [
    {
     "data": {
      "text/plain": [
       "(700,)"
      ]
     },
     "execution_count": 141,
     "metadata": {},
     "output_type": "execute_result"
    }
   ],
   "source": [
    "y_train.shape"
   ]
  },
  {
   "cell_type": "markdown",
   "id": "235f565b",
   "metadata": {},
   "source": [
    "## Model Training"
   ]
  },
  {
   "cell_type": "code",
   "execution_count": 142,
   "id": "2dc18a50",
   "metadata": {},
   "outputs": [],
   "source": [
    "from sklearn.linear_model import LogisticRegression\n",
    "\n",
    "# model\n",
    "logistic = LogisticRegression(multi_class='ovr')\n",
    "logistic.fit(X_train, y_train)\n",
    "y_pred = logistic.predict(X_test)"
   ]
  },
  {
   "cell_type": "code",
   "execution_count": 143,
   "id": "70a18363",
   "metadata": {},
   "outputs": [
    {
     "data": {
      "text/plain": [
       "array([2, 1, 2, 1, 1, 0, 0, 0, 2, 0, 2, 1, 2, 2, 2, 2, 2, 0, 0, 2, 2, 1,\n",
       "       1, 1, 1, 0, 0, 0, 2, 1, 0, 2, 2, 1, 2, 0, 0, 2, 2, 1, 2, 2, 2, 1,\n",
       "       2, 0, 1, 2, 0, 1, 0, 0, 0, 1, 1, 2, 0, 0, 1, 1, 0, 1, 0, 1, 1, 0,\n",
       "       2, 1, 0, 1, 0, 1, 2, 1, 2, 2, 1, 0, 1, 0, 1, 0, 1, 2, 2, 0, 1, 2,\n",
       "       2, 1, 1, 2, 2, 0, 0, 0, 2, 2, 0, 1, 2, 1, 2, 1, 0, 2, 0, 2, 0, 1,\n",
       "       2, 1, 2, 2, 1, 1, 1, 1, 2, 0, 2, 0, 1, 2, 0, 0, 2, 2, 2, 1, 2, 0,\n",
       "       2, 2, 0, 0, 0, 2, 0, 2, 0, 1, 2, 1, 1, 2, 0, 0, 1, 1, 2, 2, 2, 1,\n",
       "       2, 0, 2, 2, 2, 1, 0, 2, 0, 0, 2, 0, 2, 0, 0, 1, 2, 0, 1, 1, 1, 1,\n",
       "       0, 2, 1, 0, 0, 1, 2, 2, 2, 2, 2, 0, 1, 1, 2, 2, 1, 2, 2, 2, 2, 1,\n",
       "       0, 0, 1, 2, 2, 0, 0, 2, 1, 2, 1, 0, 0, 2, 1, 1, 1, 2, 2, 1, 2, 1,\n",
       "       0, 1, 0, 0, 1, 0, 2, 1, 0, 2, 2, 1, 1, 1, 2, 1, 1, 0, 1, 1, 0, 0,\n",
       "       0, 0, 2, 0, 0, 2, 2, 2, 2, 0, 2, 0, 1, 2, 2, 2, 1, 0, 0, 1, 0, 2,\n",
       "       1, 2, 0, 0, 0, 2, 2, 1, 2, 0, 1, 1, 0, 0, 0, 1, 0, 2, 2, 0, 2, 0,\n",
       "       0, 0, 1, 1, 2, 0, 1, 2, 2, 0, 1, 2, 0, 2])"
      ]
     },
     "execution_count": 143,
     "metadata": {},
     "output_type": "execute_result"
    }
   ],
   "source": [
    "y_pred"
   ]
  },
  {
   "cell_type": "code",
   "execution_count": 144,
   "id": "e431b8fc",
   "metadata": {},
   "outputs": [
    {
     "data": {
      "text/plain": [
       "array([[8.54365238e-05, 1.78621334e-01, 8.21293230e-01],\n",
       "       [2.20259107e-01, 6.90718001e-01, 8.90228916e-02],\n",
       "       [3.71087396e-06, 2.56437693e-01, 7.43558597e-01],\n",
       "       [1.00039838e-01, 8.36637432e-01, 6.33227302e-02],\n",
       "       [9.45108683e-02, 8.91152500e-01, 1.43366314e-02],\n",
       "       [8.49168072e-01, 3.48082743e-02, 1.16023654e-01],\n",
       "       [7.88836279e-01, 6.27509875e-02, 1.48412734e-01],\n",
       "       [9.15550602e-01, 1.74684602e-02, 6.69809379e-02],\n",
       "       [3.90999487e-02, 4.33286299e-01, 5.27613752e-01],\n",
       "       [7.87559150e-01, 2.04670434e-01, 7.77041646e-03],\n",
       "       [6.08084274e-04, 3.68488328e-01, 6.30903588e-01],\n",
       "       [3.56089599e-01, 5.81771194e-01, 6.21392068e-02],\n",
       "       [1.39597002e-01, 3.95346926e-03, 8.56449529e-01],\n",
       "       [2.37703815e-02, 4.78633332e-01, 4.97596286e-01],\n",
       "       [7.71675842e-03, 3.79307663e-01, 6.12975579e-01],\n",
       "       [2.45399115e-02, 3.55753088e-02, 9.39884780e-01],\n",
       "       [9.29919035e-03, 1.64908070e-01, 8.25792739e-01],\n",
       "       [6.55211658e-01, 3.37967146e-01, 6.82119610e-03],\n",
       "       [9.16853780e-01, 4.04700531e-02, 4.26761670e-02],\n",
       "       [4.33355397e-01, 5.57003807e-03, 5.61074565e-01],\n",
       "       [2.54622627e-01, 1.54741212e-02, 7.29903252e-01],\n",
       "       [1.78256620e-01, 7.79587736e-01, 4.21556444e-02],\n",
       "       [1.89212548e-01, 7.56534160e-01, 5.42532923e-02],\n",
       "       [6.86956205e-02, 8.41376211e-01, 8.99281689e-02],\n",
       "       [1.25439064e-01, 8.39921760e-01, 3.46391766e-02],\n",
       "       [5.26933249e-01, 1.84953398e-01, 2.88113353e-01],\n",
       "       [8.10754102e-01, 1.42295334e-01, 4.69505636e-02],\n",
       "       [4.37723476e-01, 2.54946091e-01, 3.07330432e-01],\n",
       "       [1.52038504e-01, 2.47943902e-02, 8.23167106e-01],\n",
       "       [3.55328338e-01, 6.22898586e-01, 2.17730761e-02],\n",
       "       [6.26732156e-01, 3.69155716e-01, 4.11212821e-03],\n",
       "       [8.93477467e-02, 2.74722163e-01, 6.35930090e-01],\n",
       "       [2.12329984e-04, 3.63146440e-01, 6.36641230e-01],\n",
       "       [3.07723098e-01, 6.91874601e-01, 4.02300656e-04],\n",
       "       [9.75418785e-04, 4.23301222e-01, 5.75723359e-01],\n",
       "       [8.45328510e-01, 5.23687981e-02, 1.02302692e-01],\n",
       "       [6.19256189e-01, 2.25350278e-01, 1.55393533e-01],\n",
       "       [4.82270102e-03, 1.53864601e-01, 8.41312698e-01],\n",
       "       [1.73509394e-01, 3.21660811e-03, 8.23273997e-01],\n",
       "       [1.89870154e-02, 8.32270262e-01, 1.48742722e-01],\n",
       "       [2.08403291e-02, 1.12691317e-01, 8.66468354e-01],\n",
       "       [5.01670364e-02, 8.95457995e-02, 8.60287164e-01],\n",
       "       [5.91576384e-04, 6.70366274e-02, 9.32371796e-01],\n",
       "       [8.09175189e-02, 6.55087104e-01, 2.63995377e-01],\n",
       "       [2.44709273e-01, 3.77014327e-03, 7.51520583e-01],\n",
       "       [5.71873018e-01, 4.18125408e-01, 1.00015737e-02],\n",
       "       [9.40740321e-02, 8.59964413e-01, 4.59615547e-02],\n",
       "       [6.77234030e-04, 1.88527546e-01, 8.10795220e-01],\n",
       "       [8.16368251e-01, 4.73320193e-02, 1.36299730e-01],\n",
       "       [7.60912050e-02, 8.42903378e-01, 8.10054167e-02],\n",
       "       [7.93132229e-01, 1.31306062e-01, 7.55617090e-02],\n",
       "       [5.39115640e-01, 1.41677073e-01, 3.19207287e-01],\n",
       "       [8.90204540e-01, 5.46300962e-02, 5.51653634e-02],\n",
       "       [1.44176222e-01, 8.53454537e-01, 2.36924098e-03],\n",
       "       [2.10236677e-01, 7.77508578e-01, 1.22547449e-02],\n",
       "       [1.87427810e-03, 4.54859806e-01, 5.43265916e-01],\n",
       "       [6.36118815e-01, 1.67693877e-01, 1.96187308e-01],\n",
       "       [9.84412616e-01, 8.52202630e-03, 7.06535812e-03],\n",
       "       [3.84353018e-02, 9.12081084e-01, 4.94836144e-02],\n",
       "       [1.92483804e-01, 6.76829410e-01, 1.30686785e-01],\n",
       "       [7.50102428e-01, 2.48450079e-01, 1.44749347e-03],\n",
       "       [9.33405635e-02, 8.23210953e-01, 8.34484833e-02],\n",
       "       [7.18073532e-01, 2.80839648e-01, 1.08682015e-03],\n",
       "       [3.93102432e-01, 6.04933156e-01, 1.96441270e-03],\n",
       "       [2.53408885e-01, 5.25370082e-01, 2.21221033e-01],\n",
       "       [5.47691984e-01, 4.03306396e-01, 4.90016200e-02],\n",
       "       [1.14756264e-04, 2.13091309e-01, 7.86793935e-01],\n",
       "       [9.69221872e-02, 8.60294842e-01, 4.27829704e-02],\n",
       "       [6.84646747e-01, 3.08844916e-01, 6.50833749e-03],\n",
       "       [1.68456497e-01, 7.65214606e-01, 6.63288964e-02],\n",
       "       [9.36426361e-01, 3.81936093e-02, 2.53800298e-02],\n",
       "       [4.50904176e-02, 8.55167169e-01, 9.97424138e-02],\n",
       "       [1.45180578e-02, 1.21625597e-01, 8.63856345e-01],\n",
       "       [1.30480141e-01, 8.35148440e-01, 3.43714190e-02],\n",
       "       [4.77406416e-02, 1.82110612e-01, 7.70148746e-01],\n",
       "       [1.50886782e-02, 3.82743765e-01, 6.02167557e-01],\n",
       "       [1.07283056e-01, 7.62450081e-01, 1.30266863e-01],\n",
       "       [5.36546255e-01, 1.92735873e-03, 4.61526386e-01],\n",
       "       [1.91193414e-01, 6.00085115e-01, 2.08721471e-01],\n",
       "       [5.43641742e-01, 1.03341300e-03, 4.55324845e-01],\n",
       "       [7.38166454e-02, 8.28070082e-01, 9.81132725e-02],\n",
       "       [8.87219950e-01, 8.58204448e-02, 2.69596056e-02],\n",
       "       [5.12807294e-02, 7.36683957e-01, 2.12035314e-01],\n",
       "       [2.35600193e-02, 3.59539808e-01, 6.16900172e-01],\n",
       "       [1.61910750e-05, 2.52705654e-01, 7.47278155e-01],\n",
       "       [5.18249575e-01, 2.29711817e-04, 4.81520714e-01],\n",
       "       [1.04695847e-02, 8.31170423e-01, 1.58359992e-01],\n",
       "       [1.87395864e-02, 1.10772604e-01, 8.70487809e-01],\n",
       "       [1.85519416e-03, 9.17640546e-02, 9.06380751e-01],\n",
       "       [9.73389315e-02, 7.96177045e-01, 1.06484024e-01],\n",
       "       [4.04362557e-02, 6.56503289e-01, 3.03060455e-01],\n",
       "       [9.64037420e-05, 9.97624075e-02, 9.00141189e-01],\n",
       "       [4.15956115e-06, 9.66995947e-02, 9.03296246e-01],\n",
       "       [7.58919570e-01, 1.88891466e-01, 5.21889639e-02],\n",
       "       [8.51628090e-01, 1.11902838e-01, 3.64690722e-02],\n",
       "       [8.14171405e-01, 1.44921669e-01, 4.09069254e-02],\n",
       "       [5.19477885e-02, 3.86797700e-01, 5.61254511e-01],\n",
       "       [1.94348425e-02, 2.69832722e-01, 7.10732436e-01],\n",
       "       [9.35173018e-01, 3.40957619e-02, 3.07312204e-02],\n",
       "       [2.86820941e-02, 5.04687517e-01, 4.66630389e-01],\n",
       "       [1.88018882e-02, 7.93276114e-02, 9.01870500e-01],\n",
       "       [9.67710243e-02, 7.07294021e-01, 1.95934955e-01],\n",
       "       [4.02517099e-01, 1.20058032e-02, 5.85477097e-01],\n",
       "       [2.85624177e-01, 7.13963089e-01, 4.12733829e-04],\n",
       "       [8.94149491e-01, 7.61175876e-02, 2.97329214e-02],\n",
       "       [1.36626061e-01, 4.11752248e-01, 4.51621691e-01],\n",
       "       [5.70288677e-01, 2.11640672e-01, 2.18070651e-01],\n",
       "       [4.37495006e-02, 8.48367838e-03, 9.47766821e-01],\n",
       "       [7.19861204e-01, 2.76613868e-01, 3.52492792e-03],\n",
       "       [7.28241752e-02, 9.22013702e-01, 5.16212243e-03],\n",
       "       [1.83458114e-01, 3.79687307e-01, 4.36854580e-01],\n",
       "       [1.77272302e-01, 8.20748581e-01, 1.97911697e-03],\n",
       "       [4.16970141e-02, 1.47261140e-02, 9.43576872e-01],\n",
       "       [4.06139323e-06, 2.11056683e-01, 7.88939256e-01],\n",
       "       [5.81333244e-02, 8.83593932e-01, 5.82727439e-02],\n",
       "       [1.21351698e-01, 8.55420094e-01, 2.32282084e-02],\n",
       "       [5.10555593e-02, 9.40702097e-01, 8.24234340e-03],\n",
       "       [1.42907055e-01, 6.80211415e-01, 1.76881530e-01],\n",
       "       [4.03462158e-05, 1.80025270e-01, 8.19934384e-01],\n",
       "       [7.85469483e-01, 1.76905095e-01, 3.76254217e-02],\n",
       "       [1.20905225e-04, 2.11501385e-01, 7.88377709e-01],\n",
       "       [5.58966049e-01, 4.12186169e-01, 2.88477820e-02],\n",
       "       [7.43625977e-02, 8.40732094e-01, 8.49053078e-02],\n",
       "       [1.80237453e-04, 1.39765768e-01, 8.60053995e-01],\n",
       "       [9.26686558e-01, 1.07395373e-02, 6.25739048e-02],\n",
       "       [6.44701956e-01, 3.47990852e-01, 7.30719284e-03],\n",
       "       [3.05727218e-01, 2.28746521e-01, 4.65526261e-01],\n",
       "       [3.35460659e-01, 1.52239285e-01, 5.12300057e-01],\n",
       "       [5.85371570e-06, 3.28674571e-01, 6.71319576e-01],\n",
       "       [3.08472645e-01, 5.92416222e-01, 9.91111330e-02],\n",
       "       [3.03843431e-02, 7.94454908e-02, 8.90170166e-01],\n",
       "       [7.99771454e-01, 3.60790891e-02, 1.64149457e-01],\n",
       "       [3.52516868e-01, 1.15328087e-01, 5.32155045e-01],\n",
       "       [6.79714938e-02, 1.07087288e-03, 9.30957633e-01],\n",
       "       [8.32243558e-01, 1.49060845e-01, 1.86955962e-02],\n",
       "       [8.86919177e-01, 1.46430900e-03, 1.11616514e-01],\n",
       "       [6.50523207e-01, 2.83215110e-01, 6.62616831e-02],\n",
       "       [7.04465093e-03, 8.92706601e-02, 9.03684689e-01],\n",
       "       [8.69550359e-01, 8.86045261e-02, 4.18451154e-02],\n",
       "       [8.24578927e-03, 1.45399563e-01, 8.46354647e-01],\n",
       "       [8.80362094e-01, 4.49272219e-02, 7.47106839e-02],\n",
       "       [2.36766320e-01, 7.61624262e-01, 1.60941817e-03],\n",
       "       [3.54445688e-01, 1.93681024e-02, 6.26186210e-01],\n",
       "       [2.69552218e-02, 5.60305067e-01, 4.12739711e-01],\n",
       "       [8.63591001e-03, 8.91793719e-01, 9.95703710e-02],\n",
       "       [1.74164677e-01, 3.03302141e-01, 5.22533182e-01],\n",
       "       [8.05808630e-01, 1.20404685e-01, 7.37866847e-02],\n",
       "       [9.44644999e-01, 3.65946078e-02, 1.87603928e-02],\n",
       "       [3.76387117e-02, 9.04818480e-01, 5.75428085e-02],\n",
       "       [8.38346972e-02, 7.98855037e-01, 1.17310266e-01],\n",
       "       [4.46196770e-02, 2.93243287e-02, 9.26055994e-01],\n",
       "       [2.20682148e-02, 7.52113559e-03, 9.70410650e-01],\n",
       "       [9.97392386e-04, 3.35982142e-01, 6.63020466e-01],\n",
       "       [3.49906344e-02, 8.64182741e-01, 1.00826624e-01],\n",
       "       [4.85042895e-02, 2.21623300e-01, 7.29872410e-01],\n",
       "       [9.71510072e-01, 1.76468620e-02, 1.08430663e-02],\n",
       "       [1.42700303e-03, 1.96346629e-01, 8.02226368e-01],\n",
       "       [8.35142415e-02, 1.76298825e-02, 8.98855876e-01],\n",
       "       [5.12485531e-03, 2.51820585e-01, 7.43054560e-01],\n",
       "       [1.38169496e-01, 8.56070322e-01, 5.76018206e-03],\n",
       "       [7.91687339e-01, 1.84891894e-01, 2.34207668e-02],\n",
       "       [9.88293158e-03, 3.75197815e-02, 9.52597287e-01],\n",
       "       [5.26441724e-01, 4.00488285e-01, 7.30699913e-02],\n",
       "       [6.82718954e-01, 3.16994622e-01, 2.86423541e-04],\n",
       "       [1.10646051e-01, 1.11118862e-01, 7.78235087e-01],\n",
       "       [8.09317254e-01, 6.36757957e-02, 1.27006951e-01],\n",
       "       [6.45147691e-06, 1.89094137e-01, 8.10899411e-01],\n",
       "       [7.10445389e-01, 1.76806561e-01, 1.12748050e-01],\n",
       "       [8.64344723e-01, 5.25571829e-02, 8.30980946e-02],\n",
       "       [3.18143135e-01, 6.23185636e-01, 5.86712288e-02],\n",
       "       [6.56127271e-02, 1.70688696e-02, 9.17318403e-01],\n",
       "       [9.04818143e-01, 7.34948513e-02, 2.16870052e-02],\n",
       "       [3.94893559e-01, 5.94698985e-01, 1.04074556e-02],\n",
       "       [3.40053945e-01, 6.58220270e-01, 1.72578558e-03],\n",
       "       [1.62610934e-01, 8.34624030e-01, 2.76503553e-03],\n",
       "       [1.96663413e-01, 4.32356269e-01, 3.70980317e-01],\n",
       "       [8.76824440e-01, 9.36657720e-03, 1.13808983e-01],\n",
       "       [3.79021533e-01, 7.17616344e-02, 5.49216833e-01],\n",
       "       [7.36036631e-02, 8.42985471e-01, 8.34108654e-02],\n",
       "       [5.58829721e-01, 4.25492265e-01, 1.56780149e-02],\n",
       "       [4.09839042e-01, 2.01973269e-01, 3.88187689e-01],\n",
       "       [9.72984702e-02, 8.79048539e-01, 2.36529909e-02],\n",
       "       [6.81092150e-02, 1.16778181e-02, 9.20212967e-01],\n",
       "       [9.47652119e-05, 2.79913347e-01, 7.19991888e-01],\n",
       "       [2.14018363e-02, 3.24800450e-02, 9.46118119e-01],\n",
       "       [5.59603081e-06, 2.67965369e-01, 7.32029035e-01],\n",
       "       [1.05975391e-01, 1.66717259e-03, 8.92357436e-01],\n",
       "       [4.98819654e-01, 1.90225251e-02, 4.82157821e-01],\n",
       "       [7.15431137e-02, 8.33450273e-01, 9.50066132e-02],\n",
       "       [6.03884276e-02, 8.79371365e-01, 6.02402072e-02],\n",
       "       [2.64941668e-01, 1.58706457e-01, 5.76351875e-01],\n",
       "       [2.24734579e-03, 4.14393899e-01, 5.83358755e-01],\n",
       "       [9.29006170e-03, 5.39449637e-01, 4.51260301e-01],\n",
       "       [2.59690266e-01, 1.50503668e-01, 5.89806066e-01],\n",
       "       [2.33480205e-02, 1.02433551e-01, 8.74218428e-01],\n",
       "       [1.63687435e-02, 2.85873078e-01, 6.97758178e-01],\n",
       "       [1.33176034e-01, 2.46526607e-01, 6.20297359e-01],\n",
       "       [4.56096940e-02, 4.80413157e-01, 4.73977149e-01],\n",
       "       [6.06693670e-01, 3.11488401e-01, 8.18179286e-02],\n",
       "       [5.76559252e-01, 3.42181466e-01, 8.12592817e-02],\n",
       "       [3.05665566e-01, 6.93724951e-01, 6.09482913e-04],\n",
       "       [1.92133928e-01, 4.60460518e-02, 7.61820020e-01],\n",
       "       [1.93225021e-01, 2.30759360e-02, 7.83699043e-01],\n",
       "       [7.22439252e-01, 2.03688941e-01, 7.38718072e-02],\n",
       "       [9.12457757e-01, 8.53419873e-02, 2.20025565e-03],\n",
       "       [3.69036413e-01, 2.17886609e-02, 6.09174926e-01],\n",
       "       [2.85679094e-02, 9.11978540e-01, 5.94535503e-02],\n",
       "       [4.83269975e-02, 2.86158544e-01, 6.65514458e-01],\n",
       "       [1.88787220e-01, 8.09682091e-01, 1.53068965e-03],\n",
       "       [8.98469130e-01, 7.01254422e-02, 3.14054282e-02],\n",
       "       [7.28424987e-01, 2.36934088e-01, 3.46409255e-02],\n",
       "       [2.69259093e-01, 2.41955809e-01, 4.88785098e-01],\n",
       "       [8.40969406e-02, 7.40872160e-01, 1.75030900e-01],\n",
       "       [1.38236559e-01, 7.74414351e-01, 8.73490906e-02],\n",
       "       [9.01371459e-02, 8.83413128e-01, 2.64497258e-02],\n",
       "       [7.47525583e-02, 2.19646274e-01, 7.05601167e-01],\n",
       "       [3.47303619e-06, 2.24987786e-01, 7.75008741e-01],\n",
       "       [1.61917624e-01, 8.11834112e-01, 2.62482646e-02],\n",
       "       [1.96812647e-02, 2.93173109e-02, 9.51001424e-01],\n",
       "       [1.35201832e-01, 8.61088005e-01, 3.71016257e-03],\n",
       "       [9.74283155e-01, 3.57507466e-03, 2.21417705e-02],\n",
       "       [7.62617301e-02, 8.56931233e-01, 6.68070372e-02],\n",
       "       [5.81132361e-01, 3.54492450e-01, 6.43751891e-02],\n",
       "       [9.39111117e-01, 3.70536731e-02, 2.38352094e-02],\n",
       "       [3.42973221e-01, 6.35784388e-01, 2.12423908e-02],\n",
       "       [7.65650266e-01, 1.79560030e-01, 5.47897037e-02],\n",
       "       [3.37843118e-02, 4.73169412e-02, 9.18898747e-01],\n",
       "       [2.01927991e-01, 6.59287000e-01, 1.38785009e-01],\n",
       "       [7.08332336e-01, 2.70274214e-01, 2.13934499e-02],\n",
       "       [1.17079802e-01, 3.24496162e-01, 5.58424035e-01],\n",
       "       [4.48222517e-04, 3.77197068e-01, 6.22354710e-01],\n",
       "       [3.57121083e-01, 5.11426691e-01, 1.31452226e-01],\n",
       "       [2.63789981e-01, 7.00268416e-01, 3.59416037e-02],\n",
       "       [2.47069282e-01, 7.43994609e-01, 8.93610858e-03],\n",
       "       [3.57845677e-01, 2.32671295e-01, 4.09483028e-01],\n",
       "       [3.15315346e-01, 5.58559569e-01, 1.26125085e-01],\n",
       "       [5.69973533e-02, 7.67091854e-01, 1.75910793e-01],\n",
       "       [8.19329686e-01, 1.40168185e-01, 4.05021285e-02],\n",
       "       [6.85557586e-02, 7.15449788e-01, 2.15994453e-01],\n",
       "       [1.44695376e-01, 8.46049765e-01, 9.25485905e-03],\n",
       "       [8.37455707e-01, 1.40507911e-01, 2.20363825e-02],\n",
       "       [8.49412291e-01, 1.34719130e-01, 1.58685787e-02],\n",
       "       [8.60115933e-01, 1.19083719e-01, 2.08003479e-02],\n",
       "       [6.57380951e-01, 2.83256065e-01, 5.93629836e-02],\n",
       "       [6.86049880e-03, 2.47266886e-02, 9.68412813e-01],\n",
       "       [5.44474114e-01, 4.45686126e-01, 9.83976030e-03],\n",
       "       [7.73626323e-01, 1.45287298e-01, 8.10863792e-02],\n",
       "       [3.42441690e-02, 4.98514686e-02, 9.15904362e-01],\n",
       "       [1.65775891e-03, 2.81182185e-01, 7.17160056e-01],\n",
       "       [4.60210265e-01, 3.50146380e-03, 5.36288272e-01],\n",
       "       [1.40157689e-02, 4.80012754e-01, 5.05971477e-01],\n",
       "       [6.79006884e-01, 2.46891652e-01, 7.41014644e-02],\n",
       "       [1.79600515e-02, 2.12009649e-01, 7.70030300e-01],\n",
       "       [9.63716522e-01, 2.39786134e-02, 1.23048647e-02],\n",
       "       [9.24284443e-02, 8.04554815e-01, 1.03016741e-01],\n",
       "       [2.83059230e-01, 1.32785761e-01, 5.84155009e-01],\n",
       "       [1.09267573e-02, 9.92357968e-02, 8.89837446e-01],\n",
       "       [7.93940458e-02, 1.66019484e-01, 7.54586470e-01],\n",
       "       [9.09947374e-02, 7.98874489e-01, 1.10130773e-01],\n",
       "       [9.14179982e-01, 3.81829456e-02, 4.76370727e-02],\n",
       "       [8.81934868e-01, 8.44669912e-02, 3.35981407e-02],\n",
       "       [8.14800838e-03, 5.23426967e-01, 4.68425025e-01],\n",
       "       [8.49427635e-01, 8.94152806e-02, 6.11570840e-02],\n",
       "       [8.66151310e-03, 4.09161988e-02, 9.50422288e-01],\n",
       "       [1.15477922e-03, 7.38092715e-01, 2.60752506e-01],\n",
       "       [8.04391847e-02, 2.76540741e-02, 8.91906741e-01],\n",
       "       [9.60268604e-01, 8.36593134e-03, 3.13654647e-02],\n",
       "       [6.99315587e-01, 9.65675323e-02, 2.04116881e-01],\n",
       "       [9.14501830e-01, 5.37362094e-02, 3.17619607e-02],\n",
       "       [3.29361262e-02, 1.63648985e-01, 8.03414889e-01],\n",
       "       [1.51247534e-07, 2.60107187e-01, 7.39892662e-01],\n",
       "       [4.78055730e-01, 5.14668467e-01, 7.27580271e-03],\n",
       "       [1.05865619e-03, 4.71671072e-01, 5.27270271e-01],\n",
       "       [5.54487498e-01, 3.87200078e-01, 5.83124240e-02],\n",
       "       [1.36062149e-01, 8.36576263e-01, 2.73615877e-02],\n",
       "       [2.05003286e-01, 7.66755715e-01, 2.82409999e-02],\n",
       "       [8.08997468e-01, 1.73102214e-01, 1.79003172e-02],\n",
       "       [7.20839985e-01, 2.62290459e-01, 1.68695557e-02],\n",
       "       [9.05077455e-01, 9.16815871e-02, 3.24095843e-03],\n",
       "       [7.13091569e-02, 8.34319754e-01, 9.43710896e-02],\n",
       "       [8.57431009e-01, 1.03179546e-01, 3.93894440e-02],\n",
       "       [5.55230903e-02, 3.40573741e-03, 9.41071172e-01],\n",
       "       [2.24741161e-01, 2.86212941e-01, 4.89045899e-01],\n",
       "       [5.51938216e-01, 4.42976566e-01, 5.08521816e-03],\n",
       "       [3.21983506e-03, 4.10931956e-01, 5.85848209e-01],\n",
       "       [5.34821952e-01, 4.31030156e-04, 4.64747018e-01],\n",
       "       [9.57065793e-01, 1.96561789e-02, 2.32780282e-02],\n",
       "       [7.92465023e-01, 2.03730271e-01, 3.80470681e-03],\n",
       "       [1.55103689e-01, 8.30982343e-01, 1.39139674e-02],\n",
       "       [7.70820674e-02, 7.87627961e-01, 1.35289972e-01],\n",
       "       [1.16755241e-02, 6.46792267e-02, 9.23645249e-01],\n",
       "       [9.07670813e-01, 2.65015399e-02, 6.58276472e-02],\n",
       "       [1.73746384e-01, 8.21249829e-01, 5.00378701e-03],\n",
       "       [9.11544451e-06, 1.61889058e-01, 8.38101827e-01],\n",
       "       [4.75523316e-02, 6.48762502e-03, 9.45960043e-01],\n",
       "       [9.35623858e-01, 3.87109061e-03, 6.05050518e-02],\n",
       "       [3.30040939e-02, 8.23109923e-01, 1.43885983e-01],\n",
       "       [3.86045204e-01, 2.96799187e-03, 6.10986804e-01],\n",
       "       [6.73107445e-01, 2.97917303e-01, 2.89752523e-02],\n",
       "       [1.43320905e-02, 9.41099759e-02, 8.91557934e-01]])"
      ]
     },
     "execution_count": 144,
     "metadata": {},
     "output_type": "execute_result"
    }
   ],
   "source": [
    "# Class Probabilities\n",
    "logistic.predict_proba(X_test)"
   ]
  },
  {
   "cell_type": "markdown",
   "id": "0e54592d",
   "metadata": {},
   "source": [
    "## Performance Metrics"
   ]
  },
  {
   "cell_type": "code",
   "execution_count": 145,
   "id": "9e84895b",
   "metadata": {},
   "outputs": [],
   "source": [
    "from sklearn.metrics import accuracy_score, confusion_matrix, classification_report"
   ]
  },
  {
   "cell_type": "code",
   "execution_count": 146,
   "id": "4f7d1d14",
   "metadata": {},
   "outputs": [],
   "source": [
    "accuracy = accuracy_score(y_test, y_pred)\n",
    "cm = confusion_matrix(y_test, y_pred)\n",
    "cr = classification_report(y_test, y_pred)"
   ]
  },
  {
   "cell_type": "code",
   "execution_count": 147,
   "id": "62698dde",
   "metadata": {
    "scrolled": true
   },
   "outputs": [
    {
     "name": "stdout",
     "output_type": "stream",
     "text": [
      "0.79\n",
      "[[84 10  8]\n",
      " [ 3 74 25]\n",
      " [10  7 79]]\n",
      "              precision    recall  f1-score   support\n",
      "\n",
      "           0       0.87      0.82      0.84       102\n",
      "           1       0.81      0.73      0.77       102\n",
      "           2       0.71      0.82      0.76        96\n",
      "\n",
      "    accuracy                           0.79       300\n",
      "   macro avg       0.79      0.79      0.79       300\n",
      "weighted avg       0.80      0.79      0.79       300\n",
      "\n"
     ]
    }
   ],
   "source": [
    "print(accuracy, cm, cr, sep=\"\\n\")"
   ]
  },
  {
   "cell_type": "markdown",
   "id": "43255b05",
   "metadata": {},
   "source": [
    "# Logistic Regression for Imbalanced Datasets"
   ]
  },
  {
   "cell_type": "code",
   "execution_count": 148,
   "id": "de1a4a12",
   "metadata": {},
   "outputs": [],
   "source": [
    "from collections import Counter"
   ]
  },
  {
   "cell_type": "code",
   "execution_count": 149,
   "id": "111cbf51",
   "metadata": {},
   "outputs": [],
   "source": [
    "## Creating dataset with 2 classes and 2 clusters with first class making 99 percent of the targets\n",
    "X, y = make_classification(n_samples=10000, n_features=2, n_clusters_per_class=1, n_redundant=0, weights=[0.99], random_state=10)"
   ]
  },
  {
   "cell_type": "code",
   "execution_count": 150,
   "id": "3bc0144d",
   "metadata": {},
   "outputs": [
    {
     "data": {
      "text/plain": [
       "array([[ 1.87991016, -1.4850347 ],\n",
       "       [ 0.37708311, -2.23858488],\n",
       "       [ 1.35431163, -2.66463822]])"
      ]
     },
     "execution_count": 150,
     "metadata": {},
     "output_type": "execute_result"
    }
   ],
   "source": [
    "# 2 independent features\n",
    "X[:3]"
   ]
  },
  {
   "cell_type": "code",
   "execution_count": 151,
   "id": "01698be4",
   "metadata": {},
   "outputs": [
    {
     "data": {
      "text/plain": [
       "Counter({0: 9846, 1: 154})"
      ]
     },
     "execution_count": 151,
     "metadata": {},
     "output_type": "execute_result"
    }
   ],
   "source": [
    "# 2 target classes\n",
    "Counter(y)"
   ]
  },
  {
   "cell_type": "code",
   "execution_count": 152,
   "id": "6ed5d76f",
   "metadata": {},
   "outputs": [],
   "source": [
    "import seaborn as sns"
   ]
  },
  {
   "cell_type": "code",
   "execution_count": 153,
   "id": "4d987113",
   "metadata": {},
   "outputs": [
    {
     "data": {
      "text/plain": [
       "<Axes: xlabel='0', ylabel='1'>"
      ]
     },
     "execution_count": 153,
     "metadata": {},
     "output_type": "execute_result"
    },
    {
     "data": {
      "image/png": "[encoded data removed]",
      "text/plain": [
       "<Figure size 640x480 with 1 Axes>"
      ]
     },
     "metadata": {},
     "output_type": "display_data"
    }
   ],
   "source": [
    "import pandas as pd\n",
    "sns.scatterplot(x=pd.DataFrame(X)[0], y=pd.DataFrame(X)[1], hue=y)"
   ]
  },
  {
   "cell_type": "markdown",
   "id": "c199284a",
   "metadata": {},
   "source": [
    "## Train Test Split"
   ]
  },
  {
   "cell_type": "code",
   "execution_count": 154,
   "id": "8924baad",
   "metadata": {},
   "outputs": [],
   "source": [
    "from sklearn.model_selection import train_test_split"
   ]
  },
  {
   "cell_type": "code",
   "execution_count": 155,
   "id": "44f88c5d",
   "metadata": {},
   "outputs": [],
   "source": [
    "X_train, X_test, y_train, y_test = train_test_split(X, y, test_size=0.25 , random_state=42)"
   ]
  },
  {
   "cell_type": "code",
   "execution_count": 156,
   "id": "f67859ea",
   "metadata": {},
   "outputs": [
    {
     "data": {
      "text/plain": [
       "(7500, 2)"
      ]
     },
     "execution_count": 156,
     "metadata": {},
     "output_type": "execute_result"
    }
   ],
   "source": [
    "X_train.shape"
   ]
  },
  {
   "cell_type": "code",
   "execution_count": 157,
   "id": "2073e1ea",
   "metadata": {},
   "outputs": [
    {
     "data": {
      "text/plain": [
       "(2500, 2)"
      ]
     },
     "execution_count": 157,
     "metadata": {},
     "output_type": "execute_result"
    }
   ],
   "source": [
    "X_test.shape"
   ]
  },
  {
   "cell_type": "markdown",
   "id": "7a976e4e",
   "metadata": {},
   "source": [
    "## Model Training"
   ]
  },
  {
   "cell_type": "code",
   "execution_count": 158,
   "id": "1bd01c4f",
   "metadata": {},
   "outputs": [],
   "source": [
    "# Initializing model\n",
    "model = LogisticRegression()\n",
    "# initializing parameters\n",
    "penalty = ['l1', 'l2', 'elasticnet']\n",
    "C = [100, 10, 1.0, 0.1, 0.01]\n",
    "solver = ['lbfgs', 'liblinear', 'newton-cg', 'sag', 'saga']\n",
    "# Creating Parameter dictionary\n",
    "params = dict(penalty=penalty,\n",
    "    C=C,\n",
    "    solver=solver,\n",
    "    class_weight=class_weight)\n",
    "# Creating class weights dictionary\n",
    "class_weight = [{0:x, 1:y} for x in [1,10,50,100] for y in [1,10,50,100]]"
   ]
  },
  {
   "cell_type": "code",
   "execution_count": 159,
   "id": "0dca9b36",
   "metadata": {},
   "outputs": [
    {
     "data": {
      "text/plain": [
       "[{0: 1, 1: 1},\n",
       " {0: 1, 1: 10},\n",
       " {0: 1, 1: 50},\n",
       " {0: 1, 1: 100},\n",
       " {0: 10, 1: 1},\n",
       " {0: 10, 1: 10},\n",
       " {0: 10, 1: 50},\n",
       " {0: 10, 1: 100},\n",
       " {0: 50, 1: 1},\n",
       " {0: 50, 1: 10},\n",
       " {0: 50, 1: 50},\n",
       " {0: 50, 1: 100},\n",
       " {0: 100, 1: 1},\n",
       " {0: 100, 1: 10},\n",
       " {0: 100, 1: 50},\n",
       " {0: 100, 1: 100}]"
      ]
     },
     "execution_count": 159,
     "metadata": {},
     "output_type": "execute_result"
    }
   ],
   "source": [
    "# Class Weights\n",
    "class_weight"
   ]
  },
  {
   "cell_type": "code",
   "execution_count": 160,
   "id": "c3734967",
   "metadata": {},
   "outputs": [],
   "source": [
    "# Hyperparameter Tuning\n",
    "from sklearn.model_selection import GridSearchCV, StratifiedKFold\n",
    "\n",
    "# Cross-validation\n",
    "cv = StratifiedKFold()\n",
    "grid = GridSearchCV(estimator=model, param_grid=params, scoring='accuracy', cv=cv, n_jobs=-1)"
   ]
  },
  {
   "cell_type": "code",
   "execution_count": 161,
   "id": "6ecf2f39",
   "metadata": {},
   "outputs": [
    {
     "data": {
      "text/html": [
       "<style>#sk-container-id-7 {color: black;}#sk-container-id-7 pre{padding: 0;}#sk-container-id-7 div.sk-toggleable {background-color: white;}#sk-container-id-7 label.sk-toggleable__label {cursor: pointer;display: block;width: 100%;margin-bottom: 0;padding: 0.3em;box-sizing: border-box;text-align: center;}#sk-container-id-7 label.sk-toggleable__label-arrow:before {content: \"▸\";float: left;margin-right: 0.25em;color: #696969;}#sk-container-id-7 label.sk-toggleable__label-arrow:hover:before {color: black;}#sk-container-id-7 div.sk-estimator:hover label.sk-toggleable__label-arrow:before {color: black;}#sk-container-id-7 div.sk-toggleable__content {max-height: 0;max-width: 0;overflow: hidden;text-align: left;background-color: #f0f8ff;}#sk-container-id-7 div.sk-toggleable__content pre {margin: 0.2em;color: black;border-radius: 0.25em;background-color: #f0f8ff;}#sk-container-id-7 input.sk-toggleable__control:checked~div.sk-toggleable__content {max-height: 200px;max-width: 100%;overflow: auto;}#sk-container-id-7 input.sk-toggleable__control:checked~label.sk-toggleable__label-arrow:before {content: \"▾\";}#sk-container-id-7 div.sk-estimator input.sk-toggleable__control:checked~label.sk-toggleable__label {background-color: #d4ebff;}#sk-container-id-7 div.sk-label input.sk-toggleable__control:checked~label.sk-toggleable__label {background-color: #d4ebff;}#sk-container-id-7 input.sk-hidden--visually {border: 0;clip: rect(1px 1px 1px 1px);clip: rect(1px, 1px, 1px, 1px);height: 1px;margin: -1px;overflow: hidden;padding: 0;position: absolute;width: 1px;}#sk-container-id-7 div.sk-estimator {font-family: monospace;background-color: #f0f8ff;border: 1px dotted black;border-radius: 0.25em;box-sizing: border-box;margin-bottom: 0.5em;}#sk-container-id-7 div.sk-estimator:hover {background-color: #d4ebff;}#sk-container-id-7 div.sk-parallel-item::after {content: \"\";width: 100%;border-bottom: 1px solid gray;flex-grow: 1;}#sk-container-id-7 div.sk-label:hover label.sk-toggleable__label {background-color: #d4ebff;}#sk-container-id-7 div.sk-serial::before {content: \"\";position: absolute;border-left: 1px solid gray;box-sizing: border-box;top: 0;bottom: 0;left: 50%;z-index: 0;}#sk-container-id-7 div.sk-serial {display: flex;flex-direction: column;align-items: center;background-color: white;padding-right: 0.2em;padding-left: 0.2em;position: relative;}#sk-container-id-7 div.sk-item {position: relative;z-index: 1;}#sk-container-id-7 div.sk-parallel {display: flex;align-items: stretch;justify-content: center;background-color: white;position: relative;}#sk-container-id-7 div.sk-item::before, #sk-container-id-7 div.sk-parallel-item::before {content: \"\";position: absolute;border-left: 1px solid gray;box-sizing: border-box;top: 0;bottom: 0;left: 50%;z-index: -1;}#sk-container-id-7 div.sk-parallel-item {display: flex;flex-direction: column;z-index: 1;position: relative;background-color: white;}#sk-container-id-7 div.sk-parallel-item:first-child::after {align-self: flex-end;width: 50%;}#sk-container-id-7 div.sk-parallel-item:last-child::after {align-self: flex-start;width: 50%;}#sk-container-id-7 div.sk-parallel-item:only-child::after {width: 0;}#sk-container-id-7 div.sk-dashed-wrapped {border: 1px dashed gray;margin: 0 0.4em 0.5em 0.4em;box-sizing: border-box;padding-bottom: 0.4em;background-color: white;}#sk-container-id-7 div.sk-label label {font-family: monospace;font-weight: bold;display: inline-block;line-height: 1.2em;}#sk-container-id-7 div.sk-label-container {text-align: center;}#sk-container-id-7 div.sk-container {/* jupyter's `normalize.less` sets `[hidden] { display: none; }` but bootstrap.min.css set `[hidden] { display: none !important; }` so we also need the `!important` here to be able to override the default hidden behavior on the sphinx rendered scikit-learn.org. See: https://github.com/scikit-learn/scikit-learn/issues/21755 */display: inline-block !important;position: relative;}#sk-container-id-7 div.sk-text-repr-fallback {display: none;}</style><div id=\"sk-container-id-7\" class=\"sk-top-container\"><div class=\"sk-text-repr-fallback\"><pre>GridSearchCV(cv=StratifiedKFold(n_splits=5, random_state=None, shuffle=False),\n",
       "             estimator=LogisticRegression(), n_jobs=-1,\n",
       "             param_grid={&#x27;C&#x27;: [100, 10, 1.0, 0.1, 0.01],\n",
       "                         &#x27;class_weight&#x27;: [{0: 1, 1: 1}, {0: 1, 1: 10},\n",
       "                                          {0: 1, 1: 50}, {0: 1, 1: 100},\n",
       "                                          {0: 10, 1: 1}, {0: 10, 1: 10},\n",
       "                                          {0: 10, 1: 50}, {0: 10, 1: 100},\n",
       "                                          {0: 50, 1: 1}, {0: 50, 1: 10},\n",
       "                                          {0: 50, 1: 50}, {0: 50, 1: 100},\n",
       "                                          {0: 100, 1: 1}, {0: 100, 1: 10},\n",
       "                                          {0: 100, 1: 50}, {0: 100, 1: 100}],\n",
       "                         &#x27;penalty&#x27;: [&#x27;l1&#x27;, &#x27;l2&#x27;, &#x27;elasticnet&#x27;],\n",
       "                         &#x27;solver&#x27;: [&#x27;lbfgs&#x27;, &#x27;liblinear&#x27;, &#x27;newton-cg&#x27;, &#x27;sag&#x27;,\n",
       "                                    &#x27;saga&#x27;]},\n",
       "             scoring=&#x27;accuracy&#x27;)</pre><b>In a Jupyter environment, please rerun this cell to show the HTML representation or trust the notebook. <br />On GitHub, the HTML representation is unable to render, please try loading this page with nbviewer.org.</b></div><div class=\"sk-container\" hidden><div class=\"sk-item sk-dashed-wrapped\"><div class=\"sk-label-container\"><div class=\"sk-label sk-toggleable\"><input class=\"sk-toggleable__control sk-hidden--visually\" id=\"sk-estimator-id-17\" type=\"checkbox\" ><label for=\"sk-estimator-id-17\" class=\"sk-toggleable__label sk-toggleable__label-arrow\">GridSearchCV</label><div class=\"sk-toggleable__content\"><pre>GridSearchCV(cv=StratifiedKFold(n_splits=5, random_state=None, shuffle=False),\n",
       "             estimator=LogisticRegression(), n_jobs=-1,\n",
       "             param_grid={&#x27;C&#x27;: [100, 10, 1.0, 0.1, 0.01],\n",
       "                         &#x27;class_weight&#x27;: [{0: 1, 1: 1}, {0: 1, 1: 10},\n",
       "                                          {0: 1, 1: 50}, {0: 1, 1: 100},\n",
       "                                          {0: 10, 1: 1}, {0: 10, 1: 10},\n",
       "                                          {0: 10, 1: 50}, {0: 10, 1: 100},\n",
       "                                          {0: 50, 1: 1}, {0: 50, 1: 10},\n",
       "                                          {0: 50, 1: 50}, {0: 50, 1: 100},\n",
       "                                          {0: 100, 1: 1}, {0: 100, 1: 10},\n",
       "                                          {0: 100, 1: 50}, {0: 100, 1: 100}],\n",
       "                         &#x27;penalty&#x27;: [&#x27;l1&#x27;, &#x27;l2&#x27;, &#x27;elasticnet&#x27;],\n",
       "                         &#x27;solver&#x27;: [&#x27;lbfgs&#x27;, &#x27;liblinear&#x27;, &#x27;newton-cg&#x27;, &#x27;sag&#x27;,\n",
       "                                    &#x27;saga&#x27;]},\n",
       "             scoring=&#x27;accuracy&#x27;)</pre></div></div></div><div class=\"sk-parallel\"><div class=\"sk-parallel-item\"><div class=\"sk-item\"><div class=\"sk-label-container\"><div class=\"sk-label sk-toggleable\"><input class=\"sk-toggleable__control sk-hidden--visually\" id=\"sk-estimator-id-18\" type=\"checkbox\" ><label for=\"sk-estimator-id-18\" class=\"sk-toggleable__label sk-toggleable__label-arrow\">estimator: LogisticRegression</label><div class=\"sk-toggleable__content\"><pre>LogisticRegression()</pre></div></div></div><div class=\"sk-serial\"><div class=\"sk-item\"><div class=\"sk-estimator sk-toggleable\"><input class=\"sk-toggleable__control sk-hidden--visually\" id=\"sk-estimator-id-19\" type=\"checkbox\" ><label for=\"sk-estimator-id-19\" class=\"sk-toggleable__label sk-toggleable__label-arrow\">LogisticRegression</label><div class=\"sk-toggleable__content\"><pre>LogisticRegression()</pre></div></div></div></div></div></div></div></div></div></div>"
      ],
      "text/plain": [
       "GridSearchCV(cv=StratifiedKFold(n_splits=5, random_state=None, shuffle=False),\n",
       "             estimator=LogisticRegression(), n_jobs=-1,\n",
       "             param_grid={'C': [100, 10, 1.0, 0.1, 0.01],\n",
       "                         'class_weight': [{0: 1, 1: 1}, {0: 1, 1: 10},\n",
       "                                          {0: 1, 1: 50}, {0: 1, 1: 100},\n",
       "                                          {0: 10, 1: 1}, {0: 10, 1: 10},\n",
       "                                          {0: 10, 1: 50}, {0: 10, 1: 100},\n",
       "                                          {0: 50, 1: 1}, {0: 50, 1: 10},\n",
       "                                          {0: 50, 1: 50}, {0: 50, 1: 100},\n",
       "                                          {0: 100, 1: 1}, {0: 100, 1: 10},\n",
       "                                          {0: 100, 1: 50}, {0: 100, 1: 100}],\n",
       "                         'penalty': ['l1', 'l2', 'elasticnet'],\n",
       "                         'solver': ['lbfgs', 'liblinear', 'newton-cg', 'sag',\n",
       "                                    'saga']},\n",
       "             scoring='accuracy')"
      ]
     },
     "execution_count": 161,
     "metadata": {},
     "output_type": "execute_result"
    }
   ],
   "source": [
    "grid"
   ]
  },
  {
   "cell_type": "code",
   "execution_count": 162,
   "id": "a61999cf",
   "metadata": {},
   "outputs": [],
   "source": [
    "# Suppress all warnings\n",
    "warnings.filterwarnings('ignore')\n",
    "# Fitting to data\n",
    "grid.fit(X_train, y_train)\n",
    "# Restore warnings\n",
    "warnings.filterwarnings('default')"
   ]
  },
  {
   "cell_type": "markdown",
   "id": "dbc95083",
   "metadata": {},
   "source": [
    "#### Best Parameters"
   ]
  },
  {
   "cell_type": "code",
   "execution_count": 163,
   "id": "89c882cc",
   "metadata": {},
   "outputs": [
    {
     "data": {
      "text/plain": [
       "{'C': 100,\n",
       " 'class_weight': {0: 50, 1: 100},\n",
       " 'penalty': 'l1',\n",
       " 'solver': 'liblinear'}"
      ]
     },
     "execution_count": 163,
     "metadata": {},
     "output_type": "execute_result"
    }
   ],
   "source": [
    "grid.best_params_"
   ]
  },
  {
   "cell_type": "markdown",
   "id": "ec7b3d70",
   "metadata": {},
   "source": [
    "#### Best Score"
   ]
  },
  {
   "cell_type": "code",
   "execution_count": 164,
   "id": "67e933cb",
   "metadata": {},
   "outputs": [
    {
     "data": {
      "text/plain": [
       "0.9882666666666667"
      ]
     },
     "execution_count": 164,
     "metadata": {},
     "output_type": "execute_result"
    }
   ],
   "source": [
    "grid.best_score_"
   ]
  },
  {
   "cell_type": "markdown",
   "id": "88f96eb2",
   "metadata": {},
   "source": [
    "#### Scores after Hyperparameter Tuning using GridSearchCV"
   ]
  },
  {
   "cell_type": "code",
   "execution_count": 165,
   "id": "f030bd33",
   "metadata": {},
   "outputs": [
    {
     "name": "stdout",
     "output_type": "stream",
     "text": [
      "0.9896\n",
      "[[2465    0]\n",
      " [  26    9]]\n",
      "              precision    recall  f1-score   support\n",
      "\n",
      "           0       0.99      1.00      0.99      2465\n",
      "           1       1.00      0.26      0.41        35\n",
      "\n",
      "    accuracy                           0.99      2500\n",
      "   macro avg       0.99      0.63      0.70      2500\n",
      "weighted avg       0.99      0.99      0.99      2500\n",
      "\n"
     ]
    }
   ],
   "source": [
    "y_pred = grid.predict(X_test)\n",
    "accuracy = accuracy_score(y_test, y_pred)\n",
    "cm = confusion_matrix(y_test, y_pred)\n",
    "cr = classification_report(y_test, y_pred)\n",
    "print(accuracy, cm, cr, sep=\"\\n\")"
   ]
  },
  {
   "cell_type": "markdown",
   "id": "4124fe42",
   "metadata": {},
   "source": [
    "# Logistic Regression with ROC Curve and ROC AUC Curve (Finding the best threshold value for classification)"
   ]
  },
  {
   "cell_type": "code",
   "execution_count": 166,
   "id": "d58b0c7e",
   "metadata": {},
   "outputs": [],
   "source": [
    "from sklearn.metrics import roc_curve, roc_auc_score\n",
    "from collections import Counter"
   ]
  },
  {
   "cell_type": "code",
   "execution_count": 167,
   "id": "140b6295",
   "metadata": {},
   "outputs": [],
   "source": [
    "## Creating dataset with 2 classes and 2 clusters with first class making 99 percent of the targets\n",
    "X, y = make_classification(n_samples=1000, n_classes=2, random_state=1)"
   ]
  },
  {
   "cell_type": "code",
   "execution_count": 168,
   "id": "1230f597",
   "metadata": {},
   "outputs": [
    {
     "data": {
      "text/plain": [
       "array([[-2.04582165, -0.13791624, -0.08071423,  2.52203779,  0.74616483,\n",
       "        -0.90696374, -0.22164773,  1.0142675 , -0.54154924,  0.22661946,\n",
       "        -0.64635911,  1.37408466,  1.00905314,  0.67411002,  1.53458328,\n",
       "         0.47971118, -0.91291053,  2.48194524,  0.74236675,  0.23154789],\n",
       "       [-0.98726024,  1.30120189,  2.37734888,  0.55391416,  0.75226986,\n",
       "         0.06465569,  0.01831726, -1.04361019, -0.00410306,  0.5327589 ,\n",
       "        -0.12339551,  1.20399358, -0.37995863,  0.65601518,  0.66679355,\n",
       "        -0.77660361,  0.26080007,  0.55445754, -0.21892143, -0.37608578],\n",
       "       [ 0.57335921,  0.09375582,  0.4662521 , -1.37075663,  0.01003873,\n",
       "         0.68297078,  2.11336547,  0.62668583,  1.49238922,  0.89964631,\n",
       "         0.4358654 ,  2.39767354, -1.15071447, -0.55075986, -0.50392316,\n",
       "        -1.00699996,  0.53052387, -0.6088508 ,  0.79903499, -0.17121177]])"
      ]
     },
     "execution_count": 168,
     "metadata": {},
     "output_type": "execute_result"
    }
   ],
   "source": [
    "# 20 independent features\n",
    "X[:3]"
   ]
  },
  {
   "cell_type": "code",
   "execution_count": 169,
   "id": "a1f6b9ea",
   "metadata": {},
   "outputs": [
    {
     "data": {
      "text/plain": [
       "Counter({0: 501, 1: 499})"
      ]
     },
     "execution_count": 169,
     "metadata": {},
     "output_type": "execute_result"
    }
   ],
   "source": [
    "# 2 target classes\n",
    "Counter(y)"
   ]
  },
  {
   "cell_type": "markdown",
   "id": "5826536e",
   "metadata": {},
   "source": [
    "## Train Test Split"
   ]
  },
  {
   "cell_type": "code",
   "execution_count": 170,
   "id": "047b9396",
   "metadata": {},
   "outputs": [],
   "source": [
    "from sklearn.model_selection import train_test_split"
   ]
  },
  {
   "cell_type": "code",
   "execution_count": 171,
   "id": "fc056414",
   "metadata": {},
   "outputs": [],
   "source": [
    "X_train, X_test, y_train, y_test = train_test_split(X, y, test_size=0.25 , random_state=42)"
   ]
  },
  {
   "cell_type": "code",
   "execution_count": 172,
   "id": "7d4d6413",
   "metadata": {},
   "outputs": [
    {
     "data": {
      "text/plain": [
       "(750, 20)"
      ]
     },
     "execution_count": 172,
     "metadata": {},
     "output_type": "execute_result"
    }
   ],
   "source": [
    "X_train.shape"
   ]
  },
  {
   "cell_type": "code",
   "execution_count": 173,
   "id": "1ea3be95",
   "metadata": {},
   "outputs": [
    {
     "data": {
      "text/plain": [
       "(250, 20)"
      ]
     },
     "execution_count": 173,
     "metadata": {},
     "output_type": "execute_result"
    }
   ],
   "source": [
    "X_test.shape"
   ]
  },
  {
   "cell_type": "markdown",
   "id": "9a35319d",
   "metadata": {},
   "source": [
    "## Creating a dummy model with 0 as output"
   ]
  },
  {
   "cell_type": "code",
   "execution_count": 174,
   "id": "e8d87994",
   "metadata": {},
   "outputs": [
    {
     "data": {
      "text/plain": [
       "[0, 0, 0, 0, 0]"
      ]
     },
     "execution_count": 174,
     "metadata": {},
     "output_type": "execute_result"
    }
   ],
   "source": [
    "dummy_model_prob = [0 for _ in range(len(y_test))]\n",
    "dummy_model_prob[:5]"
   ]
  },
  {
   "cell_type": "markdown",
   "id": "cde14be7",
   "metadata": {},
   "source": [
    "## Model Training"
   ]
  },
  {
   "cell_type": "code",
   "execution_count": 175,
   "id": "b704fdd2",
   "metadata": {},
   "outputs": [
    {
     "data": {
      "text/html": [
       "<style>#sk-container-id-8 {color: black;}#sk-container-id-8 pre{padding: 0;}#sk-container-id-8 div.sk-toggleable {background-color: white;}#sk-container-id-8 label.sk-toggleable__label {cursor: pointer;display: block;width: 100%;margin-bottom: 0;padding: 0.3em;box-sizing: border-box;text-align: center;}#sk-container-id-8 label.sk-toggleable__label-arrow:before {content: \"▸\";float: left;margin-right: 0.25em;color: #696969;}#sk-container-id-8 label.sk-toggleable__label-arrow:hover:before {color: black;}#sk-container-id-8 div.sk-estimator:hover label.sk-toggleable__label-arrow:before {color: black;}#sk-container-id-8 div.sk-toggleable__content {max-height: 0;max-width: 0;overflow: hidden;text-align: left;background-color: #f0f8ff;}#sk-container-id-8 div.sk-toggleable__content pre {margin: 0.2em;color: black;border-radius: 0.25em;background-color: #f0f8ff;}#sk-container-id-8 input.sk-toggleable__control:checked~div.sk-toggleable__content {max-height: 200px;max-width: 100%;overflow: auto;}#sk-container-id-8 input.sk-toggleable__control:checked~label.sk-toggleable__label-arrow:before {content: \"▾\";}#sk-container-id-8 div.sk-estimator input.sk-toggleable__control:checked~label.sk-toggleable__label {background-color: #d4ebff;}#sk-container-id-8 div.sk-label input.sk-toggleable__control:checked~label.sk-toggleable__label {background-color: #d4ebff;}#sk-container-id-8 input.sk-hidden--visually {border: 0;clip: rect(1px 1px 1px 1px);clip: rect(1px, 1px, 1px, 1px);height: 1px;margin: -1px;overflow: hidden;padding: 0;position: absolute;width: 1px;}#sk-container-id-8 div.sk-estimator {font-family: monospace;background-color: #f0f8ff;border: 1px dotted black;border-radius: 0.25em;box-sizing: border-box;margin-bottom: 0.5em;}#sk-container-id-8 div.sk-estimator:hover {background-color: #d4ebff;}#sk-container-id-8 div.sk-parallel-item::after {content: \"\";width: 100%;border-bottom: 1px solid gray;flex-grow: 1;}#sk-container-id-8 div.sk-label:hover label.sk-toggleable__label {background-color: #d4ebff;}#sk-container-id-8 div.sk-serial::before {content: \"\";position: absolute;border-left: 1px solid gray;box-sizing: border-box;top: 0;bottom: 0;left: 50%;z-index: 0;}#sk-container-id-8 div.sk-serial {display: flex;flex-direction: column;align-items: center;background-color: white;padding-right: 0.2em;padding-left: 0.2em;position: relative;}#sk-container-id-8 div.sk-item {position: relative;z-index: 1;}#sk-container-id-8 div.sk-parallel {display: flex;align-items: stretch;justify-content: center;background-color: white;position: relative;}#sk-container-id-8 div.sk-item::before, #sk-container-id-8 div.sk-parallel-item::before {content: \"\";position: absolute;border-left: 1px solid gray;box-sizing: border-box;top: 0;bottom: 0;left: 50%;z-index: -1;}#sk-container-id-8 div.sk-parallel-item {display: flex;flex-direction: column;z-index: 1;position: relative;background-color: white;}#sk-container-id-8 div.sk-parallel-item:first-child::after {align-self: flex-end;width: 50%;}#sk-container-id-8 div.sk-parallel-item:last-child::after {align-self: flex-start;width: 50%;}#sk-container-id-8 div.sk-parallel-item:only-child::after {width: 0;}#sk-container-id-8 div.sk-dashed-wrapped {border: 1px dashed gray;margin: 0 0.4em 0.5em 0.4em;box-sizing: border-box;padding-bottom: 0.4em;background-color: white;}#sk-container-id-8 div.sk-label label {font-family: monospace;font-weight: bold;display: inline-block;line-height: 1.2em;}#sk-container-id-8 div.sk-label-container {text-align: center;}#sk-container-id-8 div.sk-container {/* jupyter's `normalize.less` sets `[hidden] { display: none; }` but bootstrap.min.css set `[hidden] { display: none !important; }` so we also need the `!important` here to be able to override the default hidden behavior on the sphinx rendered scikit-learn.org. See: https://github.com/scikit-learn/scikit-learn/issues/21755 */display: inline-block !important;position: relative;}#sk-container-id-8 div.sk-text-repr-fallback {display: none;}</style><div id=\"sk-container-id-8\" class=\"sk-top-container\"><div class=\"sk-text-repr-fallback\"><pre>LogisticRegression()</pre><b>In a Jupyter environment, please rerun this cell to show the HTML representation or trust the notebook. <br />On GitHub, the HTML representation is unable to render, please try loading this page with nbviewer.org.</b></div><div class=\"sk-container\" hidden><div class=\"sk-item\"><div class=\"sk-estimator sk-toggleable\"><input class=\"sk-toggleable__control sk-hidden--visually\" id=\"sk-estimator-id-20\" type=\"checkbox\" checked><label for=\"sk-estimator-id-20\" class=\"sk-toggleable__label sk-toggleable__label-arrow\">LogisticRegression</label><div class=\"sk-toggleable__content\"><pre>LogisticRegression()</pre></div></div></div></div></div>"
      ],
      "text/plain": [
       "LogisticRegression()"
      ]
     },
     "execution_count": 175,
     "metadata": {},
     "output_type": "execute_result"
    }
   ],
   "source": [
    "model = LogisticRegression()\n",
    "model.fit(X_train, y_train)"
   ]
  },
  {
   "cell_type": "code",
   "execution_count": 176,
   "id": "4bb0f51a",
   "metadata": {},
   "outputs": [
    {
     "data": {
      "text/plain": [
       "array([[9.58372415e-04, 9.99041628e-01],\n",
       "       [9.03115128e-01, 9.68848723e-02],\n",
       "       [5.10856077e-01, 4.89143923e-01],\n",
       "       [1.89954652e-01, 8.10045348e-01],\n",
       "       [8.87464987e-01, 1.12535013e-01],\n",
       "       [5.60264984e-01, 4.39735016e-01],\n",
       "       [1.70482761e-01, 8.29517239e-01],\n",
       "       [2.86383139e-01, 7.13616861e-01],\n",
       "       [1.12335830e-01, 8.87664170e-01],\n",
       "       [1.32031856e-01, 8.67968144e-01]])"
      ]
     },
     "execution_count": 176,
     "metadata": {},
     "output_type": "execute_result"
    }
   ],
   "source": [
    "# Probability of classes\n",
    "model_prob = model.predict_proba(X_test)\n",
    "model_prob[:10]"
   ]
  },
  {
   "cell_type": "code",
   "execution_count": 177,
   "id": "70780166",
   "metadata": {},
   "outputs": [
    {
     "data": {
      "text/plain": [
       "array([0.99904163, 0.09688487, 0.48914392, 0.81004535, 0.11253501])"
      ]
     },
     "execution_count": 177,
     "metadata": {},
     "output_type": "execute_result"
    }
   ],
   "source": [
    "# Probabilites of Class 1\n",
    "model_prob_1 = model_prob[:, 1]\n",
    "model_prob_1[:5]"
   ]
  },
  {
   "cell_type": "code",
   "execution_count": 178,
   "id": "1500fba7",
   "metadata": {},
   "outputs": [
    {
     "name": "stdout",
     "output_type": "stream",
     "text": [
      "0.5\n",
      "0.9108885464817668\n"
     ]
    }
   ],
   "source": [
    "# Calculating ROC_AUC Score\n",
    "# Dummy model score\n",
    "dummy_model_auc = roc_auc_score(y_test, dummy_model_prob)\n",
    "model_auc = roc_auc_score(y_test, model_prob_1)\n",
    "print(dummy_model_auc, model_auc, sep = \"\\n\")"
   ]
  },
  {
   "cell_type": "markdown",
   "id": "4a0a746b",
   "metadata": {},
   "source": [
    "## Calculate ROC AUC Curve"
   ]
  },
  {
   "cell_type": "code",
   "execution_count": 179,
   "id": "e9da7156",
   "metadata": {},
   "outputs": [],
   "source": [
    "# Getting False Positive Rate(FPR) and True Positive Rate(TPR) for the dummy model and our model\n",
    "dummy_fpr, dummy_tpr, _ = roc_curve(y_test, dummy_model_prob)\n",
    "model_fpr, model_tpr, thresholds = roc_curve(y_test, model_prob_1)"
   ]
  },
  {
   "cell_type": "code",
   "execution_count": 180,
   "id": "e4c3534f",
   "metadata": {},
   "outputs": [
    {
     "data": {
      "text/plain": [
       "array([           inf, 9.99738592e-01, 9.87040875e-01, 9.86379569e-01,\n",
       "       9.57807758e-01, 9.57072190e-01, 9.45358918e-01, 9.40467971e-01,\n",
       "       9.28352122e-01, 9.27301113e-01, 9.25546499e-01, 9.23675753e-01,\n",
       "       8.94689922e-01, 8.93893406e-01, 8.43433686e-01, 8.38350348e-01,\n",
       "       8.28678141e-01, 8.26515102e-01, 8.08619980e-01, 8.06380714e-01,\n",
       "       7.80387324e-01, 7.64061119e-01, 7.63865215e-01, 7.63295056e-01,\n",
       "       7.58516782e-01, 7.55239387e-01, 7.52535126e-01, 7.47974480e-01,\n",
       "       7.23463245e-01, 7.22944858e-01, 6.74522461e-01, 6.56742619e-01,\n",
       "       6.55332712e-01, 6.26800183e-01, 5.99853807e-01, 5.57961256e-01,\n",
       "       5.39054551e-01, 5.14148751e-01, 5.05106145e-01, 4.96241078e-01,\n",
       "       4.90022043e-01, 4.84956016e-01, 4.69101337e-01, 4.50840890e-01,\n",
       "       4.46447154e-01, 4.39735016e-01, 4.24228884e-01, 3.24445069e-01,\n",
       "       3.12824361e-01, 3.06577477e-01, 3.01384481e-01, 2.10359803e-01,\n",
       "       2.06155010e-01, 1.91025094e-01, 1.69812812e-01, 1.42728321e-01,\n",
       "       1.42182930e-01, 9.03801569e-02, 8.30069425e-02, 7.80326003e-02,\n",
       "       7.11618394e-02, 5.43617813e-04])"
      ]
     },
     "execution_count": 180,
     "metadata": {},
     "output_type": "execute_result"
    }
   ],
   "source": [
    "thresholds"
   ]
  },
  {
   "cell_type": "code",
   "execution_count": 181,
   "id": "afdbfcc3",
   "metadata": {},
   "outputs": [
    {
     "data": {
      "text/plain": [
       "(array([0.        , 0.        , 0.        , 0.00757576, 0.00757576,\n",
       "        0.01515152, 0.01515152, 0.02272727, 0.02272727, 0.03030303,\n",
       "        0.03030303, 0.03787879, 0.03787879, 0.04545455, 0.04545455,\n",
       "        0.0530303 , 0.0530303 , 0.06060606, 0.06060606, 0.06818182,\n",
       "        0.06818182, 0.08333333, 0.08333333, 0.09090909, 0.09090909,\n",
       "        0.09848485, 0.09848485, 0.11363636, 0.11363636, 0.12121212,\n",
       "        0.12121212, 0.12878788, 0.12878788, 0.15909091, 0.15909091,\n",
       "        0.18181818, 0.18181818, 0.18939394, 0.18939394, 0.20454545,\n",
       "        0.20454545, 0.21969697, 0.21969697, 0.22727273, 0.22727273,\n",
       "        0.24242424, 0.24242424, 0.31060606, 0.31060606, 0.32575758,\n",
       "        0.32575758, 0.38636364, 0.38636364, 0.40909091, 0.40909091,\n",
       "        0.41666667, 0.41666667, 0.53030303, 0.53030303, 0.53787879,\n",
       "        0.53787879, 1.        ]),\n",
       " array([0.        , 0.00847458, 0.1440678 , 0.1440678 , 0.23728814,\n",
       "        0.23728814, 0.28813559, 0.28813559, 0.36440678, 0.36440678,\n",
       "        0.37288136, 0.37288136, 0.43220339, 0.43220339, 0.55084746,\n",
       "        0.55084746, 0.60169492, 0.60169492, 0.6440678 , 0.6440678 ,\n",
       "        0.6779661 , 0.6779661 , 0.68644068, 0.68644068, 0.69491525,\n",
       "        0.69491525, 0.70338983, 0.70338983, 0.74576271, 0.74576271,\n",
       "        0.79661017, 0.79661017, 0.81355932, 0.81355932, 0.83050847,\n",
       "        0.83050847, 0.84745763, 0.84745763, 0.86440678, 0.86440678,\n",
       "        0.88135593, 0.88135593, 0.88983051, 0.88983051, 0.89830508,\n",
       "        0.89830508, 0.92372881, 0.92372881, 0.93220339, 0.93220339,\n",
       "        0.94067797, 0.94067797, 0.95762712, 0.95762712, 0.96610169,\n",
       "        0.96610169, 0.97457627, 0.97457627, 0.98305085, 0.98305085,\n",
       "        1.        , 1.        ]))"
      ]
     },
     "execution_count": 181,
     "metadata": {},
     "output_type": "execute_result"
    }
   ],
   "source": [
    "model_fpr, model_tpr"
   ]
  },
  {
   "cell_type": "markdown",
   "id": "000eed27",
   "metadata": {},
   "source": [
    "### Plotting ROC Curve for the model"
   ]
  },
  {
   "cell_type": "code",
   "execution_count": 182,
   "id": "f49952d1",
   "metadata": {},
   "outputs": [
    {
     "data": {
      "image/png": "[encoded data removed]",
      "text/plain": [
       "<Figure size 640x480 with 1 Axes>"
      ]
     },
     "metadata": {},
     "output_type": "display_data"
    }
   ],
   "source": [
    "# Plot the roc curve for the model\n",
    "plt.plot(dummy_fpr, dummy_tpr, linestyle='--', label='Dummy Model')\n",
    "plt.plot(model_fpr, model_tpr, marker='.', label='Logistic')\n",
    "# axis labels\n",
    "plt.xlabel('False Positive Rate')\n",
    "plt.ylabel('True Positive Rate')\n",
    "# show the legend\n",
    "plt.legend()\n",
    "# show the plot\n",
    "plt.show()"
   ]
  },
  {
   "cell_type": "code",
   "execution_count": 183,
   "id": "44c7efdb",
   "metadata": {
    "scrolled": true
   },
   "outputs": [
    {
     "data": {
      "image/png": "[encoded data removed]",
      "text/plain": [
       "<Figure size 2000x1000 with 1 Axes>"
      ]
     },
     "metadata": {},
     "output_type": "display_data"
    }
   ],
   "source": [
    "plt.figure(figsize=(20,10))\n",
    "# ROC Curve of our model\n",
    "plt.plot(model_fpr, model_tpr, label='ROC Curve')\n",
    "# ROC Curve of dummy model\n",
    "plt.plot(dummy_fpr, dummy_tpr, linestyle='--', label='Dummy Model')\n",
    "plt.xlabel('False Positive Rate')\n",
    "plt.ylabel('True Positive Rate')\n",
    "plt.title('ROC Curve')\n",
    "\n",
    "# Annotate the thresholds\n",
    "for i, threshold in enumerate(thresholds):\n",
    "    plt.annotate(f'{threshold:.2f}', (model_fpr[i], model_tpr[i]), textcoords='offset points', xytext=(0, 10), ha='center')\n",
    "\n",
    "plt.legend(loc='lower right')\n",
    "plt.grid(True)\n",
    "plt.show()"
   ]
  },
  {
   "cell_type": "markdown",
   "id": "611f96ab",
   "metadata": {},
   "source": [
    "#### Collaborate with the domain expert and determine the ideal threshold"
   ]
  }
 ],
 "metadata": {
  "kernelspec": {
   "display_name": "Python 3 (ipykernel)",
   "language": "python",
   "name": "python3"
  },
  "language_info": {
   "codemirror_mode": {
    "name": "ipython",
    "version": 3
   },
   "file_extension": ".py",
   "mimetype": "text/x-python",
   "name": "python",
   "nbconvert_exporter": "python",
   "pygments_lexer": "ipython3",
   "version": "3.11.4"
  }
 },
 "nbformat": 4,
 "nbformat_minor": 5
}
