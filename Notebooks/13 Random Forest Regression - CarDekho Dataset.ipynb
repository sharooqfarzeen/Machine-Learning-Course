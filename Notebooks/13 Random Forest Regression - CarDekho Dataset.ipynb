{
 "cells": [
  {
   "cell_type": "markdown",
   "metadata": {},
   "source": [
    "# CarDekho Used Car Sales Dataset\n",
    "\n",
    "Original Dataset: https://www.kaggle.com/datasets/sukritchatterjee/used-cars-dataset-cardekho\n",
    "\n",
    "The dataset used in this kernel is a cleaned version of the original dataset from Kaggle. It has 13 columns containing information about the make, model, usage patterns and specifications of over 15,000 used cars, scraped from the CarDekho website.\n",
    "\n",
    "## Goal\n",
    "\n",
    "The goal of this notebook is to use the dataset as a resource for learning Random Forest Regression. The model will use independent features like make, model, usage patterns and specifications to predict selling price."
   ]
  },
  {
   "cell_type": "code",
   "execution_count": 1,
   "metadata": {
    "execution": {
     "iopub.execute_input": "2024-07-27T07:42:17.726540Z",
     "iopub.status.busy": "2024-07-27T07:42:17.726084Z",
     "iopub.status.idle": "2024-07-27T07:42:17.733732Z",
     "shell.execute_reply": "2024-07-27T07:42:17.732266Z",
     "shell.execute_reply.started": "2024-07-27T07:42:17.726507Z"
    }
   },
   "outputs": [],
   "source": [
    "# Importing required modules\n",
    "import os\n",
    "import pandas as pd\n",
    "import numpy as np\n",
    "import matplotlib.pyplot as plt\n",
    "import seaborn as sns\n",
    "import warnings\n",
    "import pickle\n",
    "\n",
    "from sklearn.preprocessing import OneHotEncoder, OrdinalEncoder\n",
    "from sklearn.compose import ColumnTransformer \n",
    "from sklearn.model_selection import train_test_split\n",
    "from sklearn.ensemble import RandomForestRegressor\n",
    "from sklearn.metrics import r2_score, mean_absolute_error, mean_squared_error\n",
    "from sklearn.model_selection import RandomizedSearchCV"
   ]
  },
  {
   "cell_type": "code",
   "execution_count": 2,
   "metadata": {
    "execution": {
     "iopub.execute_input": "2024-07-27T07:42:17.736059Z",
     "iopub.status.busy": "2024-07-27T07:42:17.735667Z",
     "iopub.status.idle": "2024-07-27T07:42:17.751380Z",
     "shell.execute_reply": "2024-07-27T07:42:17.749912Z",
     "shell.execute_reply.started": "2024-07-27T07:42:17.736021Z"
    }
   },
   "outputs": [],
   "source": [
    "%matplotlib inline\n",
    "warnings.filterwarnings('ignore')  # Comment out to see warnings"
   ]
  },
  {
   "cell_type": "markdown",
   "metadata": {},
   "source": [
    "# Importing the Dataset"
   ]
  },
  {
   "cell_type": "code",
   "execution_count": 3,
   "metadata": {
    "execution": {
     "iopub.execute_input": "2024-07-27T07:42:17.753520Z",
     "iopub.status.busy": "2024-07-27T07:42:17.752999Z",
     "iopub.status.idle": "2024-07-27T07:42:17.805078Z",
     "shell.execute_reply": "2024-07-27T07:42:17.803935Z",
     "shell.execute_reply.started": "2024-07-27T07:42:17.753477Z"
    }
   },
   "outputs": [],
   "source": [
    "df = pd.read_csv(\"Datasets/cardekho.csv\", index_col=[0])"
   ]
  },
  {
   "cell_type": "code",
   "execution_count": 4,
   "metadata": {
    "execution": {
     "iopub.execute_input": "2024-07-27T07:42:17.808251Z",
     "iopub.status.busy": "2024-07-27T07:42:17.807791Z",
     "iopub.status.idle": "2024-07-27T07:42:17.825680Z",
     "shell.execute_reply": "2024-07-27T07:42:17.824475Z",
     "shell.execute_reply.started": "2024-07-27T07:42:17.808211Z"
    }
   },
   "outputs": [
    {
     "data": {
      "text/html": [
       "<div>\n",
       "<style scoped>\n",
       "    .dataframe tbody tr th:only-of-type {\n",
       "        vertical-align: middle;\n",
       "    }\n",
       "\n",
       "    .dataframe tbody tr th {\n",
       "        vertical-align: top;\n",
       "    }\n",
       "\n",
       "    .dataframe thead th {\n",
       "        text-align: right;\n",
       "    }\n",
       "</style>\n",
       "<table border=\"1\" class=\"dataframe\">\n",
       "  <thead>\n",
       "    <tr style=\"text-align: right;\">\n",
       "      <th></th>\n",
       "      <th>car_name</th>\n",
       "      <th>brand</th>\n",
       "      <th>model</th>\n",
       "      <th>vehicle_age</th>\n",
       "      <th>km_driven</th>\n",
       "      <th>seller_type</th>\n",
       "      <th>fuel_type</th>\n",
       "      <th>transmission_type</th>\n",
       "      <th>mileage</th>\n",
       "      <th>engine</th>\n",
       "      <th>max_power</th>\n",
       "      <th>seats</th>\n",
       "      <th>selling_price</th>\n",
       "    </tr>\n",
       "  </thead>\n",
       "  <tbody>\n",
       "    <tr>\n",
       "      <th>0</th>\n",
       "      <td>Maruti Alto</td>\n",
       "      <td>Maruti</td>\n",
       "      <td>Alto</td>\n",
       "      <td>9</td>\n",
       "      <td>120000</td>\n",
       "      <td>Individual</td>\n",
       "      <td>Petrol</td>\n",
       "      <td>Manual</td>\n",
       "      <td>19.70</td>\n",
       "      <td>796</td>\n",
       "      <td>46.30</td>\n",
       "      <td>5</td>\n",
       "      <td>120000</td>\n",
       "    </tr>\n",
       "    <tr>\n",
       "      <th>1</th>\n",
       "      <td>Hyundai Grand</td>\n",
       "      <td>Hyundai</td>\n",
       "      <td>Grand</td>\n",
       "      <td>5</td>\n",
       "      <td>20000</td>\n",
       "      <td>Individual</td>\n",
       "      <td>Petrol</td>\n",
       "      <td>Manual</td>\n",
       "      <td>18.90</td>\n",
       "      <td>1197</td>\n",
       "      <td>82.00</td>\n",
       "      <td>5</td>\n",
       "      <td>550000</td>\n",
       "    </tr>\n",
       "    <tr>\n",
       "      <th>2</th>\n",
       "      <td>Hyundai i20</td>\n",
       "      <td>Hyundai</td>\n",
       "      <td>i20</td>\n",
       "      <td>11</td>\n",
       "      <td>60000</td>\n",
       "      <td>Individual</td>\n",
       "      <td>Petrol</td>\n",
       "      <td>Manual</td>\n",
       "      <td>17.00</td>\n",
       "      <td>1197</td>\n",
       "      <td>80.00</td>\n",
       "      <td>5</td>\n",
       "      <td>215000</td>\n",
       "    </tr>\n",
       "    <tr>\n",
       "      <th>3</th>\n",
       "      <td>Maruti Alto</td>\n",
       "      <td>Maruti</td>\n",
       "      <td>Alto</td>\n",
       "      <td>9</td>\n",
       "      <td>37000</td>\n",
       "      <td>Individual</td>\n",
       "      <td>Petrol</td>\n",
       "      <td>Manual</td>\n",
       "      <td>20.92</td>\n",
       "      <td>998</td>\n",
       "      <td>67.10</td>\n",
       "      <td>5</td>\n",
       "      <td>226000</td>\n",
       "    </tr>\n",
       "    <tr>\n",
       "      <th>4</th>\n",
       "      <td>Ford Ecosport</td>\n",
       "      <td>Ford</td>\n",
       "      <td>Ecosport</td>\n",
       "      <td>6</td>\n",
       "      <td>30000</td>\n",
       "      <td>Dealer</td>\n",
       "      <td>Diesel</td>\n",
       "      <td>Manual</td>\n",
       "      <td>22.77</td>\n",
       "      <td>1498</td>\n",
       "      <td>98.59</td>\n",
       "      <td>5</td>\n",
       "      <td>570000</td>\n",
       "    </tr>\n",
       "  </tbody>\n",
       "</table>\n",
       "</div>"
      ],
      "text/plain": [
       "        car_name    brand     model  vehicle_age  km_driven seller_type  \\\n",
       "0    Maruti Alto   Maruti      Alto            9     120000  Individual   \n",
       "1  Hyundai Grand  Hyundai     Grand            5      20000  Individual   \n",
       "2    Hyundai i20  Hyundai       i20           11      60000  Individual   \n",
       "3    Maruti Alto   Maruti      Alto            9      37000  Individual   \n",
       "4  Ford Ecosport     Ford  Ecosport            6      30000      Dealer   \n",
       "\n",
       "  fuel_type transmission_type  mileage  engine  max_power  seats  \\\n",
       "0    Petrol            Manual    19.70     796      46.30      5   \n",
       "1    Petrol            Manual    18.90    1197      82.00      5   \n",
       "2    Petrol            Manual    17.00    1197      80.00      5   \n",
       "3    Petrol            Manual    20.92     998      67.10      5   \n",
       "4    Diesel            Manual    22.77    1498      98.59      5   \n",
       "\n",
       "   selling_price  \n",
       "0         120000  \n",
       "1         550000  \n",
       "2         215000  \n",
       "3         226000  \n",
       "4         570000  "
      ]
     },
     "execution_count": 4,
     "metadata": {},
     "output_type": "execute_result"
    }
   ],
   "source": [
    "df.head()"
   ]
  },
  {
   "cell_type": "code",
   "execution_count": 5,
   "metadata": {
    "execution": {
     "iopub.execute_input": "2024-07-27T07:42:17.827470Z",
     "iopub.status.busy": "2024-07-27T07:42:17.827034Z",
     "iopub.status.idle": "2024-07-27T07:42:17.850584Z",
     "shell.execute_reply": "2024-07-27T07:42:17.849380Z",
     "shell.execute_reply.started": "2024-07-27T07:42:17.827431Z"
    }
   },
   "outputs": [
    {
     "name": "stdout",
     "output_type": "stream",
     "text": [
      "<class 'pandas.core.frame.DataFrame'>\n",
      "Int64Index: 15411 entries, 0 to 19543\n",
      "Data columns (total 13 columns):\n",
      " #   Column             Non-Null Count  Dtype  \n",
      "---  ------             --------------  -----  \n",
      " 0   car_name           15411 non-null  object \n",
      " 1   brand              15411 non-null  object \n",
      " 2   model              15411 non-null  object \n",
      " 3   vehicle_age        15411 non-null  int64  \n",
      " 4   km_driven          15411 non-null  int64  \n",
      " 5   seller_type        15411 non-null  object \n",
      " 6   fuel_type          15411 non-null  object \n",
      " 7   transmission_type  15411 non-null  object \n",
      " 8   mileage            15411 non-null  float64\n",
      " 9   engine             15411 non-null  int64  \n",
      " 10  max_power          15411 non-null  float64\n",
      " 11  seats              15411 non-null  int64  \n",
      " 12  selling_price      15411 non-null  int64  \n",
      "dtypes: float64(2), int64(5), object(6)\n",
      "memory usage: 1.6+ MB\n"
     ]
    }
   ],
   "source": [
    "df.info()"
   ]
  },
  {
   "cell_type": "code",
   "execution_count": 6,
   "metadata": {
    "execution": {
     "iopub.execute_input": "2024-07-27T07:42:17.852368Z",
     "iopub.status.busy": "2024-07-27T07:42:17.852000Z",
     "iopub.status.idle": "2024-07-27T07:42:17.885744Z",
     "shell.execute_reply": "2024-07-27T07:42:17.884477Z",
     "shell.execute_reply.started": "2024-07-27T07:42:17.852321Z"
    },
    "scrolled": true
   },
   "outputs": [
    {
     "data": {
      "text/html": [
       "<div>\n",
       "<style scoped>\n",
       "    .dataframe tbody tr th:only-of-type {\n",
       "        vertical-align: middle;\n",
       "    }\n",
       "\n",
       "    .dataframe tbody tr th {\n",
       "        vertical-align: top;\n",
       "    }\n",
       "\n",
       "    .dataframe thead th {\n",
       "        text-align: right;\n",
       "    }\n",
       "</style>\n",
       "<table border=\"1\" class=\"dataframe\">\n",
       "  <thead>\n",
       "    <tr style=\"text-align: right;\">\n",
       "      <th></th>\n",
       "      <th>vehicle_age</th>\n",
       "      <th>km_driven</th>\n",
       "      <th>mileage</th>\n",
       "      <th>engine</th>\n",
       "      <th>max_power</th>\n",
       "      <th>seats</th>\n",
       "      <th>selling_price</th>\n",
       "    </tr>\n",
       "  </thead>\n",
       "  <tbody>\n",
       "    <tr>\n",
       "      <th>count</th>\n",
       "      <td>15411.000000</td>\n",
       "      <td>1.541100e+04</td>\n",
       "      <td>15411.000000</td>\n",
       "      <td>15411.000000</td>\n",
       "      <td>15411.000000</td>\n",
       "      <td>15411.000000</td>\n",
       "      <td>1.541100e+04</td>\n",
       "    </tr>\n",
       "    <tr>\n",
       "      <th>mean</th>\n",
       "      <td>6.036338</td>\n",
       "      <td>5.561648e+04</td>\n",
       "      <td>19.701151</td>\n",
       "      <td>1486.057751</td>\n",
       "      <td>100.588254</td>\n",
       "      <td>5.325482</td>\n",
       "      <td>7.749711e+05</td>\n",
       "    </tr>\n",
       "    <tr>\n",
       "      <th>std</th>\n",
       "      <td>3.013291</td>\n",
       "      <td>5.161855e+04</td>\n",
       "      <td>4.171265</td>\n",
       "      <td>521.106696</td>\n",
       "      <td>42.972979</td>\n",
       "      <td>0.807628</td>\n",
       "      <td>8.941284e+05</td>\n",
       "    </tr>\n",
       "    <tr>\n",
       "      <th>min</th>\n",
       "      <td>0.000000</td>\n",
       "      <td>1.000000e+02</td>\n",
       "      <td>4.000000</td>\n",
       "      <td>793.000000</td>\n",
       "      <td>38.400000</td>\n",
       "      <td>0.000000</td>\n",
       "      <td>4.000000e+04</td>\n",
       "    </tr>\n",
       "    <tr>\n",
       "      <th>25%</th>\n",
       "      <td>4.000000</td>\n",
       "      <td>3.000000e+04</td>\n",
       "      <td>17.000000</td>\n",
       "      <td>1197.000000</td>\n",
       "      <td>74.000000</td>\n",
       "      <td>5.000000</td>\n",
       "      <td>3.850000e+05</td>\n",
       "    </tr>\n",
       "    <tr>\n",
       "      <th>50%</th>\n",
       "      <td>6.000000</td>\n",
       "      <td>5.000000e+04</td>\n",
       "      <td>19.670000</td>\n",
       "      <td>1248.000000</td>\n",
       "      <td>88.500000</td>\n",
       "      <td>5.000000</td>\n",
       "      <td>5.560000e+05</td>\n",
       "    </tr>\n",
       "    <tr>\n",
       "      <th>75%</th>\n",
       "      <td>8.000000</td>\n",
       "      <td>7.000000e+04</td>\n",
       "      <td>22.700000</td>\n",
       "      <td>1582.000000</td>\n",
       "      <td>117.300000</td>\n",
       "      <td>5.000000</td>\n",
       "      <td>8.250000e+05</td>\n",
       "    </tr>\n",
       "    <tr>\n",
       "      <th>max</th>\n",
       "      <td>29.000000</td>\n",
       "      <td>3.800000e+06</td>\n",
       "      <td>33.540000</td>\n",
       "      <td>6592.000000</td>\n",
       "      <td>626.000000</td>\n",
       "      <td>9.000000</td>\n",
       "      <td>3.950000e+07</td>\n",
       "    </tr>\n",
       "  </tbody>\n",
       "</table>\n",
       "</div>"
      ],
      "text/plain": [
       "        vehicle_age     km_driven       mileage        engine     max_power  \\\n",
       "count  15411.000000  1.541100e+04  15411.000000  15411.000000  15411.000000   \n",
       "mean       6.036338  5.561648e+04     19.701151   1486.057751    100.588254   \n",
       "std        3.013291  5.161855e+04      4.171265    521.106696     42.972979   \n",
       "min        0.000000  1.000000e+02      4.000000    793.000000     38.400000   \n",
       "25%        4.000000  3.000000e+04     17.000000   1197.000000     74.000000   \n",
       "50%        6.000000  5.000000e+04     19.670000   1248.000000     88.500000   \n",
       "75%        8.000000  7.000000e+04     22.700000   1582.000000    117.300000   \n",
       "max       29.000000  3.800000e+06     33.540000   6592.000000    626.000000   \n",
       "\n",
       "              seats  selling_price  \n",
       "count  15411.000000   1.541100e+04  \n",
       "mean       5.325482   7.749711e+05  \n",
       "std        0.807628   8.941284e+05  \n",
       "min        0.000000   4.000000e+04  \n",
       "25%        5.000000   3.850000e+05  \n",
       "50%        5.000000   5.560000e+05  \n",
       "75%        5.000000   8.250000e+05  \n",
       "max        9.000000   3.950000e+07  "
      ]
     },
     "execution_count": 6,
     "metadata": {},
     "output_type": "execute_result"
    }
   ],
   "source": [
    "df.describe()"
   ]
  },
  {
   "cell_type": "markdown",
   "metadata": {},
   "source": [
    "# Data Cleaning"
   ]
  },
  {
   "cell_type": "markdown",
   "metadata": {},
   "source": [
    "* Handle Typographical Errors\n",
    "* Handle Missing Values\n",
    "* Handle Duplicates\n",
    "* Check Datatypes"
   ]
  },
  {
   "cell_type": "markdown",
   "metadata": {},
   "source": [
    "## Handling Typographical Errors"
   ]
  },
  {
   "cell_type": "code",
   "execution_count": 7,
   "metadata": {
    "execution": {
     "iopub.execute_input": "2024-07-27T07:42:17.887576Z",
     "iopub.status.busy": "2024-07-27T07:42:17.887198Z",
     "iopub.status.idle": "2024-07-27T07:42:17.908724Z",
     "shell.execute_reply": "2024-07-27T07:42:17.907380Z",
     "shell.execute_reply.started": "2024-07-27T07:42:17.887547Z"
    }
   },
   "outputs": [
    {
     "name": "stdout",
     "output_type": "stream",
     "text": [
      "Hyundai i20           906\n",
      "Maruti Swift Dzire    890\n",
      "Maruti Swift          781\n",
      "Maruti Alto           778\n",
      "Honda City            757\n",
      "                     ... \n",
      "Mercedes-AMG C          1\n",
      "Tata Altroz             1\n",
      "Ferrari GTC4Lusso       1\n",
      "Hyundai Aura            1\n",
      "Force Gurkha            1\n",
      "Name: car_name, Length: 121, dtype: int64\n",
      "\n",
      "Maruti           4992\n",
      "Hyundai          2982\n",
      "Honda            1485\n",
      "Mahindra         1011\n",
      "Toyota            793\n",
      "Ford              790\n",
      "Volkswagen        620\n",
      "Renault           536\n",
      "BMW               439\n",
      "Tata              430\n",
      "Mercedes-Benz     337\n",
      "Skoda             334\n",
      "Audi              192\n",
      "Datsun            170\n",
      "Jaguar             59\n",
      "Land Rover         51\n",
      "Jeep               41\n",
      "Kia                32\n",
      "Porsche            21\n",
      "Volvo              20\n",
      "MG                 19\n",
      "Mini               17\n",
      "Nissan             11\n",
      "Lexus              10\n",
      "Isuzu               8\n",
      "Bentley             3\n",
      "Maserati            2\n",
      "ISUZU               2\n",
      "Ferrari             1\n",
      "Mercedes-AMG        1\n",
      "Rolls-Royce         1\n",
      "Force               1\n",
      "Name: brand, dtype: int64\n",
      "\n",
      "i20            906\n",
      "Swift Dzire    890\n",
      "Swift          781\n",
      "Alto           778\n",
      "City           757\n",
      "              ... \n",
      "Ghibli           1\n",
      "Altroz           1\n",
      "GTC4Lusso        1\n",
      "Aura             1\n",
      "Gurkha           1\n",
      "Name: model, Length: 120, dtype: int64\n",
      "\n",
      "Dealer              9539\n",
      "Individual          5699\n",
      "Trustmark Dealer     173\n",
      "Name: seller_type, dtype: int64\n",
      "\n",
      "Petrol      7643\n",
      "Diesel      7419\n",
      "CNG          301\n",
      "LPG           44\n",
      "Electric       4\n",
      "Name: fuel_type, dtype: int64\n",
      "\n",
      "Manual       12225\n",
      "Automatic     3186\n",
      "Name: transmission_type, dtype: int64\n",
      "\n"
     ]
    }
   ],
   "source": [
    "# Printing unique entries in all categorical columns\n",
    "# Getting a list of all categorical columns\n",
    "cat_cols = df.select_dtypes('object').columns.to_list()\n",
    "# Printing unique entries to check for data entry errors\n",
    "for column in cat_cols:\n",
    "    print(df[column].value_counts(), end=\"\\n\\n\")"
   ]
  },
  {
   "cell_type": "raw",
   "metadata": {},
   "source": [
    "There are no apparent typo errors."
   ]
  },
  {
   "cell_type": "markdown",
   "metadata": {},
   "source": [
    "## Handling Missing Values"
   ]
  },
  {
   "cell_type": "code",
   "execution_count": 8,
   "metadata": {
    "execution": {
     "iopub.execute_input": "2024-07-27T07:42:17.910637Z",
     "iopub.status.busy": "2024-07-27T07:42:17.910217Z",
     "iopub.status.idle": "2024-07-27T07:42:17.931347Z",
     "shell.execute_reply": "2024-07-27T07:42:17.929994Z",
     "shell.execute_reply.started": "2024-07-27T07:42:17.910606Z"
    }
   },
   "outputs": [
    {
     "data": {
      "text/plain": [
       "car_name             0\n",
       "brand                0\n",
       "model                0\n",
       "vehicle_age          0\n",
       "km_driven            0\n",
       "seller_type          0\n",
       "fuel_type            0\n",
       "transmission_type    0\n",
       "mileage              0\n",
       "engine               0\n",
       "max_power            0\n",
       "seats                0\n",
       "selling_price        0\n",
       "dtype: int64"
      ]
     },
     "execution_count": 8,
     "metadata": {},
     "output_type": "execute_result"
    }
   ],
   "source": [
    "# Checking for null values\n",
    "df.isnull().sum()"
   ]
  },
  {
   "cell_type": "raw",
   "metadata": {},
   "source": [
    "There are no null values in any columns."
   ]
  },
  {
   "cell_type": "markdown",
   "metadata": {},
   "source": [
    "## Handling Duplicates"
   ]
  },
  {
   "cell_type": "code",
   "execution_count": 9,
   "metadata": {
    "execution": {
     "iopub.execute_input": "2024-07-27T07:42:17.935556Z",
     "iopub.status.busy": "2024-07-27T07:42:17.935117Z",
     "iopub.status.idle": "2024-07-27T07:42:17.970042Z",
     "shell.execute_reply": "2024-07-27T07:42:17.968911Z",
     "shell.execute_reply.started": "2024-07-27T07:42:17.935522Z"
    }
   },
   "outputs": [
    {
     "data": {
      "text/html": [
       "<div>\n",
       "<style scoped>\n",
       "    .dataframe tbody tr th:only-of-type {\n",
       "        vertical-align: middle;\n",
       "    }\n",
       "\n",
       "    .dataframe tbody tr th {\n",
       "        vertical-align: top;\n",
       "    }\n",
       "\n",
       "    .dataframe thead th {\n",
       "        text-align: right;\n",
       "    }\n",
       "</style>\n",
       "<table border=\"1\" class=\"dataframe\">\n",
       "  <thead>\n",
       "    <tr style=\"text-align: right;\">\n",
       "      <th></th>\n",
       "      <th>car_name</th>\n",
       "      <th>brand</th>\n",
       "      <th>model</th>\n",
       "      <th>vehicle_age</th>\n",
       "      <th>km_driven</th>\n",
       "      <th>seller_type</th>\n",
       "      <th>fuel_type</th>\n",
       "      <th>transmission_type</th>\n",
       "      <th>mileage</th>\n",
       "      <th>engine</th>\n",
       "      <th>max_power</th>\n",
       "      <th>seats</th>\n",
       "      <th>selling_price</th>\n",
       "    </tr>\n",
       "  </thead>\n",
       "  <tbody>\n",
       "    <tr>\n",
       "      <th>31</th>\n",
       "      <td>Maruti Swift Dzire</td>\n",
       "      <td>Maruti</td>\n",
       "      <td>Swift Dzire</td>\n",
       "      <td>6</td>\n",
       "      <td>90000</td>\n",
       "      <td>Individual</td>\n",
       "      <td>Diesel</td>\n",
       "      <td>Manual</td>\n",
       "      <td>26.59</td>\n",
       "      <td>1248</td>\n",
       "      <td>74.00</td>\n",
       "      <td>5</td>\n",
       "      <td>600000</td>\n",
       "    </tr>\n",
       "    <tr>\n",
       "      <th>90</th>\n",
       "      <td>Honda City</td>\n",
       "      <td>Honda</td>\n",
       "      <td>City</td>\n",
       "      <td>8</td>\n",
       "      <td>70000</td>\n",
       "      <td>Individual</td>\n",
       "      <td>Petrol</td>\n",
       "      <td>Manual</td>\n",
       "      <td>16.80</td>\n",
       "      <td>1497</td>\n",
       "      <td>116.30</td>\n",
       "      <td>5</td>\n",
       "      <td>545000</td>\n",
       "    </tr>\n",
       "    <tr>\n",
       "      <th>210</th>\n",
       "      <td>Maruti Alto</td>\n",
       "      <td>Maruti</td>\n",
       "      <td>Alto</td>\n",
       "      <td>2</td>\n",
       "      <td>25000</td>\n",
       "      <td>Individual</td>\n",
       "      <td>Petrol</td>\n",
       "      <td>Manual</td>\n",
       "      <td>24.70</td>\n",
       "      <td>796</td>\n",
       "      <td>47.30</td>\n",
       "      <td>5</td>\n",
       "      <td>310000</td>\n",
       "    </tr>\n",
       "    <tr>\n",
       "      <th>261</th>\n",
       "      <td>Honda City</td>\n",
       "      <td>Honda</td>\n",
       "      <td>City</td>\n",
       "      <td>8</td>\n",
       "      <td>70000</td>\n",
       "      <td>Individual</td>\n",
       "      <td>Petrol</td>\n",
       "      <td>Manual</td>\n",
       "      <td>16.80</td>\n",
       "      <td>1497</td>\n",
       "      <td>116.30</td>\n",
       "      <td>5</td>\n",
       "      <td>545000</td>\n",
       "    </tr>\n",
       "    <tr>\n",
       "      <th>281</th>\n",
       "      <td>Renault KWID</td>\n",
       "      <td>Renault</td>\n",
       "      <td>KWID</td>\n",
       "      <td>4</td>\n",
       "      <td>35000</td>\n",
       "      <td>Individual</td>\n",
       "      <td>Petrol</td>\n",
       "      <td>Automatic</td>\n",
       "      <td>24.04</td>\n",
       "      <td>999</td>\n",
       "      <td>67.00</td>\n",
       "      <td>5</td>\n",
       "      <td>350000</td>\n",
       "    </tr>\n",
       "    <tr>\n",
       "      <th>...</th>\n",
       "      <td>...</td>\n",
       "      <td>...</td>\n",
       "      <td>...</td>\n",
       "      <td>...</td>\n",
       "      <td>...</td>\n",
       "      <td>...</td>\n",
       "      <td>...</td>\n",
       "      <td>...</td>\n",
       "      <td>...</td>\n",
       "      <td>...</td>\n",
       "      <td>...</td>\n",
       "      <td>...</td>\n",
       "      <td>...</td>\n",
       "    </tr>\n",
       "    <tr>\n",
       "      <th>19311</th>\n",
       "      <td>Maruti Swift</td>\n",
       "      <td>Maruti</td>\n",
       "      <td>Swift</td>\n",
       "      <td>8</td>\n",
       "      <td>80000</td>\n",
       "      <td>Individual</td>\n",
       "      <td>Diesel</td>\n",
       "      <td>Manual</td>\n",
       "      <td>22.90</td>\n",
       "      <td>1248</td>\n",
       "      <td>74.00</td>\n",
       "      <td>5</td>\n",
       "      <td>350000</td>\n",
       "    </tr>\n",
       "    <tr>\n",
       "      <th>19434</th>\n",
       "      <td>Maruti Wagon R</td>\n",
       "      <td>Maruti</td>\n",
       "      <td>Wagon R</td>\n",
       "      <td>6</td>\n",
       "      <td>50000</td>\n",
       "      <td>Individual</td>\n",
       "      <td>CNG</td>\n",
       "      <td>Manual</td>\n",
       "      <td>26.60</td>\n",
       "      <td>998</td>\n",
       "      <td>58.16</td>\n",
       "      <td>5</td>\n",
       "      <td>450000</td>\n",
       "    </tr>\n",
       "    <tr>\n",
       "      <th>19489</th>\n",
       "      <td>Tata Tiago</td>\n",
       "      <td>Tata</td>\n",
       "      <td>Tiago</td>\n",
       "      <td>4</td>\n",
       "      <td>30000</td>\n",
       "      <td>Individual</td>\n",
       "      <td>Petrol</td>\n",
       "      <td>Manual</td>\n",
       "      <td>23.84</td>\n",
       "      <td>1199</td>\n",
       "      <td>84.00</td>\n",
       "      <td>5</td>\n",
       "      <td>350000</td>\n",
       "    </tr>\n",
       "    <tr>\n",
       "      <th>19505</th>\n",
       "      <td>Hyundai Grand</td>\n",
       "      <td>Hyundai</td>\n",
       "      <td>Grand</td>\n",
       "      <td>6</td>\n",
       "      <td>30000</td>\n",
       "      <td>Individual</td>\n",
       "      <td>Petrol</td>\n",
       "      <td>Manual</td>\n",
       "      <td>18.90</td>\n",
       "      <td>1197</td>\n",
       "      <td>82.00</td>\n",
       "      <td>5</td>\n",
       "      <td>450000</td>\n",
       "    </tr>\n",
       "    <tr>\n",
       "      <th>19521</th>\n",
       "      <td>Land Rover Rover</td>\n",
       "      <td>Land Rover</td>\n",
       "      <td>Rover</td>\n",
       "      <td>5</td>\n",
       "      <td>128000</td>\n",
       "      <td>Dealer</td>\n",
       "      <td>Diesel</td>\n",
       "      <td>Automatic</td>\n",
       "      <td>12.63</td>\n",
       "      <td>2179</td>\n",
       "      <td>147.50</td>\n",
       "      <td>5</td>\n",
       "      <td>2675000</td>\n",
       "    </tr>\n",
       "  </tbody>\n",
       "</table>\n",
       "<p>329 rows × 13 columns</p>\n",
       "</div>"
      ],
      "text/plain": [
       "                 car_name       brand        model  vehicle_age  km_driven  \\\n",
       "31     Maruti Swift Dzire      Maruti  Swift Dzire            6      90000   \n",
       "90             Honda City       Honda         City            8      70000   \n",
       "210           Maruti Alto      Maruti         Alto            2      25000   \n",
       "261            Honda City       Honda         City            8      70000   \n",
       "281          Renault KWID     Renault         KWID            4      35000   \n",
       "...                   ...         ...          ...          ...        ...   \n",
       "19311        Maruti Swift      Maruti        Swift            8      80000   \n",
       "19434      Maruti Wagon R      Maruti      Wagon R            6      50000   \n",
       "19489          Tata Tiago        Tata        Tiago            4      30000   \n",
       "19505       Hyundai Grand     Hyundai        Grand            6      30000   \n",
       "19521    Land Rover Rover  Land Rover        Rover            5     128000   \n",
       "\n",
       "      seller_type fuel_type transmission_type  mileage  engine  max_power  \\\n",
       "31     Individual    Diesel            Manual    26.59    1248      74.00   \n",
       "90     Individual    Petrol            Manual    16.80    1497     116.30   \n",
       "210    Individual    Petrol            Manual    24.70     796      47.30   \n",
       "261    Individual    Petrol            Manual    16.80    1497     116.30   \n",
       "281    Individual    Petrol         Automatic    24.04     999      67.00   \n",
       "...           ...       ...               ...      ...     ...        ...   \n",
       "19311  Individual    Diesel            Manual    22.90    1248      74.00   \n",
       "19434  Individual       CNG            Manual    26.60     998      58.16   \n",
       "19489  Individual    Petrol            Manual    23.84    1199      84.00   \n",
       "19505  Individual    Petrol            Manual    18.90    1197      82.00   \n",
       "19521      Dealer    Diesel         Automatic    12.63    2179     147.50   \n",
       "\n",
       "       seats  selling_price  \n",
       "31         5         600000  \n",
       "90         5         545000  \n",
       "210        5         310000  \n",
       "261        5         545000  \n",
       "281        5         350000  \n",
       "...      ...            ...  \n",
       "19311      5         350000  \n",
       "19434      5         450000  \n",
       "19489      5         350000  \n",
       "19505      5         450000  \n",
       "19521      5        2675000  \n",
       "\n",
       "[329 rows x 13 columns]"
      ]
     },
     "execution_count": 9,
     "metadata": {},
     "output_type": "execute_result"
    }
   ],
   "source": [
    "df[df.duplicated(keep=False)]"
   ]
  },
  {
   "cell_type": "raw",
   "metadata": {},
   "source": [
    "There are 329 duplicate rows"
   ]
  },
  {
   "cell_type": "code",
   "execution_count": 10,
   "metadata": {
    "execution": {
     "iopub.execute_input": "2024-07-27T07:42:17.971754Z",
     "iopub.status.busy": "2024-07-27T07:42:17.971338Z",
     "iopub.status.idle": "2024-07-27T07:42:17.991350Z",
     "shell.execute_reply": "2024-07-27T07:42:17.990219Z",
     "shell.execute_reply.started": "2024-07-27T07:42:17.971723Z"
    }
   },
   "outputs": [],
   "source": [
    "# Dropping duplicate rows\n",
    "df = df.drop_duplicates(keep='first', ignore_index=True)"
   ]
  },
  {
   "cell_type": "code",
   "execution_count": 11,
   "metadata": {
    "execution": {
     "iopub.execute_input": "2024-07-27T07:42:17.992924Z",
     "iopub.status.busy": "2024-07-27T07:42:17.992615Z",
     "iopub.status.idle": "2024-07-27T07:42:18.013560Z",
     "shell.execute_reply": "2024-07-27T07:42:18.012122Z",
     "shell.execute_reply.started": "2024-07-27T07:42:17.992898Z"
    }
   },
   "outputs": [
    {
     "data": {
      "text/plain": [
       "(0, 13)"
      ]
     },
     "execution_count": 11,
     "metadata": {},
     "output_type": "execute_result"
    }
   ],
   "source": [
    "# Final check for duplicates\n",
    "df[df.duplicated(keep=False)].shape"
   ]
  },
  {
   "cell_type": "markdown",
   "metadata": {},
   "source": [
    "## Handling Datatypes"
   ]
  },
  {
   "cell_type": "code",
   "execution_count": 12,
   "metadata": {
    "execution": {
     "iopub.execute_input": "2024-07-27T07:42:18.015736Z",
     "iopub.status.busy": "2024-07-27T07:42:18.015248Z",
     "iopub.status.idle": "2024-07-27T07:42:18.024595Z",
     "shell.execute_reply": "2024-07-27T07:42:18.023311Z",
     "shell.execute_reply.started": "2024-07-27T07:42:18.015693Z"
    }
   },
   "outputs": [
    {
     "data": {
      "text/plain": [
       "car_name              object\n",
       "brand                 object\n",
       "model                 object\n",
       "vehicle_age            int64\n",
       "km_driven              int64\n",
       "seller_type           object\n",
       "fuel_type             object\n",
       "transmission_type     object\n",
       "mileage              float64\n",
       "engine                 int64\n",
       "max_power            float64\n",
       "seats                  int64\n",
       "selling_price          int64\n",
       "dtype: object"
      ]
     },
     "execution_count": 12,
     "metadata": {},
     "output_type": "execute_result"
    }
   ],
   "source": [
    "df.dtypes"
   ]
  },
  {
   "cell_type": "raw",
   "metadata": {},
   "source": [
    "All 'object' columns have to be converted to 'category'."
   ]
  },
  {
   "cell_type": "code",
   "execution_count": 13,
   "metadata": {
    "execution": {
     "iopub.execute_input": "2024-07-27T07:42:18.026341Z",
     "iopub.status.busy": "2024-07-27T07:42:18.025999Z",
     "iopub.status.idle": "2024-07-27T07:42:18.037524Z",
     "shell.execute_reply": "2024-07-27T07:42:18.036468Z",
     "shell.execute_reply.started": "2024-07-27T07:42:18.026313Z"
    }
   },
   "outputs": [
    {
     "data": {
      "text/plain": [
       "['car_name', 'brand', 'model', 'seller_type', 'fuel_type', 'transmission_type']"
      ]
     },
     "execution_count": 13,
     "metadata": {},
     "output_type": "execute_result"
    }
   ],
   "source": [
    "cat_cols"
   ]
  },
  {
   "cell_type": "code",
   "execution_count": 14,
   "metadata": {
    "execution": {
     "iopub.execute_input": "2024-07-27T07:42:18.039048Z",
     "iopub.status.busy": "2024-07-27T07:42:18.038737Z",
     "iopub.status.idle": "2024-07-27T07:42:18.069434Z",
     "shell.execute_reply": "2024-07-27T07:42:18.068357Z",
     "shell.execute_reply.started": "2024-07-27T07:42:18.039022Z"
    },
    "scrolled": true
   },
   "outputs": [
    {
     "data": {
      "text/plain": [
       "car_name             category\n",
       "brand                category\n",
       "model                category\n",
       "seller_type          category\n",
       "fuel_type            category\n",
       "transmission_type    category\n",
       "dtype: object"
      ]
     },
     "execution_count": 14,
     "metadata": {},
     "output_type": "execute_result"
    }
   ],
   "source": [
    "df[cat_cols] = df[cat_cols].astype('category')\n",
    "df[cat_cols].dtypes"
   ]
  },
  {
   "cell_type": "markdown",
   "metadata": {},
   "source": [
    "# Train Test Split"
   ]
  },
  {
   "cell_type": "code",
   "execution_count": 15,
   "metadata": {
    "execution": {
     "iopub.execute_input": "2024-07-27T07:42:18.070997Z",
     "iopub.status.busy": "2024-07-27T07:42:18.070672Z",
     "iopub.status.idle": "2024-07-27T07:42:18.077866Z",
     "shell.execute_reply": "2024-07-27T07:42:18.076627Z",
     "shell.execute_reply.started": "2024-07-27T07:42:18.070971Z"
    }
   },
   "outputs": [],
   "source": [
    "# Independent Features\n",
    "X = df.drop(columns='selling_price', axis=1)\n",
    "# Dependent Features\n",
    "y = df['selling_price']"
   ]
  },
  {
   "cell_type": "code",
   "execution_count": 16,
   "metadata": {
    "execution": {
     "iopub.execute_input": "2024-07-27T07:42:18.079909Z",
     "iopub.status.busy": "2024-07-27T07:42:18.079517Z",
     "iopub.status.idle": "2024-07-27T07:42:18.105376Z",
     "shell.execute_reply": "2024-07-27T07:42:18.103841Z",
     "shell.execute_reply.started": "2024-07-27T07:42:18.079878Z"
    }
   },
   "outputs": [
    {
     "data": {
      "text/html": [
       "<div>\n",
       "<style scoped>\n",
       "    .dataframe tbody tr th:only-of-type {\n",
       "        vertical-align: middle;\n",
       "    }\n",
       "\n",
       "    .dataframe tbody tr th {\n",
       "        vertical-align: top;\n",
       "    }\n",
       "\n",
       "    .dataframe thead th {\n",
       "        text-align: right;\n",
       "    }\n",
       "</style>\n",
       "<table border=\"1\" class=\"dataframe\">\n",
       "  <thead>\n",
       "    <tr style=\"text-align: right;\">\n",
       "      <th></th>\n",
       "      <th>car_name</th>\n",
       "      <th>brand</th>\n",
       "      <th>model</th>\n",
       "      <th>vehicle_age</th>\n",
       "      <th>km_driven</th>\n",
       "      <th>seller_type</th>\n",
       "      <th>fuel_type</th>\n",
       "      <th>transmission_type</th>\n",
       "      <th>mileage</th>\n",
       "      <th>engine</th>\n",
       "      <th>max_power</th>\n",
       "      <th>seats</th>\n",
       "    </tr>\n",
       "  </thead>\n",
       "  <tbody>\n",
       "    <tr>\n",
       "      <th>0</th>\n",
       "      <td>Maruti Alto</td>\n",
       "      <td>Maruti</td>\n",
       "      <td>Alto</td>\n",
       "      <td>9</td>\n",
       "      <td>120000</td>\n",
       "      <td>Individual</td>\n",
       "      <td>Petrol</td>\n",
       "      <td>Manual</td>\n",
       "      <td>19.70</td>\n",
       "      <td>796</td>\n",
       "      <td>46.30</td>\n",
       "      <td>5</td>\n",
       "    </tr>\n",
       "    <tr>\n",
       "      <th>1</th>\n",
       "      <td>Hyundai Grand</td>\n",
       "      <td>Hyundai</td>\n",
       "      <td>Grand</td>\n",
       "      <td>5</td>\n",
       "      <td>20000</td>\n",
       "      <td>Individual</td>\n",
       "      <td>Petrol</td>\n",
       "      <td>Manual</td>\n",
       "      <td>18.90</td>\n",
       "      <td>1197</td>\n",
       "      <td>82.00</td>\n",
       "      <td>5</td>\n",
       "    </tr>\n",
       "    <tr>\n",
       "      <th>2</th>\n",
       "      <td>Hyundai i20</td>\n",
       "      <td>Hyundai</td>\n",
       "      <td>i20</td>\n",
       "      <td>11</td>\n",
       "      <td>60000</td>\n",
       "      <td>Individual</td>\n",
       "      <td>Petrol</td>\n",
       "      <td>Manual</td>\n",
       "      <td>17.00</td>\n",
       "      <td>1197</td>\n",
       "      <td>80.00</td>\n",
       "      <td>5</td>\n",
       "    </tr>\n",
       "    <tr>\n",
       "      <th>3</th>\n",
       "      <td>Maruti Alto</td>\n",
       "      <td>Maruti</td>\n",
       "      <td>Alto</td>\n",
       "      <td>9</td>\n",
       "      <td>37000</td>\n",
       "      <td>Individual</td>\n",
       "      <td>Petrol</td>\n",
       "      <td>Manual</td>\n",
       "      <td>20.92</td>\n",
       "      <td>998</td>\n",
       "      <td>67.10</td>\n",
       "      <td>5</td>\n",
       "    </tr>\n",
       "    <tr>\n",
       "      <th>4</th>\n",
       "      <td>Ford Ecosport</td>\n",
       "      <td>Ford</td>\n",
       "      <td>Ecosport</td>\n",
       "      <td>6</td>\n",
       "      <td>30000</td>\n",
       "      <td>Dealer</td>\n",
       "      <td>Diesel</td>\n",
       "      <td>Manual</td>\n",
       "      <td>22.77</td>\n",
       "      <td>1498</td>\n",
       "      <td>98.59</td>\n",
       "      <td>5</td>\n",
       "    </tr>\n",
       "  </tbody>\n",
       "</table>\n",
       "</div>"
      ],
      "text/plain": [
       "        car_name    brand     model  vehicle_age  km_driven seller_type  \\\n",
       "0    Maruti Alto   Maruti      Alto            9     120000  Individual   \n",
       "1  Hyundai Grand  Hyundai     Grand            5      20000  Individual   \n",
       "2    Hyundai i20  Hyundai       i20           11      60000  Individual   \n",
       "3    Maruti Alto   Maruti      Alto            9      37000  Individual   \n",
       "4  Ford Ecosport     Ford  Ecosport            6      30000      Dealer   \n",
       "\n",
       "  fuel_type transmission_type  mileage  engine  max_power  seats  \n",
       "0    Petrol            Manual    19.70     796      46.30      5  \n",
       "1    Petrol            Manual    18.90    1197      82.00      5  \n",
       "2    Petrol            Manual    17.00    1197      80.00      5  \n",
       "3    Petrol            Manual    20.92     998      67.10      5  \n",
       "4    Diesel            Manual    22.77    1498      98.59      5  "
      ]
     },
     "execution_count": 16,
     "metadata": {},
     "output_type": "execute_result"
    }
   ],
   "source": [
    "X.head()"
   ]
  },
  {
   "cell_type": "code",
   "execution_count": 17,
   "metadata": {
    "execution": {
     "iopub.execute_input": "2024-07-27T07:42:18.107116Z",
     "iopub.status.busy": "2024-07-27T07:42:18.106787Z",
     "iopub.status.idle": "2024-07-27T07:42:18.119510Z",
     "shell.execute_reply": "2024-07-27T07:42:18.118346Z",
     "shell.execute_reply.started": "2024-07-27T07:42:18.107086Z"
    }
   },
   "outputs": [
    {
     "data": {
      "text/plain": [
       "0    120000\n",
       "1    550000\n",
       "2    215000\n",
       "3    226000\n",
       "4    570000\n",
       "Name: selling_price, dtype: int64"
      ]
     },
     "execution_count": 17,
     "metadata": {},
     "output_type": "execute_result"
    }
   ],
   "source": [
    "y.head()"
   ]
  },
  {
   "cell_type": "code",
   "execution_count": 18,
   "metadata": {
    "execution": {
     "iopub.execute_input": "2024-07-27T07:42:18.121257Z",
     "iopub.status.busy": "2024-07-27T07:42:18.120910Z",
     "iopub.status.idle": "2024-07-27T07:42:18.134594Z",
     "shell.execute_reply": "2024-07-27T07:42:18.133451Z",
     "shell.execute_reply.started": "2024-07-27T07:42:18.121229Z"
    }
   },
   "outputs": [
    {
     "data": {
      "text/plain": [
       "((12195, 12), (3049, 12))"
      ]
     },
     "execution_count": 18,
     "metadata": {},
     "output_type": "execute_result"
    }
   ],
   "source": [
    "X_train, X_test, y_train, y_test = train_test_split(X, y, test_size=0.2, random_state=42)\n",
    "X_train.shape, X_test.shape"
   ]
  },
  {
   "cell_type": "markdown",
   "metadata": {},
   "source": [
    "# Features Encoding"
   ]
  },
  {
   "cell_type": "raw",
   "metadata": {},
   "source": [
    "RandomForest Regressor does not need feature scaling; hence we are going ahead with encoding categorical features."
   ]
  },
  {
   "cell_type": "code",
   "execution_count": 19,
   "metadata": {
    "execution": {
     "iopub.execute_input": "2024-07-27T07:42:18.136625Z",
     "iopub.status.busy": "2024-07-27T07:42:18.136259Z",
     "iopub.status.idle": "2024-07-27T07:42:18.149697Z",
     "shell.execute_reply": "2024-07-27T07:42:18.148457Z",
     "shell.execute_reply.started": "2024-07-27T07:42:18.136598Z"
    }
   },
   "outputs": [
    {
     "data": {
      "text/plain": [
       "car_name             121\n",
       "brand                 32\n",
       "model                120\n",
       "seller_type            3\n",
       "fuel_type              5\n",
       "transmission_type      2\n",
       "dtype: int64"
      ]
     },
     "execution_count": 19,
     "metadata": {},
     "output_type": "execute_result"
    }
   ],
   "source": [
    "# Calculating number of unique classes in cateegorical features\n",
    "unique_values = df[cat_cols].nunique()\n",
    "unique_values# Train Test Split"
   ]
  },
  {
   "cell_type": "markdown",
   "metadata": {},
   "source": [
    "* OneHotEncoder : seller_type, fuel_type, transmission_type have low number of unique values. They can be OneHotEncoded\n",
    "* OrdinalEncoder: car_name, brand and model have higher number of unique features. They have to be encoded using OrdinalEncoder"
   ]
  },
  {
   "cell_type": "code",
   "execution_count": 20,
   "metadata": {
    "execution": {
     "iopub.execute_input": "2024-07-27T07:42:18.151565Z",
     "iopub.status.busy": "2024-07-27T07:42:18.151199Z",
     "iopub.status.idle": "2024-07-27T07:42:18.162411Z",
     "shell.execute_reply": "2024-07-27T07:42:18.161201Z",
     "shell.execute_reply.started": "2024-07-27T07:42:18.151536Z"
    }
   },
   "outputs": [
    {
     "data": {
      "text/plain": [
       "(['seller_type', 'fuel_type', 'transmission_type'],\n",
       " ['car_name', 'brand', 'model'])"
      ]
     },
     "execution_count": 20,
     "metadata": {},
     "output_type": "execute_result"
    }
   ],
   "source": [
    "# OneHotEncoder columns\n",
    "onehot_cols = unique_values[unique_values <= 5].index.to_list()\n",
    "# Ordinal Encoder Columns\n",
    "ordinal_cols = unique_values[unique_values > 5].index.to_list()\n",
    "\n",
    "onehot_cols, ordinal_cols"
   ]
  },
  {
   "cell_type": "code",
   "execution_count": 21,
   "metadata": {
    "execution": {
     "iopub.execute_input": "2024-07-27T07:42:18.164786Z",
     "iopub.status.busy": "2024-07-27T07:42:18.164260Z",
     "iopub.status.idle": "2024-07-27T07:42:18.176945Z",
     "shell.execute_reply": "2024-07-27T07:42:18.175608Z",
     "shell.execute_reply.started": "2024-07-27T07:42:18.164753Z"
    }
   },
   "outputs": [],
   "source": [
    "# Initializing Column Transformer\n",
    "pre_processor = ColumnTransformer(transformers=[('onehot', OneHotEncoder(drop='first', handle_unknown='ignore'), onehot_cols),\n",
    "                                               ('ordinal', OrdinalEncoder(handle_unknown='use_encoded_value', unknown_value=-1), ordinal_cols)], remainder='passthrough', n_jobs=-1)"
   ]
  },
  {
   "cell_type": "code",
   "execution_count": 22,
   "metadata": {
    "execution": {
     "iopub.execute_input": "2024-07-27T07:42:18.178598Z",
     "iopub.status.busy": "2024-07-27T07:42:18.178224Z",
     "iopub.status.idle": "2024-07-27T07:42:19.697925Z",
     "shell.execute_reply": "2024-07-27T07:42:19.696270Z",
     "shell.execute_reply.started": "2024-07-27T07:42:18.178570Z"
    }
   },
   "outputs": [],
   "source": [
    "# Pre-processing X_train\n",
    "X_train = pre_processor.fit_transform(X_train)"
   ]
  },
  {
   "cell_type": "code",
   "execution_count": 23,
   "metadata": {
    "execution": {
     "iopub.execute_input": "2024-07-27T07:42:19.701253Z",
     "iopub.status.busy": "2024-07-27T07:42:19.699894Z",
     "iopub.status.idle": "2024-07-27T07:42:20.507195Z",
     "shell.execute_reply": "2024-07-27T07:42:20.506021Z",
     "shell.execute_reply.started": "2024-07-27T07:42:19.701201Z"
    }
   },
   "outputs": [],
   "source": [
    "# Pre-processing X_test\n",
    "X_test = pre_processor.transform(X_test)"
   ]
  },
  {
   "cell_type": "code",
   "execution_count": 24,
   "metadata": {
    "execution": {
     "iopub.execute_input": "2024-07-27T07:42:20.512942Z",
     "iopub.status.busy": "2024-07-27T07:42:20.512546Z",
     "iopub.status.idle": "2024-07-27T07:42:20.522110Z",
     "shell.execute_reply": "2024-07-27T07:42:20.520596Z",
     "shell.execute_reply.started": "2024-07-27T07:42:20.512907Z"
    }
   },
   "outputs": [
    {
     "data": {
      "text/plain": [
       "array(['onehot__seller_type_Individual',\n",
       "       'onehot__seller_type_Trustmark Dealer', 'onehot__fuel_type_Diesel',\n",
       "       'onehot__fuel_type_Electric', 'onehot__fuel_type_LPG',\n",
       "       'onehot__fuel_type_Petrol', 'onehot__transmission_type_Manual',\n",
       "       'ordinal__car_name', 'ordinal__brand', 'ordinal__model',\n",
       "       'remainder__vehicle_age', 'remainder__km_driven',\n",
       "       'remainder__mileage', 'remainder__engine', 'remainder__max_power',\n",
       "       'remainder__seats'], dtype=object)"
      ]
     },
     "execution_count": 24,
     "metadata": {},
     "output_type": "execute_result"
    }
   ],
   "source": [
    "encoded_cols = pre_processor.get_feature_names_out()\n",
    "encoded_cols"
   ]
  },
  {
   "cell_type": "code",
   "execution_count": 25,
   "metadata": {
    "execution": {
     "iopub.execute_input": "2024-07-27T07:42:20.523920Z",
     "iopub.status.busy": "2024-07-27T07:42:20.523545Z",
     "iopub.status.idle": "2024-07-27T07:42:20.553461Z",
     "shell.execute_reply": "2024-07-27T07:42:20.552044Z",
     "shell.execute_reply.started": "2024-07-27T07:42:20.523884Z"
    }
   },
   "outputs": [
    {
     "data": {
      "text/html": [
       "<div>\n",
       "<style scoped>\n",
       "    .dataframe tbody tr th:only-of-type {\n",
       "        vertical-align: middle;\n",
       "    }\n",
       "\n",
       "    .dataframe tbody tr th {\n",
       "        vertical-align: top;\n",
       "    }\n",
       "\n",
       "    .dataframe thead th {\n",
       "        text-align: right;\n",
       "    }\n",
       "</style>\n",
       "<table border=\"1\" class=\"dataframe\">\n",
       "  <thead>\n",
       "    <tr style=\"text-align: right;\">\n",
       "      <th></th>\n",
       "      <th>onehot__seller_type_Individual</th>\n",
       "      <th>onehot__seller_type_Trustmark Dealer</th>\n",
       "      <th>onehot__fuel_type_Diesel</th>\n",
       "      <th>onehot__fuel_type_Electric</th>\n",
       "      <th>onehot__fuel_type_LPG</th>\n",
       "      <th>onehot__fuel_type_Petrol</th>\n",
       "      <th>onehot__transmission_type_Manual</th>\n",
       "      <th>ordinal__car_name</th>\n",
       "      <th>ordinal__brand</th>\n",
       "      <th>ordinal__model</th>\n",
       "      <th>remainder__vehicle_age</th>\n",
       "      <th>remainder__km_driven</th>\n",
       "      <th>remainder__mileage</th>\n",
       "      <th>remainder__engine</th>\n",
       "      <th>remainder__max_power</th>\n",
       "      <th>remainder__seats</th>\n",
       "    </tr>\n",
       "  </thead>\n",
       "  <tbody>\n",
       "    <tr>\n",
       "      <th>0</th>\n",
       "      <td>0.0</td>\n",
       "      <td>0.0</td>\n",
       "      <td>1.0</td>\n",
       "      <td>0.0</td>\n",
       "      <td>0.0</td>\n",
       "      <td>0.0</td>\n",
       "      <td>1.0</td>\n",
       "      <td>72.0</td>\n",
       "      <td>18.0</td>\n",
       "      <td>42.0</td>\n",
       "      <td>5.0</td>\n",
       "      <td>41974.0</td>\n",
       "      <td>24.52</td>\n",
       "      <td>1248.0</td>\n",
       "      <td>88.50</td>\n",
       "      <td>7.0</td>\n",
       "    </tr>\n",
       "    <tr>\n",
       "      <th>1</th>\n",
       "      <td>1.0</td>\n",
       "      <td>0.0</td>\n",
       "      <td>0.0</td>\n",
       "      <td>0.0</td>\n",
       "      <td>0.0</td>\n",
       "      <td>1.0</td>\n",
       "      <td>1.0</td>\n",
       "      <td>78.0</td>\n",
       "      <td>18.0</td>\n",
       "      <td>99.0</td>\n",
       "      <td>16.0</td>\n",
       "      <td>90000.0</td>\n",
       "      <td>14.00</td>\n",
       "      <td>1061.0</td>\n",
       "      <td>64.00</td>\n",
       "      <td>5.0</td>\n",
       "    </tr>\n",
       "    <tr>\n",
       "      <th>2</th>\n",
       "      <td>1.0</td>\n",
       "      <td>0.0</td>\n",
       "      <td>1.0</td>\n",
       "      <td>0.0</td>\n",
       "      <td>0.0</td>\n",
       "      <td>0.0</td>\n",
       "      <td>1.0</td>\n",
       "      <td>114.0</td>\n",
       "      <td>30.0</td>\n",
       "      <td>94.0</td>\n",
       "      <td>10.0</td>\n",
       "      <td>80000.0</td>\n",
       "      <td>20.54</td>\n",
       "      <td>1598.0</td>\n",
       "      <td>103.60</td>\n",
       "      <td>5.0</td>\n",
       "    </tr>\n",
       "    <tr>\n",
       "      <th>3</th>\n",
       "      <td>0.0</td>\n",
       "      <td>0.0</td>\n",
       "      <td>0.0</td>\n",
       "      <td>0.0</td>\n",
       "      <td>0.0</td>\n",
       "      <td>1.0</td>\n",
       "      <td>0.0</td>\n",
       "      <td>100.0</td>\n",
       "      <td>27.0</td>\n",
       "      <td>86.0</td>\n",
       "      <td>8.0</td>\n",
       "      <td>55572.0</td>\n",
       "      <td>13.70</td>\n",
       "      <td>1798.0</td>\n",
       "      <td>157.75</td>\n",
       "      <td>5.0</td>\n",
       "    </tr>\n",
       "    <tr>\n",
       "      <th>4</th>\n",
       "      <td>1.0</td>\n",
       "      <td>0.0</td>\n",
       "      <td>0.0</td>\n",
       "      <td>0.0</td>\n",
       "      <td>0.0</td>\n",
       "      <td>1.0</td>\n",
       "      <td>1.0</td>\n",
       "      <td>95.0</td>\n",
       "      <td>25.0</td>\n",
       "      <td>64.0</td>\n",
       "      <td>4.0</td>\n",
       "      <td>110000.0</td>\n",
       "      <td>23.01</td>\n",
       "      <td>999.0</td>\n",
       "      <td>67.00</td>\n",
       "      <td>5.0</td>\n",
       "    </tr>\n",
       "  </tbody>\n",
       "</table>\n",
       "</div>"
      ],
      "text/plain": [
       "   onehot__seller_type_Individual  onehot__seller_type_Trustmark Dealer  \\\n",
       "0                             0.0                                   0.0   \n",
       "1                             1.0                                   0.0   \n",
       "2                             1.0                                   0.0   \n",
       "3                             0.0                                   0.0   \n",
       "4                             1.0                                   0.0   \n",
       "\n",
       "   onehot__fuel_type_Diesel  onehot__fuel_type_Electric  \\\n",
       "0                       1.0                         0.0   \n",
       "1                       0.0                         0.0   \n",
       "2                       1.0                         0.0   \n",
       "3                       0.0                         0.0   \n",
       "4                       0.0                         0.0   \n",
       "\n",
       "   onehot__fuel_type_LPG  onehot__fuel_type_Petrol  \\\n",
       "0                    0.0                       0.0   \n",
       "1                    0.0                       1.0   \n",
       "2                    0.0                       0.0   \n",
       "3                    0.0                       1.0   \n",
       "4                    0.0                       1.0   \n",
       "\n",
       "   onehot__transmission_type_Manual  ordinal__car_name  ordinal__brand  \\\n",
       "0                               1.0               72.0            18.0   \n",
       "1                               1.0               78.0            18.0   \n",
       "2                               1.0              114.0            30.0   \n",
       "3                               0.0              100.0            27.0   \n",
       "4                               1.0               95.0            25.0   \n",
       "\n",
       "   ordinal__model  remainder__vehicle_age  remainder__km_driven  \\\n",
       "0            42.0                     5.0               41974.0   \n",
       "1            99.0                    16.0               90000.0   \n",
       "2            94.0                    10.0               80000.0   \n",
       "3            86.0                     8.0               55572.0   \n",
       "4            64.0                     4.0              110000.0   \n",
       "\n",
       "   remainder__mileage  remainder__engine  remainder__max_power  \\\n",
       "0               24.52             1248.0                 88.50   \n",
       "1               14.00             1061.0                 64.00   \n",
       "2               20.54             1598.0                103.60   \n",
       "3               13.70             1798.0                157.75   \n",
       "4               23.01              999.0                 67.00   \n",
       "\n",
       "   remainder__seats  \n",
       "0               7.0  \n",
       "1               5.0  \n",
       "2               5.0  \n",
       "3               5.0  \n",
       "4               5.0  "
      ]
     },
     "execution_count": 25,
     "metadata": {},
     "output_type": "execute_result"
    }
   ],
   "source": [
    "# Making X_train and X_test pandas dataframes\n",
    "X_train = pd.DataFrame(X_train, columns = encoded_cols)\n",
    "X_test = pd.DataFrame(X_test, columns = encoded_cols)\n",
    "X_train.head()"
   ]
  },
  {
   "cell_type": "code",
   "execution_count": 26,
   "metadata": {
    "execution": {
     "iopub.execute_input": "2024-07-27T07:42:20.555425Z",
     "iopub.status.busy": "2024-07-27T07:42:20.555006Z",
     "iopub.status.idle": "2024-07-27T07:42:20.572261Z",
     "shell.execute_reply": "2024-07-27T07:42:20.571160Z",
     "shell.execute_reply.started": "2024-07-27T07:42:20.555370Z"
    }
   },
   "outputs": [
    {
     "data": {
      "text/plain": [
       "onehot__seller_type_Individual          float64\n",
       "onehot__seller_type_Trustmark Dealer    float64\n",
       "onehot__fuel_type_Diesel                float64\n",
       "onehot__fuel_type_Electric              float64\n",
       "onehot__fuel_type_LPG                   float64\n",
       "onehot__fuel_type_Petrol                float64\n",
       "onehot__transmission_type_Manual        float64\n",
       "ordinal__car_name                       float64\n",
       "ordinal__brand                          float64\n",
       "ordinal__model                          float64\n",
       "remainder__vehicle_age                  float64\n",
       "remainder__km_driven                    float64\n",
       "remainder__mileage                      float64\n",
       "remainder__engine                       float64\n",
       "remainder__max_power                    float64\n",
       "remainder__seats                        float64\n",
       "dtype: object"
      ]
     },
     "execution_count": 26,
     "metadata": {},
     "output_type": "execute_result"
    }
   ],
   "source": [
    "X_train.dtypes"
   ]
  },
  {
   "cell_type": "code",
   "execution_count": 27,
   "metadata": {
    "execution": {
     "iopub.execute_input": "2024-07-27T07:42:20.574015Z",
     "iopub.status.busy": "2024-07-27T07:42:20.573682Z",
     "iopub.status.idle": "2024-07-27T07:42:20.600178Z",
     "shell.execute_reply": "2024-07-27T07:42:20.598665Z",
     "shell.execute_reply.started": "2024-07-27T07:42:20.573988Z"
    }
   },
   "outputs": [
    {
     "data": {
      "text/plain": [
       "onehot__seller_type_Individual           float64\n",
       "onehot__seller_type_Trustmark Dealer     float64\n",
       "onehot__fuel_type_Diesel                 float64\n",
       "onehot__fuel_type_Electric               float64\n",
       "onehot__fuel_type_LPG                    float64\n",
       "onehot__fuel_type_Petrol                 float64\n",
       "onehot__transmission_type_Manual         float64\n",
       "ordinal__car_name                       category\n",
       "ordinal__brand                          category\n",
       "ordinal__model                          category\n",
       "remainder__vehicle_age                   float64\n",
       "remainder__km_driven                     float64\n",
       "remainder__mileage                       float64\n",
       "remainder__engine                        float64\n",
       "remainder__max_power                     float64\n",
       "remainder__seats                         float64\n",
       "dtype: object"
      ]
     },
     "execution_count": 27,
     "metadata": {},
     "output_type": "execute_result"
    }
   ],
   "source": [
    "# Changing data types of ordinal columns to category\n",
    "ordinal_columns = X_train.filter(like='ordinal').columns.tolist()\n",
    "X_train[ordinal_columns] = X_train[ordinal_columns].astype('category')\n",
    "X_test[ordinal_columns] = X_test[ordinal_columns].astype('category')\n",
    "X_train.dtypes"
   ]
  },
  {
   "cell_type": "markdown",
   "metadata": {},
   "source": [
    "# Sample RandomForest Model"
   ]
  },
  {
   "cell_type": "raw",
   "metadata": {},
   "source": [
    "Default Parameters:\n",
    "\n",
    "RandomForestRegressor(\n",
    "    n_estimators=100,\n",
    "    *,\n",
    "    criterion='squared_error',\n",
    "    max_depth=None,\n",
    "    min_samples_split=2,\n",
    "    min_samples_leaf=1,\n",
    "    min_weight_fraction_leaf=0.0,\n",
    "    max_features=1.0,\n",
    "    max_leaf_nodes=None,\n",
    "    min_impurity_decrease=0.0,\n",
    "    bootstrap=True,\n",
    "    oob_score=False,\n",
    "    n_jobs=None,\n",
    "    random_state=None,\n",
    "    verbose=0,\n",
    "    warm_start=False,\n",
    "    ccp_alpha=0.0,\n",
    "    max_samples=None,\n",
    ")"
   ]
  },
  {
   "cell_type": "code",
   "execution_count": 28,
   "metadata": {
    "execution": {
     "iopub.execute_input": "2024-07-27T07:42:20.602021Z",
     "iopub.status.busy": "2024-07-27T07:42:20.601674Z",
     "iopub.status.idle": "2024-07-27T07:42:20.607027Z",
     "shell.execute_reply": "2024-07-27T07:42:20.605928Z",
     "shell.execute_reply.started": "2024-07-27T07:42:20.601991Z"
    }
   },
   "outputs": [],
   "source": [
    "# Initializing\n",
    "sample_model = RandomForestRegressor(random_state=42, n_jobs=-1)"
   ]
  },
  {
   "cell_type": "code",
   "execution_count": 29,
   "metadata": {
    "execution": {
     "iopub.execute_input": "2024-07-27T07:42:20.608920Z",
     "iopub.status.busy": "2024-07-27T07:42:20.608589Z",
     "iopub.status.idle": "2024-07-27T07:42:22.590052Z",
     "shell.execute_reply": "2024-07-27T07:42:22.588781Z",
     "shell.execute_reply.started": "2024-07-27T07:42:20.608887Z"
    }
   },
   "outputs": [
    {
     "data": {
      "text/html": [
       "<style>#sk-container-id-1 {color: black;}#sk-container-id-1 pre{padding: 0;}#sk-container-id-1 div.sk-toggleable {background-color: white;}#sk-container-id-1 label.sk-toggleable__label {cursor: pointer;display: block;width: 100%;margin-bottom: 0;padding: 0.3em;box-sizing: border-box;text-align: center;}#sk-container-id-1 label.sk-toggleable__label-arrow:before {content: \"▸\";float: left;margin-right: 0.25em;color: #696969;}#sk-container-id-1 label.sk-toggleable__label-arrow:hover:before {color: black;}#sk-container-id-1 div.sk-estimator:hover label.sk-toggleable__label-arrow:before {color: black;}#sk-container-id-1 div.sk-toggleable__content {max-height: 0;max-width: 0;overflow: hidden;text-align: left;background-color: #f0f8ff;}#sk-container-id-1 div.sk-toggleable__content pre {margin: 0.2em;color: black;border-radius: 0.25em;background-color: #f0f8ff;}#sk-container-id-1 input.sk-toggleable__control:checked~div.sk-toggleable__content {max-height: 200px;max-width: 100%;overflow: auto;}#sk-container-id-1 input.sk-toggleable__control:checked~label.sk-toggleable__label-arrow:before {content: \"▾\";}#sk-container-id-1 div.sk-estimator input.sk-toggleable__control:checked~label.sk-toggleable__label {background-color: #d4ebff;}#sk-container-id-1 div.sk-label input.sk-toggleable__control:checked~label.sk-toggleable__label {background-color: #d4ebff;}#sk-container-id-1 input.sk-hidden--visually {border: 0;clip: rect(1px 1px 1px 1px);clip: rect(1px, 1px, 1px, 1px);height: 1px;margin: -1px;overflow: hidden;padding: 0;position: absolute;width: 1px;}#sk-container-id-1 div.sk-estimator {font-family: monospace;background-color: #f0f8ff;border: 1px dotted black;border-radius: 0.25em;box-sizing: border-box;margin-bottom: 0.5em;}#sk-container-id-1 div.sk-estimator:hover {background-color: #d4ebff;}#sk-container-id-1 div.sk-parallel-item::after {content: \"\";width: 100%;border-bottom: 1px solid gray;flex-grow: 1;}#sk-container-id-1 div.sk-label:hover label.sk-toggleable__label {background-color: #d4ebff;}#sk-container-id-1 div.sk-serial::before {content: \"\";position: absolute;border-left: 1px solid gray;box-sizing: border-box;top: 0;bottom: 0;left: 50%;z-index: 0;}#sk-container-id-1 div.sk-serial {display: flex;flex-direction: column;align-items: center;background-color: white;padding-right: 0.2em;padding-left: 0.2em;position: relative;}#sk-container-id-1 div.sk-item {position: relative;z-index: 1;}#sk-container-id-1 div.sk-parallel {display: flex;align-items: stretch;justify-content: center;background-color: white;position: relative;}#sk-container-id-1 div.sk-item::before, #sk-container-id-1 div.sk-parallel-item::before {content: \"\";position: absolute;border-left: 1px solid gray;box-sizing: border-box;top: 0;bottom: 0;left: 50%;z-index: -1;}#sk-container-id-1 div.sk-parallel-item {display: flex;flex-direction: column;z-index: 1;position: relative;background-color: white;}#sk-container-id-1 div.sk-parallel-item:first-child::after {align-self: flex-end;width: 50%;}#sk-container-id-1 div.sk-parallel-item:last-child::after {align-self: flex-start;width: 50%;}#sk-container-id-1 div.sk-parallel-item:only-child::after {width: 0;}#sk-container-id-1 div.sk-dashed-wrapped {border: 1px dashed gray;margin: 0 0.4em 0.5em 0.4em;box-sizing: border-box;padding-bottom: 0.4em;background-color: white;}#sk-container-id-1 div.sk-label label {font-family: monospace;font-weight: bold;display: inline-block;line-height: 1.2em;}#sk-container-id-1 div.sk-label-container {text-align: center;}#sk-container-id-1 div.sk-container {/* jupyter's `normalize.less` sets `[hidden] { display: none; }` but bootstrap.min.css set `[hidden] { display: none !important; }` so we also need the `!important` here to be able to override the default hidden behavior on the sphinx rendered scikit-learn.org. See: https://github.com/scikit-learn/scikit-learn/issues/21755 */display: inline-block !important;position: relative;}#sk-container-id-1 div.sk-text-repr-fallback {display: none;}</style><div id=\"sk-container-id-1\" class=\"sk-top-container\"><div class=\"sk-text-repr-fallback\"><pre>RandomForestRegressor(n_jobs=-1, random_state=42)</pre><b>In a Jupyter environment, please rerun this cell to show the HTML representation or trust the notebook. <br />On GitHub, the HTML representation is unable to render, please try loading this page with nbviewer.org.</b></div><div class=\"sk-container\" hidden><div class=\"sk-item\"><div class=\"sk-estimator sk-toggleable\"><input class=\"sk-toggleable__control sk-hidden--visually\" id=\"sk-estimator-id-1\" type=\"checkbox\" checked><label for=\"sk-estimator-id-1\" class=\"sk-toggleable__label sk-toggleable__label-arrow\">RandomForestRegressor</label><div class=\"sk-toggleable__content\"><pre>RandomForestRegressor(n_jobs=-1, random_state=42)</pre></div></div></div></div></div>"
      ],
      "text/plain": [
       "RandomForestRegressor(n_jobs=-1, random_state=42)"
      ]
     },
     "execution_count": 29,
     "metadata": {},
     "output_type": "execute_result"
    }
   ],
   "source": [
    "# Fitting to X_train, y_train\n",
    "sample_model.fit(X_train, y_train)"
   ]
  },
  {
   "cell_type": "code",
   "execution_count": 30,
   "metadata": {
    "execution": {
     "iopub.execute_input": "2024-07-27T07:42:22.591807Z",
     "iopub.status.busy": "2024-07-27T07:42:22.591456Z",
     "iopub.status.idle": "2024-07-27T07:42:22.655546Z",
     "shell.execute_reply": "2024-07-27T07:42:22.654238Z",
     "shell.execute_reply.started": "2024-07-27T07:42:22.591779Z"
    }
   },
   "outputs": [],
   "source": [
    "# Sample Prediction\n",
    "sample_y_pred = sample_model.predict(X_test)"
   ]
  },
  {
   "cell_type": "markdown",
   "metadata": {},
   "source": [
    "## Sample Model Scores"
   ]
  },
  {
   "cell_type": "code",
   "execution_count": 31,
   "metadata": {
    "execution": {
     "iopub.execute_input": "2024-07-27T07:42:22.657719Z",
     "iopub.status.busy": "2024-07-27T07:42:22.657236Z",
     "iopub.status.idle": "2024-07-27T07:42:22.667372Z",
     "shell.execute_reply": "2024-07-27T07:42:22.666090Z",
     "shell.execute_reply.started": "2024-07-27T07:42:22.657678Z"
    }
   },
   "outputs": [],
   "source": [
    "sample_r2 = r2_score(y_test, sample_y_pred)\n",
    "sample_rmse = np.sqrt(mean_squared_error(y_test, sample_y_pred))\n",
    "sample_mae = mean_absolute_error(y_test, sample_y_pred)"
   ]
  },
  {
   "cell_type": "code",
   "execution_count": 32,
   "metadata": {
    "execution": {
     "iopub.execute_input": "2024-07-27T07:42:22.669507Z",
     "iopub.status.busy": "2024-07-27T07:42:22.669022Z",
     "iopub.status.idle": "2024-07-27T07:42:22.677871Z",
     "shell.execute_reply": "2024-07-27T07:42:22.676865Z",
     "shell.execute_reply.started": "2024-07-27T07:42:22.669464Z"
    }
   },
   "outputs": [
    {
     "name": "stdout",
     "output_type": "stream",
     "text": [
      "R2 score of sample model: 0.8731537046469302\n",
      "RMSE of sample model: 277714.2217221382\n",
      "MAE score of sample model: 101450.74663624883\n"
     ]
    }
   ],
   "source": [
    "print(\"R2 score of sample model:\", sample_r2)\n",
    "print(\"RMSE of sample model:\", sample_rmse)\n",
    "print(\"MAE score of sample model:\", sample_mae)"
   ]
  },
  {
   "cell_type": "markdown",
   "metadata": {},
   "source": [
    "MAE of over 1 lakh seems to be very bad."
   ]
  },
  {
   "cell_type": "markdown",
   "metadata": {},
   "source": [
    "# Hyperparameter Tuning"
   ]
  },
  {
   "cell_type": "raw",
   "metadata": {},
   "source": [
    "Default Parameters:\n",
    "\n",
    "RandomForestRegressor(\n",
    "    n_estimators=100,\n",
    "    *,\n",
    "    criterion='squared_error',\n",
    "    max_depth=None,\n",
    "    min_samples_split=2,\n",
    "    min_samples_leaf=1,\n",
    "    min_weight_fraction_leaf=0.0,\n",
    "    max_features=1.0,\n",
    "    max_leaf_nodes=None,\n",
    "    min_impurity_decrease=0.0,\n",
    "    bootstrap=True,\n",
    "    oob_score=False,\n",
    "    n_jobs=None,\n",
    "    random_state=None,\n",
    "    verbose=0,\n",
    "    warm_start=False,\n",
    "    ccp_alpha=0.0,\n",
    "    max_samples=None,\n",
    ")"
   ]
  },
  {
   "cell_type": "code",
   "execution_count": 33,
   "metadata": {
    "execution": {
     "iopub.execute_input": "2024-07-27T08:26:13.759070Z",
     "iopub.status.busy": "2024-07-27T08:26:13.758669Z",
     "iopub.status.idle": "2024-07-27T08:26:13.764978Z",
     "shell.execute_reply": "2024-07-27T08:26:13.763709Z",
     "shell.execute_reply.started": "2024-07-27T08:26:13.759040Z"
    }
   },
   "outputs": [],
   "source": [
    "# Large number of parameter combinations were taking too much time to fit; hence use a simplified version\n",
    "# of the parameters\n",
    "# Actual solution is to use GPU supported models\n",
    "\n",
    "# Initializing Hyperparameters\n",
    "param_distributions = {'n_estimators': [10, 100],\n",
    "              'criterion': [\"squared_error\", \"absolute_error\", \"friedman_mse\", \"poisson\"],\n",
    "              'n_jobs': [-1],\n",
    "              'random_state': [42] # For reproducability\n",
    "             }"
   ]
  },
  {
   "cell_type": "code",
   "execution_count": 34,
   "metadata": {
    "execution": {
     "iopub.execute_input": "2024-07-27T08:26:14.634065Z",
     "iopub.status.busy": "2024-07-27T08:26:14.633661Z",
     "iopub.status.idle": "2024-07-27T08:26:14.639934Z",
     "shell.execute_reply": "2024-07-27T08:26:14.638682Z",
     "shell.execute_reply.started": "2024-07-27T08:26:14.634030Z"
    }
   },
   "outputs": [],
   "source": [
    "# Initializing Tuner\n",
    "rcv = RandomizedSearchCV(estimator=RandomForestRegressor(), param_distributions=param_distributions, \n",
    "                         scoring='neg_mean_squared_error',\n",
    "                         n_jobs=-1, n_iter=50, cv=2)"
   ]
  },
  {
   "cell_type": "code",
   "execution_count": 35,
   "metadata": {
    "execution": {
     "iopub.execute_input": "2024-07-27T08:26:15.359570Z",
     "iopub.status.busy": "2024-07-27T08:26:15.359146Z",
     "iopub.status.idle": "2024-07-27T08:27:22.550197Z",
     "shell.execute_reply": "2024-07-27T08:27:22.548706Z",
     "shell.execute_reply.started": "2024-07-27T08:26:15.359537Z"
    }
   },
   "outputs": [
    {
     "data": {
      "text/html": [
       "<style>#sk-container-id-2 {color: black;}#sk-container-id-2 pre{padding: 0;}#sk-container-id-2 div.sk-toggleable {background-color: white;}#sk-container-id-2 label.sk-toggleable__label {cursor: pointer;display: block;width: 100%;margin-bottom: 0;padding: 0.3em;box-sizing: border-box;text-align: center;}#sk-container-id-2 label.sk-toggleable__label-arrow:before {content: \"▸\";float: left;margin-right: 0.25em;color: #696969;}#sk-container-id-2 label.sk-toggleable__label-arrow:hover:before {color: black;}#sk-container-id-2 div.sk-estimator:hover label.sk-toggleable__label-arrow:before {color: black;}#sk-container-id-2 div.sk-toggleable__content {max-height: 0;max-width: 0;overflow: hidden;text-align: left;background-color: #f0f8ff;}#sk-container-id-2 div.sk-toggleable__content pre {margin: 0.2em;color: black;border-radius: 0.25em;background-color: #f0f8ff;}#sk-container-id-2 input.sk-toggleable__control:checked~div.sk-toggleable__content {max-height: 200px;max-width: 100%;overflow: auto;}#sk-container-id-2 input.sk-toggleable__control:checked~label.sk-toggleable__label-arrow:before {content: \"▾\";}#sk-container-id-2 div.sk-estimator input.sk-toggleable__control:checked~label.sk-toggleable__label {background-color: #d4ebff;}#sk-container-id-2 div.sk-label input.sk-toggleable__control:checked~label.sk-toggleable__label {background-color: #d4ebff;}#sk-container-id-2 input.sk-hidden--visually {border: 0;clip: rect(1px 1px 1px 1px);clip: rect(1px, 1px, 1px, 1px);height: 1px;margin: -1px;overflow: hidden;padding: 0;position: absolute;width: 1px;}#sk-container-id-2 div.sk-estimator {font-family: monospace;background-color: #f0f8ff;border: 1px dotted black;border-radius: 0.25em;box-sizing: border-box;margin-bottom: 0.5em;}#sk-container-id-2 div.sk-estimator:hover {background-color: #d4ebff;}#sk-container-id-2 div.sk-parallel-item::after {content: \"\";width: 100%;border-bottom: 1px solid gray;flex-grow: 1;}#sk-container-id-2 div.sk-label:hover label.sk-toggleable__label {background-color: #d4ebff;}#sk-container-id-2 div.sk-serial::before {content: \"\";position: absolute;border-left: 1px solid gray;box-sizing: border-box;top: 0;bottom: 0;left: 50%;z-index: 0;}#sk-container-id-2 div.sk-serial {display: flex;flex-direction: column;align-items: center;background-color: white;padding-right: 0.2em;padding-left: 0.2em;position: relative;}#sk-container-id-2 div.sk-item {position: relative;z-index: 1;}#sk-container-id-2 div.sk-parallel {display: flex;align-items: stretch;justify-content: center;background-color: white;position: relative;}#sk-container-id-2 div.sk-item::before, #sk-container-id-2 div.sk-parallel-item::before {content: \"\";position: absolute;border-left: 1px solid gray;box-sizing: border-box;top: 0;bottom: 0;left: 50%;z-index: -1;}#sk-container-id-2 div.sk-parallel-item {display: flex;flex-direction: column;z-index: 1;position: relative;background-color: white;}#sk-container-id-2 div.sk-parallel-item:first-child::after {align-self: flex-end;width: 50%;}#sk-container-id-2 div.sk-parallel-item:last-child::after {align-self: flex-start;width: 50%;}#sk-container-id-2 div.sk-parallel-item:only-child::after {width: 0;}#sk-container-id-2 div.sk-dashed-wrapped {border: 1px dashed gray;margin: 0 0.4em 0.5em 0.4em;box-sizing: border-box;padding-bottom: 0.4em;background-color: white;}#sk-container-id-2 div.sk-label label {font-family: monospace;font-weight: bold;display: inline-block;line-height: 1.2em;}#sk-container-id-2 div.sk-label-container {text-align: center;}#sk-container-id-2 div.sk-container {/* jupyter's `normalize.less` sets `[hidden] { display: none; }` but bootstrap.min.css set `[hidden] { display: none !important; }` so we also need the `!important` here to be able to override the default hidden behavior on the sphinx rendered scikit-learn.org. See: https://github.com/scikit-learn/scikit-learn/issues/21755 */display: inline-block !important;position: relative;}#sk-container-id-2 div.sk-text-repr-fallback {display: none;}</style><div id=\"sk-container-id-2\" class=\"sk-top-container\"><div class=\"sk-text-repr-fallback\"><pre>RandomizedSearchCV(cv=2, estimator=RandomForestRegressor(), n_iter=50,\n",
       "                   n_jobs=-1,\n",
       "                   param_distributions={&#x27;criterion&#x27;: [&#x27;squared_error&#x27;,\n",
       "                                                      &#x27;absolute_error&#x27;,\n",
       "                                                      &#x27;friedman_mse&#x27;,\n",
       "                                                      &#x27;poisson&#x27;],\n",
       "                                        &#x27;n_estimators&#x27;: [10, 100],\n",
       "                                        &#x27;n_jobs&#x27;: [-1], &#x27;random_state&#x27;: [42]},\n",
       "                   scoring=&#x27;neg_mean_squared_error&#x27;)</pre><b>In a Jupyter environment, please rerun this cell to show the HTML representation or trust the notebook. <br />On GitHub, the HTML representation is unable to render, please try loading this page with nbviewer.org.</b></div><div class=\"sk-container\" hidden><div class=\"sk-item sk-dashed-wrapped\"><div class=\"sk-label-container\"><div class=\"sk-label sk-toggleable\"><input class=\"sk-toggleable__control sk-hidden--visually\" id=\"sk-estimator-id-2\" type=\"checkbox\" ><label for=\"sk-estimator-id-2\" class=\"sk-toggleable__label sk-toggleable__label-arrow\">RandomizedSearchCV</label><div class=\"sk-toggleable__content\"><pre>RandomizedSearchCV(cv=2, estimator=RandomForestRegressor(), n_iter=50,\n",
       "                   n_jobs=-1,\n",
       "                   param_distributions={&#x27;criterion&#x27;: [&#x27;squared_error&#x27;,\n",
       "                                                      &#x27;absolute_error&#x27;,\n",
       "                                                      &#x27;friedman_mse&#x27;,\n",
       "                                                      &#x27;poisson&#x27;],\n",
       "                                        &#x27;n_estimators&#x27;: [10, 100],\n",
       "                                        &#x27;n_jobs&#x27;: [-1], &#x27;random_state&#x27;: [42]},\n",
       "                   scoring=&#x27;neg_mean_squared_error&#x27;)</pre></div></div></div><div class=\"sk-parallel\"><div class=\"sk-parallel-item\"><div class=\"sk-item\"><div class=\"sk-label-container\"><div class=\"sk-label sk-toggleable\"><input class=\"sk-toggleable__control sk-hidden--visually\" id=\"sk-estimator-id-3\" type=\"checkbox\" ><label for=\"sk-estimator-id-3\" class=\"sk-toggleable__label sk-toggleable__label-arrow\">estimator: RandomForestRegressor</label><div class=\"sk-toggleable__content\"><pre>RandomForestRegressor()</pre></div></div></div><div class=\"sk-serial\"><div class=\"sk-item\"><div class=\"sk-estimator sk-toggleable\"><input class=\"sk-toggleable__control sk-hidden--visually\" id=\"sk-estimator-id-4\" type=\"checkbox\" ><label for=\"sk-estimator-id-4\" class=\"sk-toggleable__label sk-toggleable__label-arrow\">RandomForestRegressor</label><div class=\"sk-toggleable__content\"><pre>RandomForestRegressor()</pre></div></div></div></div></div></div></div></div></div></div>"
      ],
      "text/plain": [
       "RandomizedSearchCV(cv=2, estimator=RandomForestRegressor(), n_iter=50,\n",
       "                   n_jobs=-1,\n",
       "                   param_distributions={'criterion': ['squared_error',\n",
       "                                                      'absolute_error',\n",
       "                                                      'friedman_mse',\n",
       "                                                      'poisson'],\n",
       "                                        'n_estimators': [10, 100],\n",
       "                                        'n_jobs': [-1], 'random_state': [42]},\n",
       "                   scoring='neg_mean_squared_error')"
      ]
     },
     "execution_count": 35,
     "metadata": {},
     "output_type": "execute_result"
    }
   ],
   "source": [
    "# Finding best model\n",
    "rcv.fit(X_train, y_train)"
   ]
  },
  {
   "cell_type": "code",
   "execution_count": 36,
   "metadata": {
    "execution": {
     "iopub.execute_input": "2024-07-27T08:27:40.829954Z",
     "iopub.status.busy": "2024-07-27T08:27:40.829558Z",
     "iopub.status.idle": "2024-07-27T08:27:40.840958Z",
     "shell.execute_reply": "2024-07-27T08:27:40.839645Z",
     "shell.execute_reply.started": "2024-07-27T08:27:40.829922Z"
    }
   },
   "outputs": [
    {
     "data": {
      "text/plain": [
       "{'random_state': 42, 'n_jobs': -1, 'n_estimators': 10, 'criterion': 'poisson'}"
      ]
     },
     "execution_count": 36,
     "metadata": {},
     "output_type": "execute_result"
    }
   ],
   "source": [
    "model = rcv.best_estimator_\n",
    "params = rcv.best_params_\n",
    "params # Best Parameters"
   ]
  },
  {
   "cell_type": "markdown",
   "metadata": {},
   "source": [
    "## Model Scores"
   ]
  },
  {
   "cell_type": "code",
   "execution_count": 37,
   "metadata": {
    "execution": {
     "iopub.execute_input": "2024-07-27T08:27:43.722285Z",
     "iopub.status.busy": "2024-07-27T08:27:43.721914Z",
     "iopub.status.idle": "2024-07-27T08:27:43.744665Z",
     "shell.execute_reply": "2024-07-27T08:27:43.743527Z",
     "shell.execute_reply.started": "2024-07-27T08:27:43.722259Z"
    }
   },
   "outputs": [],
   "source": [
    "y_pred = model.predict(X_test)"
   ]
  },
  {
   "cell_type": "code",
   "execution_count": 38,
   "metadata": {
    "execution": {
     "iopub.execute_input": "2024-07-27T08:27:44.937303Z",
     "iopub.status.busy": "2024-07-27T08:27:44.936891Z",
     "iopub.status.idle": "2024-07-27T08:27:44.945940Z",
     "shell.execute_reply": "2024-07-27T08:27:44.944688Z",
     "shell.execute_reply.started": "2024-07-27T08:27:44.937268Z"
    }
   },
   "outputs": [],
   "source": [
    "r2 = r2_score(y_test, y_pred)\n",
    "rmse = np.sqrt(mean_squared_error(y_test, y_pred))\n",
    "mae = mean_absolute_error(y_test, y_pred)"
   ]
  },
  {
   "cell_type": "code",
   "execution_count": 39,
   "metadata": {
    "execution": {
     "iopub.execute_input": "2024-07-27T08:27:50.208865Z",
     "iopub.status.busy": "2024-07-27T08:27:50.208492Z",
     "iopub.status.idle": "2024-07-27T08:27:50.214716Z",
     "shell.execute_reply": "2024-07-27T08:27:50.213531Z",
     "shell.execute_reply.started": "2024-07-27T08:27:50.208839Z"
    }
   },
   "outputs": [
    {
     "name": "stdout",
     "output_type": "stream",
     "text": [
      "R2 score of model: 0.914522307389559\n",
      "RMSE of model: 227974.15871969427\n",
      "MAE score of model: 101392.49908895449\n"
     ]
    }
   ],
   "source": [
    "print(\"R2 score of model:\", r2)\n",
    "print(\"RMSE of model:\", rmse)\n",
    "print(\"MAE score of model:\", mae)"
   ]
  },
  {
   "cell_type": "code",
   "execution_count": 40,
   "metadata": {
    "execution": {
     "iopub.execute_input": "2024-07-27T08:27:58.497623Z",
     "iopub.status.busy": "2024-07-27T08:27:58.497190Z",
     "iopub.status.idle": "2024-07-27T08:27:58.504545Z",
     "shell.execute_reply": "2024-07-27T08:27:58.502945Z",
     "shell.execute_reply.started": "2024-07-27T08:27:58.497588Z"
    }
   },
   "outputs": [
    {
     "name": "stdout",
     "output_type": "stream",
     "text": [
      "Sample Model R2 Score: 0.8731537046469302\n",
      "\n",
      "Model R2 Score after hyperparameter tuning: 0.914522307389559\n"
     ]
    }
   ],
   "source": [
    "print(\"Sample Model R2 Score:\", sample_r2, end=\"\\n\\n\")\n",
    "print(\"Model R2 Score after hyperparameter tuning:\", r2)"
   ]
  },
  {
   "cell_type": "code",
   "execution_count": 41,
   "metadata": {
    "execution": {
     "iopub.execute_input": "2024-07-27T08:35:46.134583Z",
     "iopub.status.busy": "2024-07-27T08:35:46.134127Z",
     "iopub.status.idle": "2024-07-27T08:35:46.141558Z",
     "shell.execute_reply": "2024-07-27T08:35:46.139962Z",
     "shell.execute_reply.started": "2024-07-27T08:35:46.134548Z"
    }
   },
   "outputs": [
    {
     "name": "stdout",
     "output_type": "stream",
     "text": [
      "There is a change in the R2 score from 0.87 to 0.91\n"
     ]
    }
   ],
   "source": [
    "print(f\"There is a change in the R2 score from {sample_r2:.2f} to {r2:.2f}\")"
   ]
  },
  {
   "cell_type": "markdown",
   "metadata": {},
   "source": [
    "# Model Pickling"
   ]
  },
  {
   "cell_type": "code",
   "execution_count": 42,
   "metadata": {
    "execution": {
     "iopub.execute_input": "2024-07-27T08:29:43.918759Z",
     "iopub.status.busy": "2024-07-27T08:29:43.918329Z",
     "iopub.status.idle": "2024-07-27T08:29:43.940926Z",
     "shell.execute_reply": "2024-07-27T08:29:43.939633Z",
     "shell.execute_reply.started": "2024-07-27T08:29:43.918726Z"
    }
   },
   "outputs": [],
   "source": [
    "# Directory where model has to be stored\n",
    "directory = 'Models'\n",
    "# Stitching path to save model\n",
    "path = os.path.join(os.getcwd(), directory, 'random_forest_regressor.pkl')\n",
    "\n",
    "with open(path, 'wb') as file_obj:\n",
    "    pickle.dump(model, file_obj)"
   ]
  },
  {
   "cell_type": "code",
   "execution_count": null,
   "metadata": {
    "execution": {
     "iopub.execute_input": "2024-07-27T08:29:44.691408Z",
     "iopub.status.busy": "2024-07-27T08:29:44.690930Z",
     "iopub.status.idle": "2024-07-27T08:29:44.696958Z",
     "shell.execute_reply": "2024-07-27T08:29:44.695627Z",
     "shell.execute_reply.started": "2024-07-27T08:29:44.691357Z"
    }
   },
   "outputs": [],
   "source": [
    "print(\"Model has been pickled at\", path)"
   ]
  }
 ],
 "metadata": {
  "kaggle": {
   "accelerator": "none",
   "dataSources": [
    {
     "datasetId": 3023052,
     "sourceId": 5235959,
     "sourceType": "datasetVersion"
    },
    {
     "datasetId": 5452339,
     "sourceId": 9043797,
     "sourceType": "datasetVersion"
    }
   ],
   "dockerImageVersionId": 30746,
   "isGpuEnabled": false,
   "isInternetEnabled": true,
   "language": "python",
   "sourceType": "notebook"
  },
  "kernelspec": {
   "display_name": "Python 3 (ipykernel)",
   "language": "python",
   "name": "python3"
  },
  "language_info": {
   "codemirror_mode": {
    "name": "ipython",
    "version": 3
   },
   "file_extension": ".py",
   "mimetype": "text/x-python",
   "name": "python",
   "nbconvert_exporter": "python",
   "pygments_lexer": "ipython3",
   "version": "3.11.4"
  }
 },
 "nbformat": 4,
 "nbformat_minor": 4
}
