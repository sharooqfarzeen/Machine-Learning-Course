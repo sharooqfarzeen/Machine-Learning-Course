{
 "cells": [
  {
   "cell_type": "markdown",
   "metadata": {},
   "source": [
    "# CarDekho Used Car Sales Dataset\n",
    "\n",
    "Original Dataset: https://www.kaggle.com/datasets/sukritchatterjee/used-cars-dataset-cardekho\n",
    "\n",
    "The dataset used in this kernel is a cleaned version of the original dataset from Kaggle. It has 13 columns containing information about the make, model, usage patterns and specifications of over 15,000 used cars, scraped from the CarDekho website.\n",
    "\n",
    "## Goal\n",
    "\n",
    "The goal of this notebook is to use the dataset as a resource for learning AdaBoost Regression. The model will use independent features like make, model, usage patterns and specifications to predict selling price."
   ]
  },
  {
   "cell_type": "code",
   "execution_count": 67,
   "metadata": {
    "execution": {
     "iopub.execute_input": "2024-07-28T10:59:05.681680Z",
     "iopub.status.busy": "2024-07-28T10:59:05.681159Z",
     "iopub.status.idle": "2024-07-28T10:59:05.690884Z",
     "shell.execute_reply": "2024-07-28T10:59:05.689576Z",
     "shell.execute_reply.started": "2024-07-28T10:59:05.681630Z"
    }
   },
   "outputs": [],
   "source": [
    "# Importing required modules\n",
    "import os\n",
    "import pandas as pd\n",
    "import numpy as np\n",
    "import matplotlib.pyplot as plt\n",
    "import seaborn as sns\n",
    "import warnings\n",
    "import pickle\n",
    "\n",
    "from sklearn.preprocessing import OneHotEncoder, OrdinalEncoder\n",
    "from sklearn.compose import ColumnTransformer \n",
    "from sklearn.model_selection import train_test_split\n",
    "from sklearn.tree import DecisionTreeRegressor\n",
    "from sklearn.ensemble import AdaBoostRegressor\n",
    "from sklearn.metrics import r2_score, mean_absolute_error, mean_squared_error\n",
    "from sklearn.model_selection import RandomizedSearchCV"
   ]
  },
  {
   "cell_type": "code",
   "execution_count": 32,
   "metadata": {
    "execution": {
     "iopub.execute_input": "2024-07-28T10:56:26.431300Z",
     "iopub.status.busy": "2024-07-28T10:56:26.430835Z",
     "iopub.status.idle": "2024-07-28T10:56:26.438655Z",
     "shell.execute_reply": "2024-07-28T10:56:26.437226Z",
     "shell.execute_reply.started": "2024-07-28T10:56:26.431266Z"
    }
   },
   "outputs": [],
   "source": [
    "%matplotlib inline\n",
    "warnings.filterwarnings('ignore')  # Comment out to see warnings"
   ]
  },
  {
   "cell_type": "markdown",
   "metadata": {},
   "source": [
    "# Importing the Dataset"
   ]
  },
  {
   "cell_type": "code",
   "execution_count": 33,
   "metadata": {
    "execution": {
     "iopub.execute_input": "2024-07-28T10:56:29.408894Z",
     "iopub.status.busy": "2024-07-28T10:56:29.408460Z",
     "iopub.status.idle": "2024-07-28T10:56:29.459683Z",
     "shell.execute_reply": "2024-07-28T10:56:29.458476Z",
     "shell.execute_reply.started": "2024-07-28T10:56:29.408861Z"
    }
   },
   "outputs": [],
   "source": [
    "df = pd.read_csv(\"Datasets/cardekho.csv\", index_col=[0])"
   ]
  },
  {
   "cell_type": "code",
   "execution_count": 34,
   "metadata": {
    "execution": {
     "iopub.execute_input": "2024-07-28T10:56:30.381916Z",
     "iopub.status.busy": "2024-07-28T10:56:30.381485Z",
     "iopub.status.idle": "2024-07-28T10:56:30.402057Z",
     "shell.execute_reply": "2024-07-28T10:56:30.400825Z",
     "shell.execute_reply.started": "2024-07-28T10:56:30.381886Z"
    }
   },
   "outputs": [
    {
     "data": {
      "text/html": [
       "<div>\n",
       "<style scoped>\n",
       "    .dataframe tbody tr th:only-of-type {\n",
       "        vertical-align: middle;\n",
       "    }\n",
       "\n",
       "    .dataframe tbody tr th {\n",
       "        vertical-align: top;\n",
       "    }\n",
       "\n",
       "    .dataframe thead th {\n",
       "        text-align: right;\n",
       "    }\n",
       "</style>\n",
       "<table border=\"1\" class=\"dataframe\">\n",
       "  <thead>\n",
       "    <tr style=\"text-align: right;\">\n",
       "      <th></th>\n",
       "      <th>car_name</th>\n",
       "      <th>brand</th>\n",
       "      <th>model</th>\n",
       "      <th>vehicle_age</th>\n",
       "      <th>km_driven</th>\n",
       "      <th>seller_type</th>\n",
       "      <th>fuel_type</th>\n",
       "      <th>transmission_type</th>\n",
       "      <th>mileage</th>\n",
       "      <th>engine</th>\n",
       "      <th>max_power</th>\n",
       "      <th>seats</th>\n",
       "      <th>selling_price</th>\n",
       "    </tr>\n",
       "  </thead>\n",
       "  <tbody>\n",
       "    <tr>\n",
       "      <th>0</th>\n",
       "      <td>Maruti Alto</td>\n",
       "      <td>Maruti</td>\n",
       "      <td>Alto</td>\n",
       "      <td>9</td>\n",
       "      <td>120000</td>\n",
       "      <td>Individual</td>\n",
       "      <td>Petrol</td>\n",
       "      <td>Manual</td>\n",
       "      <td>19.70</td>\n",
       "      <td>796</td>\n",
       "      <td>46.30</td>\n",
       "      <td>5</td>\n",
       "      <td>120000</td>\n",
       "    </tr>\n",
       "    <tr>\n",
       "      <th>1</th>\n",
       "      <td>Hyundai Grand</td>\n",
       "      <td>Hyundai</td>\n",
       "      <td>Grand</td>\n",
       "      <td>5</td>\n",
       "      <td>20000</td>\n",
       "      <td>Individual</td>\n",
       "      <td>Petrol</td>\n",
       "      <td>Manual</td>\n",
       "      <td>18.90</td>\n",
       "      <td>1197</td>\n",
       "      <td>82.00</td>\n",
       "      <td>5</td>\n",
       "      <td>550000</td>\n",
       "    </tr>\n",
       "    <tr>\n",
       "      <th>2</th>\n",
       "      <td>Hyundai i20</td>\n",
       "      <td>Hyundai</td>\n",
       "      <td>i20</td>\n",
       "      <td>11</td>\n",
       "      <td>60000</td>\n",
       "      <td>Individual</td>\n",
       "      <td>Petrol</td>\n",
       "      <td>Manual</td>\n",
       "      <td>17.00</td>\n",
       "      <td>1197</td>\n",
       "      <td>80.00</td>\n",
       "      <td>5</td>\n",
       "      <td>215000</td>\n",
       "    </tr>\n",
       "    <tr>\n",
       "      <th>3</th>\n",
       "      <td>Maruti Alto</td>\n",
       "      <td>Maruti</td>\n",
       "      <td>Alto</td>\n",
       "      <td>9</td>\n",
       "      <td>37000</td>\n",
       "      <td>Individual</td>\n",
       "      <td>Petrol</td>\n",
       "      <td>Manual</td>\n",
       "      <td>20.92</td>\n",
       "      <td>998</td>\n",
       "      <td>67.10</td>\n",
       "      <td>5</td>\n",
       "      <td>226000</td>\n",
       "    </tr>\n",
       "    <tr>\n",
       "      <th>4</th>\n",
       "      <td>Ford Ecosport</td>\n",
       "      <td>Ford</td>\n",
       "      <td>Ecosport</td>\n",
       "      <td>6</td>\n",
       "      <td>30000</td>\n",
       "      <td>Dealer</td>\n",
       "      <td>Diesel</td>\n",
       "      <td>Manual</td>\n",
       "      <td>22.77</td>\n",
       "      <td>1498</td>\n",
       "      <td>98.59</td>\n",
       "      <td>5</td>\n",
       "      <td>570000</td>\n",
       "    </tr>\n",
       "  </tbody>\n",
       "</table>\n",
       "</div>"
      ],
      "text/plain": [
       "        car_name    brand     model  vehicle_age  km_driven seller_type  \\\n",
       "0    Maruti Alto   Maruti      Alto            9     120000  Individual   \n",
       "1  Hyundai Grand  Hyundai     Grand            5      20000  Individual   \n",
       "2    Hyundai i20  Hyundai       i20           11      60000  Individual   \n",
       "3    Maruti Alto   Maruti      Alto            9      37000  Individual   \n",
       "4  Ford Ecosport     Ford  Ecosport            6      30000      Dealer   \n",
       "\n",
       "  fuel_type transmission_type  mileage  engine  max_power  seats  \\\n",
       "0    Petrol            Manual    19.70     796      46.30      5   \n",
       "1    Petrol            Manual    18.90    1197      82.00      5   \n",
       "2    Petrol            Manual    17.00    1197      80.00      5   \n",
       "3    Petrol            Manual    20.92     998      67.10      5   \n",
       "4    Diesel            Manual    22.77    1498      98.59      5   \n",
       "\n",
       "   selling_price  \n",
       "0         120000  \n",
       "1         550000  \n",
       "2         215000  \n",
       "3         226000  \n",
       "4         570000  "
      ]
     },
     "execution_count": 34,
     "metadata": {},
     "output_type": "execute_result"
    }
   ],
   "source": [
    "df.head()"
   ]
  },
  {
   "cell_type": "code",
   "execution_count": 35,
   "metadata": {
    "execution": {
     "iopub.execute_input": "2024-07-28T10:56:35.561725Z",
     "iopub.status.busy": "2024-07-28T10:56:35.561170Z",
     "iopub.status.idle": "2024-07-28T10:56:35.589746Z",
     "shell.execute_reply": "2024-07-28T10:56:35.587916Z",
     "shell.execute_reply.started": "2024-07-28T10:56:35.561686Z"
    }
   },
   "outputs": [
    {
     "name": "stdout",
     "output_type": "stream",
     "text": [
      "<class 'pandas.core.frame.DataFrame'>\n",
      "Index: 15411 entries, 0 to 19543\n",
      "Data columns (total 13 columns):\n",
      " #   Column             Non-Null Count  Dtype  \n",
      "---  ------             --------------  -----  \n",
      " 0   car_name           15411 non-null  object \n",
      " 1   brand              15411 non-null  object \n",
      " 2   model              15411 non-null  object \n",
      " 3   vehicle_age        15411 non-null  int64  \n",
      " 4   km_driven          15411 non-null  int64  \n",
      " 5   seller_type        15411 non-null  object \n",
      " 6   fuel_type          15411 non-null  object \n",
      " 7   transmission_type  15411 non-null  object \n",
      " 8   mileage            15411 non-null  float64\n",
      " 9   engine             15411 non-null  int64  \n",
      " 10  max_power          15411 non-null  float64\n",
      " 11  seats              15411 non-null  int64  \n",
      " 12  selling_price      15411 non-null  int64  \n",
      "dtypes: float64(2), int64(5), object(6)\n",
      "memory usage: 1.6+ MB\n"
     ]
    }
   ],
   "source": [
    "df.info()"
   ]
  },
  {
   "cell_type": "code",
   "execution_count": 36,
   "metadata": {
    "execution": {
     "iopub.execute_input": "2024-07-28T10:56:36.518071Z",
     "iopub.status.busy": "2024-07-28T10:56:36.517429Z",
     "iopub.status.idle": "2024-07-28T10:56:36.554658Z",
     "shell.execute_reply": "2024-07-28T10:56:36.553483Z",
     "shell.execute_reply.started": "2024-07-28T10:56:36.518037Z"
    },
    "scrolled": true
   },
   "outputs": [
    {
     "data": {
      "text/html": [
       "<div>\n",
       "<style scoped>\n",
       "    .dataframe tbody tr th:only-of-type {\n",
       "        vertical-align: middle;\n",
       "    }\n",
       "\n",
       "    .dataframe tbody tr th {\n",
       "        vertical-align: top;\n",
       "    }\n",
       "\n",
       "    .dataframe thead th {\n",
       "        text-align: right;\n",
       "    }\n",
       "</style>\n",
       "<table border=\"1\" class=\"dataframe\">\n",
       "  <thead>\n",
       "    <tr style=\"text-align: right;\">\n",
       "      <th></th>\n",
       "      <th>vehicle_age</th>\n",
       "      <th>km_driven</th>\n",
       "      <th>mileage</th>\n",
       "      <th>engine</th>\n",
       "      <th>max_power</th>\n",
       "      <th>seats</th>\n",
       "      <th>selling_price</th>\n",
       "    </tr>\n",
       "  </thead>\n",
       "  <tbody>\n",
       "    <tr>\n",
       "      <th>count</th>\n",
       "      <td>15411.000000</td>\n",
       "      <td>1.541100e+04</td>\n",
       "      <td>15411.000000</td>\n",
       "      <td>15411.000000</td>\n",
       "      <td>15411.000000</td>\n",
       "      <td>15411.000000</td>\n",
       "      <td>1.541100e+04</td>\n",
       "    </tr>\n",
       "    <tr>\n",
       "      <th>mean</th>\n",
       "      <td>6.036338</td>\n",
       "      <td>5.561648e+04</td>\n",
       "      <td>19.701151</td>\n",
       "      <td>1486.057751</td>\n",
       "      <td>100.588254</td>\n",
       "      <td>5.325482</td>\n",
       "      <td>7.749711e+05</td>\n",
       "    </tr>\n",
       "    <tr>\n",
       "      <th>std</th>\n",
       "      <td>3.013291</td>\n",
       "      <td>5.161855e+04</td>\n",
       "      <td>4.171265</td>\n",
       "      <td>521.106696</td>\n",
       "      <td>42.972979</td>\n",
       "      <td>0.807628</td>\n",
       "      <td>8.941284e+05</td>\n",
       "    </tr>\n",
       "    <tr>\n",
       "      <th>min</th>\n",
       "      <td>0.000000</td>\n",
       "      <td>1.000000e+02</td>\n",
       "      <td>4.000000</td>\n",
       "      <td>793.000000</td>\n",
       "      <td>38.400000</td>\n",
       "      <td>0.000000</td>\n",
       "      <td>4.000000e+04</td>\n",
       "    </tr>\n",
       "    <tr>\n",
       "      <th>25%</th>\n",
       "      <td>4.000000</td>\n",
       "      <td>3.000000e+04</td>\n",
       "      <td>17.000000</td>\n",
       "      <td>1197.000000</td>\n",
       "      <td>74.000000</td>\n",
       "      <td>5.000000</td>\n",
       "      <td>3.850000e+05</td>\n",
       "    </tr>\n",
       "    <tr>\n",
       "      <th>50%</th>\n",
       "      <td>6.000000</td>\n",
       "      <td>5.000000e+04</td>\n",
       "      <td>19.670000</td>\n",
       "      <td>1248.000000</td>\n",
       "      <td>88.500000</td>\n",
       "      <td>5.000000</td>\n",
       "      <td>5.560000e+05</td>\n",
       "    </tr>\n",
       "    <tr>\n",
       "      <th>75%</th>\n",
       "      <td>8.000000</td>\n",
       "      <td>7.000000e+04</td>\n",
       "      <td>22.700000</td>\n",
       "      <td>1582.000000</td>\n",
       "      <td>117.300000</td>\n",
       "      <td>5.000000</td>\n",
       "      <td>8.250000e+05</td>\n",
       "    </tr>\n",
       "    <tr>\n",
       "      <th>max</th>\n",
       "      <td>29.000000</td>\n",
       "      <td>3.800000e+06</td>\n",
       "      <td>33.540000</td>\n",
       "      <td>6592.000000</td>\n",
       "      <td>626.000000</td>\n",
       "      <td>9.000000</td>\n",
       "      <td>3.950000e+07</td>\n",
       "    </tr>\n",
       "  </tbody>\n",
       "</table>\n",
       "</div>"
      ],
      "text/plain": [
       "        vehicle_age     km_driven       mileage        engine     max_power  \\\n",
       "count  15411.000000  1.541100e+04  15411.000000  15411.000000  15411.000000   \n",
       "mean       6.036338  5.561648e+04     19.701151   1486.057751    100.588254   \n",
       "std        3.013291  5.161855e+04      4.171265    521.106696     42.972979   \n",
       "min        0.000000  1.000000e+02      4.000000    793.000000     38.400000   \n",
       "25%        4.000000  3.000000e+04     17.000000   1197.000000     74.000000   \n",
       "50%        6.000000  5.000000e+04     19.670000   1248.000000     88.500000   \n",
       "75%        8.000000  7.000000e+04     22.700000   1582.000000    117.300000   \n",
       "max       29.000000  3.800000e+06     33.540000   6592.000000    626.000000   \n",
       "\n",
       "              seats  selling_price  \n",
       "count  15411.000000   1.541100e+04  \n",
       "mean       5.325482   7.749711e+05  \n",
       "std        0.807628   8.941284e+05  \n",
       "min        0.000000   4.000000e+04  \n",
       "25%        5.000000   3.850000e+05  \n",
       "50%        5.000000   5.560000e+05  \n",
       "75%        5.000000   8.250000e+05  \n",
       "max        9.000000   3.950000e+07  "
      ]
     },
     "execution_count": 36,
     "metadata": {},
     "output_type": "execute_result"
    }
   ],
   "source": [
    "df.describe()"
   ]
  },
  {
   "cell_type": "markdown",
   "metadata": {},
   "source": [
    "# Data Cleaning"
   ]
  },
  {
   "cell_type": "markdown",
   "metadata": {},
   "source": [
    "* Handle Typographical Errors\n",
    "* Handle Missing Values\n",
    "* Handle Duplicates\n",
    "* Check Datatypes"
   ]
  },
  {
   "cell_type": "markdown",
   "metadata": {},
   "source": [
    "## Handling Typographical Errors"
   ]
  },
  {
   "cell_type": "code",
   "execution_count": 37,
   "metadata": {
    "execution": {
     "iopub.execute_input": "2024-07-28T10:56:38.904680Z",
     "iopub.status.busy": "2024-07-28T10:56:38.904202Z",
     "iopub.status.idle": "2024-07-28T10:56:38.939413Z",
     "shell.execute_reply": "2024-07-28T10:56:38.937460Z",
     "shell.execute_reply.started": "2024-07-28T10:56:38.904644Z"
    }
   },
   "outputs": [
    {
     "name": "stdout",
     "output_type": "stream",
     "text": [
      "car_name\n",
      "Hyundai i20           906\n",
      "Maruti Swift Dzire    890\n",
      "Maruti Swift          781\n",
      "Maruti Alto           778\n",
      "Honda City            757\n",
      "                     ... \n",
      "Mercedes-AMG C          1\n",
      "Tata Altroz             1\n",
      "Ferrari GTC4Lusso       1\n",
      "Hyundai Aura            1\n",
      "Force Gurkha            1\n",
      "Name: count, Length: 121, dtype: int64\n",
      "\n",
      "brand\n",
      "Maruti           4992\n",
      "Hyundai          2982\n",
      "Honda            1485\n",
      "Mahindra         1011\n",
      "Toyota            793\n",
      "Ford              790\n",
      "Volkswagen        620\n",
      "Renault           536\n",
      "BMW               439\n",
      "Tata              430\n",
      "Mercedes-Benz     337\n",
      "Skoda             334\n",
      "Audi              192\n",
      "Datsun            170\n",
      "Jaguar             59\n",
      "Land Rover         51\n",
      "Jeep               41\n",
      "Kia                32\n",
      "Porsche            21\n",
      "Volvo              20\n",
      "MG                 19\n",
      "Mini               17\n",
      "Nissan             11\n",
      "Lexus              10\n",
      "Isuzu               8\n",
      "Bentley             3\n",
      "Maserati            2\n",
      "ISUZU               2\n",
      "Ferrari             1\n",
      "Mercedes-AMG        1\n",
      "Rolls-Royce         1\n",
      "Force               1\n",
      "Name: count, dtype: int64\n",
      "\n",
      "model\n",
      "i20            906\n",
      "Swift Dzire    890\n",
      "Swift          781\n",
      "Alto           778\n",
      "City           757\n",
      "              ... \n",
      "Ghibli           1\n",
      "Altroz           1\n",
      "GTC4Lusso        1\n",
      "Aura             1\n",
      "Gurkha           1\n",
      "Name: count, Length: 120, dtype: int64\n",
      "\n",
      "seller_type\n",
      "Dealer              9539\n",
      "Individual          5699\n",
      "Trustmark Dealer     173\n",
      "Name: count, dtype: int64\n",
      "\n",
      "fuel_type\n",
      "Petrol      7643\n",
      "Diesel      7419\n",
      "CNG          301\n",
      "LPG           44\n",
      "Electric       4\n",
      "Name: count, dtype: int64\n",
      "\n",
      "transmission_type\n",
      "Manual       12225\n",
      "Automatic     3186\n",
      "Name: count, dtype: int64\n",
      "\n"
     ]
    }
   ],
   "source": [
    "# Printing unique entries in all categorical columns\n",
    "# Getting a list of all categorical columns\n",
    "cat_cols = df.select_dtypes('object').columns.to_list()\n",
    "# Printing unique entries to check for data entry errors\n",
    "for column in cat_cols:\n",
    "    print(df[column].value_counts(), end=\"\\n\\n\")"
   ]
  },
  {
   "cell_type": "raw",
   "metadata": {},
   "source": [
    "There are no apparent typo errors."
   ]
  },
  {
   "cell_type": "markdown",
   "metadata": {},
   "source": [
    "## Handling Missing Values"
   ]
  },
  {
   "cell_type": "code",
   "execution_count": 38,
   "metadata": {
    "execution": {
     "iopub.execute_input": "2024-07-28T10:56:39.922082Z",
     "iopub.status.busy": "2024-07-28T10:56:39.921653Z",
     "iopub.status.idle": "2024-07-28T10:56:39.942553Z",
     "shell.execute_reply": "2024-07-28T10:56:39.941443Z",
     "shell.execute_reply.started": "2024-07-28T10:56:39.922043Z"
    }
   },
   "outputs": [
    {
     "data": {
      "text/plain": [
       "car_name             0\n",
       "brand                0\n",
       "model                0\n",
       "vehicle_age          0\n",
       "km_driven            0\n",
       "seller_type          0\n",
       "fuel_type            0\n",
       "transmission_type    0\n",
       "mileage              0\n",
       "engine               0\n",
       "max_power            0\n",
       "seats                0\n",
       "selling_price        0\n",
       "dtype: int64"
      ]
     },
     "execution_count": 38,
     "metadata": {},
     "output_type": "execute_result"
    }
   ],
   "source": [
    "# Checking for null values\n",
    "df.isnull().sum()"
   ]
  },
  {
   "cell_type": "raw",
   "metadata": {},
   "source": [
    "There are no null values in any columns."
   ]
  },
  {
   "cell_type": "markdown",
   "metadata": {},
   "source": [
    "## Handling Duplicates"
   ]
  },
  {
   "cell_type": "code",
   "execution_count": 39,
   "metadata": {
    "execution": {
     "iopub.execute_input": "2024-07-28T10:56:41.726357Z",
     "iopub.status.busy": "2024-07-28T10:56:41.725263Z",
     "iopub.status.idle": "2024-07-28T10:56:41.763660Z",
     "shell.execute_reply": "2024-07-28T10:56:41.762468Z",
     "shell.execute_reply.started": "2024-07-28T10:56:41.726318Z"
    }
   },
   "outputs": [
    {
     "data": {
      "text/html": [
       "<div>\n",
       "<style scoped>\n",
       "    .dataframe tbody tr th:only-of-type {\n",
       "        vertical-align: middle;\n",
       "    }\n",
       "\n",
       "    .dataframe tbody tr th {\n",
       "        vertical-align: top;\n",
       "    }\n",
       "\n",
       "    .dataframe thead th {\n",
       "        text-align: right;\n",
       "    }\n",
       "</style>\n",
       "<table border=\"1\" class=\"dataframe\">\n",
       "  <thead>\n",
       "    <tr style=\"text-align: right;\">\n",
       "      <th></th>\n",
       "      <th>car_name</th>\n",
       "      <th>brand</th>\n",
       "      <th>model</th>\n",
       "      <th>vehicle_age</th>\n",
       "      <th>km_driven</th>\n",
       "      <th>seller_type</th>\n",
       "      <th>fuel_type</th>\n",
       "      <th>transmission_type</th>\n",
       "      <th>mileage</th>\n",
       "      <th>engine</th>\n",
       "      <th>max_power</th>\n",
       "      <th>seats</th>\n",
       "      <th>selling_price</th>\n",
       "    </tr>\n",
       "  </thead>\n",
       "  <tbody>\n",
       "    <tr>\n",
       "      <th>31</th>\n",
       "      <td>Maruti Swift Dzire</td>\n",
       "      <td>Maruti</td>\n",
       "      <td>Swift Dzire</td>\n",
       "      <td>6</td>\n",
       "      <td>90000</td>\n",
       "      <td>Individual</td>\n",
       "      <td>Diesel</td>\n",
       "      <td>Manual</td>\n",
       "      <td>26.59</td>\n",
       "      <td>1248</td>\n",
       "      <td>74.00</td>\n",
       "      <td>5</td>\n",
       "      <td>600000</td>\n",
       "    </tr>\n",
       "    <tr>\n",
       "      <th>90</th>\n",
       "      <td>Honda City</td>\n",
       "      <td>Honda</td>\n",
       "      <td>City</td>\n",
       "      <td>8</td>\n",
       "      <td>70000</td>\n",
       "      <td>Individual</td>\n",
       "      <td>Petrol</td>\n",
       "      <td>Manual</td>\n",
       "      <td>16.80</td>\n",
       "      <td>1497</td>\n",
       "      <td>116.30</td>\n",
       "      <td>5</td>\n",
       "      <td>545000</td>\n",
       "    </tr>\n",
       "    <tr>\n",
       "      <th>210</th>\n",
       "      <td>Maruti Alto</td>\n",
       "      <td>Maruti</td>\n",
       "      <td>Alto</td>\n",
       "      <td>2</td>\n",
       "      <td>25000</td>\n",
       "      <td>Individual</td>\n",
       "      <td>Petrol</td>\n",
       "      <td>Manual</td>\n",
       "      <td>24.70</td>\n",
       "      <td>796</td>\n",
       "      <td>47.30</td>\n",
       "      <td>5</td>\n",
       "      <td>310000</td>\n",
       "    </tr>\n",
       "    <tr>\n",
       "      <th>261</th>\n",
       "      <td>Honda City</td>\n",
       "      <td>Honda</td>\n",
       "      <td>City</td>\n",
       "      <td>8</td>\n",
       "      <td>70000</td>\n",
       "      <td>Individual</td>\n",
       "      <td>Petrol</td>\n",
       "      <td>Manual</td>\n",
       "      <td>16.80</td>\n",
       "      <td>1497</td>\n",
       "      <td>116.30</td>\n",
       "      <td>5</td>\n",
       "      <td>545000</td>\n",
       "    </tr>\n",
       "    <tr>\n",
       "      <th>281</th>\n",
       "      <td>Renault KWID</td>\n",
       "      <td>Renault</td>\n",
       "      <td>KWID</td>\n",
       "      <td>4</td>\n",
       "      <td>35000</td>\n",
       "      <td>Individual</td>\n",
       "      <td>Petrol</td>\n",
       "      <td>Automatic</td>\n",
       "      <td>24.04</td>\n",
       "      <td>999</td>\n",
       "      <td>67.00</td>\n",
       "      <td>5</td>\n",
       "      <td>350000</td>\n",
       "    </tr>\n",
       "    <tr>\n",
       "      <th>...</th>\n",
       "      <td>...</td>\n",
       "      <td>...</td>\n",
       "      <td>...</td>\n",
       "      <td>...</td>\n",
       "      <td>...</td>\n",
       "      <td>...</td>\n",
       "      <td>...</td>\n",
       "      <td>...</td>\n",
       "      <td>...</td>\n",
       "      <td>...</td>\n",
       "      <td>...</td>\n",
       "      <td>...</td>\n",
       "      <td>...</td>\n",
       "    </tr>\n",
       "    <tr>\n",
       "      <th>19311</th>\n",
       "      <td>Maruti Swift</td>\n",
       "      <td>Maruti</td>\n",
       "      <td>Swift</td>\n",
       "      <td>8</td>\n",
       "      <td>80000</td>\n",
       "      <td>Individual</td>\n",
       "      <td>Diesel</td>\n",
       "      <td>Manual</td>\n",
       "      <td>22.90</td>\n",
       "      <td>1248</td>\n",
       "      <td>74.00</td>\n",
       "      <td>5</td>\n",
       "      <td>350000</td>\n",
       "    </tr>\n",
       "    <tr>\n",
       "      <th>19434</th>\n",
       "      <td>Maruti Wagon R</td>\n",
       "      <td>Maruti</td>\n",
       "      <td>Wagon R</td>\n",
       "      <td>6</td>\n",
       "      <td>50000</td>\n",
       "      <td>Individual</td>\n",
       "      <td>CNG</td>\n",
       "      <td>Manual</td>\n",
       "      <td>26.60</td>\n",
       "      <td>998</td>\n",
       "      <td>58.16</td>\n",
       "      <td>5</td>\n",
       "      <td>450000</td>\n",
       "    </tr>\n",
       "    <tr>\n",
       "      <th>19489</th>\n",
       "      <td>Tata Tiago</td>\n",
       "      <td>Tata</td>\n",
       "      <td>Tiago</td>\n",
       "      <td>4</td>\n",
       "      <td>30000</td>\n",
       "      <td>Individual</td>\n",
       "      <td>Petrol</td>\n",
       "      <td>Manual</td>\n",
       "      <td>23.84</td>\n",
       "      <td>1199</td>\n",
       "      <td>84.00</td>\n",
       "      <td>5</td>\n",
       "      <td>350000</td>\n",
       "    </tr>\n",
       "    <tr>\n",
       "      <th>19505</th>\n",
       "      <td>Hyundai Grand</td>\n",
       "      <td>Hyundai</td>\n",
       "      <td>Grand</td>\n",
       "      <td>6</td>\n",
       "      <td>30000</td>\n",
       "      <td>Individual</td>\n",
       "      <td>Petrol</td>\n",
       "      <td>Manual</td>\n",
       "      <td>18.90</td>\n",
       "      <td>1197</td>\n",
       "      <td>82.00</td>\n",
       "      <td>5</td>\n",
       "      <td>450000</td>\n",
       "    </tr>\n",
       "    <tr>\n",
       "      <th>19521</th>\n",
       "      <td>Land Rover Rover</td>\n",
       "      <td>Land Rover</td>\n",
       "      <td>Rover</td>\n",
       "      <td>5</td>\n",
       "      <td>128000</td>\n",
       "      <td>Dealer</td>\n",
       "      <td>Diesel</td>\n",
       "      <td>Automatic</td>\n",
       "      <td>12.63</td>\n",
       "      <td>2179</td>\n",
       "      <td>147.50</td>\n",
       "      <td>5</td>\n",
       "      <td>2675000</td>\n",
       "    </tr>\n",
       "  </tbody>\n",
       "</table>\n",
       "<p>329 rows × 13 columns</p>\n",
       "</div>"
      ],
      "text/plain": [
       "                 car_name       brand        model  vehicle_age  km_driven  \\\n",
       "31     Maruti Swift Dzire      Maruti  Swift Dzire            6      90000   \n",
       "90             Honda City       Honda         City            8      70000   \n",
       "210           Maruti Alto      Maruti         Alto            2      25000   \n",
       "261            Honda City       Honda         City            8      70000   \n",
       "281          Renault KWID     Renault         KWID            4      35000   \n",
       "...                   ...         ...          ...          ...        ...   \n",
       "19311        Maruti Swift      Maruti        Swift            8      80000   \n",
       "19434      Maruti Wagon R      Maruti      Wagon R            6      50000   \n",
       "19489          Tata Tiago        Tata        Tiago            4      30000   \n",
       "19505       Hyundai Grand     Hyundai        Grand            6      30000   \n",
       "19521    Land Rover Rover  Land Rover        Rover            5     128000   \n",
       "\n",
       "      seller_type fuel_type transmission_type  mileage  engine  max_power  \\\n",
       "31     Individual    Diesel            Manual    26.59    1248      74.00   \n",
       "90     Individual    Petrol            Manual    16.80    1497     116.30   \n",
       "210    Individual    Petrol            Manual    24.70     796      47.30   \n",
       "261    Individual    Petrol            Manual    16.80    1497     116.30   \n",
       "281    Individual    Petrol         Automatic    24.04     999      67.00   \n",
       "...           ...       ...               ...      ...     ...        ...   \n",
       "19311  Individual    Diesel            Manual    22.90    1248      74.00   \n",
       "19434  Individual       CNG            Manual    26.60     998      58.16   \n",
       "19489  Individual    Petrol            Manual    23.84    1199      84.00   \n",
       "19505  Individual    Petrol            Manual    18.90    1197      82.00   \n",
       "19521      Dealer    Diesel         Automatic    12.63    2179     147.50   \n",
       "\n",
       "       seats  selling_price  \n",
       "31         5         600000  \n",
       "90         5         545000  \n",
       "210        5         310000  \n",
       "261        5         545000  \n",
       "281        5         350000  \n",
       "...      ...            ...  \n",
       "19311      5         350000  \n",
       "19434      5         450000  \n",
       "19489      5         350000  \n",
       "19505      5         450000  \n",
       "19521      5        2675000  \n",
       "\n",
       "[329 rows x 13 columns]"
      ]
     },
     "execution_count": 39,
     "metadata": {},
     "output_type": "execute_result"
    }
   ],
   "source": [
    "df[df.duplicated(keep=False)]"
   ]
  },
  {
   "cell_type": "raw",
   "metadata": {},
   "source": [
    "There are 329 duplicate rows"
   ]
  },
  {
   "cell_type": "code",
   "execution_count": 40,
   "metadata": {
    "execution": {
     "iopub.execute_input": "2024-07-28T10:56:42.784044Z",
     "iopub.status.busy": "2024-07-28T10:56:42.783607Z",
     "iopub.status.idle": "2024-07-28T10:56:42.806861Z",
     "shell.execute_reply": "2024-07-28T10:56:42.805646Z",
     "shell.execute_reply.started": "2024-07-28T10:56:42.784009Z"
    }
   },
   "outputs": [],
   "source": [
    "# Dropping duplicate rows\n",
    "df = df.drop_duplicates(keep='first', ignore_index=True)"
   ]
  },
  {
   "cell_type": "code",
   "execution_count": 41,
   "metadata": {
    "execution": {
     "iopub.execute_input": "2024-07-28T10:56:43.366104Z",
     "iopub.status.busy": "2024-07-28T10:56:43.365687Z",
     "iopub.status.idle": "2024-07-28T10:56:43.390348Z",
     "shell.execute_reply": "2024-07-28T10:56:43.389049Z",
     "shell.execute_reply.started": "2024-07-28T10:56:43.366072Z"
    }
   },
   "outputs": [
    {
     "data": {
      "text/plain": [
       "(0, 13)"
      ]
     },
     "execution_count": 41,
     "metadata": {},
     "output_type": "execute_result"
    }
   ],
   "source": [
    "# Final check for duplicates\n",
    "df[df.duplicated(keep=False)].shape"
   ]
  },
  {
   "cell_type": "markdown",
   "metadata": {},
   "source": [
    "## Handling Datatypes"
   ]
  },
  {
   "cell_type": "code",
   "execution_count": 42,
   "metadata": {
    "execution": {
     "iopub.execute_input": "2024-07-28T10:56:44.410546Z",
     "iopub.status.busy": "2024-07-28T10:56:44.410059Z",
     "iopub.status.idle": "2024-07-28T10:56:44.420449Z",
     "shell.execute_reply": "2024-07-28T10:56:44.418984Z",
     "shell.execute_reply.started": "2024-07-28T10:56:44.410509Z"
    }
   },
   "outputs": [
    {
     "data": {
      "text/plain": [
       "car_name              object\n",
       "brand                 object\n",
       "model                 object\n",
       "vehicle_age            int64\n",
       "km_driven              int64\n",
       "seller_type           object\n",
       "fuel_type             object\n",
       "transmission_type     object\n",
       "mileage              float64\n",
       "engine                 int64\n",
       "max_power            float64\n",
       "seats                  int64\n",
       "selling_price          int64\n",
       "dtype: object"
      ]
     },
     "execution_count": 42,
     "metadata": {},
     "output_type": "execute_result"
    }
   ],
   "source": [
    "df.dtypes"
   ]
  },
  {
   "cell_type": "raw",
   "metadata": {},
   "source": [
    "All 'object' columns have to be converted to 'category'."
   ]
  },
  {
   "cell_type": "code",
   "execution_count": 43,
   "metadata": {
    "execution": {
     "iopub.execute_input": "2024-07-28T10:56:46.705957Z",
     "iopub.status.busy": "2024-07-28T10:56:46.705526Z",
     "iopub.status.idle": "2024-07-28T10:56:46.713201Z",
     "shell.execute_reply": "2024-07-28T10:56:46.712001Z",
     "shell.execute_reply.started": "2024-07-28T10:56:46.705924Z"
    }
   },
   "outputs": [
    {
     "data": {
      "text/plain": [
       "['car_name', 'brand', 'model', 'seller_type', 'fuel_type', 'transmission_type']"
      ]
     },
     "execution_count": 43,
     "metadata": {},
     "output_type": "execute_result"
    }
   ],
   "source": [
    "cat_cols"
   ]
  },
  {
   "cell_type": "code",
   "execution_count": 44,
   "metadata": {
    "execution": {
     "iopub.execute_input": "2024-07-28T10:56:47.196554Z",
     "iopub.status.busy": "2024-07-28T10:56:47.196113Z",
     "iopub.status.idle": "2024-07-28T10:56:47.223059Z",
     "shell.execute_reply": "2024-07-28T10:56:47.221957Z",
     "shell.execute_reply.started": "2024-07-28T10:56:47.196519Z"
    },
    "scrolled": true
   },
   "outputs": [
    {
     "data": {
      "text/plain": [
       "car_name             category\n",
       "brand                category\n",
       "model                category\n",
       "seller_type          category\n",
       "fuel_type            category\n",
       "transmission_type    category\n",
       "dtype: object"
      ]
     },
     "execution_count": 44,
     "metadata": {},
     "output_type": "execute_result"
    }
   ],
   "source": [
    "df[cat_cols] = df[cat_cols].astype('category')\n",
    "df[cat_cols].dtypes"
   ]
  },
  {
   "cell_type": "markdown",
   "metadata": {},
   "source": [
    "# Train Test Split"
   ]
  },
  {
   "cell_type": "code",
   "execution_count": 45,
   "metadata": {
    "execution": {
     "iopub.execute_input": "2024-07-28T10:56:48.759414Z",
     "iopub.status.busy": "2024-07-28T10:56:48.758973Z",
     "iopub.status.idle": "2024-07-28T10:56:48.766738Z",
     "shell.execute_reply": "2024-07-28T10:56:48.765465Z",
     "shell.execute_reply.started": "2024-07-28T10:56:48.759367Z"
    }
   },
   "outputs": [],
   "source": [
    "# Independent Features\n",
    "X = df.drop(columns='selling_price', axis=1)\n",
    "# Dependent Features\n",
    "y = df['selling_price']"
   ]
  },
  {
   "cell_type": "code",
   "execution_count": 46,
   "metadata": {
    "execution": {
     "iopub.execute_input": "2024-07-28T10:56:49.416570Z",
     "iopub.status.busy": "2024-07-28T10:56:49.416075Z",
     "iopub.status.idle": "2024-07-28T10:56:49.436561Z",
     "shell.execute_reply": "2024-07-28T10:56:49.435072Z",
     "shell.execute_reply.started": "2024-07-28T10:56:49.416535Z"
    }
   },
   "outputs": [
    {
     "data": {
      "text/html": [
       "<div>\n",
       "<style scoped>\n",
       "    .dataframe tbody tr th:only-of-type {\n",
       "        vertical-align: middle;\n",
       "    }\n",
       "\n",
       "    .dataframe tbody tr th {\n",
       "        vertical-align: top;\n",
       "    }\n",
       "\n",
       "    .dataframe thead th {\n",
       "        text-align: right;\n",
       "    }\n",
       "</style>\n",
       "<table border=\"1\" class=\"dataframe\">\n",
       "  <thead>\n",
       "    <tr style=\"text-align: right;\">\n",
       "      <th></th>\n",
       "      <th>car_name</th>\n",
       "      <th>brand</th>\n",
       "      <th>model</th>\n",
       "      <th>vehicle_age</th>\n",
       "      <th>km_driven</th>\n",
       "      <th>seller_type</th>\n",
       "      <th>fuel_type</th>\n",
       "      <th>transmission_type</th>\n",
       "      <th>mileage</th>\n",
       "      <th>engine</th>\n",
       "      <th>max_power</th>\n",
       "      <th>seats</th>\n",
       "    </tr>\n",
       "  </thead>\n",
       "  <tbody>\n",
       "    <tr>\n",
       "      <th>0</th>\n",
       "      <td>Maruti Alto</td>\n",
       "      <td>Maruti</td>\n",
       "      <td>Alto</td>\n",
       "      <td>9</td>\n",
       "      <td>120000</td>\n",
       "      <td>Individual</td>\n",
       "      <td>Petrol</td>\n",
       "      <td>Manual</td>\n",
       "      <td>19.70</td>\n",
       "      <td>796</td>\n",
       "      <td>46.30</td>\n",
       "      <td>5</td>\n",
       "    </tr>\n",
       "    <tr>\n",
       "      <th>1</th>\n",
       "      <td>Hyundai Grand</td>\n",
       "      <td>Hyundai</td>\n",
       "      <td>Grand</td>\n",
       "      <td>5</td>\n",
       "      <td>20000</td>\n",
       "      <td>Individual</td>\n",
       "      <td>Petrol</td>\n",
       "      <td>Manual</td>\n",
       "      <td>18.90</td>\n",
       "      <td>1197</td>\n",
       "      <td>82.00</td>\n",
       "      <td>5</td>\n",
       "    </tr>\n",
       "    <tr>\n",
       "      <th>2</th>\n",
       "      <td>Hyundai i20</td>\n",
       "      <td>Hyundai</td>\n",
       "      <td>i20</td>\n",
       "      <td>11</td>\n",
       "      <td>60000</td>\n",
       "      <td>Individual</td>\n",
       "      <td>Petrol</td>\n",
       "      <td>Manual</td>\n",
       "      <td>17.00</td>\n",
       "      <td>1197</td>\n",
       "      <td>80.00</td>\n",
       "      <td>5</td>\n",
       "    </tr>\n",
       "    <tr>\n",
       "      <th>3</th>\n",
       "      <td>Maruti Alto</td>\n",
       "      <td>Maruti</td>\n",
       "      <td>Alto</td>\n",
       "      <td>9</td>\n",
       "      <td>37000</td>\n",
       "      <td>Individual</td>\n",
       "      <td>Petrol</td>\n",
       "      <td>Manual</td>\n",
       "      <td>20.92</td>\n",
       "      <td>998</td>\n",
       "      <td>67.10</td>\n",
       "      <td>5</td>\n",
       "    </tr>\n",
       "    <tr>\n",
       "      <th>4</th>\n",
       "      <td>Ford Ecosport</td>\n",
       "      <td>Ford</td>\n",
       "      <td>Ecosport</td>\n",
       "      <td>6</td>\n",
       "      <td>30000</td>\n",
       "      <td>Dealer</td>\n",
       "      <td>Diesel</td>\n",
       "      <td>Manual</td>\n",
       "      <td>22.77</td>\n",
       "      <td>1498</td>\n",
       "      <td>98.59</td>\n",
       "      <td>5</td>\n",
       "    </tr>\n",
       "  </tbody>\n",
       "</table>\n",
       "</div>"
      ],
      "text/plain": [
       "        car_name    brand     model  vehicle_age  km_driven seller_type  \\\n",
       "0    Maruti Alto   Maruti      Alto            9     120000  Individual   \n",
       "1  Hyundai Grand  Hyundai     Grand            5      20000  Individual   \n",
       "2    Hyundai i20  Hyundai       i20           11      60000  Individual   \n",
       "3    Maruti Alto   Maruti      Alto            9      37000  Individual   \n",
       "4  Ford Ecosport     Ford  Ecosport            6      30000      Dealer   \n",
       "\n",
       "  fuel_type transmission_type  mileage  engine  max_power  seats  \n",
       "0    Petrol            Manual    19.70     796      46.30      5  \n",
       "1    Petrol            Manual    18.90    1197      82.00      5  \n",
       "2    Petrol            Manual    17.00    1197      80.00      5  \n",
       "3    Petrol            Manual    20.92     998      67.10      5  \n",
       "4    Diesel            Manual    22.77    1498      98.59      5  "
      ]
     },
     "execution_count": 46,
     "metadata": {},
     "output_type": "execute_result"
    }
   ],
   "source": [
    "X.head()"
   ]
  },
  {
   "cell_type": "code",
   "execution_count": 47,
   "metadata": {
    "execution": {
     "iopub.execute_input": "2024-07-28T10:56:49.959043Z",
     "iopub.status.busy": "2024-07-28T10:56:49.958070Z",
     "iopub.status.idle": "2024-07-28T10:56:49.966339Z",
     "shell.execute_reply": "2024-07-28T10:56:49.965279Z",
     "shell.execute_reply.started": "2024-07-28T10:56:49.959010Z"
    }
   },
   "outputs": [
    {
     "data": {
      "text/plain": [
       "0    120000\n",
       "1    550000\n",
       "2    215000\n",
       "3    226000\n",
       "4    570000\n",
       "Name: selling_price, dtype: int64"
      ]
     },
     "execution_count": 47,
     "metadata": {},
     "output_type": "execute_result"
    }
   ],
   "source": [
    "y.head()"
   ]
  },
  {
   "cell_type": "code",
   "execution_count": 48,
   "metadata": {
    "execution": {
     "iopub.execute_input": "2024-07-28T10:56:50.552293Z",
     "iopub.status.busy": "2024-07-28T10:56:50.551319Z",
     "iopub.status.idle": "2024-07-28T10:56:50.564905Z",
     "shell.execute_reply": "2024-07-28T10:56:50.563710Z",
     "shell.execute_reply.started": "2024-07-28T10:56:50.552257Z"
    }
   },
   "outputs": [
    {
     "data": {
      "text/plain": [
       "((12195, 12), (3049, 12))"
      ]
     },
     "execution_count": 48,
     "metadata": {},
     "output_type": "execute_result"
    }
   ],
   "source": [
    "X_train, X_test, y_train, y_test = train_test_split(X, y, test_size=0.2, random_state=42)\n",
    "X_train.shape, X_test.shape"
   ]
  },
  {
   "cell_type": "markdown",
   "metadata": {},
   "source": [
    "# Features Encoding"
   ]
  },
  {
   "cell_type": "raw",
   "metadata": {},
   "source": [
    "AdaBoost Regressor does not need feature scaling; hence we are going ahead with encoding categorical features."
   ]
  },
  {
   "cell_type": "code",
   "execution_count": 49,
   "metadata": {
    "execution": {
     "iopub.execute_input": "2024-07-28T10:56:54.305193Z",
     "iopub.status.busy": "2024-07-28T10:56:54.304754Z",
     "iopub.status.idle": "2024-07-28T10:56:54.319404Z",
     "shell.execute_reply": "2024-07-28T10:56:54.318042Z",
     "shell.execute_reply.started": "2024-07-28T10:56:54.305159Z"
    }
   },
   "outputs": [
    {
     "data": {
      "text/plain": [
       "car_name             121\n",
       "brand                 32\n",
       "model                120\n",
       "seller_type            3\n",
       "fuel_type              5\n",
       "transmission_type      2\n",
       "dtype: int64"
      ]
     },
     "execution_count": 49,
     "metadata": {},
     "output_type": "execute_result"
    }
   ],
   "source": [
    "# Calculating number of unique classes in cateegorical features\n",
    "unique_values = df[cat_cols].nunique()\n",
    "unique_values# Train Test Split"
   ]
  },
  {
   "cell_type": "markdown",
   "metadata": {},
   "source": [
    "* OneHotEncoder : seller_type, fuel_type, transmission_type have low number of unique values. They can be OneHotEncoded\n",
    "* OrdinalEncoder: car_name, brand and model have higher number of unique features. They have to be encoded using OrdinalEncoder"
   ]
  },
  {
   "cell_type": "code",
   "execution_count": 50,
   "metadata": {
    "execution": {
     "iopub.execute_input": "2024-07-28T10:56:57.744057Z",
     "iopub.status.busy": "2024-07-28T10:56:57.743642Z",
     "iopub.status.idle": "2024-07-28T10:56:57.753517Z",
     "shell.execute_reply": "2024-07-28T10:56:57.752302Z",
     "shell.execute_reply.started": "2024-07-28T10:56:57.744025Z"
    }
   },
   "outputs": [
    {
     "data": {
      "text/plain": [
       "(['seller_type', 'fuel_type', 'transmission_type'],\n",
       " ['car_name', 'brand', 'model'])"
      ]
     },
     "execution_count": 50,
     "metadata": {},
     "output_type": "execute_result"
    }
   ],
   "source": [
    "# OneHotEncoder columns\n",
    "onehot_cols = unique_values[unique_values <= 5].index.to_list()\n",
    "# Ordinal Encoder Columns\n",
    "ordinal_cols = unique_values[unique_values > 5].index.to_list()\n",
    "\n",
    "onehot_cols, ordinal_cols"
   ]
  },
  {
   "cell_type": "code",
   "execution_count": 51,
   "metadata": {
    "execution": {
     "iopub.execute_input": "2024-07-28T10:56:58.357142Z",
     "iopub.status.busy": "2024-07-28T10:56:58.356693Z",
     "iopub.status.idle": "2024-07-28T10:56:58.364353Z",
     "shell.execute_reply": "2024-07-28T10:56:58.363080Z",
     "shell.execute_reply.started": "2024-07-28T10:56:58.357109Z"
    }
   },
   "outputs": [],
   "source": [
    "# Initializing Column Transformer\n",
    "pre_processor = ColumnTransformer(transformers=[('onehot', OneHotEncoder(drop='first', handle_unknown='ignore'), onehot_cols),\n",
    "                                               ('ordinal', OrdinalEncoder(handle_unknown='use_encoded_value', unknown_value=-1), ordinal_cols)], remainder='passthrough', n_jobs=-1)"
   ]
  },
  {
   "cell_type": "code",
   "execution_count": 52,
   "metadata": {
    "execution": {
     "iopub.execute_input": "2024-07-28T10:56:58.863673Z",
     "iopub.status.busy": "2024-07-28T10:56:58.863121Z",
     "iopub.status.idle": "2024-07-28T10:56:58.907561Z",
     "shell.execute_reply": "2024-07-28T10:56:58.906082Z",
     "shell.execute_reply.started": "2024-07-28T10:56:58.863634Z"
    }
   },
   "outputs": [],
   "source": [
    "# Pre-processing X_train\n",
    "X_train = pre_processor.fit_transform(X_train)"
   ]
  },
  {
   "cell_type": "code",
   "execution_count": 53,
   "metadata": {
    "execution": {
     "iopub.execute_input": "2024-07-28T10:56:59.308881Z",
     "iopub.status.busy": "2024-07-28T10:56:59.308455Z",
     "iopub.status.idle": "2024-07-28T10:56:59.340992Z",
     "shell.execute_reply": "2024-07-28T10:56:59.339904Z",
     "shell.execute_reply.started": "2024-07-28T10:56:59.308849Z"
    }
   },
   "outputs": [],
   "source": [
    "# Pre-processing X_test\n",
    "X_test = pre_processor.transform(X_test)"
   ]
  },
  {
   "cell_type": "code",
   "execution_count": 54,
   "metadata": {
    "execution": {
     "iopub.execute_input": "2024-07-28T10:56:59.761409Z",
     "iopub.status.busy": "2024-07-28T10:56:59.760941Z",
     "iopub.status.idle": "2024-07-28T10:56:59.769610Z",
     "shell.execute_reply": "2024-07-28T10:56:59.768278Z",
     "shell.execute_reply.started": "2024-07-28T10:56:59.761348Z"
    }
   },
   "outputs": [
    {
     "data": {
      "text/plain": [
       "array(['onehot__seller_type_Individual',\n",
       "       'onehot__seller_type_Trustmark Dealer', 'onehot__fuel_type_Diesel',\n",
       "       'onehot__fuel_type_Electric', 'onehot__fuel_type_LPG',\n",
       "       'onehot__fuel_type_Petrol', 'onehot__transmission_type_Manual',\n",
       "       'ordinal__car_name', 'ordinal__brand', 'ordinal__model',\n",
       "       'remainder__vehicle_age', 'remainder__km_driven',\n",
       "       'remainder__mileage', 'remainder__engine', 'remainder__max_power',\n",
       "       'remainder__seats'], dtype=object)"
      ]
     },
     "execution_count": 54,
     "metadata": {},
     "output_type": "execute_result"
    }
   ],
   "source": [
    "encoded_cols = pre_processor.get_feature_names_out()\n",
    "encoded_cols"
   ]
  },
  {
   "cell_type": "code",
   "execution_count": 55,
   "metadata": {
    "execution": {
     "iopub.execute_input": "2024-07-28T10:57:00.221240Z",
     "iopub.status.busy": "2024-07-28T10:57:00.220842Z",
     "iopub.status.idle": "2024-07-28T10:57:00.250999Z",
     "shell.execute_reply": "2024-07-28T10:57:00.249632Z",
     "shell.execute_reply.started": "2024-07-28T10:57:00.221211Z"
    }
   },
   "outputs": [
    {
     "data": {
      "text/html": [
       "<div>\n",
       "<style scoped>\n",
       "    .dataframe tbody tr th:only-of-type {\n",
       "        vertical-align: middle;\n",
       "    }\n",
       "\n",
       "    .dataframe tbody tr th {\n",
       "        vertical-align: top;\n",
       "    }\n",
       "\n",
       "    .dataframe thead th {\n",
       "        text-align: right;\n",
       "    }\n",
       "</style>\n",
       "<table border=\"1\" class=\"dataframe\">\n",
       "  <thead>\n",
       "    <tr style=\"text-align: right;\">\n",
       "      <th></th>\n",
       "      <th>onehot__seller_type_Individual</th>\n",
       "      <th>onehot__seller_type_Trustmark Dealer</th>\n",
       "      <th>onehot__fuel_type_Diesel</th>\n",
       "      <th>onehot__fuel_type_Electric</th>\n",
       "      <th>onehot__fuel_type_LPG</th>\n",
       "      <th>onehot__fuel_type_Petrol</th>\n",
       "      <th>onehot__transmission_type_Manual</th>\n",
       "      <th>ordinal__car_name</th>\n",
       "      <th>ordinal__brand</th>\n",
       "      <th>ordinal__model</th>\n",
       "      <th>remainder__vehicle_age</th>\n",
       "      <th>remainder__km_driven</th>\n",
       "      <th>remainder__mileage</th>\n",
       "      <th>remainder__engine</th>\n",
       "      <th>remainder__max_power</th>\n",
       "      <th>remainder__seats</th>\n",
       "    </tr>\n",
       "  </thead>\n",
       "  <tbody>\n",
       "    <tr>\n",
       "      <th>0</th>\n",
       "      <td>0.0</td>\n",
       "      <td>0.0</td>\n",
       "      <td>1.0</td>\n",
       "      <td>0.0</td>\n",
       "      <td>0.0</td>\n",
       "      <td>0.0</td>\n",
       "      <td>1.0</td>\n",
       "      <td>72.0</td>\n",
       "      <td>18.0</td>\n",
       "      <td>42.0</td>\n",
       "      <td>5.0</td>\n",
       "      <td>41974.0</td>\n",
       "      <td>24.52</td>\n",
       "      <td>1248.0</td>\n",
       "      <td>88.50</td>\n",
       "      <td>7.0</td>\n",
       "    </tr>\n",
       "    <tr>\n",
       "      <th>1</th>\n",
       "      <td>1.0</td>\n",
       "      <td>0.0</td>\n",
       "      <td>0.0</td>\n",
       "      <td>0.0</td>\n",
       "      <td>0.0</td>\n",
       "      <td>1.0</td>\n",
       "      <td>1.0</td>\n",
       "      <td>78.0</td>\n",
       "      <td>18.0</td>\n",
       "      <td>99.0</td>\n",
       "      <td>16.0</td>\n",
       "      <td>90000.0</td>\n",
       "      <td>14.00</td>\n",
       "      <td>1061.0</td>\n",
       "      <td>64.00</td>\n",
       "      <td>5.0</td>\n",
       "    </tr>\n",
       "    <tr>\n",
       "      <th>2</th>\n",
       "      <td>1.0</td>\n",
       "      <td>0.0</td>\n",
       "      <td>1.0</td>\n",
       "      <td>0.0</td>\n",
       "      <td>0.0</td>\n",
       "      <td>0.0</td>\n",
       "      <td>1.0</td>\n",
       "      <td>114.0</td>\n",
       "      <td>30.0</td>\n",
       "      <td>94.0</td>\n",
       "      <td>10.0</td>\n",
       "      <td>80000.0</td>\n",
       "      <td>20.54</td>\n",
       "      <td>1598.0</td>\n",
       "      <td>103.60</td>\n",
       "      <td>5.0</td>\n",
       "    </tr>\n",
       "    <tr>\n",
       "      <th>3</th>\n",
       "      <td>0.0</td>\n",
       "      <td>0.0</td>\n",
       "      <td>0.0</td>\n",
       "      <td>0.0</td>\n",
       "      <td>0.0</td>\n",
       "      <td>1.0</td>\n",
       "      <td>0.0</td>\n",
       "      <td>100.0</td>\n",
       "      <td>27.0</td>\n",
       "      <td>86.0</td>\n",
       "      <td>8.0</td>\n",
       "      <td>55572.0</td>\n",
       "      <td>13.70</td>\n",
       "      <td>1798.0</td>\n",
       "      <td>157.75</td>\n",
       "      <td>5.0</td>\n",
       "    </tr>\n",
       "    <tr>\n",
       "      <th>4</th>\n",
       "      <td>1.0</td>\n",
       "      <td>0.0</td>\n",
       "      <td>0.0</td>\n",
       "      <td>0.0</td>\n",
       "      <td>0.0</td>\n",
       "      <td>1.0</td>\n",
       "      <td>1.0</td>\n",
       "      <td>95.0</td>\n",
       "      <td>25.0</td>\n",
       "      <td>64.0</td>\n",
       "      <td>4.0</td>\n",
       "      <td>110000.0</td>\n",
       "      <td>23.01</td>\n",
       "      <td>999.0</td>\n",
       "      <td>67.00</td>\n",
       "      <td>5.0</td>\n",
       "    </tr>\n",
       "  </tbody>\n",
       "</table>\n",
       "</div>"
      ],
      "text/plain": [
       "   onehot__seller_type_Individual  onehot__seller_type_Trustmark Dealer  \\\n",
       "0                             0.0                                   0.0   \n",
       "1                             1.0                                   0.0   \n",
       "2                             1.0                                   0.0   \n",
       "3                             0.0                                   0.0   \n",
       "4                             1.0                                   0.0   \n",
       "\n",
       "   onehot__fuel_type_Diesel  onehot__fuel_type_Electric  \\\n",
       "0                       1.0                         0.0   \n",
       "1                       0.0                         0.0   \n",
       "2                       1.0                         0.0   \n",
       "3                       0.0                         0.0   \n",
       "4                       0.0                         0.0   \n",
       "\n",
       "   onehot__fuel_type_LPG  onehot__fuel_type_Petrol  \\\n",
       "0                    0.0                       0.0   \n",
       "1                    0.0                       1.0   \n",
       "2                    0.0                       0.0   \n",
       "3                    0.0                       1.0   \n",
       "4                    0.0                       1.0   \n",
       "\n",
       "   onehot__transmission_type_Manual  ordinal__car_name  ordinal__brand  \\\n",
       "0                               1.0               72.0            18.0   \n",
       "1                               1.0               78.0            18.0   \n",
       "2                               1.0              114.0            30.0   \n",
       "3                               0.0              100.0            27.0   \n",
       "4                               1.0               95.0            25.0   \n",
       "\n",
       "   ordinal__model  remainder__vehicle_age  remainder__km_driven  \\\n",
       "0            42.0                     5.0               41974.0   \n",
       "1            99.0                    16.0               90000.0   \n",
       "2            94.0                    10.0               80000.0   \n",
       "3            86.0                     8.0               55572.0   \n",
       "4            64.0                     4.0              110000.0   \n",
       "\n",
       "   remainder__mileage  remainder__engine  remainder__max_power  \\\n",
       "0               24.52             1248.0                 88.50   \n",
       "1               14.00             1061.0                 64.00   \n",
       "2               20.54             1598.0                103.60   \n",
       "3               13.70             1798.0                157.75   \n",
       "4               23.01              999.0                 67.00   \n",
       "\n",
       "   remainder__seats  \n",
       "0               7.0  \n",
       "1               5.0  \n",
       "2               5.0  \n",
       "3               5.0  \n",
       "4               5.0  "
      ]
     },
     "execution_count": 55,
     "metadata": {},
     "output_type": "execute_result"
    }
   ],
   "source": [
    "# Making X_train and X_test pandas dataframes\n",
    "X_train = pd.DataFrame(X_train, columns = encoded_cols)\n",
    "X_test = pd.DataFrame(X_test, columns = encoded_cols)\n",
    "X_train.head()"
   ]
  },
  {
   "cell_type": "code",
   "execution_count": 56,
   "metadata": {
    "execution": {
     "iopub.execute_input": "2024-07-28T10:57:00.761210Z",
     "iopub.status.busy": "2024-07-28T10:57:00.760471Z",
     "iopub.status.idle": "2024-07-28T10:57:00.770698Z",
     "shell.execute_reply": "2024-07-28T10:57:00.769461Z",
     "shell.execute_reply.started": "2024-07-28T10:57:00.761176Z"
    }
   },
   "outputs": [
    {
     "data": {
      "text/plain": [
       "onehot__seller_type_Individual          float64\n",
       "onehot__seller_type_Trustmark Dealer    float64\n",
       "onehot__fuel_type_Diesel                float64\n",
       "onehot__fuel_type_Electric              float64\n",
       "onehot__fuel_type_LPG                   float64\n",
       "onehot__fuel_type_Petrol                float64\n",
       "onehot__transmission_type_Manual        float64\n",
       "ordinal__car_name                       float64\n",
       "ordinal__brand                          float64\n",
       "ordinal__model                          float64\n",
       "remainder__vehicle_age                  float64\n",
       "remainder__km_driven                    float64\n",
       "remainder__mileage                      float64\n",
       "remainder__engine                       float64\n",
       "remainder__max_power                    float64\n",
       "remainder__seats                        float64\n",
       "dtype: object"
      ]
     },
     "execution_count": 56,
     "metadata": {},
     "output_type": "execute_result"
    }
   ],
   "source": [
    "X_train.dtypes"
   ]
  },
  {
   "cell_type": "code",
   "execution_count": 57,
   "metadata": {
    "execution": {
     "iopub.execute_input": "2024-07-28T10:57:01.358656Z",
     "iopub.status.busy": "2024-07-28T10:57:01.358196Z",
     "iopub.status.idle": "2024-07-28T10:57:01.378735Z",
     "shell.execute_reply": "2024-07-28T10:57:01.377603Z",
     "shell.execute_reply.started": "2024-07-28T10:57:01.358622Z"
    }
   },
   "outputs": [
    {
     "data": {
      "text/plain": [
       "onehot__seller_type_Individual           float64\n",
       "onehot__seller_type_Trustmark Dealer     float64\n",
       "onehot__fuel_type_Diesel                 float64\n",
       "onehot__fuel_type_Electric               float64\n",
       "onehot__fuel_type_LPG                    float64\n",
       "onehot__fuel_type_Petrol                 float64\n",
       "onehot__transmission_type_Manual         float64\n",
       "ordinal__car_name                       category\n",
       "ordinal__brand                          category\n",
       "ordinal__model                          category\n",
       "remainder__vehicle_age                   float64\n",
       "remainder__km_driven                     float64\n",
       "remainder__mileage                       float64\n",
       "remainder__engine                        float64\n",
       "remainder__max_power                     float64\n",
       "remainder__seats                         float64\n",
       "dtype: object"
      ]
     },
     "execution_count": 57,
     "metadata": {},
     "output_type": "execute_result"
    }
   ],
   "source": [
    "# Changing data types of ordinal columns to category\n",
    "ordinal_columns = X_train.filter(like='ordinal').columns.tolist()\n",
    "X_train[ordinal_columns] = X_train[ordinal_columns].astype('category')\n",
    "X_test[ordinal_columns] = X_test[ordinal_columns].astype('category')\n",
    "X_train.dtypes"
   ]
  },
  {
   "cell_type": "markdown",
   "metadata": {},
   "source": [
    "# Sample AdaBoost Model"
   ]
  },
  {
   "cell_type": "raw",
   "metadata": {},
   "source": [
    "Default Parameters:\n",
    "\n",
    "AdaBoostRegressor(\n",
    "    estimator=None,\n",
    "    *,\n",
    "    n_estimators=50,\n",
    "    learning_rate=1.0,\n",
    "    loss='linear',\n",
    "    random_state=None,\n",
    "    base_estimator='deprecated',\n",
    ")"
   ]
  },
  {
   "cell_type": "code",
   "execution_count": 59,
   "metadata": {
    "execution": {
     "iopub.execute_input": "2024-07-28T10:57:30.146588Z",
     "iopub.status.busy": "2024-07-28T10:57:30.145923Z",
     "iopub.status.idle": "2024-07-28T10:57:30.153863Z",
     "shell.execute_reply": "2024-07-28T10:57:30.152582Z",
     "shell.execute_reply.started": "2024-07-28T10:57:30.146532Z"
    }
   },
   "outputs": [],
   "source": [
    "# Initializing\n",
    "sample_model = AdaBoostRegressor(random_state=42) # random_state for reproducibility"
   ]
  },
  {
   "cell_type": "code",
   "execution_count": 60,
   "metadata": {
    "execution": {
     "iopub.execute_input": "2024-07-28T10:57:30.997770Z",
     "iopub.status.busy": "2024-07-28T10:57:30.997358Z",
     "iopub.status.idle": "2024-07-28T10:57:31.674629Z",
     "shell.execute_reply": "2024-07-28T10:57:31.673430Z",
     "shell.execute_reply.started": "2024-07-28T10:57:30.997741Z"
    }
   },
   "outputs": [
    {
     "data": {
      "text/html": [
       "<style>#sk-container-id-1 {color: black;background-color: white;}#sk-container-id-1 pre{padding: 0;}#sk-container-id-1 div.sk-toggleable {background-color: white;}#sk-container-id-1 label.sk-toggleable__label {cursor: pointer;display: block;width: 100%;margin-bottom: 0;padding: 0.3em;box-sizing: border-box;text-align: center;}#sk-container-id-1 label.sk-toggleable__label-arrow:before {content: \"▸\";float: left;margin-right: 0.25em;color: #696969;}#sk-container-id-1 label.sk-toggleable__label-arrow:hover:before {color: black;}#sk-container-id-1 div.sk-estimator:hover label.sk-toggleable__label-arrow:before {color: black;}#sk-container-id-1 div.sk-toggleable__content {max-height: 0;max-width: 0;overflow: hidden;text-align: left;background-color: #f0f8ff;}#sk-container-id-1 div.sk-toggleable__content pre {margin: 0.2em;color: black;border-radius: 0.25em;background-color: #f0f8ff;}#sk-container-id-1 input.sk-toggleable__control:checked~div.sk-toggleable__content {max-height: 200px;max-width: 100%;overflow: auto;}#sk-container-id-1 input.sk-toggleable__control:checked~label.sk-toggleable__label-arrow:before {content: \"▾\";}#sk-container-id-1 div.sk-estimator input.sk-toggleable__control:checked~label.sk-toggleable__label {background-color: #d4ebff;}#sk-container-id-1 div.sk-label input.sk-toggleable__control:checked~label.sk-toggleable__label {background-color: #d4ebff;}#sk-container-id-1 input.sk-hidden--visually {border: 0;clip: rect(1px 1px 1px 1px);clip: rect(1px, 1px, 1px, 1px);height: 1px;margin: -1px;overflow: hidden;padding: 0;position: absolute;width: 1px;}#sk-container-id-1 div.sk-estimator {font-family: monospace;background-color: #f0f8ff;border: 1px dotted black;border-radius: 0.25em;box-sizing: border-box;margin-bottom: 0.5em;}#sk-container-id-1 div.sk-estimator:hover {background-color: #d4ebff;}#sk-container-id-1 div.sk-parallel-item::after {content: \"\";width: 100%;border-bottom: 1px solid gray;flex-grow: 1;}#sk-container-id-1 div.sk-label:hover label.sk-toggleable__label {background-color: #d4ebff;}#sk-container-id-1 div.sk-serial::before {content: \"\";position: absolute;border-left: 1px solid gray;box-sizing: border-box;top: 0;bottom: 0;left: 50%;z-index: 0;}#sk-container-id-1 div.sk-serial {display: flex;flex-direction: column;align-items: center;background-color: white;padding-right: 0.2em;padding-left: 0.2em;position: relative;}#sk-container-id-1 div.sk-item {position: relative;z-index: 1;}#sk-container-id-1 div.sk-parallel {display: flex;align-items: stretch;justify-content: center;background-color: white;position: relative;}#sk-container-id-1 div.sk-item::before, #sk-container-id-1 div.sk-parallel-item::before {content: \"\";position: absolute;border-left: 1px solid gray;box-sizing: border-box;top: 0;bottom: 0;left: 50%;z-index: -1;}#sk-container-id-1 div.sk-parallel-item {display: flex;flex-direction: column;z-index: 1;position: relative;background-color: white;}#sk-container-id-1 div.sk-parallel-item:first-child::after {align-self: flex-end;width: 50%;}#sk-container-id-1 div.sk-parallel-item:last-child::after {align-self: flex-start;width: 50%;}#sk-container-id-1 div.sk-parallel-item:only-child::after {width: 0;}#sk-container-id-1 div.sk-dashed-wrapped {border: 1px dashed gray;margin: 0 0.4em 0.5em 0.4em;box-sizing: border-box;padding-bottom: 0.4em;background-color: white;}#sk-container-id-1 div.sk-label label {font-family: monospace;font-weight: bold;display: inline-block;line-height: 1.2em;}#sk-container-id-1 div.sk-label-container {text-align: center;}#sk-container-id-1 div.sk-container {/* jupyter's `normalize.less` sets `[hidden] { display: none; }` but bootstrap.min.css set `[hidden] { display: none !important; }` so we also need the `!important` here to be able to override the default hidden behavior on the sphinx rendered scikit-learn.org. See: https://github.com/scikit-learn/scikit-learn/issues/21755 */display: inline-block !important;position: relative;}#sk-container-id-1 div.sk-text-repr-fallback {display: none;}</style><div id=\"sk-container-id-1\" class=\"sk-top-container\"><div class=\"sk-text-repr-fallback\"><pre>AdaBoostRegressor(random_state=42)</pre><b>In a Jupyter environment, please rerun this cell to show the HTML representation or trust the notebook. <br />On GitHub, the HTML representation is unable to render, please try loading this page with nbviewer.org.</b></div><div class=\"sk-container\" hidden><div class=\"sk-item\"><div class=\"sk-estimator sk-toggleable\"><input class=\"sk-toggleable__control sk-hidden--visually\" id=\"sk-estimator-id-1\" type=\"checkbox\" checked><label for=\"sk-estimator-id-1\" class=\"sk-toggleable__label sk-toggleable__label-arrow\">AdaBoostRegressor</label><div class=\"sk-toggleable__content\"><pre>AdaBoostRegressor(random_state=42)</pre></div></div></div></div></div>"
      ],
      "text/plain": [
       "AdaBoostRegressor(random_state=42)"
      ]
     },
     "execution_count": 60,
     "metadata": {},
     "output_type": "execute_result"
    }
   ],
   "source": [
    "# Fitting to X_train, y_train\n",
    "sample_model.fit(X_train, y_train)"
   ]
  },
  {
   "cell_type": "code",
   "execution_count": 61,
   "metadata": {
    "execution": {
     "iopub.execute_input": "2024-07-28T10:57:33.023460Z",
     "iopub.status.busy": "2024-07-28T10:57:33.023001Z",
     "iopub.status.idle": "2024-07-28T10:57:33.047694Z",
     "shell.execute_reply": "2024-07-28T10:57:33.046463Z",
     "shell.execute_reply.started": "2024-07-28T10:57:33.023420Z"
    }
   },
   "outputs": [],
   "source": [
    "# Sample Prediction\n",
    "sample_y_pred = sample_model.predict(X_test)"
   ]
  },
  {
   "cell_type": "markdown",
   "metadata": {},
   "source": [
    "## Sample Model Scores"
   ]
  },
  {
   "cell_type": "code",
   "execution_count": 62,
   "metadata": {
    "execution": {
     "iopub.execute_input": "2024-07-28T10:57:34.648023Z",
     "iopub.status.busy": "2024-07-28T10:57:34.647621Z",
     "iopub.status.idle": "2024-07-28T10:57:34.656573Z",
     "shell.execute_reply": "2024-07-28T10:57:34.655356Z",
     "shell.execute_reply.started": "2024-07-28T10:57:34.647993Z"
    }
   },
   "outputs": [],
   "source": [
    "sample_r2 = r2_score(y_test, sample_y_pred)\n",
    "sample_rmse = np.sqrt(mean_squared_error(y_test, sample_y_pred))\n",
    "sample_mae = mean_absolute_error(y_test, sample_y_pred)"
   ]
  },
  {
   "cell_type": "code",
   "execution_count": 63,
   "metadata": {
    "execution": {
     "iopub.execute_input": "2024-07-28T10:57:38.414820Z",
     "iopub.status.busy": "2024-07-28T10:57:38.414422Z",
     "iopub.status.idle": "2024-07-28T10:57:38.421232Z",
     "shell.execute_reply": "2024-07-28T10:57:38.419923Z",
     "shell.execute_reply.started": "2024-07-28T10:57:38.414792Z"
    }
   },
   "outputs": [
    {
     "name": "stdout",
     "output_type": "stream",
     "text": [
      "R2 score of sample model: 0.5753336720676556\n",
      "RMSE of sample model: 508139.71541570936\n",
      "MAE score of sample model: 366013.5658789778\n"
     ]
    }
   ],
   "source": [
    "print(\"R2 score of sample model:\", sample_r2)\n",
    "print(\"RMSE of sample model:\", sample_rmse)\n",
    "print(\"MAE score of sample model:\", sample_mae)"
   ]
  },
  {
   "cell_type": "markdown",
   "metadata": {},
   "source": [
    "RMSE of over 5 lakh seems to be very bad."
   ]
  },
  {
   "cell_type": "markdown",
   "metadata": {},
   "source": [
    "# Hyperparameter Tuning"
   ]
  },
  {
   "cell_type": "raw",
   "metadata": {},
   "source": [
    "Default Parameters:\n",
    "\n",
    "AdaBoostRegressor(\n",
    "    estimator=None,\n",
    "    *,\n",
    "    n_estimators=50,\n",
    "    learning_rate=1.0,\n",
    "    loss='linear',\n",
    "    random_state=None,\n",
    "    base_estimator='deprecated',\n",
    ")"
   ]
  },
  {
   "cell_type": "code",
   "execution_count": 79,
   "metadata": {
    "execution": {
     "iopub.execute_input": "2024-07-28T11:04:14.842905Z",
     "iopub.status.busy": "2024-07-28T11:04:14.841297Z",
     "iopub.status.idle": "2024-07-28T11:04:14.849908Z",
     "shell.execute_reply": "2024-07-28T11:04:14.848441Z",
     "shell.execute_reply.started": "2024-07-28T11:04:14.842854Z"
    }
   },
   "outputs": [],
   "source": [
    "# Initializing Hyperparameters\n",
    "param_distributions = {'estimator' : [DecisionTreeRegressor(max_depth=1), DecisionTreeRegressor(max_depth=2)],\n",
    "                       'n_estimators': [50, 80, 100],\n",
    "                      'learning_rate' : [0.001, 0.01, 0.1, 1, 2],\n",
    "                      'loss' : ['linear', 'square', 'exponential']}"
   ]
  },
  {
   "cell_type": "code",
   "execution_count": 80,
   "metadata": {
    "execution": {
     "iopub.execute_input": "2024-07-28T11:04:14.852744Z",
     "iopub.status.busy": "2024-07-28T11:04:14.852281Z",
     "iopub.status.idle": "2024-07-28T11:04:14.864152Z",
     "shell.execute_reply": "2024-07-28T11:04:14.862767Z",
     "shell.execute_reply.started": "2024-07-28T11:04:14.852710Z"
    }
   },
   "outputs": [],
   "source": [
    "# Initializing Tuner\n",
    "rcv = RandomizedSearchCV(estimator=AdaBoostRegressor(), param_distributions=param_distributions, \n",
    "                         scoring='r2',\n",
    "                         n_jobs=-1, n_iter=50, cv=2)"
   ]
  },
  {
   "cell_type": "code",
   "execution_count": 81,
   "metadata": {
    "execution": {
     "iopub.execute_input": "2024-07-28T11:04:14.867096Z",
     "iopub.status.busy": "2024-07-28T11:04:14.866596Z",
     "iopub.status.idle": "2024-07-28T11:04:37.419668Z",
     "shell.execute_reply": "2024-07-28T11:04:37.418288Z",
     "shell.execute_reply.started": "2024-07-28T11:04:14.867053Z"
    }
   },
   "outputs": [
    {
     "data": {
      "text/html": [
       "<style>#sk-container-id-3 {color: black;background-color: white;}#sk-container-id-3 pre{padding: 0;}#sk-container-id-3 div.sk-toggleable {background-color: white;}#sk-container-id-3 label.sk-toggleable__label {cursor: pointer;display: block;width: 100%;margin-bottom: 0;padding: 0.3em;box-sizing: border-box;text-align: center;}#sk-container-id-3 label.sk-toggleable__label-arrow:before {content: \"▸\";float: left;margin-right: 0.25em;color: #696969;}#sk-container-id-3 label.sk-toggleable__label-arrow:hover:before {color: black;}#sk-container-id-3 div.sk-estimator:hover label.sk-toggleable__label-arrow:before {color: black;}#sk-container-id-3 div.sk-toggleable__content {max-height: 0;max-width: 0;overflow: hidden;text-align: left;background-color: #f0f8ff;}#sk-container-id-3 div.sk-toggleable__content pre {margin: 0.2em;color: black;border-radius: 0.25em;background-color: #f0f8ff;}#sk-container-id-3 input.sk-toggleable__control:checked~div.sk-toggleable__content {max-height: 200px;max-width: 100%;overflow: auto;}#sk-container-id-3 input.sk-toggleable__control:checked~label.sk-toggleable__label-arrow:before {content: \"▾\";}#sk-container-id-3 div.sk-estimator input.sk-toggleable__control:checked~label.sk-toggleable__label {background-color: #d4ebff;}#sk-container-id-3 div.sk-label input.sk-toggleable__control:checked~label.sk-toggleable__label {background-color: #d4ebff;}#sk-container-id-3 input.sk-hidden--visually {border: 0;clip: rect(1px 1px 1px 1px);clip: rect(1px, 1px, 1px, 1px);height: 1px;margin: -1px;overflow: hidden;padding: 0;position: absolute;width: 1px;}#sk-container-id-3 div.sk-estimator {font-family: monospace;background-color: #f0f8ff;border: 1px dotted black;border-radius: 0.25em;box-sizing: border-box;margin-bottom: 0.5em;}#sk-container-id-3 div.sk-estimator:hover {background-color: #d4ebff;}#sk-container-id-3 div.sk-parallel-item::after {content: \"\";width: 100%;border-bottom: 1px solid gray;flex-grow: 1;}#sk-container-id-3 div.sk-label:hover label.sk-toggleable__label {background-color: #d4ebff;}#sk-container-id-3 div.sk-serial::before {content: \"\";position: absolute;border-left: 1px solid gray;box-sizing: border-box;top: 0;bottom: 0;left: 50%;z-index: 0;}#sk-container-id-3 div.sk-serial {display: flex;flex-direction: column;align-items: center;background-color: white;padding-right: 0.2em;padding-left: 0.2em;position: relative;}#sk-container-id-3 div.sk-item {position: relative;z-index: 1;}#sk-container-id-3 div.sk-parallel {display: flex;align-items: stretch;justify-content: center;background-color: white;position: relative;}#sk-container-id-3 div.sk-item::before, #sk-container-id-3 div.sk-parallel-item::before {content: \"\";position: absolute;border-left: 1px solid gray;box-sizing: border-box;top: 0;bottom: 0;left: 50%;z-index: -1;}#sk-container-id-3 div.sk-parallel-item {display: flex;flex-direction: column;z-index: 1;position: relative;background-color: white;}#sk-container-id-3 div.sk-parallel-item:first-child::after {align-self: flex-end;width: 50%;}#sk-container-id-3 div.sk-parallel-item:last-child::after {align-self: flex-start;width: 50%;}#sk-container-id-3 div.sk-parallel-item:only-child::after {width: 0;}#sk-container-id-3 div.sk-dashed-wrapped {border: 1px dashed gray;margin: 0 0.4em 0.5em 0.4em;box-sizing: border-box;padding-bottom: 0.4em;background-color: white;}#sk-container-id-3 div.sk-label label {font-family: monospace;font-weight: bold;display: inline-block;line-height: 1.2em;}#sk-container-id-3 div.sk-label-container {text-align: center;}#sk-container-id-3 div.sk-container {/* jupyter's `normalize.less` sets `[hidden] { display: none; }` but bootstrap.min.css set `[hidden] { display: none !important; }` so we also need the `!important` here to be able to override the default hidden behavior on the sphinx rendered scikit-learn.org. See: https://github.com/scikit-learn/scikit-learn/issues/21755 */display: inline-block !important;position: relative;}#sk-container-id-3 div.sk-text-repr-fallback {display: none;}</style><div id=\"sk-container-id-3\" class=\"sk-top-container\"><div class=\"sk-text-repr-fallback\"><pre>RandomizedSearchCV(cv=2, estimator=AdaBoostRegressor(), n_iter=50, n_jobs=-1,\n",
       "                   param_distributions={&#x27;estimator&#x27;: [DecisionTreeRegressor(max_depth=1),\n",
       "                                                      DecisionTreeRegressor(max_depth=2)],\n",
       "                                        &#x27;learning_rate&#x27;: [0.001, 0.01, 0.1, 1,\n",
       "                                                          2],\n",
       "                                        &#x27;loss&#x27;: [&#x27;linear&#x27;, &#x27;square&#x27;,\n",
       "                                                 &#x27;exponential&#x27;],\n",
       "                                        &#x27;n_estimators&#x27;: [50, 80, 100]},\n",
       "                   scoring=&#x27;r2&#x27;)</pre><b>In a Jupyter environment, please rerun this cell to show the HTML representation or trust the notebook. <br />On GitHub, the HTML representation is unable to render, please try loading this page with nbviewer.org.</b></div><div class=\"sk-container\" hidden><div class=\"sk-item sk-dashed-wrapped\"><div class=\"sk-label-container\"><div class=\"sk-label sk-toggleable\"><input class=\"sk-toggleable__control sk-hidden--visually\" id=\"sk-estimator-id-5\" type=\"checkbox\" ><label for=\"sk-estimator-id-5\" class=\"sk-toggleable__label sk-toggleable__label-arrow\">RandomizedSearchCV</label><div class=\"sk-toggleable__content\"><pre>RandomizedSearchCV(cv=2, estimator=AdaBoostRegressor(), n_iter=50, n_jobs=-1,\n",
       "                   param_distributions={&#x27;estimator&#x27;: [DecisionTreeRegressor(max_depth=1),\n",
       "                                                      DecisionTreeRegressor(max_depth=2)],\n",
       "                                        &#x27;learning_rate&#x27;: [0.001, 0.01, 0.1, 1,\n",
       "                                                          2],\n",
       "                                        &#x27;loss&#x27;: [&#x27;linear&#x27;, &#x27;square&#x27;,\n",
       "                                                 &#x27;exponential&#x27;],\n",
       "                                        &#x27;n_estimators&#x27;: [50, 80, 100]},\n",
       "                   scoring=&#x27;r2&#x27;)</pre></div></div></div><div class=\"sk-parallel\"><div class=\"sk-parallel-item\"><div class=\"sk-item\"><div class=\"sk-label-container\"><div class=\"sk-label sk-toggleable\"><input class=\"sk-toggleable__control sk-hidden--visually\" id=\"sk-estimator-id-6\" type=\"checkbox\" ><label for=\"sk-estimator-id-6\" class=\"sk-toggleable__label sk-toggleable__label-arrow\">estimator: AdaBoostRegressor</label><div class=\"sk-toggleable__content\"><pre>AdaBoostRegressor()</pre></div></div></div><div class=\"sk-serial\"><div class=\"sk-item\"><div class=\"sk-estimator sk-toggleable\"><input class=\"sk-toggleable__control sk-hidden--visually\" id=\"sk-estimator-id-7\" type=\"checkbox\" ><label for=\"sk-estimator-id-7\" class=\"sk-toggleable__label sk-toggleable__label-arrow\">AdaBoostRegressor</label><div class=\"sk-toggleable__content\"><pre>AdaBoostRegressor()</pre></div></div></div></div></div></div></div></div></div></div>"
      ],
      "text/plain": [
       "RandomizedSearchCV(cv=2, estimator=AdaBoostRegressor(), n_iter=50, n_jobs=-1,\n",
       "                   param_distributions={'estimator': [DecisionTreeRegressor(max_depth=1),\n",
       "                                                      DecisionTreeRegressor(max_depth=2)],\n",
       "                                        'learning_rate': [0.001, 0.01, 0.1, 1,\n",
       "                                                          2],\n",
       "                                        'loss': ['linear', 'square',\n",
       "                                                 'exponential'],\n",
       "                                        'n_estimators': [50, 80, 100]},\n",
       "                   scoring='r2')"
      ]
     },
     "execution_count": 81,
     "metadata": {},
     "output_type": "execute_result"
    }
   ],
   "source": [
    "# Finding best model\n",
    "rcv.fit(X_train, y_train)"
   ]
  },
  {
   "cell_type": "code",
   "execution_count": 82,
   "metadata": {
    "execution": {
     "iopub.execute_input": "2024-07-28T11:04:37.422566Z",
     "iopub.status.busy": "2024-07-28T11:04:37.422151Z",
     "iopub.status.idle": "2024-07-28T11:04:37.430738Z",
     "shell.execute_reply": "2024-07-28T11:04:37.429455Z",
     "shell.execute_reply.started": "2024-07-28T11:04:37.422515Z"
    }
   },
   "outputs": [
    {
     "data": {
      "text/plain": [
       "{'n_estimators': 80,\n",
       " 'loss': 'linear',\n",
       " 'learning_rate': 1,\n",
       " 'estimator': DecisionTreeRegressor(max_depth=2)}"
      ]
     },
     "execution_count": 82,
     "metadata": {},
     "output_type": "execute_result"
    }
   ],
   "source": [
    "model = rcv.best_estimator_\n",
    "params = rcv.best_params_\n",
    "params # Best Parameters"
   ]
  },
  {
   "cell_type": "markdown",
   "metadata": {},
   "source": [
    "## Model Scores"
   ]
  },
  {
   "cell_type": "code",
   "execution_count": 83,
   "metadata": {
    "execution": {
     "iopub.execute_input": "2024-07-28T11:04:37.432573Z",
     "iopub.status.busy": "2024-07-28T11:04:37.432159Z",
     "iopub.status.idle": "2024-07-28T11:04:37.463945Z",
     "shell.execute_reply": "2024-07-28T11:04:37.462614Z",
     "shell.execute_reply.started": "2024-07-28T11:04:37.432540Z"
    }
   },
   "outputs": [],
   "source": [
    "y_pred = model.predict(X_test)"
   ]
  },
  {
   "cell_type": "code",
   "execution_count": 84,
   "metadata": {
    "execution": {
     "iopub.execute_input": "2024-07-28T11:04:37.467192Z",
     "iopub.status.busy": "2024-07-28T11:04:37.466828Z",
     "iopub.status.idle": "2024-07-28T11:04:37.476163Z",
     "shell.execute_reply": "2024-07-28T11:04:37.474906Z",
     "shell.execute_reply.started": "2024-07-28T11:04:37.467161Z"
    }
   },
   "outputs": [],
   "source": [
    "r2 = r2_score(y_test, y_pred)\n",
    "rmse = np.sqrt(mean_squared_error(y_test, y_pred))\n",
    "mae = mean_absolute_error(y_test, y_pred)"
   ]
  },
  {
   "cell_type": "code",
   "execution_count": 85,
   "metadata": {
    "execution": {
     "iopub.execute_input": "2024-07-28T11:04:37.478206Z",
     "iopub.status.busy": "2024-07-28T11:04:37.477744Z",
     "iopub.status.idle": "2024-07-28T11:04:37.489116Z",
     "shell.execute_reply": "2024-07-28T11:04:37.487631Z",
     "shell.execute_reply.started": "2024-07-28T11:04:37.478164Z"
    }
   },
   "outputs": [
    {
     "name": "stdout",
     "output_type": "stream",
     "text": [
      "R2 score of model: -0.052287869929452\n",
      "RMSE of model: 799883.077165637\n",
      "MAE score of model: 677362.0071919617\n"
     ]
    }
   ],
   "source": [
    "print(\"R2 score of model:\", r2)\n",
    "print(\"RMSE of model:\", rmse)\n",
    "print(\"MAE score of model:\", mae)"
   ]
  },
  {
   "cell_type": "code",
   "execution_count": 86,
   "metadata": {
    "execution": {
     "iopub.execute_input": "2024-07-28T11:04:37.490875Z",
     "iopub.status.busy": "2024-07-28T11:04:37.490528Z",
     "iopub.status.idle": "2024-07-28T11:04:37.502754Z",
     "shell.execute_reply": "2024-07-28T11:04:37.501471Z",
     "shell.execute_reply.started": "2024-07-28T11:04:37.490845Z"
    }
   },
   "outputs": [
    {
     "name": "stdout",
     "output_type": "stream",
     "text": [
      "Sample Model R2 Score: 0.5753336720676556\n",
      "\n",
      "Model R2 Score after hyperparameter tuning: -0.052287869929452\n"
     ]
    }
   ],
   "source": [
    "print(\"Sample Model R2 Score:\", sample_r2, end=\"\\n\\n\")\n",
    "print(\"Model R2 Score after hyperparameter tuning:\", r2)"
   ]
  },
  {
   "cell_type": "code",
   "execution_count": 87,
   "metadata": {
    "execution": {
     "iopub.execute_input": "2024-07-28T11:04:37.504881Z",
     "iopub.status.busy": "2024-07-28T11:04:37.504405Z",
     "iopub.status.idle": "2024-07-28T11:04:37.515207Z",
     "shell.execute_reply": "2024-07-28T11:04:37.513982Z",
     "shell.execute_reply.started": "2024-07-28T11:04:37.504840Z"
    }
   },
   "outputs": [
    {
     "name": "stdout",
     "output_type": "stream",
     "text": [
      "There is a change in the R2 score from 0.58 to -0.05\n"
     ]
    }
   ],
   "source": [
    "print(f\"There is a change in the R2 score from {sample_r2:.2f} to {r2:.2f}\")"
   ]
  },
  {
   "cell_type": "markdown",
   "metadata": {},
   "source": [
    "# Model Pickling"
   ]
  },
  {
   "cell_type": "code",
   "execution_count": 90,
   "metadata": {
    "execution": {
     "iopub.execute_input": "2024-07-28T11:06:43.742979Z",
     "iopub.status.busy": "2024-07-28T11:06:43.742459Z",
     "iopub.status.idle": "2024-07-28T11:06:43.754168Z",
     "shell.execute_reply": "2024-07-28T11:06:43.752636Z",
     "shell.execute_reply.started": "2024-07-28T11:06:43.742945Z"
    }
   },
   "outputs": [],
   "source": [
    "# Directory where model has to be stored\n",
    "directory = 'Models'\n",
    "# Getting Current Working Directory\n",
    "path = os.path.join(os.getcwd(), directory, 'adaboost_regressor.pkl')\n",
    "\n",
    "with open(path, 'wb') as file_obj:\n",
    "    pickle.dump(model, file_obj)"
   ]
  },
  {
   "cell_type": "code",
   "execution_count": null,
   "metadata": {
    "execution": {
     "iopub.execute_input": "2024-07-28T11:06:44.761898Z",
     "iopub.status.busy": "2024-07-28T11:06:44.761440Z",
     "iopub.status.idle": "2024-07-28T11:06:44.768022Z",
     "shell.execute_reply": "2024-07-28T11:06:44.766755Z",
     "shell.execute_reply.started": "2024-07-28T11:06:44.761868Z"
    }
   },
   "outputs": [],
   "source": [
    "print(\"Model has been pickled at\", path)"
   ]
  }
 ],
 "metadata": {
  "kaggle": {
   "accelerator": "none",
   "dataSources": [
    {
     "datasetId": 3023052,
     "sourceId": 5235959,
     "sourceType": "datasetVersion"
    },
    {
     "datasetId": 5452339,
     "sourceId": 9043797,
     "sourceType": "datasetVersion"
    }
   ],
   "dockerImageVersionId": 30746,
   "isGpuEnabled": false,
   "isInternetEnabled": true,
   "language": "python",
   "sourceType": "notebook"
  },
  "kernelspec": {
   "display_name": "Python 3 (ipykernel)",
   "language": "python",
   "name": "python3"
  },
  "language_info": {
   "codemirror_mode": {
    "name": "ipython",
    "version": 3
   },
   "file_extension": ".py",
   "mimetype": "text/x-python",
   "name": "python",
   "nbconvert_exporter": "python",
   "pygments_lexer": "ipython3",
   "version": "3.11.4"
  }
 },
 "nbformat": 4,
 "nbformat_minor": 4
}
