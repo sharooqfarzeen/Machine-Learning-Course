{
 "cells": [
  {
   "cell_type": "markdown",
   "id": "e0c72baf",
   "metadata": {},
   "source": [
    "# Tokenization using NLTK\n",
    "\n",
    "Goal of this notebook is to get a basic idea about different tokenization methods using NLTK packages like sent_tokenize, word_tokenize, word_punct_tokenize and treebank."
   ]
  },
  {
   "cell_type": "code",
   "execution_count": 1,
   "id": "eaa23aa8",
   "metadata": {},
   "outputs": [
    {
     "name": "stdout",
     "output_type": "stream",
     "text": [
      "Requirement already satisfied: nltk in c:\\users\\sharo\\anaconda3\\lib\\site-packages (3.8.1)\n",
      "Requirement already satisfied: click in c:\\users\\sharo\\anaconda3\\lib\\site-packages (from nltk) (8.0.4)\n",
      "Requirement already satisfied: joblib in c:\\users\\sharo\\anaconda3\\lib\\site-packages (from nltk) (1.2.0)\n",
      "Requirement already satisfied: regex>=2021.8.3 in c:\\users\\sharo\\anaconda3\\lib\\site-packages (from nltk) (2022.7.9)\n",
      "Requirement already satisfied: tqdm in c:\\users\\sharo\\anaconda3\\lib\\site-packages (from nltk) (4.65.0)\n",
      "Requirement already satisfied: colorama in c:\\users\\sharo\\anaconda3\\lib\\site-packages (from click->nltk) (0.4.6)\n"
     ]
    }
   ],
   "source": [
    "!pip install nltk"
   ]
  },
  {
   "cell_type": "code",
   "execution_count": 32,
   "id": "7e536b6d",
   "metadata": {},
   "outputs": [],
   "source": [
    "import nltk"
   ]
  },
  {
   "cell_type": "markdown",
   "id": "d880c762",
   "metadata": {},
   "source": [
    "# Creating the corpus"
   ]
  },
  {
   "cell_type": "code",
   "execution_count": 41,
   "id": "3e8cc549",
   "metadata": {},
   "outputs": [],
   "source": [
    "corpus = \"\"\"This is an example corpus. A corpus is a collection of authentic, machine-readable texts that can be used to train AI and machine learning systems.\n",
    "\n",
    "Next Paragraph. Corpora can be made up of a variety of materials, including:\n",
    "Newspapers, Novels, Recipes, Radio broadcasts, Television shows, Movies, and Tweets.\n",
    "\n",
    "Adding words with apostrophes to see how it works - it's can't haven't.\n",
    "Adding words with paranthesis - (inside)\"\"\""
   ]
  },
  {
   "cell_type": "markdown",
   "id": "93477114",
   "metadata": {},
   "source": [
    "# Decompose corpus into a list of sentences using sent_tokenize"
   ]
  },
  {
   "cell_type": "code",
   "execution_count": 42,
   "id": "de29b63e",
   "metadata": {},
   "outputs": [],
   "source": [
    "from nltk.tokenize import sent_tokenize"
   ]
  },
  {
   "cell_type": "code",
   "execution_count": 43,
   "id": "bb046735",
   "metadata": {},
   "outputs": [
    {
     "data": {
      "text/plain": [
       "['This is an example corpus.',\n",
       " 'A corpus is a collection of authentic, machine-readable texts that can be used to train AI and machine learning systems.',\n",
       " 'Next Paragraph.',\n",
       " 'Corpora can be made up of a variety of materials, including:\\nNewspapers, Novels, Recipes, Radio broadcasts, Television shows, Movies, and Tweets.',\n",
       " \"Adding words with apostrophes to see how it works - it's can't haven't.\",\n",
       " 'Adding words with paranthesis - (inside)']"
      ]
     },
     "execution_count": 43,
     "metadata": {},
     "output_type": "execute_result"
    }
   ],
   "source": [
    "sentences = sent_tokenize(corpus)\n",
    "sentences"
   ]
  },
  {
   "cell_type": "markdown",
   "id": "91b59b34",
   "metadata": {},
   "source": [
    "Sentences are separated by periods(.)."
   ]
  },
  {
   "cell_type": "markdown",
   "id": "e34bc674",
   "metadata": {},
   "source": [
    "# Decompose corpus into a list of words using TreebankWordTokenizer"
   ]
  },
  {
   "cell_type": "markdown",
   "id": "874ed936",
   "metadata": {},
   "source": [
    "### TreebankWordTokenizer\n",
    "\n",
    "Origin: Based on the Penn Treebank tokenization conventions, which are widely used in parsing and tagging corpora.\n",
    "\n",
    "Rules: It uses a set of rules and regular expressions designed specifically for tokenizing text in a way that is compatible with the Penn Treebank corpus. It handles punctuation and contractions more consistently with the treebank format.\n",
    "\n",
    "Features:\n",
    "\n",
    "* Splits standard contractions (e.g., \"can't\" -> [\"ca\", \"n't\"]).\n",
    "* Separates punctuation from words (e.g., \"Hello!\" -> [\"Hello\", \"!\"]).\n",
    "* Handles periods in abbreviations and numeric expressions more accurately."
   ]
  },
  {
   "cell_type": "code",
   "execution_count": 44,
   "id": "f0893f43",
   "metadata": {},
   "outputs": [],
   "source": [
    "from nltk.tokenize.treebank import TreebankWordTokenizer"
   ]
  },
  {
   "cell_type": "code",
   "execution_count": 45,
   "id": "7e057cb6",
   "metadata": {},
   "outputs": [
    {
     "name": "stdout",
     "output_type": "stream",
     "text": [
      "['This', 'is', 'an', 'example', 'corpus.', 'A', 'corpus', 'is', 'a', 'collection', 'of', 'authentic', ',', 'machine-readable', 'texts', 'that', 'can', 'be', 'used', 'to', 'train', 'AI', 'and', 'machine', 'learning', 'systems.', 'Next', 'Paragraph.', 'Corpora', 'can', 'be', 'made', 'up', 'of', 'a', 'variety', 'of', 'materials', ',', 'including', ':', 'Newspapers', ',', 'Novels', ',', 'Recipes', ',', 'Radio', 'broadcasts', ',', 'Television', 'shows', ',', 'Movies', ',', 'and', 'Tweets.', 'Adding', 'words', 'with', 'apostrophes', 'to', 'see', 'how', 'it', 'works', '-', 'it', \"'s\", 'ca', \"n't\", \"haven't.\", 'Adding', 'words', 'with', 'paranthesis', '-', '-LRB-', 'inside', '-RRB-']\n"
     ]
    }
   ],
   "source": [
    "tokenizer = TreebankWordTokenizer()\n",
    "\n",
    "treebank_words = tokenizer.tokenize(text=corpus, convert_parentheses=True)\n",
    "print(treebank_words)"
   ]
  },
  {
   "cell_type": "markdown",
   "id": "e02b3405",
   "metadata": {},
   "source": [
    "\"it's\" has become (it) and ('s), while (can't) has become (ca) and (n't). Paranthesis have been converted to LRB and RRB tokens."
   ]
  },
  {
   "cell_type": "markdown",
   "id": "32174cb6",
   "metadata": {},
   "source": [
    "# Decompose corpus into a list of words using word_tokenize"
   ]
  },
  {
   "cell_type": "markdown",
   "id": "1e1cebb2",
   "metadata": {},
   "source": [
    "### word_tokenize\n",
    "\n",
    "* Basis: Uses the 'punkt' tokenizer for sentence splitting and then tokenizes sentences into words.\n",
    "* Complexity: More sophisticated than TreebankWordTokenizer and can handle a variety of edge cases well.\n",
    "* General Use: Suitable for general-purpose tokenization where standard NLP processing is needed."
   ]
  },
  {
   "cell_type": "code",
   "execution_count": 46,
   "id": "6711837c",
   "metadata": {},
   "outputs": [
    {
     "name": "stderr",
     "output_type": "stream",
     "text": [
      "[nltk_data] Downloading package punkt to\n",
      "[nltk_data]     C:\\Users\\sharo\\AppData\\Roaming\\nltk_data...\n",
      "[nltk_data]   Package punkt is already up-to-date!\n"
     ]
    },
    {
     "data": {
      "text/plain": [
       "True"
      ]
     },
     "execution_count": 46,
     "metadata": {},
     "output_type": "execute_result"
    }
   ],
   "source": [
    "from nltk.tokenize import word_tokenize\n",
    "nltk.download('punkt') # 'punkt' tokenizer has pre-trained data that is used by nltk.word_tokenize to split corpora into smaller units"
   ]
  },
  {
   "cell_type": "code",
   "execution_count": 48,
   "id": "d282ef1d",
   "metadata": {},
   "outputs": [
    {
     "name": "stdout",
     "output_type": "stream",
     "text": [
      "['This', 'is', 'an', 'example', 'corpus', '.', 'A', 'corpus', 'is', 'a', 'collection', 'of', 'authentic', ',', 'machine-readable', 'texts', 'that', 'can', 'be', 'used', 'to', 'train', 'AI', 'and', 'machine', 'learning', 'systems', '.', 'Next', 'Paragraph', '.', 'Corpora', 'can', 'be', 'made', 'up', 'of', 'a', 'variety', 'of', 'materials', ',', 'including', ':', 'Newspapers', ',', 'Novels', ',', 'Recipes', ',', 'Radio', 'broadcasts', ',', 'Television', 'shows', ',', 'Movies', ',', 'and', 'Tweets', '.', 'Adding', 'words', 'with', 'apostrophes', 'to', 'see', 'how', 'it', 'works', '-', 'it', \"'s\", 'ca', \"n't\", 'have', \"n't\", '.', 'Adding', 'words', 'with', 'paranthesis', '-', '(', 'inside', ')']\n"
     ]
    }
   ],
   "source": [
    "words = word_tokenize(corpus, language='english', preserve_line=False)\n",
    "print(words)"
   ]
  },
  {
   "cell_type": "markdown",
   "id": "827b5634",
   "metadata": {},
   "source": [
    "\"it's\" has become (it) and ('s), while (can't) has become (ca) and (n't). Paranthesis remain the same."
   ]
  },
  {
   "cell_type": "markdown",
   "id": "13408eeb",
   "metadata": {},
   "source": [
    "# Decompose corpus into a list of words using wordpunct_tokenize"
   ]
  },
  {
   "cell_type": "markdown",
   "id": "4767b249",
   "metadata": {},
   "source": [
    "### wordpunct_tokenize\n",
    "\n",
    "* Simplistic Approach: Splits text based on non-alphanumeric characters, treating all punctuation as separate tokens.\n",
    "* Use Case: Useful for applications where a simple and fast tokenization is sufficient, but less sophisticated in handling    complex cases."
   ]
  },
  {
   "cell_type": "code",
   "execution_count": 49,
   "id": "a9f5fdbb",
   "metadata": {},
   "outputs": [],
   "source": [
    "from nltk.tokenize import wordpunct_tokenize"
   ]
  },
  {
   "cell_type": "code",
   "execution_count": 50,
   "id": "417b4938",
   "metadata": {},
   "outputs": [
    {
     "name": "stdout",
     "output_type": "stream",
     "text": [
      "['This', 'is', 'an', 'example', 'corpus', '.', 'A', 'corpus', 'is', 'a', 'collection', 'of', 'authentic', ',', 'machine', '-', 'readable', 'texts', 'that', 'can', 'be', 'used', 'to', 'train', 'AI', 'and', 'machine', 'learning', 'systems', '.', 'Next', 'Paragraph', '.', 'Corpora', 'can', 'be', 'made', 'up', 'of', 'a', 'variety', 'of', 'materials', ',', 'including', ':', 'Newspapers', ',', 'Novels', ',', 'Recipes', ',', 'Radio', 'broadcasts', ',', 'Television', 'shows', ',', 'Movies', ',', 'and', 'Tweets', '.', 'Adding', 'words', 'with', 'apostrophes', 'to', 'see', 'how', 'it', 'works', '-', 'it', \"'\", 's', 'can', \"'\", 't', 'haven', \"'\", 't', '.', 'Adding', 'words', 'with', 'paranthesis', '-', '(', 'inside', ')']\n"
     ]
    }
   ],
   "source": [
    "wordspunct = wordpunct_tokenize(corpus)\n",
    "print(wordspunct)"
   ]
  },
  {
   "cell_type": "markdown",
   "id": "ef18e3d6",
   "metadata": {},
   "source": [
    "Here punctuations are treated as separate words - (can't) has become (can)+(')+(t)"
   ]
  }
 ],
 "metadata": {
  "kernelspec": {
   "display_name": "Python 3 (ipykernel)",
   "language": "python",
   "name": "python3"
  },
  "language_info": {
   "codemirror_mode": {
    "name": "ipython",
    "version": 3
   },
   "file_extension": ".py",
   "mimetype": "text/x-python",
   "name": "python",
   "nbconvert_exporter": "python",
   "pygments_lexer": "ipython3",
   "version": "3.11.4"
  }
 },
 "nbformat": 4,
 "nbformat_minor": 5
}
