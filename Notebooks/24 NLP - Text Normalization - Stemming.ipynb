{
 "cells": [
  {
   "cell_type": "markdown",
   "id": "b1d292d3",
   "metadata": {},
   "source": [
    "# Text Normalization\n",
    "\n",
    "Text normalization is the process of transforming text into a consistent, standardized format, which facilitates more effective text analysis and natural language processing (NLP). This involves various steps to clean and homogenize the text data, making it easier for algorithms to process and understand. The main goals of text normalization are to reduce noise, improve the quality of the text, and ensure that similar entities are represented in the same way.\n",
    "\n",
    "## Stemming\n",
    "\n",
    "Stemming is a process of reducing a word to its root form by stripping away its suffixes and prefixes. The resulting stemmed word may not always be a valid word in the language but serves as a common base form. Stemming is typically rule-based and does not consider the context of the word.\n",
    "\n",
    "Common Algorithms\n",
    "\n",
    "* Porter Stemmer: One of the most widely used stemming algorithms.\n",
    "* Snowball Stemmer: An improved version of the Porter Stemmer.\n",
    "* Lancaster Stemmer: An aggressive stemming algorithm.\n",
    "\n",
    "We are going to take a look at Porter Stemmer, RegexpStemmer and Snowball Stemmer to see how they differ."
   ]
  },
  {
   "cell_type": "code",
   "execution_count": 1,
   "id": "f3411065",
   "metadata": {},
   "outputs": [],
   "source": [
    "# Initializing words\n",
    "\n",
    "words = [\"Eat\", \"eating\", \"run\", \"ran\", \"running\", \"history\", \"fairly\", \"go\", \"goes\", \"gone\"]"
   ]
  },
  {
   "cell_type": "markdown",
   "id": "d60070a1",
   "metadata": {},
   "source": [
    "# Porter Stemmer"
   ]
  },
  {
   "cell_type": "code",
   "execution_count": 2,
   "id": "26c42471",
   "metadata": {},
   "outputs": [],
   "source": [
    "from nltk.stem import PorterStemmer"
   ]
  },
  {
   "cell_type": "code",
   "execution_count": 3,
   "id": "3c8fe0fd",
   "metadata": {},
   "outputs": [],
   "source": [
    "porter_stemmer = PorterStemmer()"
   ]
  },
  {
   "cell_type": "code",
   "execution_count": 4,
   "id": "195eed91",
   "metadata": {},
   "outputs": [
    {
     "name": "stdout",
     "output_type": "stream",
     "text": [
      "eat---->eat\n",
      "eating---->eat\n",
      "run---->run\n",
      "ran---->ran\n",
      "running---->run\n",
      "history---->histori\n",
      "fairly---->fairli\n",
      "go---->go\n",
      "goes---->goe\n",
      "gone---->gone\n"
     ]
    }
   ],
   "source": [
    "for word in words:\n",
    "    print(word + \"---->\" + porter_stemmer.stem(word=word, to_lowercase=True))"
   ]
  },
  {
   "cell_type": "markdown",
   "id": "66f91519",
   "metadata": {},
   "source": [
    "Works well except for \"history\", \"fairly\" and \"goes\"."
   ]
  },
  {
   "cell_type": "markdown",
   "id": "9eb23c27",
   "metadata": {},
   "source": [
    "# RegexpStemmer"
   ]
  },
  {
   "cell_type": "code",
   "execution_count": 6,
   "id": "82a77b6b",
   "metadata": {},
   "outputs": [],
   "source": [
    "from nltk import RegexpStemmer"
   ]
  },
  {
   "cell_type": "code",
   "execution_count": 7,
   "id": "9fb7485b",
   "metadata": {},
   "outputs": [],
   "source": [
    "res = RegexpStemmer('ing$|s$|e$|able$', min=4)"
   ]
  },
  {
   "cell_type": "code",
   "execution_count": 19,
   "id": "c2bb2347",
   "metadata": {},
   "outputs": [
    {
     "data": {
      "text/plain": [
       "'bee'"
      ]
     },
     "execution_count": 19,
     "metadata": {},
     "output_type": "execute_result"
    }
   ],
   "source": [
    "res.stem(\"bee\") # min=4, therefore words less than 4 characters won't be stemmed"
   ]
  },
  {
   "cell_type": "code",
   "execution_count": 21,
   "id": "5c80ae98",
   "metadata": {},
   "outputs": [
    {
     "name": "stdout",
     "output_type": "stream",
     "text": [
      "eat---->eat\n",
      "eating---->eat\n",
      "run---->run\n",
      "ran---->ran\n",
      "running---->runn\n",
      "history---->history\n",
      "fairly---->fairly\n",
      "go---->go\n",
      "goes---->goe\n",
      "gone---->gon\n"
     ]
    }
   ],
   "source": [
    "for word in words:\n",
    "    print(word + \"---->\" + res.stem(word=word))"
   ]
  },
  {
   "cell_type": "markdown",
   "id": "b0fe7c01",
   "metadata": {},
   "source": [
    "Works in a crude, pre-defined way."
   ]
  },
  {
   "cell_type": "markdown",
   "id": "a0c8bcb7",
   "metadata": {},
   "source": [
    "# Snowball Stemmer"
   ]
  },
  {
   "cell_type": "markdown",
   "id": "68b60ba9",
   "metadata": {},
   "source": [
    "Snowball Stemmer is a stemming algorithm which is also known as the Porter2 stemming algorithm as it is a better version of the Porter Stemmer since some issues of it were fixed in this stemmer."
   ]
  },
  {
   "cell_type": "code",
   "execution_count": 25,
   "id": "25838d85",
   "metadata": {},
   "outputs": [],
   "source": [
    "from nltk.stem import SnowballStemmer"
   ]
  },
  {
   "cell_type": "code",
   "execution_count": 26,
   "id": "14e1ef7c",
   "metadata": {},
   "outputs": [],
   "source": [
    "snowball_stemmer = SnowballStemmer(language='english', ignore_stopwords=False)"
   ]
  },
  {
   "cell_type": "code",
   "execution_count": 27,
   "id": "1d49d02e",
   "metadata": {},
   "outputs": [
    {
     "name": "stdout",
     "output_type": "stream",
     "text": [
      "eat---->eat\n",
      "eating---->eat\n",
      "run---->run\n",
      "ran---->ran\n",
      "running---->run\n",
      "history---->histori\n",
      "fairly---->fair\n",
      "go---->go\n",
      "goes---->goe\n",
      "gone---->gone\n"
     ]
    }
   ],
   "source": [
    "for word in words:\n",
    "    print(word + \"---->\" + snowball_stemmer.stem(word=word))"
   ]
  },
  {
   "cell_type": "markdown",
   "id": "71600fc1",
   "metadata": {},
   "source": [
    "Makes the same mistakes as Porter Stemmer, except for \"fairly\""
   ]
  }
 ],
 "metadata": {
  "kernelspec": {
   "display_name": "Python 3 (ipykernel)",
   "language": "python",
   "name": "python3"
  },
  "language_info": {
   "codemirror_mode": {
    "name": "ipython",
    "version": 3
   },
   "file_extension": ".py",
   "mimetype": "text/x-python",
   "name": "python",
   "nbconvert_exporter": "python",
   "pygments_lexer": "ipython3",
   "version": "3.11.4"
  }
 },
 "nbformat": 4,
 "nbformat_minor": 5
}
