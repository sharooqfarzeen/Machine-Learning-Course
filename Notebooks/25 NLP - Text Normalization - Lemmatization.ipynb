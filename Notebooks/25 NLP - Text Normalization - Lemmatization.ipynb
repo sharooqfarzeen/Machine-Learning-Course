{
 "cells": [
  {
   "cell_type": "markdown",
   "id": "b530bf7f",
   "metadata": {},
   "source": [
    "# Text Normalization\n",
    "\n",
    "Text normalization is the process of transforming text into a consistent, standardized format, which facilitates more effective text analysis and natural language processing (NLP). This involves various steps to clean and homogenize the text data, making it easier for algorithms to process and understand. The main goals of text normalization are to reduce noise, improve the quality of the text, and ensure that similar entities are represented in the same way.\n",
    "\n",
    "## Lemmatization\n",
    "\n",
    "Lemmatization is the process of reducing a word to its base or dictionary form, known as a lemma. Lemmatization considers the context and the word's part of speech to return a valid word in the language. It uses vocabulary and morphological analysis to achieve this.\n",
    "\n",
    "We are going to take a look at NLTK's WordNetLemmatizer, which uses WordNet’s built-in morphy function."
   ]
  },
  {
   "cell_type": "code",
   "execution_count": 1,
   "id": "d4fb318a",
   "metadata": {},
   "outputs": [],
   "source": [
    "# Initializing words\n",
    "\n",
    "words = [\"Eat\", \"eating\", \"run\", \"ran\", \"running\", \"history\", \"fairly\", \"go\", \"goes\", \"gone\"]"
   ]
  },
  {
   "cell_type": "markdown",
   "id": "fce7c9db",
   "metadata": {},
   "source": [
    "# WordNet Lemmatizer"
   ]
  },
  {
   "cell_type": "code",
   "execution_count": 2,
   "id": "4a2843c9",
   "metadata": {},
   "outputs": [],
   "source": [
    "from nltk.stem import WordNetLemmatizer"
   ]
  },
  {
   "cell_type": "code",
   "execution_count": 3,
   "id": "8e3198aa",
   "metadata": {},
   "outputs": [],
   "source": [
    "wn = WordNetLemmatizer()"
   ]
  },
  {
   "cell_type": "code",
   "execution_count": 6,
   "id": "71f5570a",
   "metadata": {},
   "outputs": [
    {
     "name": "stderr",
     "output_type": "stream",
     "text": [
      "[nltk_data] Downloading package wordnet to\n",
      "[nltk_data]     C:\\Users\\sharo\\AppData\\Roaming\\nltk_data...\n"
     ]
    },
    {
     "data": {
      "text/plain": [
       "True"
      ]
     },
     "execution_count": 6,
     "metadata": {},
     "output_type": "execute_result"
    }
   ],
   "source": [
    "import nltk\n",
    "nltk.download('wordnet') # Downloading the wordnet database"
   ]
  },
  {
   "cell_type": "code",
   "execution_count": 8,
   "id": "1346fba4",
   "metadata": {},
   "outputs": [
    {
     "name": "stdout",
     "output_type": "stream",
     "text": [
      "Eat---->Eat\n",
      "eating---->eat\n",
      "run---->run\n",
      "ran---->run\n",
      "running---->run\n",
      "history---->history\n",
      "fairly---->fairly\n",
      "go---->go\n",
      "goes---->go\n",
      "gone---->go\n"
     ]
    }
   ],
   "source": [
    "for word in words:\n",
    "    print(word + \"---->\" + wn.lemmatize(word=word, pos='v')) # Using Part of Speech as Verb\n",
    "\n",
    "# parameter pos: The Part Of Speech tag. Valid options are `\"n\"` for nouns,\n",
    "#               `\"v\"` for verbs, `\"a\"` for adjectives, `\"r\"` for adverbs and `\"s\"`\n",
    "#                for satellite adjectives"
   ]
  },
  {
   "cell_type": "markdown",
   "id": "767b0336",
   "metadata": {},
   "source": [
    "Lemmatization solves all of the mistakes made by Porter Stemmer and Snowball Stemmer in the previous notebook, as it uses context and the word's part of speech to return a valid word."
   ]
  }
 ],
 "metadata": {
  "kernelspec": {
   "display_name": "Python 3 (ipykernel)",
   "language": "python",
   "name": "python3"
  },
  "language_info": {
   "codemirror_mode": {
    "name": "ipython",
    "version": 3
   },
   "file_extension": ".py",
   "mimetype": "text/x-python",
   "name": "python",
   "nbconvert_exporter": "python",
   "pygments_lexer": "ipython3",
   "version": "3.11.4"
  }
 },
 "nbformat": 4,
 "nbformat_minor": 5
}
