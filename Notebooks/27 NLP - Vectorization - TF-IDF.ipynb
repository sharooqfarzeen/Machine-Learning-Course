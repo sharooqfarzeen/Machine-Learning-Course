{
 "cells": [
  {
   "cell_type": "markdown",
   "metadata": {},
   "source": [
    "# Text Vectorization\n",
    "\n",
    "Vectorization is the process of converting text data to numeric form, for processing by ML Models.\n",
    "\n",
    "# Term Frequency - Inverse Document Frequency (TF-IDF)\n",
    "\n",
    "TF-IDF is a text vectorization technique which converts text data into vectors, the values of which are determined by the importance of the word in the document and the corpus. \n",
    "\n",
    "TF - Term Frequency - denotes the importance of the word in the document/each datapoints/sentence. It is calculated by taking the ratio of Number of occurrences of a term in a document to the total number of words in that document.\n",
    "\n",
    "IDF - Inverse Document Frequency - denotes the importance of the word in the whole corpus. The more frequent a word is in the corpus, the **LESS** importance it is. It is calculated by taking the log of the ratio of total number of documents in the corpus to the number of documents where our term/word is present.\n",
    "\n",
    "The value of a word in the vector is the product of TF and IDF.\n",
    "\n",
    "# About this notebook\n",
    "\n",
    "This notebook is going to vectorize a speech by Dr A.P.J. Abdul Kalam using scikit-learn's implementation of TF-IDF - TfidfVectorizer.\n",
    "\n",
    "* We are going to implement a custom preprocessor, to normalize the corpus before applying vectorization.\n",
    "* Implement vectorization using sci-kit learn's TfidfVectorizer.\n",
    "* Visualize the vectorized form using a pandas DataFrame."
   ]
  },
  {
   "cell_type": "code",
   "execution_count": 24,
   "metadata": {
    "execution": {
     "iopub.execute_input": "2024-08-10T07:48:24.989421Z",
     "iopub.status.busy": "2024-08-10T07:48:24.988965Z",
     "iopub.status.idle": "2024-08-10T07:48:24.996718Z",
     "shell.execute_reply": "2024-08-10T07:48:24.995208Z",
     "shell.execute_reply.started": "2024-08-10T07:48:24.989388Z"
    }
   },
   "outputs": [],
   "source": [
    "import numpy as np\n",
    "import pandas as pd\n",
    "import string # For removing punctuations from corpus\n",
    "\n",
    "from sklearn.feature_extraction.text import TfidfVectorizer \n",
    "\n",
    "import nltk\n",
    "from nltk.stem import WordNetLemmatizer\n",
    "from nltk.corpus import wordnet\n",
    "from nltk.tokenize import sent_tokenize\n",
    "from nltk.tokenize import word_tokenize\n",
    "from nltk.corpus import stopwords\n",
    "from nltk.tag import pos_tag"
   ]
  },
  {
   "cell_type": "code",
   "execution_count": 3,
   "metadata": {
    "execution": {
     "iopub.execute_input": "2024-08-10T07:39:55.241220Z",
     "iopub.status.busy": "2024-08-10T07:39:55.240435Z",
     "iopub.status.idle": "2024-08-10T07:39:55.482434Z",
     "shell.execute_reply": "2024-08-10T07:39:55.481129Z",
     "shell.execute_reply.started": "2024-08-10T07:39:55.241180Z"
    }
   },
   "outputs": [
    {
     "name": "stdout",
     "output_type": "stream",
     "text": [
      "[nltk_data] Downloading package stopwords to /usr/share/nltk_data...\n",
      "[nltk_data]   Package stopwords is already up-to-date!\n",
      "[nltk_data] Downloading package punkt to /usr/share/nltk_data...\n",
      "[nltk_data]   Package punkt is already up-to-date!\n",
      "[nltk_data] Downloading package averaged_perceptron_tagger to\n",
      "[nltk_data]     /usr/share/nltk_data...\n",
      "[nltk_data]   Package averaged_perceptron_tagger is already up-to-\n",
      "[nltk_data]       date!\n",
      "[nltk_data] Downloading package wordnet to /usr/share/nltk_data...\n",
      "[nltk_data]   Package wordnet is already up-to-date!\n"
     ]
    },
    {
     "data": {
      "text/plain": [
       "True"
      ]
     },
     "execution_count": 3,
     "metadata": {},
     "output_type": "execute_result"
    }
   ],
   "source": [
    "nltk.download('stopwords') # To define english stopwords\n",
    "nltk.download('punkt') # For sentence tokenizer to work\n",
    "nltk.download('averaged_perceptron_tagger') # Contains Point of Speech Tags\n",
    "nltk.download('wordnet') # For lemmatizer to work"
   ]
  },
  {
   "cell_type": "code",
   "execution_count": 4,
   "metadata": {
    "execution": {
     "iopub.execute_input": "2024-08-10T07:39:58.441553Z",
     "iopub.status.busy": "2024-08-10T07:39:58.441175Z",
     "iopub.status.idle": "2024-08-10T07:39:59.969191Z",
     "shell.execute_reply": "2024-08-10T07:39:59.967904Z",
     "shell.execute_reply.started": "2024-08-10T07:39:58.441525Z"
    }
   },
   "outputs": [
    {
     "name": "stdout",
     "output_type": "stream",
     "text": [
      "Archive:  /usr/share/nltk_data/corpora/wordnet.zip\n",
      "   creating: /usr/share/nltk_data/corpora/wordnet/\n",
      "  inflating: /usr/share/nltk_data/corpora/wordnet/lexnames  \n",
      "  inflating: /usr/share/nltk_data/corpora/wordnet/data.verb  \n",
      "  inflating: /usr/share/nltk_data/corpora/wordnet/index.adv  \n",
      "  inflating: /usr/share/nltk_data/corpora/wordnet/adv.exc  \n",
      "  inflating: /usr/share/nltk_data/corpora/wordnet/index.verb  \n",
      "  inflating: /usr/share/nltk_data/corpora/wordnet/cntlist.rev  \n",
      "  inflating: /usr/share/nltk_data/corpora/wordnet/data.adj  \n",
      "  inflating: /usr/share/nltk_data/corpora/wordnet/index.adj  \n",
      "  inflating: /usr/share/nltk_data/corpora/wordnet/LICENSE  \n",
      "  inflating: /usr/share/nltk_data/corpora/wordnet/citation.bib  \n",
      "  inflating: /usr/share/nltk_data/corpora/wordnet/noun.exc  \n",
      "  inflating: /usr/share/nltk_data/corpora/wordnet/verb.exc  \n",
      "  inflating: /usr/share/nltk_data/corpora/wordnet/README  \n",
      "  inflating: /usr/share/nltk_data/corpora/wordnet/index.sense  \n",
      "  inflating: /usr/share/nltk_data/corpora/wordnet/data.noun  \n",
      "  inflating: /usr/share/nltk_data/corpora/wordnet/data.adv  \n",
      "  inflating: /usr/share/nltk_data/corpora/wordnet/index.noun  \n",
      "  inflating: /usr/share/nltk_data/corpora/wordnet/adj.exc  \n"
     ]
    }
   ],
   "source": [
    "# Unzipping wordnet.zip file to the specified directory. Not doing this will cause errors in Kaggle\n",
    "!unzip /usr/share/nltk_data/corpora/wordnet.zip -d /usr/share/nltk_data/corpora/ "
   ]
  },
  {
   "cell_type": "code",
   "execution_count": 5,
   "metadata": {
    "execution": {
     "iopub.execute_input": "2024-08-10T07:39:59.972074Z",
     "iopub.status.busy": "2024-08-10T07:39:59.971629Z",
     "iopub.status.idle": "2024-08-10T07:39:59.981590Z",
     "shell.execute_reply": "2024-08-10T07:39:59.980412Z",
     "shell.execute_reply.started": "2024-08-10T07:39:59.972039Z"
    }
   },
   "outputs": [],
   "source": [
    "# Setting stopwords\n",
    "eng_stopwords = set(stopwords.words('english'))"
   ]
  },
  {
   "cell_type": "markdown",
   "metadata": {},
   "source": [
    "# Corpus"
   ]
  },
  {
   "cell_type": "code",
   "execution_count": 6,
   "metadata": {
    "execution": {
     "iopub.execute_input": "2024-08-10T07:40:05.418085Z",
     "iopub.status.busy": "2024-08-10T07:40:05.417612Z",
     "iopub.status.idle": "2024-08-10T07:40:05.426703Z",
     "shell.execute_reply": "2024-08-10T07:40:05.425192Z",
     "shell.execute_reply.started": "2024-08-10T07:40:05.418050Z"
    }
   },
   "outputs": [],
   "source": [
    "## Speech Of DR APJ Abdul Kalam - to be vectorized\n",
    "paragraph = \"\"\"I have three visions for India. In 3000 years of our history, people from all over \n",
    "               the world have come and invaded us, captured our lands, conquered our minds. \n",
    "               From Alexander onwards, the Greeks, the Turks, the Moguls, the Portuguese, the British,\n",
    "               the French, the Dutch, all of them came and looted us, took over what was ours. \n",
    "               Yet we have not done this to any other nation. We have not conquered anyone. \n",
    "               We have not grabbed their land, their culture, \n",
    "               their history and tried to enforce our way of life on them. \n",
    "               Why? Because we respect the freedom of others.That is why my \n",
    "               first vision is that of freedom. I believe that India got its first vision of \n",
    "               this in 1857, when we started the War of Independence. It is this freedom that\n",
    "               we must protect and nurture and build on. If we are not free, no one will respect us.\n",
    "               My second vision for India’s development. For fifty years we have been a developing nation.\n",
    "               It is time we see ourselves as a developed nation. We are among the top 5 nations of the world\n",
    "               in terms of GDP. We have a 10 percent growth rate in most areas. Our poverty levels are falling.\n",
    "               Our achievements are being globally recognised today. Yet we lack the self-confidence to\n",
    "               see ourselves as a developed nation, self-reliant and self-assured. Isn’t this incorrect?\n",
    "               I have a third vision. India must stand up to the world. Because I believe that unless India \n",
    "               stands up to the world, no one will respect us. Only strength respects strength. We must be \n",
    "               strong not only as a military power but also as an economic power. Both must go hand-in-hand. \n",
    "               My good fortune was to have worked with three great minds. Dr. Vikram Sarabhai of the Dept. of \n",
    "               space, Professor Satish Dhawan, who succeeded him and Dr. Brahm Prakash, father of nuclear material.\n",
    "               I was lucky to have worked with all three of them closely and consider this the great opportunity of my life. \n",
    "               I see four milestones in my career\"\"\""
   ]
  },
  {
   "cell_type": "markdown",
   "metadata": {},
   "source": [
    "# Creating a custom preprocessor"
   ]
  },
  {
   "cell_type": "code",
   "execution_count": 26,
   "metadata": {
    "execution": {
     "iopub.execute_input": "2024-08-10T07:50:27.985976Z",
     "iopub.status.busy": "2024-08-10T07:50:27.985547Z",
     "iopub.status.idle": "2024-08-10T07:50:27.994380Z",
     "shell.execute_reply": "2024-08-10T07:50:27.993042Z",
     "shell.execute_reply.started": "2024-08-10T07:50:27.985943Z"
    }
   },
   "outputs": [],
   "source": [
    "def get_wordnet_pos(word):\n",
    "    \n",
    "    \"\"\"\n",
    "    The Lemmatizer function in nltk takes a 'Part of Speech'(pos) variable as argument, \n",
    "    which denotes the pos of the word in the language. This function finds out the pos of the\n",
    "    word using the WordNet database and simplifies it into one of the 4 pos_tags that nltk \n",
    "    lemmatizer allows - [n, v, a, r, s]\n",
    "    \"\"\"\n",
    "    \n",
    "    pos = pos_tag([word])[0][1]\n",
    "    \n",
    "    if pos.startswith('J'):\n",
    "        return wordnet.ADJ\n",
    "    elif pos.startswith('V'):\n",
    "        return wordnet.VERB\n",
    "    elif pos.startswith('N'):\n",
    "        return wordnet.NOUN\n",
    "    elif pos.startswith('R'):\n",
    "        return wordnet.ADV\n",
    "    else:\n",
    "        return wordnet.NOUN  # Default to noun if no match is found"
   ]
  },
  {
   "cell_type": "code",
   "execution_count": 27,
   "metadata": {
    "execution": {
     "iopub.execute_input": "2024-08-10T07:50:28.361400Z",
     "iopub.status.busy": "2024-08-10T07:50:28.360963Z",
     "iopub.status.idle": "2024-08-10T07:50:28.370063Z",
     "shell.execute_reply": "2024-08-10T07:50:28.368437Z",
     "shell.execute_reply.started": "2024-08-10T07:50:28.361365Z"
    }
   },
   "outputs": [],
   "source": [
    "lm = WordNetLemmatizer()\n",
    "\n",
    "def custom_preprocessor(sentence):\n",
    "    \"\"\"\n",
    "    Function takes in an English sentence and returns a lower-case, lemmatized version of the same, \n",
    "    without stopwords and punctuations.\n",
    "    \"\"\"\n",
    "    new_sentence = []\n",
    "    \n",
    "    words = word_tokenize(sentence) # words now contains list of words in the sentence\n",
    "    \n",
    "    # Creating a list of lower-case, lemmatized words, while filtering out stopwords and punctuations\n",
    "    words = [lm.lemmatize(word.lower(), pos=get_wordnet_pos(word)) for word in words if (word.lower() not in eng_stopwords) and (word not in string.punctuation)]\n",
    "    \n",
    "    new_sentence = ' '.join(words)\n",
    "            \n",
    "    \n",
    "    return new_sentence"
   ]
  },
  {
   "cell_type": "markdown",
   "metadata": {},
   "source": [
    "# Creating TF-IDF using TfidfVectorizer"
   ]
  },
  {
   "cell_type": "raw",
   "metadata": {},
   "source": [
    "TfidfVectorizer(\n",
    "    *,\n",
    "    input='content',\n",
    "    encoding='utf-8',\n",
    "    decode_error='strict',\n",
    "    strip_accents=None,\n",
    "    lowercase=True,\n",
    "    preprocessor=None,\n",
    "    tokenizer=None,\n",
    "    analyzer='word',\n",
    "    stop_words=None,\n",
    "    token_pattern='(?u)\\\\b\\\\w\\\\w+\\\\b',\n",
    "    ngram_range=(1, 1),\n",
    "    max_df=1.0,\n",
    "    min_df=1,\n",
    "    max_features=None,\n",
    "    vocabulary=None,\n",
    "    binary=False,\n",
    "    dtype=<class 'numpy.float64'>,\n",
    "    norm='l2',\n",
    "    use_idf=True,\n",
    "    smooth_idf=True,\n",
    "    sublinear_tf=False,\n",
    ")"
   ]
  },
  {
   "cell_type": "code",
   "execution_count": 28,
   "metadata": {
    "execution": {
     "iopub.execute_input": "2024-08-10T07:50:32.212950Z",
     "iopub.status.busy": "2024-08-10T07:50:32.212408Z",
     "iopub.status.idle": "2024-08-10T07:50:32.219769Z",
     "shell.execute_reply": "2024-08-10T07:50:32.218271Z",
     "shell.execute_reply.started": "2024-08-10T07:50:32.212886Z"
    }
   },
   "outputs": [],
   "source": [
    "# Initializing CountVectorizer\n",
    "tfidf = TfidfVectorizer(input='content', \n",
    "                     preprocessor=custom_preprocessor, # Sends each sentence to our custom preprocessor\n",
    "                     tokenizer=word_tokenize, # Uses word_tokenizer module from nltk\n",
    "                     token_pattern=None # To hide warning, which would otherwise show when tokenizer is not None\n",
    "                    )"
   ]
  },
  {
   "cell_type": "code",
   "execution_count": 29,
   "metadata": {
    "execution": {
     "iopub.execute_input": "2024-08-10T07:50:32.545422Z",
     "iopub.status.busy": "2024-08-10T07:50:32.545012Z",
     "iopub.status.idle": "2024-08-10T07:50:32.552604Z",
     "shell.execute_reply": "2024-08-10T07:50:32.551555Z",
     "shell.execute_reply.started": "2024-08-10T07:50:32.545390Z"
    }
   },
   "outputs": [],
   "source": [
    "# Converting our paragraph into a list of sentences, because CountVectorizer expects \n",
    "# sequence of items that can be of type string, when input='content'\n",
    "sentences = sent_tokenize(text=paragraph, language='english') "
   ]
  },
  {
   "cell_type": "code",
   "execution_count": 30,
   "metadata": {
    "execution": {
     "iopub.execute_input": "2024-08-10T07:50:32.918347Z",
     "iopub.status.busy": "2024-08-10T07:50:32.917879Z",
     "iopub.status.idle": "2024-08-10T07:50:32.980777Z",
     "shell.execute_reply": "2024-08-10T07:50:32.979344Z",
     "shell.execute_reply.started": "2024-08-10T07:50:32.918313Z"
    }
   },
   "outputs": [],
   "source": [
    "x = tfidf.fit_transform(sentences).toarray()"
   ]
  },
  {
   "cell_type": "code",
   "execution_count": 31,
   "metadata": {
    "execution": {
     "iopub.execute_input": "2024-08-10T07:50:37.008859Z",
     "iopub.status.busy": "2024-08-10T07:50:37.008419Z",
     "iopub.status.idle": "2024-08-10T07:50:37.016315Z",
     "shell.execute_reply": "2024-08-10T07:50:37.015167Z",
     "shell.execute_reply.started": "2024-08-10T07:50:37.008822Z"
    }
   },
   "outputs": [
    {
     "data": {
      "text/plain": [
       "(31, 118)"
      ]
     },
     "execution_count": 31,
     "metadata": {},
     "output_type": "execute_result"
    }
   ],
   "source": [
    "x.shape"
   ]
  },
  {
   "cell_type": "raw",
   "metadata": {},
   "source": [
    "31 sentences and 118 unique terms"
   ]
  },
  {
   "cell_type": "code",
   "execution_count": 32,
   "metadata": {
    "execution": {
     "iopub.execute_input": "2024-08-10T07:50:43.237264Z",
     "iopub.status.busy": "2024-08-10T07:50:43.236837Z",
     "iopub.status.idle": "2024-08-10T07:50:43.245619Z",
     "shell.execute_reply": "2024-08-10T07:50:43.244381Z",
     "shell.execute_reply.started": "2024-08-10T07:50:43.237235Z"
    }
   },
   "outputs": [
    {
     "data": {
      "text/plain": [
       "array(['10', '1857', '3000', '5', 'achievement', 'alexander', 'also',\n",
       "       'among', 'anyone', 'area', 'believe', 'brahm', 'british', 'build',\n",
       "       'capture', 'career', 'closely', 'come', 'conquer', 'consider',\n",
       "       'culture', 'dept', 'develop', 'developed', 'development', 'dhawan',\n",
       "       'do', 'dr.', 'dutch', 'economic', 'enforce', 'fall', 'father',\n",
       "       'fifty', 'first', 'fortune', 'four', 'free', 'freedom', 'french',\n",
       "       'gdp', 'get', 'globally', 'go', 'good', 'grabbed', 'great',\n",
       "       'greek', 'growth', 'hand-in-hand', 'history', 'incorrect',\n",
       "       'independence', 'india', 'invade', 'lack', 'land', 'level', 'life',\n",
       "       'loot', 'lucky', 'material', 'milestone', 'military', 'mind',\n",
       "       'mogul', 'must', 'nation', 'nuclear', 'nurture', 'one', 'onwards',\n",
       "       'opportunity', 'others.that', 'people', 'percent', 'portuguese',\n",
       "       'poverty', 'power', 'prakash', 'professor', 'protect', 'rate',\n",
       "       'recognise', 'respect', 'sarabhai', 'satish', 'second', 'see',\n",
       "       'self-assured', 'self-confidence', 'self-reliant', 'space',\n",
       "       'stand', 'start', 'strength', 'strong', 'succeed', 'take', 'term',\n",
       "       'third', 'three', 'time', 'today', 'top', 'try', 'turk', 'u',\n",
       "       'unless', 'vikram', 'vision', 'war', 'way', 'work', 'world',\n",
       "       'year', 'yet', '’'], dtype=object)"
      ]
     },
     "execution_count": 32,
     "metadata": {},
     "output_type": "execute_result"
    }
   ],
   "source": [
    "# Unique words\n",
    "tfidf.get_feature_names_out()"
   ]
  },
  {
   "cell_type": "code",
   "execution_count": 33,
   "metadata": {
    "execution": {
     "iopub.execute_input": "2024-08-10T07:50:46.037733Z",
     "iopub.status.busy": "2024-08-10T07:50:46.036765Z",
     "iopub.status.idle": "2024-08-10T07:50:46.045279Z",
     "shell.execute_reply": "2024-08-10T07:50:46.044004Z",
     "shell.execute_reply.started": "2024-08-10T07:50:46.037693Z"
    }
   },
   "outputs": [
    {
     "data": {
      "text/plain": [
       "118"
      ]
     },
     "execution_count": 33,
     "metadata": {},
     "output_type": "execute_result"
    }
   ],
   "source": [
    "# Number of unique words\n",
    "len(tfidf.get_feature_names_out())"
   ]
  },
  {
   "cell_type": "code",
   "execution_count": 34,
   "metadata": {
    "execution": {
     "iopub.execute_input": "2024-08-10T07:50:47.056153Z",
     "iopub.status.busy": "2024-08-10T07:50:47.055699Z",
     "iopub.status.idle": "2024-08-10T07:50:47.070303Z",
     "shell.execute_reply": "2024-08-10T07:50:47.068994Z",
     "shell.execute_reply.started": "2024-08-10T07:50:47.056118Z"
    }
   },
   "outputs": [
    {
     "data": {
      "text/plain": [
       "{'three': 101,\n",
       " 'vision': 110,\n",
       " 'india': 53,\n",
       " '3000': 2,\n",
       " 'year': 115,\n",
       " 'history': 50,\n",
       " 'people': 74,\n",
       " 'world': 114,\n",
       " 'come': 17,\n",
       " 'invade': 54,\n",
       " 'u': 107,\n",
       " 'capture': 14,\n",
       " 'land': 56,\n",
       " 'conquer': 18,\n",
       " 'mind': 64,\n",
       " 'alexander': 5,\n",
       " 'onwards': 71,\n",
       " 'greek': 47,\n",
       " 'turk': 106,\n",
       " 'mogul': 65,\n",
       " 'portuguese': 76,\n",
       " 'british': 12,\n",
       " 'french': 39,\n",
       " 'dutch': 28,\n",
       " 'loot': 59,\n",
       " 'take': 98,\n",
       " 'yet': 116,\n",
       " 'do': 26,\n",
       " 'nation': 67,\n",
       " 'anyone': 8,\n",
       " 'grabbed': 45,\n",
       " 'culture': 20,\n",
       " 'try': 105,\n",
       " 'enforce': 30,\n",
       " 'way': 112,\n",
       " 'life': 58,\n",
       " 'respect': 84,\n",
       " 'freedom': 38,\n",
       " 'others.that': 73,\n",
       " 'first': 34,\n",
       " 'believe': 10,\n",
       " 'get': 41,\n",
       " '1857': 1,\n",
       " 'start': 94,\n",
       " 'war': 111,\n",
       " 'independence': 52,\n",
       " 'must': 66,\n",
       " 'protect': 81,\n",
       " 'nurture': 69,\n",
       " 'build': 13,\n",
       " 'free': 37,\n",
       " 'one': 70,\n",
       " 'second': 87,\n",
       " '’': 117,\n",
       " 'development': 24,\n",
       " 'fifty': 33,\n",
       " 'develop': 22,\n",
       " 'time': 102,\n",
       " 'see': 88,\n",
       " 'developed': 23,\n",
       " 'among': 7,\n",
       " 'top': 104,\n",
       " '5': 3,\n",
       " 'term': 99,\n",
       " 'gdp': 40,\n",
       " '10': 0,\n",
       " 'percent': 75,\n",
       " 'growth': 48,\n",
       " 'rate': 82,\n",
       " 'area': 9,\n",
       " 'poverty': 77,\n",
       " 'level': 57,\n",
       " 'fall': 31,\n",
       " 'achievement': 4,\n",
       " 'globally': 42,\n",
       " 'recognise': 83,\n",
       " 'today': 103,\n",
       " 'lack': 55,\n",
       " 'self-confidence': 90,\n",
       " 'self-reliant': 91,\n",
       " 'self-assured': 89,\n",
       " 'incorrect': 51,\n",
       " 'third': 100,\n",
       " 'stand': 93,\n",
       " 'unless': 108,\n",
       " 'strength': 95,\n",
       " 'strong': 96,\n",
       " 'military': 63,\n",
       " 'power': 78,\n",
       " 'also': 6,\n",
       " 'economic': 29,\n",
       " 'go': 43,\n",
       " 'hand-in-hand': 49,\n",
       " 'good': 44,\n",
       " 'fortune': 35,\n",
       " 'work': 113,\n",
       " 'great': 46,\n",
       " 'dr.': 27,\n",
       " 'vikram': 109,\n",
       " 'sarabhai': 85,\n",
       " 'dept': 21,\n",
       " 'space': 92,\n",
       " 'professor': 80,\n",
       " 'satish': 86,\n",
       " 'dhawan': 25,\n",
       " 'succeed': 97,\n",
       " 'brahm': 11,\n",
       " 'prakash': 79,\n",
       " 'father': 32,\n",
       " 'nuclear': 68,\n",
       " 'material': 61,\n",
       " 'lucky': 60,\n",
       " 'closely': 16,\n",
       " 'consider': 19,\n",
       " 'opportunity': 72,\n",
       " 'four': 36,\n",
       " 'milestone': 62,\n",
       " 'career': 15}"
      ]
     },
     "execution_count": 34,
     "metadata": {},
     "output_type": "execute_result"
    }
   ],
   "source": [
    "# (Unique Word, Column Number)\n",
    "tfidf.vocabulary_"
   ]
  },
  {
   "cell_type": "markdown",
   "metadata": {},
   "source": [
    "# Vectorized Corpus"
   ]
  },
  {
   "cell_type": "code",
   "execution_count": 35,
   "metadata": {
    "execution": {
     "iopub.execute_input": "2024-08-10T07:50:53.322892Z",
     "iopub.status.busy": "2024-08-10T07:50:53.321987Z",
     "iopub.status.idle": "2024-08-10T07:50:53.330747Z",
     "shell.execute_reply": "2024-08-10T07:50:53.329574Z",
     "shell.execute_reply.started": "2024-08-10T07:50:53.322848Z"
    }
   },
   "outputs": [
    {
     "data": {
      "text/plain": [
       "array([[0.        , 0.        , 0.        , ..., 0.        , 0.        ,\n",
       "        0.        ],\n",
       "       [0.        , 0.        , 0.31740361, ..., 0.28329014, 0.        ,\n",
       "        0.        ],\n",
       "       [0.        , 0.        , 0.        , ..., 0.        , 0.        ,\n",
       "        0.        ],\n",
       "       ...,\n",
       "       [0.        , 0.        , 0.        , ..., 0.        , 0.        ,\n",
       "        0.        ],\n",
       "       [0.        , 0.        , 0.        , ..., 0.        , 0.        ,\n",
       "        0.        ],\n",
       "       [0.        , 0.        , 0.        , ..., 0.        , 0.        ,\n",
       "        0.        ]])"
      ]
     },
     "execution_count": 35,
     "metadata": {},
     "output_type": "execute_result"
    }
   ],
   "source": [
    "x"
   ]
  },
  {
   "cell_type": "markdown",
   "metadata": {},
   "source": [
    "# Converting to dataframe for better visualization"
   ]
  },
  {
   "cell_type": "code",
   "execution_count": 36,
   "metadata": {
    "execution": {
     "iopub.execute_input": "2024-08-10T07:50:54.915090Z",
     "iopub.status.busy": "2024-08-10T07:50:54.914680Z",
     "iopub.status.idle": "2024-08-10T07:50:54.921118Z",
     "shell.execute_reply": "2024-08-10T07:50:54.919787Z",
     "shell.execute_reply.started": "2024-08-10T07:50:54.915060Z"
    }
   },
   "outputs": [],
   "source": [
    "vector = pd.DataFrame(data=x, columns=tfidf.get_feature_names_out())"
   ]
  },
  {
   "cell_type": "code",
   "execution_count": 37,
   "metadata": {
    "execution": {
     "iopub.execute_input": "2024-08-10T07:50:56.156025Z",
     "iopub.status.busy": "2024-08-10T07:50:56.155554Z",
     "iopub.status.idle": "2024-08-10T07:50:56.192023Z",
     "shell.execute_reply": "2024-08-10T07:50:56.190693Z",
     "shell.execute_reply.started": "2024-08-10T07:50:56.155990Z"
    },
    "scrolled": true
   },
   "outputs": [
    {
     "data": {
      "text/html": [
       "<div>\n",
       "<style scoped>\n",
       "    .dataframe tbody tr th:only-of-type {\n",
       "        vertical-align: middle;\n",
       "    }\n",
       "\n",
       "    .dataframe tbody tr th {\n",
       "        vertical-align: top;\n",
       "    }\n",
       "\n",
       "    .dataframe thead th {\n",
       "        text-align: right;\n",
       "    }\n",
       "</style>\n",
       "<table border=\"1\" class=\"dataframe\">\n",
       "  <thead>\n",
       "    <tr style=\"text-align: right;\">\n",
       "      <th></th>\n",
       "      <th>10</th>\n",
       "      <th>1857</th>\n",
       "      <th>3000</th>\n",
       "      <th>5</th>\n",
       "      <th>achievement</th>\n",
       "      <th>alexander</th>\n",
       "      <th>also</th>\n",
       "      <th>among</th>\n",
       "      <th>anyone</th>\n",
       "      <th>area</th>\n",
       "      <th>...</th>\n",
       "      <th>unless</th>\n",
       "      <th>vikram</th>\n",
       "      <th>vision</th>\n",
       "      <th>war</th>\n",
       "      <th>way</th>\n",
       "      <th>work</th>\n",
       "      <th>world</th>\n",
       "      <th>year</th>\n",
       "      <th>yet</th>\n",
       "      <th>’</th>\n",
       "    </tr>\n",
       "  </thead>\n",
       "  <tbody>\n",
       "    <tr>\n",
       "      <th>0</th>\n",
       "      <td>0.0</td>\n",
       "      <td>0.0</td>\n",
       "      <td>0.000000</td>\n",
       "      <td>0.0</td>\n",
       "      <td>0.0</td>\n",
       "      <td>0.000000</td>\n",
       "      <td>0.0</td>\n",
       "      <td>0.0</td>\n",
       "      <td>0.000000</td>\n",
       "      <td>0.0</td>\n",
       "      <td>...</td>\n",
       "      <td>0.0</td>\n",
       "      <td>0.0</td>\n",
       "      <td>0.548305</td>\n",
       "      <td>0.0</td>\n",
       "      <td>0.0</td>\n",
       "      <td>0.0</td>\n",
       "      <td>0.000000</td>\n",
       "      <td>0.00000</td>\n",
       "      <td>0.000000</td>\n",
       "      <td>0.0</td>\n",
       "    </tr>\n",
       "    <tr>\n",
       "      <th>1</th>\n",
       "      <td>0.0</td>\n",
       "      <td>0.0</td>\n",
       "      <td>0.317404</td>\n",
       "      <td>0.0</td>\n",
       "      <td>0.0</td>\n",
       "      <td>0.000000</td>\n",
       "      <td>0.0</td>\n",
       "      <td>0.0</td>\n",
       "      <td>0.000000</td>\n",
       "      <td>0.0</td>\n",
       "      <td>...</td>\n",
       "      <td>0.0</td>\n",
       "      <td>0.0</td>\n",
       "      <td>0.000000</td>\n",
       "      <td>0.0</td>\n",
       "      <td>0.0</td>\n",
       "      <td>0.0</td>\n",
       "      <td>0.240312</td>\n",
       "      <td>0.28329</td>\n",
       "      <td>0.000000</td>\n",
       "      <td>0.0</td>\n",
       "    </tr>\n",
       "    <tr>\n",
       "      <th>2</th>\n",
       "      <td>0.0</td>\n",
       "      <td>0.0</td>\n",
       "      <td>0.000000</td>\n",
       "      <td>0.0</td>\n",
       "      <td>0.0</td>\n",
       "      <td>0.284327</td>\n",
       "      <td>0.0</td>\n",
       "      <td>0.0</td>\n",
       "      <td>0.000000</td>\n",
       "      <td>0.0</td>\n",
       "      <td>...</td>\n",
       "      <td>0.0</td>\n",
       "      <td>0.0</td>\n",
       "      <td>0.000000</td>\n",
       "      <td>0.0</td>\n",
       "      <td>0.0</td>\n",
       "      <td>0.0</td>\n",
       "      <td>0.000000</td>\n",
       "      <td>0.00000</td>\n",
       "      <td>0.000000</td>\n",
       "      <td>0.0</td>\n",
       "    </tr>\n",
       "    <tr>\n",
       "      <th>3</th>\n",
       "      <td>0.0</td>\n",
       "      <td>0.0</td>\n",
       "      <td>0.000000</td>\n",
       "      <td>0.0</td>\n",
       "      <td>0.0</td>\n",
       "      <td>0.000000</td>\n",
       "      <td>0.0</td>\n",
       "      <td>0.0</td>\n",
       "      <td>0.000000</td>\n",
       "      <td>0.0</td>\n",
       "      <td>...</td>\n",
       "      <td>0.0</td>\n",
       "      <td>0.0</td>\n",
       "      <td>0.000000</td>\n",
       "      <td>0.0</td>\n",
       "      <td>0.0</td>\n",
       "      <td>0.0</td>\n",
       "      <td>0.000000</td>\n",
       "      <td>0.00000</td>\n",
       "      <td>0.588643</td>\n",
       "      <td>0.0</td>\n",
       "    </tr>\n",
       "    <tr>\n",
       "      <th>4</th>\n",
       "      <td>0.0</td>\n",
       "      <td>0.0</td>\n",
       "      <td>0.000000</td>\n",
       "      <td>0.0</td>\n",
       "      <td>0.0</td>\n",
       "      <td>0.000000</td>\n",
       "      <td>0.0</td>\n",
       "      <td>0.0</td>\n",
       "      <td>0.746061</td>\n",
       "      <td>0.0</td>\n",
       "      <td>...</td>\n",
       "      <td>0.0</td>\n",
       "      <td>0.0</td>\n",
       "      <td>0.000000</td>\n",
       "      <td>0.0</td>\n",
       "      <td>0.0</td>\n",
       "      <td>0.0</td>\n",
       "      <td>0.000000</td>\n",
       "      <td>0.00000</td>\n",
       "      <td>0.000000</td>\n",
       "      <td>0.0</td>\n",
       "    </tr>\n",
       "  </tbody>\n",
       "</table>\n",
       "<p>5 rows × 118 columns</p>\n",
       "</div>"
      ],
      "text/plain": [
       "    10  1857      3000    5  achievement  alexander  also  among    anyone  \\\n",
       "0  0.0   0.0  0.000000  0.0          0.0   0.000000   0.0    0.0  0.000000   \n",
       "1  0.0   0.0  0.317404  0.0          0.0   0.000000   0.0    0.0  0.000000   \n",
       "2  0.0   0.0  0.000000  0.0          0.0   0.284327   0.0    0.0  0.000000   \n",
       "3  0.0   0.0  0.000000  0.0          0.0   0.000000   0.0    0.0  0.000000   \n",
       "4  0.0   0.0  0.000000  0.0          0.0   0.000000   0.0    0.0  0.746061   \n",
       "\n",
       "   area  ...  unless  vikram    vision  war  way  work     world     year  \\\n",
       "0   0.0  ...     0.0     0.0  0.548305  0.0  0.0   0.0  0.000000  0.00000   \n",
       "1   0.0  ...     0.0     0.0  0.000000  0.0  0.0   0.0  0.240312  0.28329   \n",
       "2   0.0  ...     0.0     0.0  0.000000  0.0  0.0   0.0  0.000000  0.00000   \n",
       "3   0.0  ...     0.0     0.0  0.000000  0.0  0.0   0.0  0.000000  0.00000   \n",
       "4   0.0  ...     0.0     0.0  0.000000  0.0  0.0   0.0  0.000000  0.00000   \n",
       "\n",
       "        yet    ’  \n",
       "0  0.000000  0.0  \n",
       "1  0.000000  0.0  \n",
       "2  0.000000  0.0  \n",
       "3  0.588643  0.0  \n",
       "4  0.000000  0.0  \n",
       "\n",
       "[5 rows x 118 columns]"
      ]
     },
     "execution_count": 37,
     "metadata": {},
     "output_type": "execute_result"
    }
   ],
   "source": [
    "vector.head()"
   ]
  },
  {
   "cell_type": "code",
   "execution_count": 38,
   "metadata": {
    "execution": {
     "iopub.execute_input": "2024-08-10T07:50:59.517674Z",
     "iopub.status.busy": "2024-08-10T07:50:59.517262Z",
     "iopub.status.idle": "2024-08-10T07:50:59.538377Z",
     "shell.execute_reply": "2024-08-10T07:50:59.537132Z",
     "shell.execute_reply.started": "2024-08-10T07:50:59.517641Z"
    }
   },
   "outputs": [
    {
     "data": {
      "text/html": [
       "<div>\n",
       "<style scoped>\n",
       "    .dataframe tbody tr th:only-of-type {\n",
       "        vertical-align: middle;\n",
       "    }\n",
       "\n",
       "    .dataframe tbody tr th {\n",
       "        vertical-align: top;\n",
       "    }\n",
       "\n",
       "    .dataframe thead th {\n",
       "        text-align: right;\n",
       "    }\n",
       "</style>\n",
       "<table border=\"1\" class=\"dataframe\">\n",
       "  <thead>\n",
       "    <tr style=\"text-align: right;\">\n",
       "      <th></th>\n",
       "      <th>3000</th>\n",
       "      <th>capture</th>\n",
       "      <th>come</th>\n",
       "      <th>conquer</th>\n",
       "      <th>history</th>\n",
       "      <th>invade</th>\n",
       "      <th>land</th>\n",
       "      <th>mind</th>\n",
       "      <th>people</th>\n",
       "      <th>u</th>\n",
       "      <th>world</th>\n",
       "      <th>year</th>\n",
       "    </tr>\n",
       "  </thead>\n",
       "  <tbody>\n",
       "    <tr>\n",
       "      <th>0</th>\n",
       "      <td>0.317404</td>\n",
       "      <td>0.317404</td>\n",
       "      <td>0.28329</td>\n",
       "      <td>0.28329</td>\n",
       "      <td>0.28329</td>\n",
       "      <td>0.317404</td>\n",
       "      <td>0.28329</td>\n",
       "      <td>0.28329</td>\n",
       "      <td>0.317404</td>\n",
       "      <td>0.240312</td>\n",
       "      <td>0.240312</td>\n",
       "      <td>0.28329</td>\n",
       "    </tr>\n",
       "  </tbody>\n",
       "</table>\n",
       "</div>"
      ],
      "text/plain": [
       "       3000   capture     come  conquer  history    invade     land     mind  \\\n",
       "0  0.317404  0.317404  0.28329  0.28329  0.28329  0.317404  0.28329  0.28329   \n",
       "\n",
       "     people         u     world     year  \n",
       "0  0.317404  0.240312  0.240312  0.28329  "
      ]
     },
     "execution_count": 38,
     "metadata": {},
     "output_type": "execute_result"
    }
   ],
   "source": [
    "# Creating a dataframe out of the vector representation of the ith sentence, filtering out just the terms \n",
    "# that occur in that sentence\n",
    "\n",
    "i = 2 # You can set any i, where i is the sentence number\n",
    "\n",
    "ith_sentence = vector[vector > 0].iloc[i-1, :].dropna() # Pandas Series\n",
    "\n",
    "ith_sentence = pd.DataFrame(data= [ith_sentence.values], columns=ith_sentence.index) # Pandas DataFrame\n",
    "\n",
    "ith_sentence"
   ]
  },
  {
   "cell_type": "markdown",
   "metadata": {},
   "source": [
    "Second sentence:\n",
    "\n",
    "\n",
    "> In 3000 years of our history, people from all over the world have come and invaded us, captured our lands, conquered our minds.\n",
    "         "
   ]
  },
  {
   "cell_type": "markdown",
   "metadata": {},
   "source": [
    "We can see how the second sentence has been vectorized, with column names as terms and values set to the TF-IDF of each term. "
   ]
  }
 ],
 "metadata": {
  "kaggle": {
   "accelerator": "none",
   "dataSources": [],
   "dockerImageVersionId": 30746,
   "isGpuEnabled": false,
   "isInternetEnabled": true,
   "language": "python",
   "sourceType": "notebook"
  },
  "kernelspec": {
   "display_name": "Python 3 (ipykernel)",
   "language": "python",
   "name": "python3"
  },
  "language_info": {
   "codemirror_mode": {
    "name": "ipython",
    "version": 3
   },
   "file_extension": ".py",
   "mimetype": "text/x-python",
   "name": "python",
   "nbconvert_exporter": "python",
   "pygments_lexer": "ipython3",
   "version": "3.11.4"
  }
 },
 "nbformat": 4,
 "nbformat_minor": 4
}
