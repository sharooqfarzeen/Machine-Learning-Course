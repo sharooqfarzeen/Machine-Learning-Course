{
 "cells": [
  {
   "cell_type": "markdown",
   "metadata": {},
   "source": [
    "Open Kaggle notebook for data: https://www.kaggle.com/code/sharooqfarzeenak/nlp-vectorization-word2vec"
   ]
  },
  {
   "cell_type": "markdown",
   "metadata": {},
   "source": [
    "**Word2vec** is a technique in natural language processing (NLP) for obtaining vector representations of words. These vectors capture information about the meaning of the word based on the surrounding words. The word2vec algorithm estimates these representations by modeling text in a large corpus.\n",
    "\n",
    "Goal of this notebook is to familiarize with vector representation of different words in the 'word2vec-google-news-300' dataset, which includes pre-trained vectors trained on a portion of the Google News dataset (consisting of about 100 billion words). The model contains 300-dimensional vectors for about 3 million words and phrases."
   ]
  },
  {
   "cell_type": "code",
   "execution_count": 1,
   "metadata": {
    "execution": {
     "iopub.execute_input": "2024-08-12T06:14:15.716652Z",
     "iopub.status.busy": "2024-08-12T06:14:15.715816Z",
     "iopub.status.idle": "2024-08-12T06:14:28.149474Z",
     "shell.execute_reply": "2024-08-12T06:14:28.148442Z",
     "shell.execute_reply.started": "2024-08-12T06:14:15.716615Z"
    }
   },
   "outputs": [],
   "source": [
    "import gensim\n",
    "from gensim.models import Word2Vec, KeyedVectors"
   ]
  },
  {
   "cell_type": "code",
   "execution_count": 2,
   "metadata": {
    "execution": {
     "iopub.execute_input": "2024-08-12T06:14:28.152718Z",
     "iopub.status.busy": "2024-08-12T06:14:28.151603Z",
     "iopub.status.idle": "2024-08-12T06:15:45.344868Z",
     "shell.execute_reply": "2024-08-12T06:15:45.343494Z",
     "shell.execute_reply.started": "2024-08-12T06:14:28.152677Z"
    }
   },
   "outputs": [],
   "source": [
    "# Loading the dataset\n",
    "# Loading the pre-trained Word2Vec model\n",
    "word2vec_path = '/kaggle/input/google-word2vec/GoogleNews-vectors-negative300.bin'\n",
    "word2vec = gensim.models.KeyedVectors.load_word2vec_format(word2vec_path, binary = True)"
   ]
  },
  {
   "cell_type": "code",
   "execution_count": 4,
   "metadata": {
    "execution": {
     "iopub.execute_input": "2024-08-12T06:16:27.770097Z",
     "iopub.status.busy": "2024-08-12T06:16:27.769286Z",
     "iopub.status.idle": "2024-08-12T06:16:27.778095Z",
     "shell.execute_reply": "2024-08-12T06:16:27.776909Z",
     "shell.execute_reply.started": "2024-08-12T06:16:27.770059Z"
    }
   },
   "outputs": [
    {
     "data": {
      "text/plain": [
       "gensim.models.keyedvectors.KeyedVectors"
      ]
     },
     "execution_count": 4,
     "metadata": {},
     "output_type": "execute_result"
    }
   ],
   "source": [
    "type(word2vec)"
   ]
  },
  {
   "cell_type": "code",
   "execution_count": 5,
   "metadata": {
    "execution": {
     "iopub.execute_input": "2024-08-12T06:16:46.373720Z",
     "iopub.status.busy": "2024-08-12T06:16:46.373003Z",
     "iopub.status.idle": "2024-08-12T06:16:46.378691Z",
     "shell.execute_reply": "2024-08-12T06:16:46.377443Z",
     "shell.execute_reply.started": "2024-08-12T06:16:46.373685Z"
    }
   },
   "outputs": [],
   "source": [
    "w2v = word2vec"
   ]
  },
  {
   "cell_type": "code",
   "execution_count": 45,
   "metadata": {
    "execution": {
     "iopub.execute_input": "2024-08-12T06:36:23.452231Z",
     "iopub.status.busy": "2024-08-12T06:36:23.451785Z",
     "iopub.status.idle": "2024-08-12T06:36:23.460549Z",
     "shell.execute_reply": "2024-08-12T06:36:23.459312Z",
     "shell.execute_reply.started": "2024-08-12T06:36:23.452198Z"
    }
   },
   "outputs": [
    {
     "data": {
      "text/plain": [
       "(300,)"
      ]
     },
     "execution_count": 45,
     "metadata": {},
     "output_type": "execute_result"
    }
   ],
   "source": [
    "# Getting vectorized form of a word\n",
    "example = w2v['example']\n",
    "example.shape"
   ]
  },
  {
   "cell_type": "code",
   "execution_count": 42,
   "metadata": {
    "execution": {
     "iopub.execute_input": "2024-08-12T06:35:31.204127Z",
     "iopub.status.busy": "2024-08-12T06:35:31.203684Z",
     "iopub.status.idle": "2024-08-12T06:35:31.465256Z",
     "shell.execute_reply": "2024-08-12T06:35:31.463780Z",
     "shell.execute_reply.started": "2024-08-12T06:35:31.204096Z"
    }
   },
   "outputs": [
    {
     "data": {
      "text/plain": [
       "[('example', 1.0),\n",
       " ('instance', 0.7873880863189697),\n",
       " ('examples', 0.6041036248207092),\n",
       " ('illustration', 0.5342040657997131),\n",
       " ('exemplar', 0.49639376997947693),\n",
       " ('shining_example', 0.4890441298484802),\n",
       " ('reason', 0.4628060758113861),\n",
       " ('Example', 0.44629594683647156),\n",
       " ('counterexample', 0.4366326332092285),\n",
       " ('analogy', 0.4335395395755768)]"
      ]
     },
     "execution_count": 42,
     "metadata": {},
     "output_type": "execute_result"
    }
   ],
   "source": [
    "# Getting similar words\n",
    "w2v.most_similar([w2v['example']])"
   ]
  },
  {
   "cell_type": "markdown",
   "metadata": {},
   "source": [
    "# 'x' is to 'y' what 'z' is to?"
   ]
  },
  {
   "cell_type": "code",
   "execution_count": 50,
   "metadata": {
    "execution": {
     "iopub.execute_input": "2024-08-12T06:41:10.981575Z",
     "iopub.status.busy": "2024-08-12T06:41:10.981093Z",
     "iopub.status.idle": "2024-08-12T06:41:11.270434Z",
     "shell.execute_reply": "2024-08-12T06:41:11.269256Z",
     "shell.execute_reply.started": "2024-08-12T06:41:10.981540Z"
    }
   },
   "outputs": [
    {
     "data": {
      "text/plain": [
       "[('woman', 0.7186801433563232),\n",
       " ('man', 0.6557512283325195),\n",
       " ('girl', 0.5882835388183594),\n",
       " ('lady', 0.5754351615905762),\n",
       " ('teenage_girl', 0.5700528025627136),\n",
       " ('teenager', 0.5378326177597046),\n",
       " ('schoolgirl', 0.497780978679657),\n",
       " ('policewoman', 0.49065014719963074),\n",
       " ('blonde', 0.4870774745941162),\n",
       " ('redhead', 0.4778464436531067)]"
      ]
     },
     "execution_count": 50,
     "metadata": {},
     "output_type": "execute_result"
    }
   ],
   "source": [
    "# king is to man what queen is to?\n",
    "w2v.most_similar([w2v['man'] - w2v['king'] + w2v['queen']])"
   ]
  },
  {
   "cell_type": "code",
   "execution_count": 48,
   "metadata": {
    "execution": {
     "iopub.execute_input": "2024-08-12T06:39:43.036316Z",
     "iopub.status.busy": "2024-08-12T06:39:43.035907Z",
     "iopub.status.idle": "2024-08-12T06:39:43.298209Z",
     "shell.execute_reply": "2024-08-12T06:39:43.296706Z",
     "shell.execute_reply.started": "2024-08-12T06:39:43.036286Z"
    }
   },
   "outputs": [
    {
     "data": {
      "text/plain": [
       "[('puppy', 0.6128201484680176),\n",
       " ('adult', 0.6070362329483032),\n",
       " ('dog', 0.5691561698913574),\n",
       " ('dogs', 0.5043929815292358),\n",
       " ('beagle', 0.49217966198921204),\n",
       " ('poodle', 0.4801988899707794),\n",
       " ('puppies', 0.4798838794231415),\n",
       " ('Puppy', 0.47203266620635986),\n",
       " ('pitbull', 0.467395544052124),\n",
       " ('basset_hound', 0.46064868569374084)]"
      ]
     },
     "execution_count": 48,
     "metadata": {},
     "output_type": "execute_result"
    }
   ],
   "source": [
    "# newborn is to adult what puppy is to?\n",
    "w2v.most_similar([w2v['adult'] - w2v['newborn'] + w2v['puppy']])"
   ]
  },
  {
   "cell_type": "code",
   "execution_count": 64,
   "metadata": {
    "execution": {
     "iopub.execute_input": "2024-08-12T06:53:28.948858Z",
     "iopub.status.busy": "2024-08-12T06:53:28.948407Z",
     "iopub.status.idle": "2024-08-12T06:53:29.424759Z",
     "shell.execute_reply": "2024-08-12T06:53:29.423468Z",
     "shell.execute_reply.started": "2024-08-12T06:53:28.948824Z"
    }
   },
   "outputs": [
    {
     "data": {
      "text/plain": [
       "[('asia', 0.751755952835083),\n",
       " ('germany', 0.6635499000549316),\n",
       " ('europe', 0.511908233165741),\n",
       " ('austria', 0.4750858247280121),\n",
       " ('sweden', 0.4703856110572815),\n",
       " ('korea', 0.4643610417842865),\n",
       " ('russia', 0.4627966284751892),\n",
       " ('european', 0.45522257685661316),\n",
       " ('east_asia', 0.4503966271877289),\n",
       " ('spain', 0.44895800948143005)]"
      ]
     },
     "execution_count": 64,
     "metadata": {},
     "output_type": "execute_result"
    }
   ],
   "source": [
    "# Asia is to India what Germany is to?\n",
    "w2v.most_similar([w2v['asia'] - w2v['india'] + w2v['germany']])"
   ]
  }
 ],
 "metadata": {
  "kernelspec": {
   "display_name": "Python 3 (ipykernel)",
   "language": "python",
   "name": "python3"
  },
  "language_info": {
   "codemirror_mode": {
    "name": "ipython",
    "version": 3
   },
   "file_extension": ".py",
   "mimetype": "text/x-python",
   "name": "python",
   "nbconvert_exporter": "python",
   "pygments_lexer": "ipython3",
   "version": "3.11.4"
  }
 },
 "nbformat": 4,
 "nbformat_minor": 4
}
