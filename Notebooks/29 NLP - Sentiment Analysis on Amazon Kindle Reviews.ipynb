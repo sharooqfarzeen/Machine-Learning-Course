{
 "cells": [
  {
   "cell_type": "code",
   "execution_count": 5,
   "id": "e881f252",
   "metadata": {},
   "outputs": [],
   "source": [
    "# Dataframe manipulation\n",
    "import pandas as pd\n",
    "import numpy as np\n",
    "\n",
    "# Text preprocessing\n",
    "import re\n",
    "import string\n",
    "import spacy\n",
    "from gensim.utils import simple_preprocess\n",
    "\n",
    "# Text Vectolization\n",
    "from gensim.models import Word2Vec\n",
    "\n",
    "# Model Selection, Training and Testing\n",
    "from sklearn.model_selection import train_test_split\n",
    "from sklearn.ensemble import RandomForestClassifier\n",
    "from sklearn.ensemble import GradientBoostingClassifier\n",
    "from sklearn.naive_bayes import MultinomialNB\n",
    "from sklearn.linear_model import LogisticRegression\n",
    "from sklearn.svm import SVC\n",
    "from sklearn.metrics import accuracy_score, classification_report"
   ]
  },
  {
   "cell_type": "raw",
   "id": "5d07ca9f",
   "metadata": {},
   "source": [
    "# If not installed\n",
    "\n",
    "pip install spacy\n",
    "python -m spacy download en_core_web_sm"
   ]
  },
  {
   "cell_type": "code",
   "execution_count": 6,
   "id": "5901312b",
   "metadata": {},
   "outputs": [],
   "source": [
    "raw = pd.read_csv(\"Datasets/kindle_reviews.csv\", index_col=0)"
   ]
  },
  {
   "cell_type": "code",
   "execution_count": 7,
   "id": "16c6dec6",
   "metadata": {},
   "outputs": [
    {
     "data": {
      "text/plain": [
       "(12000, 10)"
      ]
     },
     "execution_count": 7,
     "metadata": {},
     "output_type": "execute_result"
    }
   ],
   "source": [
    "raw.shape"
   ]
  },
  {
   "cell_type": "code",
   "execution_count": 8,
   "id": "c852aa3f",
   "metadata": {
    "scrolled": true
   },
   "outputs": [
    {
     "data": {
      "text/html": [
       "<div>\n",
       "<style scoped>\n",
       "    .dataframe tbody tr th:only-of-type {\n",
       "        vertical-align: middle;\n",
       "    }\n",
       "\n",
       "    .dataframe tbody tr th {\n",
       "        vertical-align: top;\n",
       "    }\n",
       "\n",
       "    .dataframe thead th {\n",
       "        text-align: right;\n",
       "    }\n",
       "</style>\n",
       "<table border=\"1\" class=\"dataframe\">\n",
       "  <thead>\n",
       "    <tr style=\"text-align: right;\">\n",
       "      <th></th>\n",
       "      <th>Unnamed: 0</th>\n",
       "      <th>asin</th>\n",
       "      <th>helpful</th>\n",
       "      <th>rating</th>\n",
       "      <th>reviewText</th>\n",
       "      <th>reviewTime</th>\n",
       "      <th>reviewerID</th>\n",
       "      <th>reviewerName</th>\n",
       "      <th>summary</th>\n",
       "      <th>unixReviewTime</th>\n",
       "    </tr>\n",
       "  </thead>\n",
       "  <tbody>\n",
       "    <tr>\n",
       "      <th>0</th>\n",
       "      <td>11539</td>\n",
       "      <td>B0033UV8HI</td>\n",
       "      <td>[8, 10]</td>\n",
       "      <td>3</td>\n",
       "      <td>Jace Rankin may be short, but he's nothing to ...</td>\n",
       "      <td>09 2, 2010</td>\n",
       "      <td>A3HHXRELK8BHQG</td>\n",
       "      <td>Ridley</td>\n",
       "      <td>Entertaining But Average</td>\n",
       "      <td>1283385600</td>\n",
       "    </tr>\n",
       "    <tr>\n",
       "      <th>1</th>\n",
       "      <td>5957</td>\n",
       "      <td>B002HJV4DE</td>\n",
       "      <td>[1, 1]</td>\n",
       "      <td>5</td>\n",
       "      <td>Great short read.  I didn't want to put it dow...</td>\n",
       "      <td>10 8, 2013</td>\n",
       "      <td>A2RGNZ0TRF578I</td>\n",
       "      <td>Holly Butler</td>\n",
       "      <td>Terrific menage scenes!</td>\n",
       "      <td>1381190400</td>\n",
       "    </tr>\n",
       "    <tr>\n",
       "      <th>2</th>\n",
       "      <td>9146</td>\n",
       "      <td>B002ZG96I4</td>\n",
       "      <td>[0, 0]</td>\n",
       "      <td>3</td>\n",
       "      <td>I'll start by saying this is the first of four...</td>\n",
       "      <td>04 11, 2014</td>\n",
       "      <td>A3S0H2HV6U1I7F</td>\n",
       "      <td>Merissa</td>\n",
       "      <td>Snapdragon Alley</td>\n",
       "      <td>1397174400</td>\n",
       "    </tr>\n",
       "    <tr>\n",
       "      <th>3</th>\n",
       "      <td>7038</td>\n",
       "      <td>B002QHWOEU</td>\n",
       "      <td>[1, 3]</td>\n",
       "      <td>3</td>\n",
       "      <td>Aggie is Angela Lansbury who carries pocketboo...</td>\n",
       "      <td>07 5, 2014</td>\n",
       "      <td>AC4OQW3GZ919J</td>\n",
       "      <td>Cleargrace</td>\n",
       "      <td>very light murder cozy</td>\n",
       "      <td>1404518400</td>\n",
       "    </tr>\n",
       "    <tr>\n",
       "      <th>4</th>\n",
       "      <td>1776</td>\n",
       "      <td>B001A06VJ8</td>\n",
       "      <td>[0, 1]</td>\n",
       "      <td>4</td>\n",
       "      <td>I did not expect this type of book to be in li...</td>\n",
       "      <td>12 31, 2012</td>\n",
       "      <td>A3C9V987IQHOQD</td>\n",
       "      <td>Rjostler</td>\n",
       "      <td>Book</td>\n",
       "      <td>1356912000</td>\n",
       "    </tr>\n",
       "  </tbody>\n",
       "</table>\n",
       "</div>"
      ],
      "text/plain": [
       "   Unnamed: 0        asin  helpful  rating  \\\n",
       "0       11539  B0033UV8HI  [8, 10]       3   \n",
       "1        5957  B002HJV4DE   [1, 1]       5   \n",
       "2        9146  B002ZG96I4   [0, 0]       3   \n",
       "3        7038  B002QHWOEU   [1, 3]       3   \n",
       "4        1776  B001A06VJ8   [0, 1]       4   \n",
       "\n",
       "                                          reviewText   reviewTime  \\\n",
       "0  Jace Rankin may be short, but he's nothing to ...   09 2, 2010   \n",
       "1  Great short read.  I didn't want to put it dow...   10 8, 2013   \n",
       "2  I'll start by saying this is the first of four...  04 11, 2014   \n",
       "3  Aggie is Angela Lansbury who carries pocketboo...   07 5, 2014   \n",
       "4  I did not expect this type of book to be in li...  12 31, 2012   \n",
       "\n",
       "       reviewerID  reviewerName                   summary  unixReviewTime  \n",
       "0  A3HHXRELK8BHQG        Ridley  Entertaining But Average      1283385600  \n",
       "1  A2RGNZ0TRF578I  Holly Butler   Terrific menage scenes!      1381190400  \n",
       "2  A3S0H2HV6U1I7F       Merissa          Snapdragon Alley      1397174400  \n",
       "3   AC4OQW3GZ919J    Cleargrace    very light murder cozy      1404518400  \n",
       "4  A3C9V987IQHOQD      Rjostler                      Book      1356912000  "
      ]
     },
     "execution_count": 8,
     "metadata": {},
     "output_type": "execute_result"
    }
   ],
   "source": [
    "raw.head()"
   ]
  },
  {
   "cell_type": "code",
   "execution_count": 9,
   "id": "fe265517",
   "metadata": {},
   "outputs": [
    {
     "data": {
      "text/plain": [
       "Unnamed: 0         0\n",
       "asin               0\n",
       "helpful            0\n",
       "rating             0\n",
       "reviewText         0\n",
       "reviewTime         0\n",
       "reviewerID         0\n",
       "reviewerName      38\n",
       "summary            0\n",
       "unixReviewTime     0\n",
       "dtype: int64"
      ]
     },
     "execution_count": 9,
     "metadata": {},
     "output_type": "execute_result"
    }
   ],
   "source": [
    "raw.isnull().sum()"
   ]
  },
  {
   "cell_type": "raw",
   "id": "bba08838",
   "metadata": {},
   "source": [
    "There are no null values in the columns we are interested in - 'rating' and 'reviewText'"
   ]
  },
  {
   "cell_type": "markdown",
   "id": "7fead883",
   "metadata": {},
   "source": [
    "The 2 columns we need are 'rating' and 'reviewText'.\n",
    "\n",
    "We are going to use the 'rating' column to identify sentiment in the following way:\n",
    "\n",
    "* rating > 3 --> Good(1)\n",
    "* rating <=3   --> Bad(0)"
   ]
  },
  {
   "cell_type": "markdown",
   "id": "c614cadc",
   "metadata": {},
   "source": [
    "#### Here is how we are going to proceed:\n",
    "\n",
    "1. Extract 'reviewText' column and 'rating' column as our dataset. Let's call 'reviewText' column as reviews and 'rating' column as ratings from now on for convenience.\n",
    "\n",
    "2. Preprocess reviews:\n",
    "    * Remove HTML tags, URLs, punctuation, stop words, numbers, special characters, extra whitespace, \n",
    "      non-ASCII characters and emojis.\n",
    "    * Convert to lower case.\n",
    "    * Lemmatize\n",
    "    \n",
    "3. Convert ratings column to labels 0 (Bad) and 1 (Good).\n",
    "\n",
    "4. Vectorize our reviews using Word2Vec model.\n",
    "\n",
    "5. Train, Test split and find the best model."
   ]
  },
  {
   "cell_type": "markdown",
   "id": "1cae42b3",
   "metadata": {},
   "source": [
    "# Extracting required columns"
   ]
  },
  {
   "cell_type": "markdown",
   "id": "4f5b996c",
   "metadata": {},
   "source": [
    "### The information in the 'summary' column is really important. Concatenating it with the 'reviewText' column."
   ]
  },
  {
   "cell_type": "code",
   "execution_count": 10,
   "id": "b455ea3b",
   "metadata": {},
   "outputs": [],
   "source": [
    "raw['reviewText'] = raw['reviewText'] + raw['summary']"
   ]
  },
  {
   "cell_type": "code",
   "execution_count": 11,
   "id": "8400c3ff",
   "metadata": {},
   "outputs": [],
   "source": [
    "df = raw.loc[:, ['reviewText', 'rating']]"
   ]
  },
  {
   "cell_type": "code",
   "execution_count": 12,
   "id": "98a73ee3",
   "metadata": {},
   "outputs": [
    {
     "data": {
      "text/html": [
       "<div>\n",
       "<style scoped>\n",
       "    .dataframe tbody tr th:only-of-type {\n",
       "        vertical-align: middle;\n",
       "    }\n",
       "\n",
       "    .dataframe tbody tr th {\n",
       "        vertical-align: top;\n",
       "    }\n",
       "\n",
       "    .dataframe thead th {\n",
       "        text-align: right;\n",
       "    }\n",
       "</style>\n",
       "<table border=\"1\" class=\"dataframe\">\n",
       "  <thead>\n",
       "    <tr style=\"text-align: right;\">\n",
       "      <th></th>\n",
       "      <th>reviewText</th>\n",
       "      <th>rating</th>\n",
       "    </tr>\n",
       "  </thead>\n",
       "  <tbody>\n",
       "    <tr>\n",
       "      <th>0</th>\n",
       "      <td>Jace Rankin may be short, but he's nothing to ...</td>\n",
       "      <td>3</td>\n",
       "    </tr>\n",
       "    <tr>\n",
       "      <th>1</th>\n",
       "      <td>Great short read.  I didn't want to put it dow...</td>\n",
       "      <td>5</td>\n",
       "    </tr>\n",
       "    <tr>\n",
       "      <th>2</th>\n",
       "      <td>I'll start by saying this is the first of four...</td>\n",
       "      <td>3</td>\n",
       "    </tr>\n",
       "    <tr>\n",
       "      <th>3</th>\n",
       "      <td>Aggie is Angela Lansbury who carries pocketboo...</td>\n",
       "      <td>3</td>\n",
       "    </tr>\n",
       "    <tr>\n",
       "      <th>4</th>\n",
       "      <td>I did not expect this type of book to be in li...</td>\n",
       "      <td>4</td>\n",
       "    </tr>\n",
       "  </tbody>\n",
       "</table>\n",
       "</div>"
      ],
      "text/plain": [
       "                                          reviewText  rating\n",
       "0  Jace Rankin may be short, but he's nothing to ...       3\n",
       "1  Great short read.  I didn't want to put it dow...       5\n",
       "2  I'll start by saying this is the first of four...       3\n",
       "3  Aggie is Angela Lansbury who carries pocketboo...       3\n",
       "4  I did not expect this type of book to be in li...       4"
      ]
     },
     "execution_count": 12,
     "metadata": {},
     "output_type": "execute_result"
    }
   ],
   "source": [
    "df.head()"
   ]
  },
  {
   "cell_type": "code",
   "execution_count": 13,
   "id": "635d95f7",
   "metadata": {},
   "outputs": [],
   "source": [
    "# Changing column names\n",
    "df.columns = ['Reviews', 'Ratings']"
   ]
  },
  {
   "cell_type": "code",
   "execution_count": 14,
   "id": "0dfc1418",
   "metadata": {},
   "outputs": [
    {
     "data": {
      "text/html": [
       "<div>\n",
       "<style scoped>\n",
       "    .dataframe tbody tr th:only-of-type {\n",
       "        vertical-align: middle;\n",
       "    }\n",
       "\n",
       "    .dataframe tbody tr th {\n",
       "        vertical-align: top;\n",
       "    }\n",
       "\n",
       "    .dataframe thead th {\n",
       "        text-align: right;\n",
       "    }\n",
       "</style>\n",
       "<table border=\"1\" class=\"dataframe\">\n",
       "  <thead>\n",
       "    <tr style=\"text-align: right;\">\n",
       "      <th></th>\n",
       "      <th>Reviews</th>\n",
       "      <th>Ratings</th>\n",
       "    </tr>\n",
       "  </thead>\n",
       "  <tbody>\n",
       "    <tr>\n",
       "      <th>0</th>\n",
       "      <td>Jace Rankin may be short, but he's nothing to ...</td>\n",
       "      <td>3</td>\n",
       "    </tr>\n",
       "    <tr>\n",
       "      <th>1</th>\n",
       "      <td>Great short read.  I didn't want to put it dow...</td>\n",
       "      <td>5</td>\n",
       "    </tr>\n",
       "    <tr>\n",
       "      <th>2</th>\n",
       "      <td>I'll start by saying this is the first of four...</td>\n",
       "      <td>3</td>\n",
       "    </tr>\n",
       "    <tr>\n",
       "      <th>3</th>\n",
       "      <td>Aggie is Angela Lansbury who carries pocketboo...</td>\n",
       "      <td>3</td>\n",
       "    </tr>\n",
       "    <tr>\n",
       "      <th>4</th>\n",
       "      <td>I did not expect this type of book to be in li...</td>\n",
       "      <td>4</td>\n",
       "    </tr>\n",
       "  </tbody>\n",
       "</table>\n",
       "</div>"
      ],
      "text/plain": [
       "                                             Reviews  Ratings\n",
       "0  Jace Rankin may be short, but he's nothing to ...        3\n",
       "1  Great short read.  I didn't want to put it dow...        5\n",
       "2  I'll start by saying this is the first of four...        3\n",
       "3  Aggie is Angela Lansbury who carries pocketboo...        3\n",
       "4  I did not expect this type of book to be in li...        4"
      ]
     },
     "execution_count": 14,
     "metadata": {},
     "output_type": "execute_result"
    }
   ],
   "source": [
    "df.head()"
   ]
  },
  {
   "cell_type": "markdown",
   "id": "bdc0d8a6",
   "metadata": {},
   "source": [
    "# Pre-processing Reviews"
   ]
  },
  {
   "cell_type": "markdown",
   "id": "448f2433",
   "metadata": {},
   "source": [
    "* Remove HTML tags, URLs, punctuation, stop words, numbers, special characters, extra whitespace, \n",
    "  non-ASCII characters and emojis.\n",
    "* Convert to lower case.\n",
    "* Lemmatize"
   ]
  },
  {
   "cell_type": "code",
   "execution_count": 15,
   "id": "d0e37011",
   "metadata": {},
   "outputs": [],
   "source": [
    "# Loading spaCy's English model\n",
    "nlp = spacy.load('en_core_web_sm')"
   ]
  },
  {
   "cell_type": "code",
   "execution_count": 16,
   "id": "409c7872",
   "metadata": {},
   "outputs": [],
   "source": [
    "def preprocessor(text: str):\n",
    "    \"\"\"\n",
    "    Takes in a single review(sentences) as input; \n",
    "    returns the review as a list of tokens after -\n",
    "    removing elements not needed for sentiment analysis,\n",
    "    lemmatization, and\n",
    "    converting to lower case.\n",
    "    \"\"\"\n",
    "    \n",
    "    # Remove HTML tags\n",
    "    text = re.sub(r'<.*?>', '', text)\n",
    "    # Remove URLs\n",
    "    text = re.sub(r'http\\S+|www\\S+|https\\S+', '', text, flags=re.MULTILINE)\n",
    "    # Remove all punctuations except apostrophes to preserve words like \"I'll\", which can be removed later using spaCy stopwords\n",
    "    text = text.translate(str.maketrans('', '', string.punctuation[:6] + string.punctuation[7:]))\n",
    "    # Remove numbers\n",
    "    text = re.sub(r'\\d+', '', text)\n",
    "    # Remove non-word characters except apostrophes\n",
    "    text = re.sub(r\"[^\\w\\s']\", ' ', text)\n",
    "    # Remove extra whitespace\n",
    "    text = re.sub(r'\\s+', ' ', text).strip()\n",
    "    \n",
    "    # Lemmatization, tokenization and lower casing using spaCy\n",
    "    doc = nlp(text)\n",
    "    text = [token.lemma_ for token in doc if not token.is_stop]\n",
    "    \n",
    "    \n",
    "    return text "
   ]
  },
  {
   "cell_type": "code",
   "execution_count": 17,
   "id": "1081d8ec",
   "metadata": {},
   "outputs": [],
   "source": [
    "# Applying preprocessing to reviews, row-by-row\n",
    "df['Cleaned_Reviews'] = df['Reviews'].apply(preprocessor)"
   ]
  },
  {
   "cell_type": "code",
   "execution_count": 18,
   "id": "5bc81ed8",
   "metadata": {},
   "outputs": [
    {
     "data": {
      "text/html": [
       "<div>\n",
       "<style scoped>\n",
       "    .dataframe tbody tr th:only-of-type {\n",
       "        vertical-align: middle;\n",
       "    }\n",
       "\n",
       "    .dataframe tbody tr th {\n",
       "        vertical-align: top;\n",
       "    }\n",
       "\n",
       "    .dataframe thead th {\n",
       "        text-align: right;\n",
       "    }\n",
       "</style>\n",
       "<table border=\"1\" class=\"dataframe\">\n",
       "  <thead>\n",
       "    <tr style=\"text-align: right;\">\n",
       "      <th></th>\n",
       "      <th>Reviews</th>\n",
       "      <th>Ratings</th>\n",
       "      <th>Cleaned_Reviews</th>\n",
       "    </tr>\n",
       "  </thead>\n",
       "  <tbody>\n",
       "    <tr>\n",
       "      <th>0</th>\n",
       "      <td>Jace Rankin may be short, but he's nothing to ...</td>\n",
       "      <td>3</td>\n",
       "      <td>[Jace, Rankin, short, mess, man, haul, saloon,...</td>\n",
       "    </tr>\n",
       "    <tr>\n",
       "      <th>1</th>\n",
       "      <td>Great short read.  I didn't want to put it dow...</td>\n",
       "      <td>5</td>\n",
       "      <td>[great, short, read, want, read, sit, sex, sce...</td>\n",
       "    </tr>\n",
       "    <tr>\n",
       "      <th>2</th>\n",
       "      <td>I'll start by saying this is the first of four...</td>\n",
       "      <td>3</td>\n",
       "      <td>[start, say, book, expect, conclude, center, c...</td>\n",
       "    </tr>\n",
       "    <tr>\n",
       "      <th>3</th>\n",
       "      <td>Aggie is Angela Lansbury who carries pocketboo...</td>\n",
       "      <td>3</td>\n",
       "      <td>[aggie, Angela, Lansbury, carry, pocketbook, i...</td>\n",
       "    </tr>\n",
       "    <tr>\n",
       "      <th>4</th>\n",
       "      <td>I did not expect this type of book to be in li...</td>\n",
       "      <td>4</td>\n",
       "      <td>[expect, type, book, library, pleased, find, p...</td>\n",
       "    </tr>\n",
       "  </tbody>\n",
       "</table>\n",
       "</div>"
      ],
      "text/plain": [
       "                                             Reviews  Ratings  \\\n",
       "0  Jace Rankin may be short, but he's nothing to ...        3   \n",
       "1  Great short read.  I didn't want to put it dow...        5   \n",
       "2  I'll start by saying this is the first of four...        3   \n",
       "3  Aggie is Angela Lansbury who carries pocketboo...        3   \n",
       "4  I did not expect this type of book to be in li...        4   \n",
       "\n",
       "                                     Cleaned_Reviews  \n",
       "0  [Jace, Rankin, short, mess, man, haul, saloon,...  \n",
       "1  [great, short, read, want, read, sit, sex, sce...  \n",
       "2  [start, say, book, expect, conclude, center, c...  \n",
       "3  [aggie, Angela, Lansbury, carry, pocketbook, i...  \n",
       "4  [expect, type, book, library, pleased, find, p...  "
      ]
     },
     "execution_count": 18,
     "metadata": {},
     "output_type": "execute_result"
    }
   ],
   "source": [
    "df.head()"
   ]
  },
  {
   "cell_type": "markdown",
   "id": "31c13950",
   "metadata": {},
   "source": [
    "# Converting Ratings to Binary Labels"
   ]
  },
  {
   "cell_type": "code",
   "execution_count": 19,
   "id": "33901868",
   "metadata": {},
   "outputs": [],
   "source": [
    "df[\"Sentiment\"] = df[\"Ratings\"].apply(lambda x: 1 if x >3 else 0) "
   ]
  },
  {
   "cell_type": "code",
   "execution_count": 20,
   "id": "1a1d0c59",
   "metadata": {},
   "outputs": [
    {
     "data": {
      "text/html": [
       "<div>\n",
       "<style scoped>\n",
       "    .dataframe tbody tr th:only-of-type {\n",
       "        vertical-align: middle;\n",
       "    }\n",
       "\n",
       "    .dataframe tbody tr th {\n",
       "        vertical-align: top;\n",
       "    }\n",
       "\n",
       "    .dataframe thead th {\n",
       "        text-align: right;\n",
       "    }\n",
       "</style>\n",
       "<table border=\"1\" class=\"dataframe\">\n",
       "  <thead>\n",
       "    <tr style=\"text-align: right;\">\n",
       "      <th></th>\n",
       "      <th>Reviews</th>\n",
       "      <th>Ratings</th>\n",
       "      <th>Cleaned_Reviews</th>\n",
       "      <th>Sentiment</th>\n",
       "    </tr>\n",
       "  </thead>\n",
       "  <tbody>\n",
       "    <tr>\n",
       "      <th>0</th>\n",
       "      <td>Jace Rankin may be short, but he's nothing to ...</td>\n",
       "      <td>3</td>\n",
       "      <td>[Jace, Rankin, short, mess, man, haul, saloon,...</td>\n",
       "      <td>0</td>\n",
       "    </tr>\n",
       "    <tr>\n",
       "      <th>1</th>\n",
       "      <td>Great short read.  I didn't want to put it dow...</td>\n",
       "      <td>5</td>\n",
       "      <td>[great, short, read, want, read, sit, sex, sce...</td>\n",
       "      <td>1</td>\n",
       "    </tr>\n",
       "    <tr>\n",
       "      <th>2</th>\n",
       "      <td>I'll start by saying this is the first of four...</td>\n",
       "      <td>3</td>\n",
       "      <td>[start, say, book, expect, conclude, center, c...</td>\n",
       "      <td>0</td>\n",
       "    </tr>\n",
       "    <tr>\n",
       "      <th>3</th>\n",
       "      <td>Aggie is Angela Lansbury who carries pocketboo...</td>\n",
       "      <td>3</td>\n",
       "      <td>[aggie, Angela, Lansbury, carry, pocketbook, i...</td>\n",
       "      <td>0</td>\n",
       "    </tr>\n",
       "    <tr>\n",
       "      <th>4</th>\n",
       "      <td>I did not expect this type of book to be in li...</td>\n",
       "      <td>4</td>\n",
       "      <td>[expect, type, book, library, pleased, find, p...</td>\n",
       "      <td>1</td>\n",
       "    </tr>\n",
       "  </tbody>\n",
       "</table>\n",
       "</div>"
      ],
      "text/plain": [
       "                                             Reviews  Ratings  \\\n",
       "0  Jace Rankin may be short, but he's nothing to ...        3   \n",
       "1  Great short read.  I didn't want to put it dow...        5   \n",
       "2  I'll start by saying this is the first of four...        3   \n",
       "3  Aggie is Angela Lansbury who carries pocketboo...        3   \n",
       "4  I did not expect this type of book to be in li...        4   \n",
       "\n",
       "                                     Cleaned_Reviews  Sentiment  \n",
       "0  [Jace, Rankin, short, mess, man, haul, saloon,...          0  \n",
       "1  [great, short, read, want, read, sit, sex, sce...          1  \n",
       "2  [start, say, book, expect, conclude, center, c...          0  \n",
       "3  [aggie, Angela, Lansbury, carry, pocketbook, i...          0  \n",
       "4  [expect, type, book, library, pleased, find, p...          1  "
      ]
     },
     "execution_count": 20,
     "metadata": {},
     "output_type": "execute_result"
    }
   ],
   "source": [
    "df.head()"
   ]
  },
  {
   "cell_type": "markdown",
   "id": "757e5396",
   "metadata": {},
   "source": [
    "# Checking Balance of Dataset"
   ]
  },
  {
   "cell_type": "code",
   "execution_count": 21,
   "id": "142f13c5",
   "metadata": {},
   "outputs": [
    {
     "data": {
      "text/plain": [
       "0    6000\n",
       "1    6000\n",
       "Name: Sentiment, dtype: int64"
      ]
     },
     "execution_count": 21,
     "metadata": {},
     "output_type": "execute_result"
    }
   ],
   "source": [
    "df.Sentiment.value_counts()"
   ]
  },
  {
   "cell_type": "markdown",
   "id": "1ad522a1",
   "metadata": {},
   "source": [
    "# Extracting Independent Feature and Label"
   ]
  },
  {
   "cell_type": "code",
   "execution_count": 22,
   "id": "959b6de5",
   "metadata": {},
   "outputs": [],
   "source": [
    "X = df[\"Cleaned_Reviews\"]\n",
    "y = df[\"Sentiment\"]"
   ]
  },
  {
   "cell_type": "code",
   "execution_count": 23,
   "id": "af0406f9",
   "metadata": {},
   "outputs": [
    {
     "data": {
      "text/plain": [
       "0    [Jace, Rankin, short, mess, man, haul, saloon,...\n",
       "1    [great, short, read, want, read, sit, sex, sce...\n",
       "2    [start, say, book, expect, conclude, center, c...\n",
       "3    [aggie, Angela, Lansbury, carry, pocketbook, i...\n",
       "4    [expect, type, book, library, pleased, find, p...\n",
       "Name: Cleaned_Reviews, dtype: object"
      ]
     },
     "execution_count": 23,
     "metadata": {},
     "output_type": "execute_result"
    }
   ],
   "source": [
    "X.head()"
   ]
  },
  {
   "cell_type": "code",
   "execution_count": 24,
   "id": "030ce108",
   "metadata": {},
   "outputs": [
    {
     "data": {
      "text/plain": [
       "0    0\n",
       "1    1\n",
       "2    0\n",
       "3    0\n",
       "4    1\n",
       "Name: Sentiment, dtype: int64"
      ]
     },
     "execution_count": 24,
     "metadata": {},
     "output_type": "execute_result"
    }
   ],
   "source": [
    "y[:5]"
   ]
  },
  {
   "cell_type": "markdown",
   "id": "9d7c649e",
   "metadata": {},
   "source": [
    "# Train, Test Split"
   ]
  },
  {
   "cell_type": "code",
   "execution_count": 25,
   "id": "f3e5eaef",
   "metadata": {},
   "outputs": [],
   "source": [
    "X_train, X_test, y_train, y_test = train_test_split(X, y, test_size=0.2, random_state=42)"
   ]
  },
  {
   "cell_type": "code",
   "execution_count": 26,
   "id": "4746f5d5",
   "metadata": {},
   "outputs": [
    {
     "data": {
      "text/plain": [
       "((9600,), (2400,))"
      ]
     },
     "execution_count": 26,
     "metadata": {},
     "output_type": "execute_result"
    }
   ],
   "source": [
    "X_train.shape, X_test.shape"
   ]
  },
  {
   "cell_type": "code",
   "execution_count": 27,
   "id": "ee5cb652",
   "metadata": {},
   "outputs": [
    {
     "data": {
      "text/plain": [
       "pandas.core.series.Series"
      ]
     },
     "execution_count": 27,
     "metadata": {},
     "output_type": "execute_result"
    }
   ],
   "source": [
    "type(X_train)"
   ]
  },
  {
   "cell_type": "code",
   "execution_count": 28,
   "id": "5b445d26",
   "metadata": {},
   "outputs": [
    {
     "data": {
      "text/plain": [
       "9182     [look, forward, book, come, double, space, par...\n",
       "11091    [own, book, spouse, forget, library, book, unf...\n",
       "6428     [cool, forgot, request, rate, come, make, unre...\n",
       "288      [short, short, story, basically, scene, party,...\n",
       "2626     [Secret, Service, agent, secrest, long, servic...\n",
       "                               ...                        \n",
       "11964    [download, book, read, review, usually, read, ...\n",
       "5191     [far, hot, book, get, hand, ondon't, miss, Jac...\n",
       "5390     [book, free, reservation, base, majority, revi...\n",
       "860      [little, mushy, care, woman, folk, Characters,...\n",
       "7270     [book, good, good, set, charaterswith, backgro...\n",
       "Name: Cleaned_Reviews, Length: 9600, dtype: object"
      ]
     },
     "execution_count": 28,
     "metadata": {},
     "output_type": "execute_result"
    }
   ],
   "source": [
    "X_train"
   ]
  },
  {
   "cell_type": "code",
   "execution_count": 29,
   "id": "a21e7b11",
   "metadata": {},
   "outputs": [
    {
     "data": {
      "text/plain": [
       "9182     1\n",
       "11091    0\n",
       "6428     1\n",
       "288      0\n",
       "2626     1\n",
       "        ..\n",
       "11964    0\n",
       "5191     1\n",
       "5390     0\n",
       "860      0\n",
       "7270     1\n",
       "Name: Sentiment, Length: 9600, dtype: int64"
      ]
     },
     "execution_count": 29,
     "metadata": {},
     "output_type": "execute_result"
    }
   ],
   "source": [
    "y_train"
   ]
  },
  {
   "cell_type": "markdown",
   "id": "31d48d99",
   "metadata": {},
   "source": [
    "# Vectorizing Text Reviews using Word2Vec"
   ]
  },
  {
   "cell_type": "markdown",
   "id": "98dd1c5c",
   "metadata": {},
   "source": [
    "### Training Word2Vec model on Training set"
   ]
  },
  {
   "cell_type": "code",
   "execution_count": 30,
   "id": "e4cf77b3",
   "metadata": {},
   "outputs": [],
   "source": [
    "w2v = Word2Vec(sentences=X_train.to_numpy(), vector_size=100, min_count=1)"
   ]
  },
  {
   "cell_type": "code",
   "execution_count": 31,
   "id": "4c44609d",
   "metadata": {},
   "outputs": [
    {
     "data": {
      "text/plain": [
       "[('book', 0), ('story', 1), ('read', 2), ('like', 3), ('character', 4)]"
      ]
     },
     "execution_count": 31,
     "metadata": {},
     "output_type": "execute_result"
    }
   ],
   "source": [
    "# w2v.wv.key_to_index contains a dictionary of mappings from words to indices, where indices contain word meanings in the\n",
    "# form of vectors inside 'w2v.wv'. See next line\n",
    "list(w2v.wv.key_to_index.items())[:5]"
   ]
  },
  {
   "cell_type": "code",
   "execution_count": 32,
   "id": "af097be0",
   "metadata": {},
   "outputs": [
    {
     "data": {
      "text/plain": [
       "array([-0.6005872 ,  0.83495295,  0.2699319 ,  1.0515556 ,  0.18396023,\n",
       "       -1.9382683 ,  0.8509073 ,  2.779263  , -1.6269401 , -1.7756336 ,\n",
       "        0.46466863, -1.8905969 , -0.73405206, -0.01776789,  0.10365278,\n",
       "       -0.1963745 ,  1.5463321 , -0.67331904, -0.40553442, -2.6815524 ,\n",
       "        0.43623888,  0.4356722 ,  1.0008947 , -0.94268316,  0.0540268 ,\n",
       "       -0.14716877, -0.27938306,  0.32173848, -0.8121111 ,  0.11412724,\n",
       "        1.1730609 , -0.0760606 ,  1.447395  , -1.6058823 , -0.6453135 ,\n",
       "        0.76690054,  1.4554222 , -0.42311049, -0.08500042, -0.96553206,\n",
       "        0.05180233, -1.1643429 , -1.0829024 ,  0.8755547 ,  0.6356789 ,\n",
       "       -0.23974024, -0.82011986, -0.41640964,  1.0566709 ,  0.93209577,\n",
       "        0.74078584, -0.38644564, -1.1123279 , -0.6704703 , -0.16635056,\n",
       "       -0.35706902,  0.8471692 , -0.25027153, -1.1030922 ,  1.4460597 ,\n",
       "       -0.6719116 ,  0.50084907,  0.16478167, -0.85446835, -1.1648436 ,\n",
       "        1.355765  ,  0.45013866,  1.2163371 , -1.1545004 ,  0.4964324 ,\n",
       "       -0.14841235,  0.50302446,  0.5063341 ,  0.0536192 ,  1.3362373 ,\n",
       "       -0.12548026,  0.3467376 ,  0.30530414, -0.5301386 , -0.07118057,\n",
       "       -0.7004601 ,  0.23446229, -0.7643242 ,  1.146123  , -0.5170401 ,\n",
       "       -0.10165286,  0.59488803,  0.22585587,  0.7589631 ,  0.93760306,\n",
       "        1.2131264 ,  0.8924852 ,  0.16079815,  0.33083925,  1.8068906 ,\n",
       "        0.5920848 , -0.28656474, -1.4222902 ,  0.6679903 ,  0.39432234],\n",
       "      dtype=float32)"
      ]
     },
     "execution_count": 32,
     "metadata": {},
     "output_type": "execute_result"
    }
   ],
   "source": [
    "# 'book' is at 0th index inside the vetor space\n",
    "w2v.wv[0]"
   ]
  },
  {
   "cell_type": "code",
   "execution_count": 33,
   "id": "7c667234",
   "metadata": {},
   "outputs": [
    {
     "data": {
      "text/plain": [
       "array([-0.6005872 ,  0.83495295,  0.2699319 ,  1.0515556 ,  0.18396023,\n",
       "       -1.9382683 ,  0.8509073 ,  2.779263  , -1.6269401 , -1.7756336 ,\n",
       "        0.46466863, -1.8905969 , -0.73405206, -0.01776789,  0.10365278,\n",
       "       -0.1963745 ,  1.5463321 , -0.67331904, -0.40553442, -2.6815524 ,\n",
       "        0.43623888,  0.4356722 ,  1.0008947 , -0.94268316,  0.0540268 ,\n",
       "       -0.14716877, -0.27938306,  0.32173848, -0.8121111 ,  0.11412724,\n",
       "        1.1730609 , -0.0760606 ,  1.447395  , -1.6058823 , -0.6453135 ,\n",
       "        0.76690054,  1.4554222 , -0.42311049, -0.08500042, -0.96553206,\n",
       "        0.05180233, -1.1643429 , -1.0829024 ,  0.8755547 ,  0.6356789 ,\n",
       "       -0.23974024, -0.82011986, -0.41640964,  1.0566709 ,  0.93209577,\n",
       "        0.74078584, -0.38644564, -1.1123279 , -0.6704703 , -0.16635056,\n",
       "       -0.35706902,  0.8471692 , -0.25027153, -1.1030922 ,  1.4460597 ,\n",
       "       -0.6719116 ,  0.50084907,  0.16478167, -0.85446835, -1.1648436 ,\n",
       "        1.355765  ,  0.45013866,  1.2163371 , -1.1545004 ,  0.4964324 ,\n",
       "       -0.14841235,  0.50302446,  0.5063341 ,  0.0536192 ,  1.3362373 ,\n",
       "       -0.12548026,  0.3467376 ,  0.30530414, -0.5301386 , -0.07118057,\n",
       "       -0.7004601 ,  0.23446229, -0.7643242 ,  1.146123  , -0.5170401 ,\n",
       "       -0.10165286,  0.59488803,  0.22585587,  0.7589631 ,  0.93760306,\n",
       "        1.2131264 ,  0.8924852 ,  0.16079815,  0.33083925,  1.8068906 ,\n",
       "        0.5920848 , -0.28656474, -1.4222902 ,  0.6679903 ,  0.39432234],\n",
       "      dtype=float32)"
      ]
     },
     "execution_count": 33,
     "metadata": {},
     "output_type": "execute_result"
    }
   ],
   "source": [
    "w2v.wv['book']"
   ]
  },
  {
   "cell_type": "code",
   "execution_count": 34,
   "id": "ce813b09",
   "metadata": {},
   "outputs": [
    {
     "data": {
      "text/plain": [
       "array([ True,  True,  True,  True,  True,  True,  True,  True,  True,\n",
       "        True,  True,  True,  True,  True,  True,  True,  True,  True,\n",
       "        True,  True,  True,  True,  True,  True,  True,  True,  True,\n",
       "        True,  True,  True,  True,  True,  True,  True,  True,  True,\n",
       "        True,  True,  True,  True,  True,  True,  True,  True,  True,\n",
       "        True,  True,  True,  True,  True,  True,  True,  True,  True,\n",
       "        True,  True,  True,  True,  True,  True,  True,  True,  True,\n",
       "        True,  True,  True,  True,  True,  True,  True,  True,  True,\n",
       "        True,  True,  True,  True,  True,  True,  True,  True,  True,\n",
       "        True,  True,  True,  True,  True,  True,  True,  True,  True,\n",
       "        True,  True,  True,  True,  True,  True,  True,  True,  True,\n",
       "        True])"
      ]
     },
     "execution_count": 34,
     "metadata": {},
     "output_type": "execute_result"
    }
   ],
   "source": [
    "w2v.wv['book'] == w2v.wv[0]"
   ]
  },
  {
   "cell_type": "code",
   "execution_count": 35,
   "id": "4694f7e8",
   "metadata": {},
   "outputs": [
    {
     "data": {
      "text/plain": [
       "<gensim.models.keyedvectors.KeyedVectors at 0x23b726cd810>"
      ]
     },
     "execution_count": 35,
     "metadata": {},
     "output_type": "execute_result"
    }
   ],
   "source": [
    "w2v.wv"
   ]
  },
  {
   "cell_type": "markdown",
   "id": "256bac24",
   "metadata": {},
   "source": [
    "#### Now we need to convert each review in our train and test sets into vectors. Here is how we proceed:\n",
    "\n",
    "* Take each review, ie., each row in our review data.\n",
    "* Find the vector representation of each word in the review - w2v.wv['each_word']\n",
    "* Find mean of all vector representations - Average Word2Vec - so that all reviews/rows are the same dimension when feeding into our ML model; in other words do np.mean on all vectors, in each row.\n",
    "\n",
    "The vectors coming out of Word2Vec will be vertical, ie., as a column. We will have to make it horizontal."
   ]
  },
  {
   "cell_type": "code",
   "execution_count": 36,
   "id": "3fabc459",
   "metadata": {},
   "outputs": [],
   "source": [
    "def vectorize(token_list):\n",
    "    \"\"\"\n",
    "    Takes in a list of tokens(strings) from each row.\n",
    "    Returns a single list of numbers, which is the \n",
    "    average of all vectors of each word in the list of tokens.\n",
    "    \"\"\"\n",
    "    # Performing in multiple steps to make it clearer.\n",
    "    \n",
    "    # List of all vectors, where each vector represents a word\n",
    "    list_of_vectors = [w2v.wv[word] for word in token_list if word in w2v.wv]\n",
    "    \n",
    "    # A single vector, which is the mean of all word vectors,\n",
    "    # representing the whole review\n",
    "    # Vector becomes an array of zeroes if none of the words in our test dataset were trained earlier, ie.,\n",
    "    # does not exist in our vocabulary\n",
    "    review_vector = np.mean(list_of_vectors, axis=0) if len(list_of_vectors) > 0 else np.zeros(w2v.vector_size)\n",
    "    \n",
    "    return review_vector.reshape((1,-1))[0]"
   ]
  },
  {
   "cell_type": "code",
   "execution_count": 37,
   "id": "220ea5c0",
   "metadata": {},
   "outputs": [
    {
     "data": {
      "text/plain": [
       "100"
      ]
     },
     "execution_count": 37,
     "metadata": {},
     "output_type": "execute_result"
    }
   ],
   "source": [
    "w2v.vector_size"
   ]
  },
  {
   "cell_type": "code",
   "execution_count": 38,
   "id": "3272be44",
   "metadata": {},
   "outputs": [
    {
     "data": {
      "text/plain": [
       "9182     [look, forward, book, come, double, space, par...\n",
       "11091    [own, book, spouse, forget, library, book, unf...\n",
       "6428     [cool, forgot, request, rate, come, make, unre...\n",
       "288      [short, short, story, basically, scene, party,...\n",
       "2626     [Secret, Service, agent, secrest, long, servic...\n",
       "                               ...                        \n",
       "11964    [download, book, read, review, usually, read, ...\n",
       "5191     [far, hot, book, get, hand, ondon't, miss, Jac...\n",
       "5390     [book, free, reservation, base, majority, revi...\n",
       "860      [little, mushy, care, woman, folk, Characters,...\n",
       "7270     [book, good, good, set, charaterswith, backgro...\n",
       "Name: Cleaned_Reviews, Length: 9600, dtype: object"
      ]
     },
     "execution_count": 38,
     "metadata": {},
     "output_type": "execute_result"
    }
   ],
   "source": [
    "X_train"
   ]
  },
  {
   "cell_type": "code",
   "execution_count": 39,
   "id": "a492d01f",
   "metadata": {},
   "outputs": [],
   "source": [
    "X_train_vec = X_train.apply(vectorize)\n",
    "X_test_vec = X_test.apply(vectorize)"
   ]
  },
  {
   "cell_type": "code",
   "execution_count": 40,
   "id": "1d29695b",
   "metadata": {},
   "outputs": [
    {
     "data": {
      "text/plain": [
       "9182     [-0.3713054, 0.6018393, 0.22446223, 0.45861426...\n",
       "11091    [-0.261011, 0.4449302, 0.17890199, 0.41641265,...\n",
       "6428     [-0.18843205, 0.3427687, 0.13637412, 0.1806732...\n",
       "288      [-0.30452594, 0.5226672, 0.2623439, 0.3741243,...\n",
       "2626     [-0.18806612, 0.32699624, 0.1499323, 0.1895907...\n",
       "                               ...                        \n",
       "11964    [-0.43158367, 0.8618006, 0.23146859, 0.6002357...\n",
       "5191     [-0.15268582, 0.3892723, 0.23438805, 0.3143143...\n",
       "5390     [-0.20790936, 0.49102977, 0.21573013, 0.320955...\n",
       "860      [-0.22723317, 0.360711, 0.23147929, 0.22446719...\n",
       "7270     [-0.1813082, 0.44273442, 0.21476181, 0.2576689...\n",
       "Name: Cleaned_Reviews, Length: 9600, dtype: object"
      ]
     },
     "execution_count": 40,
     "metadata": {},
     "output_type": "execute_result"
    }
   ],
   "source": [
    "X_train_vec"
   ]
  },
  {
   "cell_type": "code",
   "execution_count": 41,
   "id": "60c24687",
   "metadata": {},
   "outputs": [
    {
     "data": {
      "text/plain": [
       "(9600,)"
      ]
     },
     "execution_count": 41,
     "metadata": {},
     "output_type": "execute_result"
    }
   ],
   "source": [
    "X_train_vec.shape"
   ]
  },
  {
   "cell_type": "markdown",
   "id": "b1b12462",
   "metadata": {},
   "source": [
    "#### The resulting vector has 9600 rows(reviews) and only 1 column(independent feature). We need to convert in to shape (9600, 100)."
   ]
  },
  {
   "cell_type": "code",
   "execution_count": 42,
   "id": "88dcb9ed",
   "metadata": {},
   "outputs": [],
   "source": [
    "X_train_vec = np.stack(X_train_vec.values)\n",
    "X_test_vec = np.stack(X_test_vec.values)"
   ]
  },
  {
   "cell_type": "code",
   "execution_count": 43,
   "id": "8dde55e1",
   "metadata": {},
   "outputs": [
    {
     "data": {
      "text/plain": [
       "array([[-0.3713054 ,  0.6018393 ,  0.22446223, ..., -0.93489087,\n",
       "         0.37932247,  0.05190236],\n",
       "       [-0.261011  ,  0.4449302 ,  0.17890199, ..., -0.7900749 ,\n",
       "         0.32882077,  0.05879445],\n",
       "       [-0.18843205,  0.3427687 ,  0.13637412, ..., -0.72063047,\n",
       "         0.20092858, -0.1364762 ],\n",
       "       ...,\n",
       "       [-0.20790936,  0.49102977,  0.21573013, ..., -0.822804  ,\n",
       "         0.2511471 , -0.07002713],\n",
       "       [-0.22723317,  0.360711  ,  0.23147929, ..., -0.9003039 ,\n",
       "         0.10208084, -0.19857061],\n",
       "       [-0.1813082 ,  0.44273442,  0.21476181, ..., -0.82287806,\n",
       "         0.20454086, -0.12464349]], dtype=float32)"
      ]
     },
     "execution_count": 43,
     "metadata": {},
     "output_type": "execute_result"
    }
   ],
   "source": [
    "X_train_vec"
   ]
  },
  {
   "cell_type": "code",
   "execution_count": 44,
   "id": "deb9e6b3",
   "metadata": {},
   "outputs": [
    {
     "data": {
      "text/plain": [
       "(9600, 100)"
      ]
     },
     "execution_count": 44,
     "metadata": {},
     "output_type": "execute_result"
    }
   ],
   "source": [
    "X_train_vec.shape"
   ]
  },
  {
   "cell_type": "markdown",
   "id": "1052cd57",
   "metadata": {},
   "source": [
    "#### All of our reviews have been vectorized"
   ]
  },
  {
   "cell_type": "markdown",
   "id": "e14d13ec",
   "metadata": {},
   "source": [
    "# Model Creation"
   ]
  },
  {
   "cell_type": "markdown",
   "id": "328f08b1",
   "metadata": {},
   "source": [
    "### Finding the best model"
   ]
  },
  {
   "cell_type": "code",
   "execution_count": 45,
   "id": "48f0dbd6",
   "metadata": {},
   "outputs": [],
   "source": [
    "# Models to train\n",
    "models = {\n",
    "    'Logistic Regression': LogisticRegression(max_iter=1000),\n",
    "    'Support Vector Machine': SVC(),\n",
    "    'Random Forest': RandomForestClassifier(),\n",
    "    'Gradient Boosting': GradientBoostingClassifier()\n",
    "}"
   ]
  },
  {
   "cell_type": "code",
   "execution_count": 46,
   "id": "cc70ff8b",
   "metadata": {},
   "outputs": [],
   "source": [
    "def evaluate_models(model, X_train, X_test, y_train, y_test):\n",
    "    model.fit(X_train, y_train)\n",
    "    y_pred = model.predict(X_test)\n",
    "    accuracy = accuracy_score(y_test, y_pred)\n",
    "    report = classification_report(y_test, y_pred)\n",
    "    return accuracy, report, model"
   ]
  },
  {
   "cell_type": "code",
   "execution_count": 47,
   "id": "2b5311f3",
   "metadata": {},
   "outputs": [],
   "source": [
    "# Evaluating different models\n",
    "results = {}\n",
    "for model_name, model in models.items():\n",
    "    accuracy, report, m = evaluate_models(model, X_train_vec, X_test_vec, y_train, y_test)\n",
    "    results[model_name] = {'Model': m, 'Accuracy': accuracy, 'Report': report}"
   ]
  },
  {
   "cell_type": "code",
   "execution_count": 48,
   "id": "a5b4e28a",
   "metadata": {},
   "outputs": [
    {
     "name": "stdout",
     "output_type": "stream",
     "text": [
      "Logistic Regression: 0.7333333333333333\n",
      "Support Vector Machine: 0.7308333333333333\n",
      "Random Forest: 0.7208333333333333\n",
      "Gradient Boosting: 0.7245833333333334\n"
     ]
    }
   ],
   "source": [
    "# Printing results\n",
    "for model_name, result in results.items():\n",
    "    print(model_name, result['Accuracy'], sep=\": \")"
   ]
  },
  {
   "cell_type": "code",
   "execution_count": 49,
   "id": "06425fcb",
   "metadata": {},
   "outputs": [
    {
     "data": {
      "text/html": [
       "<style>#sk-container-id-1 {color: black;background-color: white;}#sk-container-id-1 pre{padding: 0;}#sk-container-id-1 div.sk-toggleable {background-color: white;}#sk-container-id-1 label.sk-toggleable__label {cursor: pointer;display: block;width: 100%;margin-bottom: 0;padding: 0.3em;box-sizing: border-box;text-align: center;}#sk-container-id-1 label.sk-toggleable__label-arrow:before {content: \"▸\";float: left;margin-right: 0.25em;color: #696969;}#sk-container-id-1 label.sk-toggleable__label-arrow:hover:before {color: black;}#sk-container-id-1 div.sk-estimator:hover label.sk-toggleable__label-arrow:before {color: black;}#sk-container-id-1 div.sk-toggleable__content {max-height: 0;max-width: 0;overflow: hidden;text-align: left;background-color: #f0f8ff;}#sk-container-id-1 div.sk-toggleable__content pre {margin: 0.2em;color: black;border-radius: 0.25em;background-color: #f0f8ff;}#sk-container-id-1 input.sk-toggleable__control:checked~div.sk-toggleable__content {max-height: 200px;max-width: 100%;overflow: auto;}#sk-container-id-1 input.sk-toggleable__control:checked~label.sk-toggleable__label-arrow:before {content: \"▾\";}#sk-container-id-1 div.sk-estimator input.sk-toggleable__control:checked~label.sk-toggleable__label {background-color: #d4ebff;}#sk-container-id-1 div.sk-label input.sk-toggleable__control:checked~label.sk-toggleable__label {background-color: #d4ebff;}#sk-container-id-1 input.sk-hidden--visually {border: 0;clip: rect(1px 1px 1px 1px);clip: rect(1px, 1px, 1px, 1px);height: 1px;margin: -1px;overflow: hidden;padding: 0;position: absolute;width: 1px;}#sk-container-id-1 div.sk-estimator {font-family: monospace;background-color: #f0f8ff;border: 1px dotted black;border-radius: 0.25em;box-sizing: border-box;margin-bottom: 0.5em;}#sk-container-id-1 div.sk-estimator:hover {background-color: #d4ebff;}#sk-container-id-1 div.sk-parallel-item::after {content: \"\";width: 100%;border-bottom: 1px solid gray;flex-grow: 1;}#sk-container-id-1 div.sk-label:hover label.sk-toggleable__label {background-color: #d4ebff;}#sk-container-id-1 div.sk-serial::before {content: \"\";position: absolute;border-left: 1px solid gray;box-sizing: border-box;top: 0;bottom: 0;left: 50%;z-index: 0;}#sk-container-id-1 div.sk-serial {display: flex;flex-direction: column;align-items: center;background-color: white;padding-right: 0.2em;padding-left: 0.2em;position: relative;}#sk-container-id-1 div.sk-item {position: relative;z-index: 1;}#sk-container-id-1 div.sk-parallel {display: flex;align-items: stretch;justify-content: center;background-color: white;position: relative;}#sk-container-id-1 div.sk-item::before, #sk-container-id-1 div.sk-parallel-item::before {content: \"\";position: absolute;border-left: 1px solid gray;box-sizing: border-box;top: 0;bottom: 0;left: 50%;z-index: -1;}#sk-container-id-1 div.sk-parallel-item {display: flex;flex-direction: column;z-index: 1;position: relative;background-color: white;}#sk-container-id-1 div.sk-parallel-item:first-child::after {align-self: flex-end;width: 50%;}#sk-container-id-1 div.sk-parallel-item:last-child::after {align-self: flex-start;width: 50%;}#sk-container-id-1 div.sk-parallel-item:only-child::after {width: 0;}#sk-container-id-1 div.sk-dashed-wrapped {border: 1px dashed gray;margin: 0 0.4em 0.5em 0.4em;box-sizing: border-box;padding-bottom: 0.4em;background-color: white;}#sk-container-id-1 div.sk-label label {font-family: monospace;font-weight: bold;display: inline-block;line-height: 1.2em;}#sk-container-id-1 div.sk-label-container {text-align: center;}#sk-container-id-1 div.sk-container {/* jupyter's `normalize.less` sets `[hidden] { display: none; }` but bootstrap.min.css set `[hidden] { display: none !important; }` so we also need the `!important` here to be able to override the default hidden behavior on the sphinx rendered scikit-learn.org. See: https://github.com/scikit-learn/scikit-learn/issues/21755 */display: inline-block !important;position: relative;}#sk-container-id-1 div.sk-text-repr-fallback {display: none;}</style><div id=\"sk-container-id-1\" class=\"sk-top-container\"><div class=\"sk-text-repr-fallback\"><pre>LogisticRegression(max_iter=1000)</pre><b>In a Jupyter environment, please rerun this cell to show the HTML representation or trust the notebook. <br />On GitHub, the HTML representation is unable to render, please try loading this page with nbviewer.org.</b></div><div class=\"sk-container\" hidden><div class=\"sk-item\"><div class=\"sk-estimator sk-toggleable\"><input class=\"sk-toggleable__control sk-hidden--visually\" id=\"sk-estimator-id-1\" type=\"checkbox\" checked><label for=\"sk-estimator-id-1\" class=\"sk-toggleable__label sk-toggleable__label-arrow\">LogisticRegression</label><div class=\"sk-toggleable__content\"><pre>LogisticRegression(max_iter=1000)</pre></div></div></div></div></div>"
      ],
      "text/plain": [
       "LogisticRegression(max_iter=1000)"
      ]
     },
     "execution_count": 49,
     "metadata": {},
     "output_type": "execute_result"
    }
   ],
   "source": [
    "model = results['Logistic Regression']['Model']\n",
    "model.fit(X_train_vec, y_train)"
   ]
  },
  {
   "cell_type": "code",
   "execution_count": 50,
   "id": "4f1454c6",
   "metadata": {},
   "outputs": [],
   "source": [
    "def predict_sentiment(review):\n",
    "    processed_tokens = preprocessor(review)\n",
    "    vector = vectorize(processed_tokens)\n",
    "    print(\"Good Review\") if model.predict([vector]) else print(\"Bad Review\")"
   ]
  },
  {
   "cell_type": "code",
   "execution_count": 51,
   "id": "4465d63e",
   "metadata": {},
   "outputs": [
    {
     "name": "stdout",
     "output_type": "stream",
     "text": [
      "Good Review\n"
     ]
    }
   ],
   "source": [
    "predict_sentiment(\"Very good\")"
   ]
  },
  {
   "cell_type": "code",
   "execution_count": 52,
   "id": "98e54c37",
   "metadata": {},
   "outputs": [
    {
     "name": "stdout",
     "output_type": "stream",
     "text": [
      "Bad Review\n"
     ]
    }
   ],
   "source": [
    "predict_sentiment(\"Very Bad\")"
   ]
  },
  {
   "cell_type": "code",
   "execution_count": 53,
   "id": "dc95f539",
   "metadata": {},
   "outputs": [
    {
     "name": "stdout",
     "output_type": "stream",
     "text": [
      "Bad Review\n"
     ]
    }
   ],
   "source": [
    "predict_sentiment(\"Could have been better\")"
   ]
  },
  {
   "cell_type": "code",
   "execution_count": 54,
   "id": "349b3477",
   "metadata": {},
   "outputs": [
    {
     "name": "stdout",
     "output_type": "stream",
     "text": [
      "Good Review\n"
     ]
    }
   ],
   "source": [
    "predict_sentiment(\"Best trimmer I have ever used\")"
   ]
  },
  {
   "cell_type": "code",
   "execution_count": 55,
   "id": "60fd8012",
   "metadata": {},
   "outputs": [
    {
     "name": "stdout",
     "output_type": "stream",
     "text": [
      "Bad Review\n"
     ]
    }
   ],
   "source": [
    "predict_sentiment(\"5 stars\")\n",
    "# Wrong Output"
   ]
  }
 ],
 "metadata": {
  "kernelspec": {
   "display_name": "Python 3 (ipykernel)",
   "language": "python",
   "name": "python3"
  },
  "language_info": {
   "codemirror_mode": {
    "name": "ipython",
    "version": 3
   },
   "file_extension": ".py",
   "mimetype": "text/x-python",
   "name": "python",
   "nbconvert_exporter": "python",
   "pygments_lexer": "ipython3",
   "version": "3.11.4"
  }
 },
 "nbformat": 4,
 "nbformat_minor": 5
}
