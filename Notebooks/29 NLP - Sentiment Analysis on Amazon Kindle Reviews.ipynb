{
 "cells": [
  {
   "cell_type": "code",
   "execution_count": 77,
   "id": "e881f252",
   "metadata": {},
   "outputs": [],
   "source": [
    "# Dataframe manipulation\n",
    "import pandas as pd\n",
    "import numpy as np\n",
    "\n",
    "# Text preprocessing\n",
    "import re\n",
    "import string\n",
    "import spacy\n",
    "from gensim.utils import simple_preprocess\n",
    "\n",
    "# Text Vectolization\n",
    "from gensim.models import Word2Vec\n",
    "\n",
    "# Model Selection, Training and Testing\n",
    "from sklearn.model_selection import train_test_split\n",
    "from sklearn.ensemble import RandomForestClassifier\n",
    "from sklearn.naive_bayes import MultinomialNB\n",
    "from sklearn.linear_model import LogisticRegression\n",
    "from sklearn.svm import SVC\n",
    "from sklearn.metrics import accuracy_score, classification_report"
   ]
  },
  {
   "cell_type": "raw",
   "id": "5d07ca9f",
   "metadata": {},
   "source": [
    "# If not installed\n",
    "\n",
    "pip install spacy\n",
    "python -m spacy download en_core_web_sm"
   ]
  },
  {
   "cell_type": "code",
   "execution_count": 78,
   "id": "5901312b",
   "metadata": {},
   "outputs": [],
   "source": [
    "raw = pd.read_csv(\"Datasets/kindle_reviews.csv\", index_col=0)"
   ]
  },
  {
   "cell_type": "code",
   "execution_count": 79,
   "id": "c852aa3f",
   "metadata": {
    "scrolled": true
   },
   "outputs": [
    {
     "data": {
      "text/html": [
       "<div>\n",
       "<style scoped>\n",
       "    .dataframe tbody tr th:only-of-type {\n",
       "        vertical-align: middle;\n",
       "    }\n",
       "\n",
       "    .dataframe tbody tr th {\n",
       "        vertical-align: top;\n",
       "    }\n",
       "\n",
       "    .dataframe thead th {\n",
       "        text-align: right;\n",
       "    }\n",
       "</style>\n",
       "<table border=\"1\" class=\"dataframe\">\n",
       "  <thead>\n",
       "    <tr style=\"text-align: right;\">\n",
       "      <th></th>\n",
       "      <th>Unnamed: 0</th>\n",
       "      <th>asin</th>\n",
       "      <th>helpful</th>\n",
       "      <th>rating</th>\n",
       "      <th>reviewText</th>\n",
       "      <th>reviewTime</th>\n",
       "      <th>reviewerID</th>\n",
       "      <th>reviewerName</th>\n",
       "      <th>summary</th>\n",
       "      <th>unixReviewTime</th>\n",
       "    </tr>\n",
       "  </thead>\n",
       "  <tbody>\n",
       "    <tr>\n",
       "      <th>0</th>\n",
       "      <td>11539</td>\n",
       "      <td>B0033UV8HI</td>\n",
       "      <td>[8, 10]</td>\n",
       "      <td>3</td>\n",
       "      <td>Jace Rankin may be short, but he's nothing to ...</td>\n",
       "      <td>09 2, 2010</td>\n",
       "      <td>A3HHXRELK8BHQG</td>\n",
       "      <td>Ridley</td>\n",
       "      <td>Entertaining But Average</td>\n",
       "      <td>1283385600</td>\n",
       "    </tr>\n",
       "    <tr>\n",
       "      <th>1</th>\n",
       "      <td>5957</td>\n",
       "      <td>B002HJV4DE</td>\n",
       "      <td>[1, 1]</td>\n",
       "      <td>5</td>\n",
       "      <td>Great short read.  I didn't want to put it dow...</td>\n",
       "      <td>10 8, 2013</td>\n",
       "      <td>A2RGNZ0TRF578I</td>\n",
       "      <td>Holly Butler</td>\n",
       "      <td>Terrific menage scenes!</td>\n",
       "      <td>1381190400</td>\n",
       "    </tr>\n",
       "    <tr>\n",
       "      <th>2</th>\n",
       "      <td>9146</td>\n",
       "      <td>B002ZG96I4</td>\n",
       "      <td>[0, 0]</td>\n",
       "      <td>3</td>\n",
       "      <td>I'll start by saying this is the first of four...</td>\n",
       "      <td>04 11, 2014</td>\n",
       "      <td>A3S0H2HV6U1I7F</td>\n",
       "      <td>Merissa</td>\n",
       "      <td>Snapdragon Alley</td>\n",
       "      <td>1397174400</td>\n",
       "    </tr>\n",
       "    <tr>\n",
       "      <th>3</th>\n",
       "      <td>7038</td>\n",
       "      <td>B002QHWOEU</td>\n",
       "      <td>[1, 3]</td>\n",
       "      <td>3</td>\n",
       "      <td>Aggie is Angela Lansbury who carries pocketboo...</td>\n",
       "      <td>07 5, 2014</td>\n",
       "      <td>AC4OQW3GZ919J</td>\n",
       "      <td>Cleargrace</td>\n",
       "      <td>very light murder cozy</td>\n",
       "      <td>1404518400</td>\n",
       "    </tr>\n",
       "    <tr>\n",
       "      <th>4</th>\n",
       "      <td>1776</td>\n",
       "      <td>B001A06VJ8</td>\n",
       "      <td>[0, 1]</td>\n",
       "      <td>4</td>\n",
       "      <td>I did not expect this type of book to be in li...</td>\n",
       "      <td>12 31, 2012</td>\n",
       "      <td>A3C9V987IQHOQD</td>\n",
       "      <td>Rjostler</td>\n",
       "      <td>Book</td>\n",
       "      <td>1356912000</td>\n",
       "    </tr>\n",
       "  </tbody>\n",
       "</table>\n",
       "</div>"
      ],
      "text/plain": [
       "   Unnamed: 0        asin  helpful  rating  \\\n",
       "0       11539  B0033UV8HI  [8, 10]       3   \n",
       "1        5957  B002HJV4DE   [1, 1]       5   \n",
       "2        9146  B002ZG96I4   [0, 0]       3   \n",
       "3        7038  B002QHWOEU   [1, 3]       3   \n",
       "4        1776  B001A06VJ8   [0, 1]       4   \n",
       "\n",
       "                                          reviewText   reviewTime  \\\n",
       "0  Jace Rankin may be short, but he's nothing to ...   09 2, 2010   \n",
       "1  Great short read.  I didn't want to put it dow...   10 8, 2013   \n",
       "2  I'll start by saying this is the first of four...  04 11, 2014   \n",
       "3  Aggie is Angela Lansbury who carries pocketboo...   07 5, 2014   \n",
       "4  I did not expect this type of book to be in li...  12 31, 2012   \n",
       "\n",
       "       reviewerID  reviewerName                   summary  unixReviewTime  \n",
       "0  A3HHXRELK8BHQG        Ridley  Entertaining But Average      1283385600  \n",
       "1  A2RGNZ0TRF578I  Holly Butler   Terrific menage scenes!      1381190400  \n",
       "2  A3S0H2HV6U1I7F       Merissa          Snapdragon Alley      1397174400  \n",
       "3   AC4OQW3GZ919J    Cleargrace    very light murder cozy      1404518400  \n",
       "4  A3C9V987IQHOQD      Rjostler                      Book      1356912000  "
      ]
     },
     "execution_count": 79,
     "metadata": {},
     "output_type": "execute_result"
    }
   ],
   "source": [
    "raw.head()"
   ]
  },
  {
   "cell_type": "code",
   "execution_count": 80,
   "id": "fe265517",
   "metadata": {},
   "outputs": [
    {
     "data": {
      "text/plain": [
       "Unnamed: 0         0\n",
       "asin               0\n",
       "helpful            0\n",
       "rating             0\n",
       "reviewText         0\n",
       "reviewTime         0\n",
       "reviewerID         0\n",
       "reviewerName      38\n",
       "summary            0\n",
       "unixReviewTime     0\n",
       "dtype: int64"
      ]
     },
     "execution_count": 80,
     "metadata": {},
     "output_type": "execute_result"
    }
   ],
   "source": [
    "raw.isnull().sum()"
   ]
  },
  {
   "cell_type": "raw",
   "id": "bba08838",
   "metadata": {},
   "source": [
    "There are no null values in the columns we are interested in - 'rating' and 'reviewText'"
   ]
  },
  {
   "cell_type": "markdown",
   "id": "7fead883",
   "metadata": {},
   "source": [
    "The 2 columns we need are 'rating' and 'reviewText'.\n",
    "\n",
    "We are going to use the 'rating' column to identify sentiment in the following way:\n",
    "\n",
    "* rating >= 3 --> Good(1)\n",
    "* rating <3   --> Bad(0)"
   ]
  },
  {
   "cell_type": "markdown",
   "id": "c614cadc",
   "metadata": {},
   "source": [
    "#### Here is how we are going to proceed:\n",
    "\n",
    "1. Extract 'reviewText' column and 'rating' column as our dataset. Let's call 'reviewText' column as reviews and 'rating' column as ratings from now on for convenience.\n",
    "\n",
    "2. Preprocess reviews:\n",
    "    * Remove HTML tags, URLs, punctuation, stop words, numbers, special characters, extra whitespace, \n",
    "      non-ASCII characters and emojis.\n",
    "    * Convert to lower case.\n",
    "    * Lemmatize\n",
    "    \n",
    "3. Convert ratings column to labels 0 (Bad) and 1 (Good).\n",
    "\n",
    "4. Vectorize our reviews using Word2Vec model.\n",
    "\n",
    "5. Train, Test split and find the best model."
   ]
  },
  {
   "cell_type": "markdown",
   "id": "1cae42b3",
   "metadata": {},
   "source": [
    "# Extracting required columns"
   ]
  },
  {
   "cell_type": "code",
   "execution_count": 81,
   "id": "8400c3ff",
   "metadata": {},
   "outputs": [],
   "source": [
    "df = raw.loc[:, ['reviewText', 'rating']]"
   ]
  },
  {
   "cell_type": "code",
   "execution_count": 82,
   "id": "98a73ee3",
   "metadata": {},
   "outputs": [
    {
     "data": {
      "text/html": [
       "<div>\n",
       "<style scoped>\n",
       "    .dataframe tbody tr th:only-of-type {\n",
       "        vertical-align: middle;\n",
       "    }\n",
       "\n",
       "    .dataframe tbody tr th {\n",
       "        vertical-align: top;\n",
       "    }\n",
       "\n",
       "    .dataframe thead th {\n",
       "        text-align: right;\n",
       "    }\n",
       "</style>\n",
       "<table border=\"1\" class=\"dataframe\">\n",
       "  <thead>\n",
       "    <tr style=\"text-align: right;\">\n",
       "      <th></th>\n",
       "      <th>reviewText</th>\n",
       "      <th>rating</th>\n",
       "    </tr>\n",
       "  </thead>\n",
       "  <tbody>\n",
       "    <tr>\n",
       "      <th>0</th>\n",
       "      <td>Jace Rankin may be short, but he's nothing to ...</td>\n",
       "      <td>3</td>\n",
       "    </tr>\n",
       "    <tr>\n",
       "      <th>1</th>\n",
       "      <td>Great short read.  I didn't want to put it dow...</td>\n",
       "      <td>5</td>\n",
       "    </tr>\n",
       "    <tr>\n",
       "      <th>2</th>\n",
       "      <td>I'll start by saying this is the first of four...</td>\n",
       "      <td>3</td>\n",
       "    </tr>\n",
       "    <tr>\n",
       "      <th>3</th>\n",
       "      <td>Aggie is Angela Lansbury who carries pocketboo...</td>\n",
       "      <td>3</td>\n",
       "    </tr>\n",
       "    <tr>\n",
       "      <th>4</th>\n",
       "      <td>I did not expect this type of book to be in li...</td>\n",
       "      <td>4</td>\n",
       "    </tr>\n",
       "  </tbody>\n",
       "</table>\n",
       "</div>"
      ],
      "text/plain": [
       "                                          reviewText  rating\n",
       "0  Jace Rankin may be short, but he's nothing to ...       3\n",
       "1  Great short read.  I didn't want to put it dow...       5\n",
       "2  I'll start by saying this is the first of four...       3\n",
       "3  Aggie is Angela Lansbury who carries pocketboo...       3\n",
       "4  I did not expect this type of book to be in li...       4"
      ]
     },
     "execution_count": 82,
     "metadata": {},
     "output_type": "execute_result"
    }
   ],
   "source": [
    "df.head()"
   ]
  },
  {
   "cell_type": "code",
   "execution_count": 83,
   "id": "635d95f7",
   "metadata": {},
   "outputs": [],
   "source": [
    "# Changing column names\n",
    "df.columns = ['Reviews', 'Ratings']"
   ]
  },
  {
   "cell_type": "code",
   "execution_count": 84,
   "id": "0dfc1418",
   "metadata": {},
   "outputs": [
    {
     "data": {
      "text/html": [
       "<div>\n",
       "<style scoped>\n",
       "    .dataframe tbody tr th:only-of-type {\n",
       "        vertical-align: middle;\n",
       "    }\n",
       "\n",
       "    .dataframe tbody tr th {\n",
       "        vertical-align: top;\n",
       "    }\n",
       "\n",
       "    .dataframe thead th {\n",
       "        text-align: right;\n",
       "    }\n",
       "</style>\n",
       "<table border=\"1\" class=\"dataframe\">\n",
       "  <thead>\n",
       "    <tr style=\"text-align: right;\">\n",
       "      <th></th>\n",
       "      <th>Reviews</th>\n",
       "      <th>Ratings</th>\n",
       "    </tr>\n",
       "  </thead>\n",
       "  <tbody>\n",
       "    <tr>\n",
       "      <th>0</th>\n",
       "      <td>Jace Rankin may be short, but he's nothing to ...</td>\n",
       "      <td>3</td>\n",
       "    </tr>\n",
       "    <tr>\n",
       "      <th>1</th>\n",
       "      <td>Great short read.  I didn't want to put it dow...</td>\n",
       "      <td>5</td>\n",
       "    </tr>\n",
       "    <tr>\n",
       "      <th>2</th>\n",
       "      <td>I'll start by saying this is the first of four...</td>\n",
       "      <td>3</td>\n",
       "    </tr>\n",
       "    <tr>\n",
       "      <th>3</th>\n",
       "      <td>Aggie is Angela Lansbury who carries pocketboo...</td>\n",
       "      <td>3</td>\n",
       "    </tr>\n",
       "    <tr>\n",
       "      <th>4</th>\n",
       "      <td>I did not expect this type of book to be in li...</td>\n",
       "      <td>4</td>\n",
       "    </tr>\n",
       "  </tbody>\n",
       "</table>\n",
       "</div>"
      ],
      "text/plain": [
       "                                             Reviews  Ratings\n",
       "0  Jace Rankin may be short, but he's nothing to ...        3\n",
       "1  Great short read.  I didn't want to put it dow...        5\n",
       "2  I'll start by saying this is the first of four...        3\n",
       "3  Aggie is Angela Lansbury who carries pocketboo...        3\n",
       "4  I did not expect this type of book to be in li...        4"
      ]
     },
     "execution_count": 84,
     "metadata": {},
     "output_type": "execute_result"
    }
   ],
   "source": [
    "df.head()"
   ]
  },
  {
   "cell_type": "markdown",
   "id": "bdc0d8a6",
   "metadata": {},
   "source": [
    "# Pre-processing Reviews"
   ]
  },
  {
   "cell_type": "markdown",
   "id": "448f2433",
   "metadata": {},
   "source": [
    "* Remove HTML tags, URLs, punctuation, stop words, numbers, special characters, extra whitespace, \n",
    "  non-ASCII characters and emojis.\n",
    "* Convert to lower case.\n",
    "* Lemmatize"
   ]
  },
  {
   "cell_type": "code",
   "execution_count": 85,
   "id": "d0e37011",
   "metadata": {},
   "outputs": [],
   "source": [
    "# Loading spaCy's English model\n",
    "nlp = spacy.load('en_core_web_sm')"
   ]
  },
  {
   "cell_type": "code",
   "execution_count": 107,
   "id": "409c7872",
   "metadata": {},
   "outputs": [],
   "source": [
    "def preprocessor(text: str) -> str:\n",
    "    \"\"\"\n",
    "    Takes in a single review(sentence) as input; \n",
    "    returns the review after -\n",
    "    removing elements not needed for sentiment analysis and\n",
    "    converting to lower case.\n",
    "    \"\"\"\n",
    "    \n",
    "    # Remove HTML tags\n",
    "    text = re.sub(r'<.*?>', '', text)\n",
    "    # Remove URLs\n",
    "    text = re.sub(r'http\\S+|www\\S+|https\\S+', '', text, flags=re.MULTILINE)\n",
    "    # Remove all punctuations except apostrophes to preserve words like \"I'll\", which can be removed later using spaCy stopwords\n",
    "    text = text.translate(str.maketrans('', '', string.punctuation[:6] + string.punctuation[7:]))\n",
    "    # Remove numbers\n",
    "    text = re.sub(r'\\d+', '', text)\n",
    "    # Remove non-word characters except apostrophes\n",
    "    text = re.sub(r\"[^\\w\\s']\", ' ', text)\n",
    "    \n",
    "    # Lemmatization and lower casing using spaCy\n",
    "    doc = nlp(text)\n",
    "    text = ' '.join([token.lemma_ for token in doc if not token.is_stop])\n",
    "    \n",
    "    # Remove extra whitespace\n",
    "    text = re.sub(r'\\s+', ' ', text).strip()\n",
    "    return text "
   ]
  },
  {
   "cell_type": "code",
   "execution_count": 109,
   "id": "1081d8ec",
   "metadata": {},
   "outputs": [],
   "source": [
    "# Applying preprocessing to reviews, row-by-row\n",
    "df['Cleaned_Reviews'] = df['Reviews'].apply(preprocessor)"
   ]
  },
  {
   "cell_type": "code",
   "execution_count": 110,
   "id": "5bc81ed8",
   "metadata": {},
   "outputs": [
    {
     "data": {
      "text/html": [
       "<div>\n",
       "<style scoped>\n",
       "    .dataframe tbody tr th:only-of-type {\n",
       "        vertical-align: middle;\n",
       "    }\n",
       "\n",
       "    .dataframe tbody tr th {\n",
       "        vertical-align: top;\n",
       "    }\n",
       "\n",
       "    .dataframe thead th {\n",
       "        text-align: right;\n",
       "    }\n",
       "</style>\n",
       "<table border=\"1\" class=\"dataframe\">\n",
       "  <thead>\n",
       "    <tr style=\"text-align: right;\">\n",
       "      <th></th>\n",
       "      <th>Reviews</th>\n",
       "      <th>Ratings</th>\n",
       "      <th>Cleaned_Reviews</th>\n",
       "    </tr>\n",
       "  </thead>\n",
       "  <tbody>\n",
       "    <tr>\n",
       "      <th>0</th>\n",
       "      <td>Jace Rankin may be short, but he's nothing to ...</td>\n",
       "      <td>3</td>\n",
       "      <td>Jace Rankin short mess man haul saloon underta...</td>\n",
       "    </tr>\n",
       "    <tr>\n",
       "      <th>1</th>\n",
       "      <td>Great short read.  I didn't want to put it dow...</td>\n",
       "      <td>5</td>\n",
       "      <td>great short read want read sit sex scene great...</td>\n",
       "    </tr>\n",
       "    <tr>\n",
       "      <th>2</th>\n",
       "      <td>I'll start by saying this is the first of four...</td>\n",
       "      <td>3</td>\n",
       "      <td>start say book expect conclude center child Al...</td>\n",
       "    </tr>\n",
       "    <tr>\n",
       "      <th>3</th>\n",
       "      <td>Aggie is Angela Lansbury who carries pocketboo...</td>\n",
       "      <td>3</td>\n",
       "      <td>aggie Angela Lansbury carry pocketbook instead...</td>\n",
       "    </tr>\n",
       "    <tr>\n",
       "      <th>4</th>\n",
       "      <td>I did not expect this type of book to be in li...</td>\n",
       "      <td>4</td>\n",
       "      <td>expect type book library pleased find price right</td>\n",
       "    </tr>\n",
       "  </tbody>\n",
       "</table>\n",
       "</div>"
      ],
      "text/plain": [
       "                                             Reviews  Ratings  \\\n",
       "0  Jace Rankin may be short, but he's nothing to ...        3   \n",
       "1  Great short read.  I didn't want to put it dow...        5   \n",
       "2  I'll start by saying this is the first of four...        3   \n",
       "3  Aggie is Angela Lansbury who carries pocketboo...        3   \n",
       "4  I did not expect this type of book to be in li...        4   \n",
       "\n",
       "                                     Cleaned_Reviews  \n",
       "0  Jace Rankin short mess man haul saloon underta...  \n",
       "1  great short read want read sit sex scene great...  \n",
       "2  start say book expect conclude center child Al...  \n",
       "3  aggie Angela Lansbury carry pocketbook instead...  \n",
       "4  expect type book library pleased find price right  "
      ]
     },
     "execution_count": 110,
     "metadata": {},
     "output_type": "execute_result"
    }
   ],
   "source": [
    "df.head()"
   ]
  },
  {
   "cell_type": "markdown",
   "id": "31c13950",
   "metadata": {},
   "source": [
    "# Converting Ratings to Binary Labels"
   ]
  },
  {
   "cell_type": "code",
   "execution_count": 112,
   "id": "33901868",
   "metadata": {},
   "outputs": [],
   "source": [
    "df[\"Sentiment\"] = df[\"Ratings\"].apply(lambda x: 1 if x >=3 else 0) "
   ]
  },
  {
   "cell_type": "code",
   "execution_count": 113,
   "id": "1a1d0c59",
   "metadata": {},
   "outputs": [
    {
     "data": {
      "text/html": [
       "<div>\n",
       "<style scoped>\n",
       "    .dataframe tbody tr th:only-of-type {\n",
       "        vertical-align: middle;\n",
       "    }\n",
       "\n",
       "    .dataframe tbody tr th {\n",
       "        vertical-align: top;\n",
       "    }\n",
       "\n",
       "    .dataframe thead th {\n",
       "        text-align: right;\n",
       "    }\n",
       "</style>\n",
       "<table border=\"1\" class=\"dataframe\">\n",
       "  <thead>\n",
       "    <tr style=\"text-align: right;\">\n",
       "      <th></th>\n",
       "      <th>Reviews</th>\n",
       "      <th>Ratings</th>\n",
       "      <th>Cleaned_Reviews</th>\n",
       "      <th>Sentiment</th>\n",
       "    </tr>\n",
       "  </thead>\n",
       "  <tbody>\n",
       "    <tr>\n",
       "      <th>0</th>\n",
       "      <td>Jace Rankin may be short, but he's nothing to ...</td>\n",
       "      <td>3</td>\n",
       "      <td>Jace Rankin short mess man haul saloon underta...</td>\n",
       "      <td>1</td>\n",
       "    </tr>\n",
       "    <tr>\n",
       "      <th>1</th>\n",
       "      <td>Great short read.  I didn't want to put it dow...</td>\n",
       "      <td>5</td>\n",
       "      <td>great short read want read sit sex scene great...</td>\n",
       "      <td>1</td>\n",
       "    </tr>\n",
       "    <tr>\n",
       "      <th>2</th>\n",
       "      <td>I'll start by saying this is the first of four...</td>\n",
       "      <td>3</td>\n",
       "      <td>start say book expect conclude center child Al...</td>\n",
       "      <td>1</td>\n",
       "    </tr>\n",
       "    <tr>\n",
       "      <th>3</th>\n",
       "      <td>Aggie is Angela Lansbury who carries pocketboo...</td>\n",
       "      <td>3</td>\n",
       "      <td>aggie Angela Lansbury carry pocketbook instead...</td>\n",
       "      <td>1</td>\n",
       "    </tr>\n",
       "    <tr>\n",
       "      <th>4</th>\n",
       "      <td>I did not expect this type of book to be in li...</td>\n",
       "      <td>4</td>\n",
       "      <td>expect type book library pleased find price right</td>\n",
       "      <td>1</td>\n",
       "    </tr>\n",
       "  </tbody>\n",
       "</table>\n",
       "</div>"
      ],
      "text/plain": [
       "                                             Reviews  Ratings  \\\n",
       "0  Jace Rankin may be short, but he's nothing to ...        3   \n",
       "1  Great short read.  I didn't want to put it dow...        5   \n",
       "2  I'll start by saying this is the first of four...        3   \n",
       "3  Aggie is Angela Lansbury who carries pocketboo...        3   \n",
       "4  I did not expect this type of book to be in li...        4   \n",
       "\n",
       "                                     Cleaned_Reviews  Sentiment  \n",
       "0  Jace Rankin short mess man haul saloon underta...          1  \n",
       "1  great short read want read sit sex scene great...          1  \n",
       "2  start say book expect conclude center child Al...          1  \n",
       "3  aggie Angela Lansbury carry pocketbook instead...          1  \n",
       "4  expect type book library pleased find price right          1  "
      ]
     },
     "execution_count": 113,
     "metadata": {},
     "output_type": "execute_result"
    }
   ],
   "source": [
    "df.head()"
   ]
  },
  {
   "cell_type": "markdown",
   "id": "757e5396",
   "metadata": {},
   "source": [
    "# Checking Balance of Dataset"
   ]
  },
  {
   "cell_type": "code",
   "execution_count": 114,
   "id": "142f13c5",
   "metadata": {},
   "outputs": [
    {
     "data": {
      "text/plain": [
       "1    8000\n",
       "0    4000\n",
       "Name: Sentiment, dtype: int64"
      ]
     },
     "execution_count": 114,
     "metadata": {},
     "output_type": "execute_result"
    }
   ],
   "source": [
    "df.Sentiment.value_counts()"
   ]
  },
  {
   "cell_type": "markdown",
   "id": "1ad522a1",
   "metadata": {},
   "source": [
    "# Extracting Independent Feature and Label"
   ]
  },
  {
   "cell_type": "code",
   "execution_count": 115,
   "id": "959b6de5",
   "metadata": {},
   "outputs": [],
   "source": [
    "X = df[\"Cleaned_Reviews\"]\n",
    "y = df[\"Sentiment\"]"
   ]
  },
  {
   "cell_type": "code",
   "execution_count": 116,
   "id": "af0406f9",
   "metadata": {},
   "outputs": [
    {
     "data": {
      "text/plain": [
       "0    Jace Rankin short mess man haul saloon underta...\n",
       "1    great short read want read sit sex scene great...\n",
       "2    start say book expect conclude center child Al...\n",
       "3    aggie Angela Lansbury carry pocketbook instead...\n",
       "4    expect type book library pleased find price right\n",
       "Name: Cleaned_Reviews, dtype: object"
      ]
     },
     "execution_count": 116,
     "metadata": {},
     "output_type": "execute_result"
    }
   ],
   "source": [
    "X.head()"
   ]
  },
  {
   "cell_type": "code",
   "execution_count": 117,
   "id": "030ce108",
   "metadata": {},
   "outputs": [
    {
     "data": {
      "text/plain": [
       "0    1\n",
       "1    1\n",
       "2    1\n",
       "3    1\n",
       "4    1\n",
       "Name: Sentiment, dtype: int64"
      ]
     },
     "execution_count": 117,
     "metadata": {},
     "output_type": "execute_result"
    }
   ],
   "source": [
    "y[:5]"
   ]
  },
  {
   "cell_type": "markdown",
   "id": "31d48d99",
   "metadata": {},
   "source": [
    "# Vectorizing Text Reviews using Word2Vec"
   ]
  },
  {
   "cell_type": "code",
   "execution_count": null,
   "id": "e4cf77b3",
   "metadata": {},
   "outputs": [],
   "source": []
  },
  {
   "cell_type": "code",
   "execution_count": null,
   "id": "4c44609d",
   "metadata": {},
   "outputs": [],
   "source": []
  },
  {
   "cell_type": "code",
   "execution_count": null,
   "id": "af097be0",
   "metadata": {},
   "outputs": [],
   "source": []
  },
  {
   "cell_type": "code",
   "execution_count": null,
   "id": "7c667234",
   "metadata": {},
   "outputs": [],
   "source": []
  },
  {
   "cell_type": "code",
   "execution_count": null,
   "id": "ce813b09",
   "metadata": {},
   "outputs": [],
   "source": []
  },
  {
   "cell_type": "code",
   "execution_count": null,
   "id": "4694f7e8",
   "metadata": {},
   "outputs": [],
   "source": []
  },
  {
   "cell_type": "code",
   "execution_count": null,
   "id": "54103266",
   "metadata": {},
   "outputs": [],
   "source": []
  },
  {
   "cell_type": "code",
   "execution_count": null,
   "id": "9cb03f96",
   "metadata": {},
   "outputs": [],
   "source": []
  },
  {
   "cell_type": "raw",
   "id": "13c2a2a8",
   "metadata": {},
   "source": [
    "import pandas as pd\n",
    "import re\n",
    "import string\n",
    "from sklearn.model_selection import train_test_split\n",
    "from sklearn.ensemble import RandomForestClassifier\n",
    "from sklearn.naive_bayes import MultinomialNB\n",
    "from sklearn.linear_model import LogisticRegression\n",
    "from sklearn.svm import SVC\n",
    "from sklearn.metrics import accuracy_score, classification_report\n",
    "from gensim.models import Word2Vec\n",
    "from gensim.utils import simple_preprocess\n",
    "import numpy as np\n",
    "import spacy\n",
    "\n",
    "# Load spaCy's English model\n",
    "nlp = spacy.load('en_core_web_sm')\n",
    "\n",
    "# Sample data\n",
    "data = {\n",
    "    'reviews': [\"I love my Kindle!\", \"The screen broke in 2 weeks.\", \"Great value for money.\", \n",
    "                \"Not worth the price.\", \"Amazing product!\", \"Terrible customer service.\"],\n",
    "    'ratings': [5, 1, 4, 2, 5, 1]\n",
    "}\n",
    "df = pd.DataFrame(data)\n",
    "\n",
    "# Preprocessing function\n",
    "def preprocess_text(text):\n",
    "    # Remove HTML tags\n",
    "    text = re.sub(r'<.*?>', '', text)\n",
    "    # Remove URLs\n",
    "    text = re.sub(r'http\\S+|www\\S+|https\\S+', '', text, flags=re.MULTILINE)\n",
    "    # Remove punctuation\n",
    "    text = text.translate(str.maketrans('', '', string.punctuation))\n",
    "    # Remove numbers\n",
    "    text = re.sub(r'\\d+', '', text)\n",
    "    # Remove special characters\n",
    "    text = re.sub(r'\\W', ' ', text)\n",
    "    # Convert to lowercase\n",
    "    text = text.lower()\n",
    "    \n",
    "    # Lemmatization using spaCy\n",
    "    doc = nlp(text)\n",
    "    text = ' '.join([token.lemma_ for token in doc if not token.is_stop])\n",
    "    \n",
    "    # Remove extra whitespace\n",
    "    text = re.sub(r'\\s+', ' ', text).strip()\n",
    "    return text\n",
    "\n",
    "# Apply preprocessing to the reviews column\n",
    "df['cleaned_reviews'] = df['reviews'].apply(preprocess_text)\n",
    "\n",
    "# Convert ratings to binary (0 for bad, 1 for good)\n",
    "df['binary_ratings'] = df['ratings'].apply(lambda x: 1 if x >= 3 else 0)\n",
    "\n",
    "# Features and labels\n",
    "X = df['cleaned_reviews']\n",
    "y = df['binary_ratings']\n",
    "\n",
    "# Train/test split\n",
    "X_train, X_test, y_train, y_test = train_test_split(X, y, test_size=0.2, random_state=42)\n",
    "\n",
    "# Train Word2Vec model on the training data\n",
    "sentences = [simple_preprocess(doc) for doc in X_train]\n",
    "w2v_model = Word2Vec(sentences, vector_size=100, min_count=1, sg=1)\n",
    "\n",
    "# Function to convert reviews to Word2Vec vectors\n",
    "def reviews_to_w2v(reviews, w2v_model):\n",
    "    def get_average_vector(words):\n",
    "        vectors = [w2v_model.wv[word] for word in words if word in w2v_model.wv]\n",
    "        if len(vectors) == 0:\n",
    "            return np.zeros(w2v_model.vector_size)\n",
    "        return np.mean(vectors, axis=0)\n",
    "    \n",
    "    sentences = [simple_preprocess(doc) for doc in reviews]\n",
    "    return np.array([get_average_vector(sentence) for sentence in sentences])\n",
    "\n",
    "# Convert training and test reviews to Word2Vec vectors\n",
    "X_train_w2v = reviews_to_w2v(X_train, w2v_model)\n",
    "X_test_w2v = reviews_to_w2v(X_test, w2v_model)\n",
    "\n",
    "# Define models to train\n",
    "models = {\n",
    "    'Naive Bayes': MultinomialNB(),\n",
    "    'Logistic Regression': LogisticRegression(),\n",
    "    'Support Vector Machine': SVC(),\n",
    "    'Random Forest': RandomForestClassifier()\n",
    "}\n",
    "\n",
    "# Function to train and evaluate models\n",
    "def train_evaluate_model(model, X_train, y_train, X_test, y_test):\n",
    "    model.fit(X_train, y_train)\n",
    "    y_pred = model.predict(X_test)\n",
    "    accuracy = accuracy_score(y_test, y_pred)\n",
    "    report = classification_report(y_test, y_pred)\n",
    "    return accuracy, report\n",
    "\n",
    "# Evaluate each model\n",
    "results = {}\n",
    "for model_name, model in models.items():\n",
    "    accuracy, report = train_evaluate_model(model, X_train_w2v, y_train, X_test_w2v, y_test)\n",
    "    results[model_name] = {'Accuracy': accuracy, 'Report': report}\n",
    "\n",
    "# Display the results\n",
    "for model_name, metrics in results.items():\n",
    "    print(f\"Model: {model_name}\")\n",
    "    print(f\"Accuracy: {metrics['Accuracy']:.2f}\")\n",
    "    print(\"Classification Report:\")\n",
    "    print(metrics['Report'])\n",
    "    print(\"-\" * 30)"
   ]
  }
 ],
 "metadata": {
  "kernelspec": {
   "display_name": "Python 3 (ipykernel)",
   "language": "python",
   "name": "python3"
  },
  "language_info": {
   "codemirror_mode": {
    "name": "ipython",
    "version": 3
   },
   "file_extension": ".py",
   "mimetype": "text/x-python",
   "name": "python",
   "nbconvert_exporter": "python",
   "pygments_lexer": "ipython3",
   "version": "3.11.4"
  }
 },
 "nbformat": 4,
 "nbformat_minor": 5
}
