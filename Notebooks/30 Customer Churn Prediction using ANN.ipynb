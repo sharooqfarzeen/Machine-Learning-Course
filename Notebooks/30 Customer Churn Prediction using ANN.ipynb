{
 "cells": [
  {
   "cell_type": "markdown",
   "id": "5980a42e",
   "metadata": {
    "id": "5980a42e"
   },
   "source": [
    "1. Import\n",
    "2. Clean\n",
    "3. Transform - OneHot, standardscaling. Save .pkl.\n",
    "4. Build, Compile ANN\n",
    "5. Hyperparameter tuning\n",
    "6. Save model .h5."
   ]
  },
  {
   "cell_type": "code",
   "execution_count": 43,
   "id": "6f615c82",
   "metadata": {
    "executionInfo": {
     "elapsed": 7,
     "status": "ok",
     "timestamp": 1725616222275,
     "user": {
      "displayName": "Sharooq Farzeen A K",
      "userId": "00254559679343624974"
     },
     "user_tz": -330
    },
    "id": "6f615c82"
   },
   "outputs": [],
   "source": [
    "# Importing and pre-processing the data\n",
    "import pandas as pd\n",
    "import numpy as np\n",
    "from sklearn.compose import ColumnTransformer\n",
    "from sklearn.preprocessing import OneHotEncoder, StandardScaler\n",
    "from sklearn.model_selection import train_test_split\n",
    "import pickle\n",
    "import os\n",
    "\n",
    "# ANN Implementation\n",
    "import tensorflow as tf\n",
    "from tensorflow.keras.models import Sequential\n",
    "from tensorflow.keras.layers import Dense, Input\n",
    "from tensorflow.keras.callbacks import EarlyStopping, TensorBoard\n",
    "import datetime\n",
    "\n",
    "# Hyperparameter Tuning\n",
    "from scikeras.wrappers import KerasClassifier\n",
    "from sklearn.model_selection import GridSearchCV"
   ]
  },
  {
   "cell_type": "markdown",
   "id": "60baeb5b",
   "metadata": {
    "id": "60baeb5b"
   },
   "source": [
    "## Importing the data"
   ]
  },
  {
   "cell_type": "code",
   "execution_count": 44,
   "id": "f995102c",
   "metadata": {
    "executionInfo": {
     "elapsed": 1117,
     "status": "ok",
     "timestamp": 1725616223386,
     "user": {
      "displayName": "Sharooq Farzeen A K",
      "userId": "00254559679343624974"
     },
     "user_tz": -330
    },
    "id": "f995102c"
   },
   "outputs": [],
   "source": [
    "df = pd.read_csv(\"Datasets/Churn_Modelling.csv\")"
   ]
  },
  {
   "cell_type": "code",
   "execution_count": 45,
   "id": "fb4d2e50",
   "metadata": {
    "colab": {
     "base_uri": "https://localhost:8080/",
     "height": 206
    },
    "executionInfo": {
     "elapsed": 75,
     "status": "ok",
     "timestamp": 1725616223386,
     "user": {
      "displayName": "Sharooq Farzeen A K",
      "userId": "00254559679343624974"
     },
     "user_tz": -330
    },
    "id": "fb4d2e50",
    "outputId": "e7b36b71-58c3-4148-f1e4-d9455cde8ab4",
    "scrolled": true
   },
   "outputs": [
    {
     "data": {
      "text/html": [
       "<div>\n",
       "<style scoped>\n",
       "    .dataframe tbody tr th:only-of-type {\n",
       "        vertical-align: middle;\n",
       "    }\n",
       "\n",
       "    .dataframe tbody tr th {\n",
       "        vertical-align: top;\n",
       "    }\n",
       "\n",
       "    .dataframe thead th {\n",
       "        text-align: right;\n",
       "    }\n",
       "</style>\n",
       "<table border=\"1\" class=\"dataframe\">\n",
       "  <thead>\n",
       "    <tr style=\"text-align: right;\">\n",
       "      <th></th>\n",
       "      <th>RowNumber</th>\n",
       "      <th>CustomerId</th>\n",
       "      <th>Surname</th>\n",
       "      <th>CreditScore</th>\n",
       "      <th>Geography</th>\n",
       "      <th>Gender</th>\n",
       "      <th>Age</th>\n",
       "      <th>Tenure</th>\n",
       "      <th>Balance</th>\n",
       "      <th>NumOfProducts</th>\n",
       "      <th>HasCrCard</th>\n",
       "      <th>IsActiveMember</th>\n",
       "      <th>EstimatedSalary</th>\n",
       "      <th>Exited</th>\n",
       "    </tr>\n",
       "  </thead>\n",
       "  <tbody>\n",
       "    <tr>\n",
       "      <th>0</th>\n",
       "      <td>1</td>\n",
       "      <td>15634602</td>\n",
       "      <td>Hargrave</td>\n",
       "      <td>619</td>\n",
       "      <td>France</td>\n",
       "      <td>Female</td>\n",
       "      <td>42</td>\n",
       "      <td>2</td>\n",
       "      <td>0.00</td>\n",
       "      <td>1</td>\n",
       "      <td>1</td>\n",
       "      <td>1</td>\n",
       "      <td>101348.88</td>\n",
       "      <td>1</td>\n",
       "    </tr>\n",
       "    <tr>\n",
       "      <th>1</th>\n",
       "      <td>2</td>\n",
       "      <td>15647311</td>\n",
       "      <td>Hill</td>\n",
       "      <td>608</td>\n",
       "      <td>Spain</td>\n",
       "      <td>Female</td>\n",
       "      <td>41</td>\n",
       "      <td>1</td>\n",
       "      <td>83807.86</td>\n",
       "      <td>1</td>\n",
       "      <td>0</td>\n",
       "      <td>1</td>\n",
       "      <td>112542.58</td>\n",
       "      <td>0</td>\n",
       "    </tr>\n",
       "    <tr>\n",
       "      <th>2</th>\n",
       "      <td>3</td>\n",
       "      <td>15619304</td>\n",
       "      <td>Onio</td>\n",
       "      <td>502</td>\n",
       "      <td>France</td>\n",
       "      <td>Female</td>\n",
       "      <td>42</td>\n",
       "      <td>8</td>\n",
       "      <td>159660.80</td>\n",
       "      <td>3</td>\n",
       "      <td>1</td>\n",
       "      <td>0</td>\n",
       "      <td>113931.57</td>\n",
       "      <td>1</td>\n",
       "    </tr>\n",
       "    <tr>\n",
       "      <th>3</th>\n",
       "      <td>4</td>\n",
       "      <td>15701354</td>\n",
       "      <td>Boni</td>\n",
       "      <td>699</td>\n",
       "      <td>France</td>\n",
       "      <td>Female</td>\n",
       "      <td>39</td>\n",
       "      <td>1</td>\n",
       "      <td>0.00</td>\n",
       "      <td>2</td>\n",
       "      <td>0</td>\n",
       "      <td>0</td>\n",
       "      <td>93826.63</td>\n",
       "      <td>0</td>\n",
       "    </tr>\n",
       "    <tr>\n",
       "      <th>4</th>\n",
       "      <td>5</td>\n",
       "      <td>15737888</td>\n",
       "      <td>Mitchell</td>\n",
       "      <td>850</td>\n",
       "      <td>Spain</td>\n",
       "      <td>Female</td>\n",
       "      <td>43</td>\n",
       "      <td>2</td>\n",
       "      <td>125510.82</td>\n",
       "      <td>1</td>\n",
       "      <td>1</td>\n",
       "      <td>1</td>\n",
       "      <td>79084.10</td>\n",
       "      <td>0</td>\n",
       "    </tr>\n",
       "  </tbody>\n",
       "</table>\n",
       "</div>"
      ],
      "text/plain": [
       "   RowNumber  CustomerId   Surname  CreditScore Geography  Gender  Age  \\\n",
       "0          1    15634602  Hargrave          619    France  Female   42   \n",
       "1          2    15647311      Hill          608     Spain  Female   41   \n",
       "2          3    15619304      Onio          502    France  Female   42   \n",
       "3          4    15701354      Boni          699    France  Female   39   \n",
       "4          5    15737888  Mitchell          850     Spain  Female   43   \n",
       "\n",
       "   Tenure    Balance  NumOfProducts  HasCrCard  IsActiveMember  \\\n",
       "0       2       0.00              1          1               1   \n",
       "1       1   83807.86              1          0               1   \n",
       "2       8  159660.80              3          1               0   \n",
       "3       1       0.00              2          0               0   \n",
       "4       2  125510.82              1          1               1   \n",
       "\n",
       "   EstimatedSalary  Exited  \n",
       "0        101348.88       1  \n",
       "1        112542.58       0  \n",
       "2        113931.57       1  \n",
       "3         93826.63       0  \n",
       "4         79084.10       0  "
      ]
     },
     "execution_count": 45,
     "metadata": {},
     "output_type": "execute_result"
    }
   ],
   "source": [
    "df.head()"
   ]
  },
  {
   "cell_type": "markdown",
   "id": "31111a35",
   "metadata": {
    "id": "31111a35"
   },
   "source": [
    "## Dropping Unwanted Columns"
   ]
  },
  {
   "cell_type": "markdown",
   "id": "e93a597a",
   "metadata": {
    "id": "e93a597a"
   },
   "source": [
    "#### We don't need the first 3 columns for classification - RowNumber, CustomerId and Surname"
   ]
  },
  {
   "cell_type": "code",
   "execution_count": 46,
   "id": "0da745fb",
   "metadata": {
    "executionInfo": {
     "elapsed": 72,
     "status": "ok",
     "timestamp": 1725616223387,
     "user": {
      "displayName": "Sharooq Farzeen A K",
      "userId": "00254559679343624974"
     },
     "user_tz": -330
    },
    "id": "0da745fb"
   },
   "outputs": [],
   "source": [
    "df.drop(['RowNumber', 'CustomerId', 'Surname'], axis=1, inplace=True)"
   ]
  },
  {
   "cell_type": "code",
   "execution_count": 47,
   "id": "4de0b51a",
   "metadata": {
    "colab": {
     "base_uri": "https://localhost:8080/",
     "height": 206
    },
    "executionInfo": {
     "elapsed": 71,
     "status": "ok",
     "timestamp": 1725616223387,
     "user": {
      "displayName": "Sharooq Farzeen A K",
      "userId": "00254559679343624974"
     },
     "user_tz": -330
    },
    "id": "4de0b51a",
    "outputId": "2a0a2555-4844-4bdc-f7f8-1d4f8efa5906"
   },
   "outputs": [
    {
     "data": {
      "text/html": [
       "<div>\n",
       "<style scoped>\n",
       "    .dataframe tbody tr th:only-of-type {\n",
       "        vertical-align: middle;\n",
       "    }\n",
       "\n",
       "    .dataframe tbody tr th {\n",
       "        vertical-align: top;\n",
       "    }\n",
       "\n",
       "    .dataframe thead th {\n",
       "        text-align: right;\n",
       "    }\n",
       "</style>\n",
       "<table border=\"1\" class=\"dataframe\">\n",
       "  <thead>\n",
       "    <tr style=\"text-align: right;\">\n",
       "      <th></th>\n",
       "      <th>CreditScore</th>\n",
       "      <th>Geography</th>\n",
       "      <th>Gender</th>\n",
       "      <th>Age</th>\n",
       "      <th>Tenure</th>\n",
       "      <th>Balance</th>\n",
       "      <th>NumOfProducts</th>\n",
       "      <th>HasCrCard</th>\n",
       "      <th>IsActiveMember</th>\n",
       "      <th>EstimatedSalary</th>\n",
       "      <th>Exited</th>\n",
       "    </tr>\n",
       "  </thead>\n",
       "  <tbody>\n",
       "    <tr>\n",
       "      <th>0</th>\n",
       "      <td>619</td>\n",
       "      <td>France</td>\n",
       "      <td>Female</td>\n",
       "      <td>42</td>\n",
       "      <td>2</td>\n",
       "      <td>0.00</td>\n",
       "      <td>1</td>\n",
       "      <td>1</td>\n",
       "      <td>1</td>\n",
       "      <td>101348.88</td>\n",
       "      <td>1</td>\n",
       "    </tr>\n",
       "    <tr>\n",
       "      <th>1</th>\n",
       "      <td>608</td>\n",
       "      <td>Spain</td>\n",
       "      <td>Female</td>\n",
       "      <td>41</td>\n",
       "      <td>1</td>\n",
       "      <td>83807.86</td>\n",
       "      <td>1</td>\n",
       "      <td>0</td>\n",
       "      <td>1</td>\n",
       "      <td>112542.58</td>\n",
       "      <td>0</td>\n",
       "    </tr>\n",
       "    <tr>\n",
       "      <th>2</th>\n",
       "      <td>502</td>\n",
       "      <td>France</td>\n",
       "      <td>Female</td>\n",
       "      <td>42</td>\n",
       "      <td>8</td>\n",
       "      <td>159660.80</td>\n",
       "      <td>3</td>\n",
       "      <td>1</td>\n",
       "      <td>0</td>\n",
       "      <td>113931.57</td>\n",
       "      <td>1</td>\n",
       "    </tr>\n",
       "    <tr>\n",
       "      <th>3</th>\n",
       "      <td>699</td>\n",
       "      <td>France</td>\n",
       "      <td>Female</td>\n",
       "      <td>39</td>\n",
       "      <td>1</td>\n",
       "      <td>0.00</td>\n",
       "      <td>2</td>\n",
       "      <td>0</td>\n",
       "      <td>0</td>\n",
       "      <td>93826.63</td>\n",
       "      <td>0</td>\n",
       "    </tr>\n",
       "    <tr>\n",
       "      <th>4</th>\n",
       "      <td>850</td>\n",
       "      <td>Spain</td>\n",
       "      <td>Female</td>\n",
       "      <td>43</td>\n",
       "      <td>2</td>\n",
       "      <td>125510.82</td>\n",
       "      <td>1</td>\n",
       "      <td>1</td>\n",
       "      <td>1</td>\n",
       "      <td>79084.10</td>\n",
       "      <td>0</td>\n",
       "    </tr>\n",
       "  </tbody>\n",
       "</table>\n",
       "</div>"
      ],
      "text/plain": [
       "   CreditScore Geography  Gender  Age  Tenure    Balance  NumOfProducts  \\\n",
       "0          619    France  Female   42       2       0.00              1   \n",
       "1          608     Spain  Female   41       1   83807.86              1   \n",
       "2          502    France  Female   42       8  159660.80              3   \n",
       "3          699    France  Female   39       1       0.00              2   \n",
       "4          850     Spain  Female   43       2  125510.82              1   \n",
       "\n",
       "   HasCrCard  IsActiveMember  EstimatedSalary  Exited  \n",
       "0          1               1        101348.88       1  \n",
       "1          0               1        112542.58       0  \n",
       "2          1               0        113931.57       1  \n",
       "3          0               0         93826.63       0  \n",
       "4          1               1         79084.10       0  "
      ]
     },
     "execution_count": 47,
     "metadata": {},
     "output_type": "execute_result"
    }
   ],
   "source": [
    "df.head()"
   ]
  },
  {
   "cell_type": "markdown",
   "id": "154d1813",
   "metadata": {
    "id": "154d1813"
   },
   "source": [
    "## Checking for null values"
   ]
  },
  {
   "cell_type": "code",
   "execution_count": 48,
   "id": "c48c18d8",
   "metadata": {
    "colab": {
     "base_uri": "https://localhost:8080/",
     "height": 429
    },
    "executionInfo": {
     "elapsed": 68,
     "status": "ok",
     "timestamp": 1725616223387,
     "user": {
      "displayName": "Sharooq Farzeen A K",
      "userId": "00254559679343624974"
     },
     "user_tz": -330
    },
    "id": "c48c18d8",
    "outputId": "b495d4fd-992f-447a-cc9a-e23c09ec67cc"
   },
   "outputs": [
    {
     "data": {
      "text/plain": [
       "CreditScore        0\n",
       "Geography          0\n",
       "Gender             0\n",
       "Age                0\n",
       "Tenure             0\n",
       "Balance            0\n",
       "NumOfProducts      0\n",
       "HasCrCard          0\n",
       "IsActiveMember     0\n",
       "EstimatedSalary    0\n",
       "Exited             0\n",
       "dtype: int64"
      ]
     },
     "execution_count": 48,
     "metadata": {},
     "output_type": "execute_result"
    }
   ],
   "source": [
    "df.isnull().sum()"
   ]
  },
  {
   "cell_type": "markdown",
   "id": "57ba2f78",
   "metadata": {
    "id": "57ba2f78"
   },
   "source": [
    "## Checking Datatypes"
   ]
  },
  {
   "cell_type": "code",
   "execution_count": 49,
   "id": "6c8ba7d3",
   "metadata": {
    "colab": {
     "base_uri": "https://localhost:8080/",
     "height": 429
    },
    "executionInfo": {
     "elapsed": 66,
     "status": "ok",
     "timestamp": 1725616223387,
     "user": {
      "displayName": "Sharooq Farzeen A K",
      "userId": "00254559679343624974"
     },
     "user_tz": -330
    },
    "id": "6c8ba7d3",
    "outputId": "4cf83b0b-8d93-4fba-eae0-e756395fa3e9"
   },
   "outputs": [
    {
     "data": {
      "text/plain": [
       "CreditScore          int64\n",
       "Geography           object\n",
       "Gender              object\n",
       "Age                  int64\n",
       "Tenure               int64\n",
       "Balance            float64\n",
       "NumOfProducts        int64\n",
       "HasCrCard            int64\n",
       "IsActiveMember       int64\n",
       "EstimatedSalary    float64\n",
       "Exited               int64\n",
       "dtype: object"
      ]
     },
     "execution_count": 49,
     "metadata": {},
     "output_type": "execute_result"
    }
   ],
   "source": [
    "df.dtypes"
   ]
  },
  {
   "cell_type": "markdown",
   "id": "9cd47390",
   "metadata": {
    "id": "9cd47390"
   },
   "source": [
    "## Train, Test Split"
   ]
  },
  {
   "cell_type": "code",
   "execution_count": 50,
   "id": "13b1d11d",
   "metadata": {
    "executionInfo": {
     "elapsed": 63,
     "status": "ok",
     "timestamp": 1725616223387,
     "user": {
      "displayName": "Sharooq Farzeen A K",
      "userId": "00254559679343624974"
     },
     "user_tz": -330
    },
    "id": "13b1d11d"
   },
   "outputs": [],
   "source": [
    "# Independent features\n",
    "X = df.drop(['Exited'], axis=1)\n",
    "\n",
    "# Dependent Feature\n",
    "y = df['Exited']"
   ]
  },
  {
   "cell_type": "code",
   "execution_count": 51,
   "id": "b1d4086e",
   "metadata": {
    "colab": {
     "base_uri": "https://localhost:8080/",
     "height": 206
    },
    "executionInfo": {
     "elapsed": 62,
     "status": "ok",
     "timestamp": 1725616223387,
     "user": {
      "displayName": "Sharooq Farzeen A K",
      "userId": "00254559679343624974"
     },
     "user_tz": -330
    },
    "id": "b1d4086e",
    "outputId": "99f067b9-d31e-4f14-fc36-f72132c6add0"
   },
   "outputs": [
    {
     "data": {
      "text/html": [
       "<div>\n",
       "<style scoped>\n",
       "    .dataframe tbody tr th:only-of-type {\n",
       "        vertical-align: middle;\n",
       "    }\n",
       "\n",
       "    .dataframe tbody tr th {\n",
       "        vertical-align: top;\n",
       "    }\n",
       "\n",
       "    .dataframe thead th {\n",
       "        text-align: right;\n",
       "    }\n",
       "</style>\n",
       "<table border=\"1\" class=\"dataframe\">\n",
       "  <thead>\n",
       "    <tr style=\"text-align: right;\">\n",
       "      <th></th>\n",
       "      <th>CreditScore</th>\n",
       "      <th>Geography</th>\n",
       "      <th>Gender</th>\n",
       "      <th>Age</th>\n",
       "      <th>Tenure</th>\n",
       "      <th>Balance</th>\n",
       "      <th>NumOfProducts</th>\n",
       "      <th>HasCrCard</th>\n",
       "      <th>IsActiveMember</th>\n",
       "      <th>EstimatedSalary</th>\n",
       "    </tr>\n",
       "  </thead>\n",
       "  <tbody>\n",
       "    <tr>\n",
       "      <th>0</th>\n",
       "      <td>619</td>\n",
       "      <td>France</td>\n",
       "      <td>Female</td>\n",
       "      <td>42</td>\n",
       "      <td>2</td>\n",
       "      <td>0.00</td>\n",
       "      <td>1</td>\n",
       "      <td>1</td>\n",
       "      <td>1</td>\n",
       "      <td>101348.88</td>\n",
       "    </tr>\n",
       "    <tr>\n",
       "      <th>1</th>\n",
       "      <td>608</td>\n",
       "      <td>Spain</td>\n",
       "      <td>Female</td>\n",
       "      <td>41</td>\n",
       "      <td>1</td>\n",
       "      <td>83807.86</td>\n",
       "      <td>1</td>\n",
       "      <td>0</td>\n",
       "      <td>1</td>\n",
       "      <td>112542.58</td>\n",
       "    </tr>\n",
       "    <tr>\n",
       "      <th>2</th>\n",
       "      <td>502</td>\n",
       "      <td>France</td>\n",
       "      <td>Female</td>\n",
       "      <td>42</td>\n",
       "      <td>8</td>\n",
       "      <td>159660.80</td>\n",
       "      <td>3</td>\n",
       "      <td>1</td>\n",
       "      <td>0</td>\n",
       "      <td>113931.57</td>\n",
       "    </tr>\n",
       "    <tr>\n",
       "      <th>3</th>\n",
       "      <td>699</td>\n",
       "      <td>France</td>\n",
       "      <td>Female</td>\n",
       "      <td>39</td>\n",
       "      <td>1</td>\n",
       "      <td>0.00</td>\n",
       "      <td>2</td>\n",
       "      <td>0</td>\n",
       "      <td>0</td>\n",
       "      <td>93826.63</td>\n",
       "    </tr>\n",
       "    <tr>\n",
       "      <th>4</th>\n",
       "      <td>850</td>\n",
       "      <td>Spain</td>\n",
       "      <td>Female</td>\n",
       "      <td>43</td>\n",
       "      <td>2</td>\n",
       "      <td>125510.82</td>\n",
       "      <td>1</td>\n",
       "      <td>1</td>\n",
       "      <td>1</td>\n",
       "      <td>79084.10</td>\n",
       "    </tr>\n",
       "  </tbody>\n",
       "</table>\n",
       "</div>"
      ],
      "text/plain": [
       "   CreditScore Geography  Gender  Age  Tenure    Balance  NumOfProducts  \\\n",
       "0          619    France  Female   42       2       0.00              1   \n",
       "1          608     Spain  Female   41       1   83807.86              1   \n",
       "2          502    France  Female   42       8  159660.80              3   \n",
       "3          699    France  Female   39       1       0.00              2   \n",
       "4          850     Spain  Female   43       2  125510.82              1   \n",
       "\n",
       "   HasCrCard  IsActiveMember  EstimatedSalary  \n",
       "0          1               1        101348.88  \n",
       "1          0               1        112542.58  \n",
       "2          1               0        113931.57  \n",
       "3          0               0         93826.63  \n",
       "4          1               1         79084.10  "
      ]
     },
     "execution_count": 51,
     "metadata": {},
     "output_type": "execute_result"
    }
   ],
   "source": [
    "X.head()"
   ]
  },
  {
   "cell_type": "code",
   "execution_count": 52,
   "id": "e6a530b2",
   "metadata": {
    "colab": {
     "base_uri": "https://localhost:8080/",
     "height": 241
    },
    "executionInfo": {
     "elapsed": 59,
     "status": "ok",
     "timestamp": 1725616223387,
     "user": {
      "displayName": "Sharooq Farzeen A K",
      "userId": "00254559679343624974"
     },
     "user_tz": -330
    },
    "id": "e6a530b2",
    "outputId": "304d868e-84e9-48d1-d2ae-2eb919e5056e"
   },
   "outputs": [
    {
     "data": {
      "text/plain": [
       "0    1\n",
       "1    0\n",
       "2    1\n",
       "3    0\n",
       "4    0\n",
       "Name: Exited, dtype: int64"
      ]
     },
     "execution_count": 52,
     "metadata": {},
     "output_type": "execute_result"
    }
   ],
   "source": [
    "y[:5]"
   ]
  },
  {
   "cell_type": "code",
   "execution_count": 53,
   "id": "efb1f550",
   "metadata": {
    "executionInfo": {
     "elapsed": 57,
     "status": "ok",
     "timestamp": 1725616223387,
     "user": {
      "displayName": "Sharooq Farzeen A K",
      "userId": "00254559679343624974"
     },
     "user_tz": -330
    },
    "id": "efb1f550"
   },
   "outputs": [],
   "source": [
    "X_train_raw, X_test_raw, y_train, y_test = train_test_split(X, y, test_size=0.2, random_state=42)"
   ]
  },
  {
   "cell_type": "code",
   "execution_count": 54,
   "id": "95665878",
   "metadata": {
    "colab": {
     "base_uri": "https://localhost:8080/"
    },
    "executionInfo": {
     "elapsed": 57,
     "status": "ok",
     "timestamp": 1725616223388,
     "user": {
      "displayName": "Sharooq Farzeen A K",
      "userId": "00254559679343624974"
     },
     "user_tz": -330
    },
    "id": "95665878",
    "outputId": "a92a081f-c90b-4c65-f9a0-772f5929206d"
   },
   "outputs": [
    {
     "data": {
      "text/plain": [
       "(8000, 10)"
      ]
     },
     "execution_count": 54,
     "metadata": {},
     "output_type": "execute_result"
    }
   ],
   "source": [
    "X_train_raw.shape"
   ]
  },
  {
   "cell_type": "code",
   "execution_count": 55,
   "id": "9b782195",
   "metadata": {
    "colab": {
     "base_uri": "https://localhost:8080/"
    },
    "executionInfo": {
     "elapsed": 532,
     "status": "ok",
     "timestamp": 1725616223872,
     "user": {
      "displayName": "Sharooq Farzeen A K",
      "userId": "00254559679343624974"
     },
     "user_tz": -330
    },
    "id": "9b782195",
    "outputId": "d81bae48-f5f7-4f2f-c509-079a18d25818"
   },
   "outputs": [
    {
     "data": {
      "text/plain": [
       "(2000, 10)"
      ]
     },
     "execution_count": 55,
     "metadata": {},
     "output_type": "execute_result"
    }
   ],
   "source": [
    "X_test_raw.shape"
   ]
  },
  {
   "cell_type": "markdown",
   "id": "dd70abfd",
   "metadata": {
    "id": "dd70abfd"
   },
   "source": [
    "## Preprocessing"
   ]
  },
  {
   "cell_type": "code",
   "execution_count": 56,
   "id": "1a65e9d4",
   "metadata": {
    "executionInfo": {
     "elapsed": 12,
     "status": "ok",
     "timestamp": 1725616223872,
     "user": {
      "displayName": "Sharooq Farzeen A K",
      "userId": "00254559679343624974"
     },
     "user_tz": -330
    },
    "id": "1a65e9d4"
   },
   "outputs": [],
   "source": [
    "# Categorical Columns\n",
    "cat_cols = X.select_dtypes(include='object').columns.tolist()\n",
    "\n",
    "# Numerical Columns\n",
    "num_cols = X.select_dtypes(include=np.number).columns.tolist()\n",
    "\n",
    "# We do not need to do StandardScaling on binary columns 'HasCrCard' and 'IsActiveMember'\n",
    "num_cols.remove('HasCrCard')\n",
    "num_cols.remove('IsActiveMember')"
   ]
  },
  {
   "cell_type": "code",
   "execution_count": 57,
   "id": "5d571469",
   "metadata": {
    "colab": {
     "base_uri": "https://localhost:8080/"
    },
    "executionInfo": {
     "elapsed": 11,
     "status": "ok",
     "timestamp": 1725616223872,
     "user": {
      "displayName": "Sharooq Farzeen A K",
      "userId": "00254559679343624974"
     },
     "user_tz": -330
    },
    "id": "5d571469",
    "outputId": "1bf669d5-dab7-4496-96c4-4182520f3a15"
   },
   "outputs": [
    {
     "name": "stdout",
     "output_type": "stream",
     "text": [
      "Geography Gender\n",
      "CreditScore Age Tenure Balance NumOfProducts EstimatedSalary\n"
     ]
    }
   ],
   "source": [
    "print(*cat_cols)\n",
    "print(*num_cols)"
   ]
  },
  {
   "cell_type": "code",
   "execution_count": 58,
   "id": "41f12242",
   "metadata": {
    "executionInfo": {
     "elapsed": 454,
     "status": "ok",
     "timestamp": 1725616455141,
     "user": {
      "displayName": "Sharooq Farzeen A K",
      "userId": "00254559679343624974"
     },
     "user_tz": -330
    },
    "id": "41f12242"
   },
   "outputs": [],
   "source": [
    "# Defining the preprocessor\n",
    "preprocessor = ColumnTransformer(transformers = [('num', StandardScaler(), num_cols),\n",
    "                                                ('cat', OneHotEncoder(), cat_cols)],\n",
    "                                remainder='drop')"
   ]
  },
  {
   "cell_type": "code",
   "execution_count": 59,
   "id": "714831b4",
   "metadata": {
    "executionInfo": {
     "elapsed": 545,
     "status": "ok",
     "timestamp": 1725616470389,
     "user": {
      "displayName": "Sharooq Farzeen A K",
      "userId": "00254559679343624974"
     },
     "user_tz": -330
    },
    "id": "714831b4"
   },
   "outputs": [],
   "source": [
    "X_train = preprocessor.fit_transform(X_train_raw)\n",
    "X_test = preprocessor.transform(X_test_raw)"
   ]
  },
  {
   "cell_type": "code",
   "execution_count": 60,
   "id": "dc630bdc",
   "metadata": {
    "colab": {
     "base_uri": "https://localhost:8080/"
    },
    "executionInfo": {
     "elapsed": 9,
     "status": "ok",
     "timestamp": 1725616471198,
     "user": {
      "displayName": "Sharooq Farzeen A K",
      "userId": "00254559679343624974"
     },
     "user_tz": -330
    },
    "id": "dc630bdc",
    "outputId": "4e4f2701-ae0a-4663-d9f8-9e6932ded5df"
   },
   "outputs": [
    {
     "data": {
      "text/plain": [
       "array([[ 0.35649971, -0.6557859 ,  0.34567966, -1.21847056,  0.80843615,\n",
       "         1.36766974,  1.        ,  0.        ,  0.        ,  0.        ,\n",
       "         1.        ],\n",
       "       [-0.20389777,  0.29493847, -0.3483691 ,  0.69683765,  0.80843615,\n",
       "         1.6612541 ,  0.        ,  1.        ,  0.        ,  0.        ,\n",
       "         1.        ],\n",
       "       [-0.96147213, -1.41636539, -0.69539349,  0.61862909, -0.91668767,\n",
       "        -0.25280688,  0.        ,  0.        ,  1.        ,  0.        ,\n",
       "         1.        ],\n",
       "       [-0.94071667, -1.13114808,  1.38675281,  0.95321202, -0.91668767,\n",
       "         0.91539272,  1.        ,  0.        ,  0.        ,  1.        ,\n",
       "         0.        ],\n",
       "       [-1.39733684,  1.62595257,  1.38675281,  1.05744869, -0.91668767,\n",
       "        -1.05960019,  1.        ,  0.        ,  0.        ,  0.        ,\n",
       "         1.        ]])"
      ]
     },
     "execution_count": 60,
     "metadata": {},
     "output_type": "execute_result"
    }
   ],
   "source": [
    "X_train[:5]"
   ]
  },
  {
   "cell_type": "code",
   "execution_count": 61,
   "id": "603fd9be",
   "metadata": {
    "colab": {
     "base_uri": "https://localhost:8080/"
    },
    "executionInfo": {
     "elapsed": 9,
     "status": "ok",
     "timestamp": 1725616471200,
     "user": {
      "displayName": "Sharooq Farzeen A K",
      "userId": "00254559679343624974"
     },
     "user_tz": -330
    },
    "id": "603fd9be",
    "outputId": "af1dd5c1-8842-4c86-ad41-bcc44aabfadf"
   },
   "outputs": [
    {
     "data": {
      "text/plain": [
       "array([[-0.57749609, -0.6557859 , -0.69539349,  0.32993735,  0.80843615,\n",
       "        -1.01960511,  0.        ,  1.        ,  0.        ,  0.        ,\n",
       "         1.        ],\n",
       "       [-0.29729735,  0.3900109 , -1.38944225, -1.21847056,  0.80843615,\n",
       "         0.79888291,  1.        ,  0.        ,  0.        ,  0.        ,\n",
       "         1.        ],\n",
       "       [-0.52560743,  0.48508334, -0.3483691 , -1.21847056,  0.80843615,\n",
       "        -0.72797953,  0.        ,  0.        ,  1.        ,  1.        ,\n",
       "         0.        ],\n",
       "       [-1.51149188,  1.91116988,  1.03972843,  0.68927246,  0.80843615,\n",
       "         1.22138664,  0.        ,  1.        ,  0.        ,  0.        ,\n",
       "         1.        ],\n",
       "       [-0.9510944 , -1.13114808,  0.69270405,  0.78283876, -0.91668767,\n",
       "         0.24756011,  0.        ,  0.        ,  1.        ,  1.        ,\n",
       "         0.        ]])"
      ]
     },
     "execution_count": 61,
     "metadata": {},
     "output_type": "execute_result"
    }
   ],
   "source": [
    "X_test[:5]"
   ]
  },
  {
   "cell_type": "markdown",
   "id": "f91a85bf",
   "metadata": {
    "id": "f91a85bf"
   },
   "source": [
    "#### Saving the preprocessor"
   ]
  },
  {
   "cell_type": "code",
   "execution_count": 62,
   "id": "7ffbec62",
   "metadata": {
    "executionInfo": {
     "elapsed": 624,
     "status": "ok",
     "timestamp": 1725616471819,
     "user": {
      "displayName": "Sharooq Farzeen A K",
      "userId": "00254559679343624974"
     },
     "user_tz": -330
    },
    "id": "7ffbec62"
   },
   "outputs": [],
   "source": [
    "with open('preprocessor.pkl', 'wb') as file:\n",
    "    pickle.dump(preprocessor, file)"
   ]
  },
  {
   "cell_type": "markdown",
   "id": "fa8846ad",
   "metadata": {
    "id": "fa8846ad"
   },
   "source": [
    "## Building the ANN"
   ]
  },
  {
   "cell_type": "raw",
   "id": "9d0a831b",
   "metadata": {
    "id": "9d0a831b"
   },
   "source": [
    "Dense(\n",
    "    units,\n",
    "    activation=None,\n",
    "    use_bias=True,\n",
    "    kernel_initializer='glorot_uniform',\n",
    "    bias_initializer='zeros',\n",
    "    kernel_regularizer=None,\n",
    "    bias_regularizer=None,\n",
    "    activity_regularizer=None,\n",
    "    kernel_constraint=None,\n",
    "    bias_constraint=None,\n",
    "    **kwargs,\n",
    ")"
   ]
  },
  {
   "cell_type": "markdown",
   "id": "b9ffda32",
   "metadata": {
    "id": "b9ffda32"
   },
   "source": [
    "#### Defining the model"
   ]
  },
  {
   "cell_type": "code",
   "execution_count": 63,
   "id": "4bbeaa18",
   "metadata": {
    "colab": {
     "base_uri": "https://localhost:8080/"
    },
    "executionInfo": {
     "elapsed": 21,
     "status": "ok",
     "timestamp": 1725616471819,
     "user": {
      "displayName": "Sharooq Farzeen A K",
      "userId": "00254559679343624974"
     },
     "user_tz": -330
    },
    "id": "4bbeaa18",
    "outputId": "4d93ae81-7da0-4cdb-f37d-b3897c003e86"
   },
   "outputs": [],
   "source": [
    "model_1 = Sequential([\n",
    "    Input(shape=(X_train.shape[1],)),  # Define the input shape here\n",
    "    Dense(units=64, activation='relu'), # HL1\n",
    "    Dense(units=32, activation='relu'), # HL2\n",
    "    Dense(units=1, activation='sigmoid') # Output layer\n",
    "])"
   ]
  },
  {
   "cell_type": "code",
   "execution_count": 64,
   "id": "6da0574e",
   "metadata": {
    "colab": {
     "base_uri": "https://localhost:8080/",
     "height": 225
    },
    "executionInfo": {
     "elapsed": 20,
     "status": "ok",
     "timestamp": 1725616471820,
     "user": {
      "displayName": "Sharooq Farzeen A K",
      "userId": "00254559679343624974"
     },
     "user_tz": -330
    },
    "id": "6da0574e",
    "outputId": "41562128-2b64-49a2-8092-a2baae957026"
   },
   "outputs": [
    {
     "data": {
      "text/html": [
       "<pre style=\"white-space:pre;overflow-x:auto;line-height:normal;font-family:Menlo,'DejaVu Sans Mono',consolas,'Courier New',monospace\"><span style=\"font-weight: bold\">Model: \"sequential_1\"</span>\n",
       "</pre>\n"
      ],
      "text/plain": [
       "\u001b[1mModel: \"sequential_1\"\u001b[0m\n"
      ]
     },
     "metadata": {},
     "output_type": "display_data"
    },
    {
     "data": {
      "text/html": [
       "<pre style=\"white-space:pre;overflow-x:auto;line-height:normal;font-family:Menlo,'DejaVu Sans Mono',consolas,'Courier New',monospace\">┏━━━━━━━━━━━━━━━━━━━━━━━━━━━━━━━━━━━━━━┳━━━━━━━━━━━━━━━━━━━━━━━━━━━━━┳━━━━━━━━━━━━━━━━━┓\n",
       "┃<span style=\"font-weight: bold\"> Layer (type)                         </span>┃<span style=\"font-weight: bold\"> Output Shape                </span>┃<span style=\"font-weight: bold\">         Param # </span>┃\n",
       "┡━━━━━━━━━━━━━━━━━━━━━━━━━━━━━━━━━━━━━━╇━━━━━━━━━━━━━━━━━━━━━━━━━━━━━╇━━━━━━━━━━━━━━━━━┩\n",
       "│ dense_3 (<span style=\"color: #0087ff; text-decoration-color: #0087ff\">Dense</span>)                      │ (<span style=\"color: #00d7ff; text-decoration-color: #00d7ff\">None</span>, <span style=\"color: #00af00; text-decoration-color: #00af00\">64</span>)                  │             <span style=\"color: #00af00; text-decoration-color: #00af00\">768</span> │\n",
       "├──────────────────────────────────────┼─────────────────────────────┼─────────────────┤\n",
       "│ dense_4 (<span style=\"color: #0087ff; text-decoration-color: #0087ff\">Dense</span>)                      │ (<span style=\"color: #00d7ff; text-decoration-color: #00d7ff\">None</span>, <span style=\"color: #00af00; text-decoration-color: #00af00\">32</span>)                  │           <span style=\"color: #00af00; text-decoration-color: #00af00\">2,080</span> │\n",
       "├──────────────────────────────────────┼─────────────────────────────┼─────────────────┤\n",
       "│ dense_5 (<span style=\"color: #0087ff; text-decoration-color: #0087ff\">Dense</span>)                      │ (<span style=\"color: #00d7ff; text-decoration-color: #00d7ff\">None</span>, <span style=\"color: #00af00; text-decoration-color: #00af00\">1</span>)                   │              <span style=\"color: #00af00; text-decoration-color: #00af00\">33</span> │\n",
       "└──────────────────────────────────────┴─────────────────────────────┴─────────────────┘\n",
       "</pre>\n"
      ],
      "text/plain": [
       "┏━━━━━━━━━━━━━━━━━━━━━━━━━━━━━━━━━━━━━━┳━━━━━━━━━━━━━━━━━━━━━━━━━━━━━┳━━━━━━━━━━━━━━━━━┓\n",
       "┃\u001b[1m \u001b[0m\u001b[1mLayer (type)                        \u001b[0m\u001b[1m \u001b[0m┃\u001b[1m \u001b[0m\u001b[1mOutput Shape               \u001b[0m\u001b[1m \u001b[0m┃\u001b[1m \u001b[0m\u001b[1m        Param #\u001b[0m\u001b[1m \u001b[0m┃\n",
       "┡━━━━━━━━━━━━━━━━━━━━━━━━━━━━━━━━━━━━━━╇━━━━━━━━━━━━━━━━━━━━━━━━━━━━━╇━━━━━━━━━━━━━━━━━┩\n",
       "│ dense_3 (\u001b[38;5;33mDense\u001b[0m)                      │ (\u001b[38;5;45mNone\u001b[0m, \u001b[38;5;34m64\u001b[0m)                  │             \u001b[38;5;34m768\u001b[0m │\n",
       "├──────────────────────────────────────┼─────────────────────────────┼─────────────────┤\n",
       "│ dense_4 (\u001b[38;5;33mDense\u001b[0m)                      │ (\u001b[38;5;45mNone\u001b[0m, \u001b[38;5;34m32\u001b[0m)                  │           \u001b[38;5;34m2,080\u001b[0m │\n",
       "├──────────────────────────────────────┼─────────────────────────────┼─────────────────┤\n",
       "│ dense_5 (\u001b[38;5;33mDense\u001b[0m)                      │ (\u001b[38;5;45mNone\u001b[0m, \u001b[38;5;34m1\u001b[0m)                   │              \u001b[38;5;34m33\u001b[0m │\n",
       "└──────────────────────────────────────┴─────────────────────────────┴─────────────────┘\n"
      ]
     },
     "metadata": {},
     "output_type": "display_data"
    },
    {
     "data": {
      "text/html": [
       "<pre style=\"white-space:pre;overflow-x:auto;line-height:normal;font-family:Menlo,'DejaVu Sans Mono',consolas,'Courier New',monospace\"><span style=\"font-weight: bold\"> Total params: </span><span style=\"color: #00af00; text-decoration-color: #00af00\">2,881</span> (11.25 KB)\n",
       "</pre>\n"
      ],
      "text/plain": [
       "\u001b[1m Total params: \u001b[0m\u001b[38;5;34m2,881\u001b[0m (11.25 KB)\n"
      ]
     },
     "metadata": {},
     "output_type": "display_data"
    },
    {
     "data": {
      "text/html": [
       "<pre style=\"white-space:pre;overflow-x:auto;line-height:normal;font-family:Menlo,'DejaVu Sans Mono',consolas,'Courier New',monospace\"><span style=\"font-weight: bold\"> Trainable params: </span><span style=\"color: #00af00; text-decoration-color: #00af00\">2,881</span> (11.25 KB)\n",
       "</pre>\n"
      ],
      "text/plain": [
       "\u001b[1m Trainable params: \u001b[0m\u001b[38;5;34m2,881\u001b[0m (11.25 KB)\n"
      ]
     },
     "metadata": {},
     "output_type": "display_data"
    },
    {
     "data": {
      "text/html": [
       "<pre style=\"white-space:pre;overflow-x:auto;line-height:normal;font-family:Menlo,'DejaVu Sans Mono',consolas,'Courier New',monospace\"><span style=\"font-weight: bold\"> Non-trainable params: </span><span style=\"color: #00af00; text-decoration-color: #00af00\">0</span> (0.00 B)\n",
       "</pre>\n"
      ],
      "text/plain": [
       "\u001b[1m Non-trainable params: \u001b[0m\u001b[38;5;34m0\u001b[0m (0.00 B)\n"
      ]
     },
     "metadata": {},
     "output_type": "display_data"
    }
   ],
   "source": [
    "model_1.summary()"
   ]
  },
  {
   "cell_type": "markdown",
   "id": "307bd2be",
   "metadata": {
    "id": "307bd2be"
   },
   "source": [
    "#### Compiling the model"
   ]
  },
  {
   "cell_type": "code",
   "execution_count": 65,
   "id": "79673a5c",
   "metadata": {
    "executionInfo": {
     "elapsed": 18,
     "status": "ok",
     "timestamp": 1725616471820,
     "user": {
      "displayName": "Sharooq Farzeen A K",
      "userId": "00254559679343624974"
     },
     "user_tz": -330
    },
    "id": "79673a5c"
   },
   "outputs": [],
   "source": [
    "# Adam Optimizer\n",
    "opt = tf.keras.optimizers.Adam(learning_rate=0.01)\n",
    "\n",
    "# Binary Cross-entropy loss\n",
    "loss = tf.keras.losses.BinaryCrossentropy()"
   ]
  },
  {
   "cell_type": "code",
   "execution_count": 66,
   "id": "a9e463ab",
   "metadata": {
    "colab": {
     "base_uri": "https://localhost:8080/"
    },
    "executionInfo": {
     "elapsed": 17,
     "status": "ok",
     "timestamp": 1725616471820,
     "user": {
      "displayName": "Sharooq Farzeen A K",
      "userId": "00254559679343624974"
     },
     "user_tz": -330
    },
    "id": "a9e463ab",
    "outputId": "8fce5723-a2cd-4b7f-f8bf-3328a8136f07"
   },
   "outputs": [
    {
     "data": {
      "text/plain": [
       "<keras.src.optimizers.adam.Adam at 0x239085b7710>"
      ]
     },
     "execution_count": 66,
     "metadata": {},
     "output_type": "execute_result"
    }
   ],
   "source": [
    "opt"
   ]
  },
  {
   "cell_type": "code",
   "execution_count": 67,
   "id": "ccc14872",
   "metadata": {
    "colab": {
     "base_uri": "https://localhost:8080/"
    },
    "executionInfo": {
     "elapsed": 14,
     "status": "ok",
     "timestamp": 1725616471820,
     "user": {
      "displayName": "Sharooq Farzeen A K",
      "userId": "00254559679343624974"
     },
     "user_tz": -330
    },
    "id": "ccc14872",
    "outputId": "03648f0e-0f46-458d-a29e-a5cead6b07d0"
   },
   "outputs": [
    {
     "data": {
      "text/plain": [
       "<keras.src.losses.losses.BinaryCrossentropy at 0x2390da4a250>"
      ]
     },
     "execution_count": 67,
     "metadata": {},
     "output_type": "execute_result"
    }
   ],
   "source": [
    "loss"
   ]
  },
  {
   "cell_type": "raw",
   "id": "d64ee3ad",
   "metadata": {
    "id": "d64ee3ad"
   },
   "source": [
    "Signature:\n",
    "model.compile(\n",
    "    optimizer='rmsprop',\n",
    "    loss=None,\n",
    "    metrics=None,\n",
    "    loss_weights=None,\n",
    "    weighted_metrics=None,\n",
    "    run_eagerly=None,\n",
    "    steps_per_execution=None,\n",
    "    jit_compile=None,\n",
    "    pss_evaluation_shards=0,\n",
    "    **kwargs,\n",
    ")"
   ]
  },
  {
   "cell_type": "code",
   "execution_count": 68,
   "id": "76fc614b",
   "metadata": {
    "executionInfo": {
     "elapsed": 10,
     "status": "ok",
     "timestamp": 1725616471820,
     "user": {
      "displayName": "Sharooq Farzeen A K",
      "userId": "00254559679343624974"
     },
     "user_tz": -330
    },
    "id": "76fc614b"
   },
   "outputs": [],
   "source": [
    "model_1.compile(optimizer=opt, loss=loss, metrics=['accuracy'])"
   ]
  },
  {
   "cell_type": "markdown",
   "id": "a7ba7355",
   "metadata": {
    "id": "a7ba7355"
   },
   "source": [
    "#### Training the model"
   ]
  },
  {
   "cell_type": "raw",
   "id": "f3a7721e",
   "metadata": {
    "id": "f3a7721e"
   },
   "source": [
    "Init signature:\n",
    "EarlyStopping(\n",
    "    monitor='val_loss',\n",
    "    min_delta=0,\n",
    "    patience=0,\n",
    "    verbose=0,\n",
    "    mode='auto',\n",
    "    baseline=None,\n",
    "    restore_best_weights=False,\n",
    "    start_from_epoch=0,\n",
    ")"
   ]
  },
  {
   "cell_type": "code",
   "execution_count": 69,
   "id": "2058c2db",
   "metadata": {
    "executionInfo": {
     "elapsed": 10,
     "status": "ok",
     "timestamp": 1725616471821,
     "user": {
      "displayName": "Sharooq Farzeen A K",
      "userId": "00254559679343624974"
     },
     "user_tz": -330
    },
    "id": "2058c2db"
   },
   "outputs": [],
   "source": [
    "# Setting up early-stopping\n",
    "early_stopping = EarlyStopping(monitor='val_loss', patience=10, restore_best_weights=True)"
   ]
  },
  {
   "cell_type": "raw",
   "id": "17994dc4",
   "metadata": {
    "id": "17994dc4"
   },
   "source": [
    "Init signature:\n",
    "TensorBoard(\n",
    "    log_dir='logs',\n",
    "    histogram_freq=0,\n",
    "    write_graph=True,\n",
    "    write_images=False,\n",
    "    write_steps_per_second=False,\n",
    "    update_freq='epoch',\n",
    "    profile_batch=0,\n",
    "    embeddings_freq=0,\n",
    "    embeddings_metadata=None,\n",
    "    **kwargs,\n",
    ")"
   ]
  },
  {
   "cell_type": "raw",
   "id": "d1062a72",
   "metadata": {
    "id": "d1062a72"
   },
   "source": [
    "Signature:\n",
    "model.fit(\n",
    "    x=None,\n",
    "    y=None,\n",
    "    batch_size=None,\n",
    "    epochs=1,\n",
    "    verbose='auto',\n",
    "    callbacks=None,\n",
    "    validation_split=0.0,\n",
    "    validation_data=None,\n",
    "    shuffle=True,\n",
    "    class_weight=None,\n",
    "    sample_weight=None,\n",
    "    initial_epoch=0,\n",
    "    steps_per_epoch=None,\n",
    "    validation_steps=None,\n",
    "    validation_batch_size=None,\n",
    "    validation_freq=1,\n",
    "    max_queue_size=10,\n",
    "    workers=1,\n",
    "    use_multiprocessing=False,\n",
    ")"
   ]
  },
  {
   "cell_type": "code",
   "execution_count": 70,
   "id": "737a325c",
   "metadata": {
    "colab": {
     "base_uri": "https://localhost:8080/"
    },
    "executionInfo": {
     "elapsed": 36204,
     "status": "ok",
     "timestamp": 1725616508015,
     "user": {
      "displayName": "Sharooq Farzeen A K",
      "userId": "00254559679343624974"
     },
     "user_tz": -330
    },
    "id": "737a325c",
    "outputId": "6dcda94a-830b-4318-fe13-6c870d7e8ce3",
    "scrolled": true
   },
   "outputs": [
    {
     "name": "stdout",
     "output_type": "stream",
     "text": [
      "Epoch 1/100\n",
      "\u001b[1m250/250\u001b[0m \u001b[32m━━━━━━━━━━━━━━━━━━━━\u001b[0m\u001b[37m\u001b[0m \u001b[1m3s\u001b[0m 5ms/step - accuracy: 0.7911 - loss: 0.4579 - val_accuracy: 0.8485 - val_loss: 0.3690\n",
      "Epoch 2/100\n",
      "\u001b[1m250/250\u001b[0m \u001b[32m━━━━━━━━━━━━━━━━━━━━\u001b[0m\u001b[37m\u001b[0m \u001b[1m1s\u001b[0m 4ms/step - accuracy: 0.8460 - loss: 0.3708 - val_accuracy: 0.8505 - val_loss: 0.3634\n",
      "Epoch 3/100\n",
      "\u001b[1m250/250\u001b[0m \u001b[32m━━━━━━━━━━━━━━━━━━━━\u001b[0m\u001b[37m\u001b[0m \u001b[1m1s\u001b[0m 4ms/step - accuracy: 0.8495 - loss: 0.3599 - val_accuracy: 0.8400 - val_loss: 0.3649\n",
      "Epoch 4/100\n",
      "\u001b[1m250/250\u001b[0m \u001b[32m━━━━━━━━━━━━━━━━━━━━\u001b[0m\u001b[37m\u001b[0m \u001b[1m1s\u001b[0m 4ms/step - accuracy: 0.8422 - loss: 0.3685 - val_accuracy: 0.8520 - val_loss: 0.3542\n",
      "Epoch 5/100\n",
      "\u001b[1m250/250\u001b[0m \u001b[32m━━━━━━━━━━━━━━━━━━━━\u001b[0m\u001b[37m\u001b[0m \u001b[1m1s\u001b[0m 4ms/step - accuracy: 0.8496 - loss: 0.3569 - val_accuracy: 0.8490 - val_loss: 0.3484\n",
      "Epoch 6/100\n",
      "\u001b[1m250/250\u001b[0m \u001b[32m━━━━━━━━━━━━━━━━━━━━\u001b[0m\u001b[37m\u001b[0m \u001b[1m1s\u001b[0m 4ms/step - accuracy: 0.8546 - loss: 0.3519 - val_accuracy: 0.8525 - val_loss: 0.3503\n",
      "Epoch 7/100\n",
      "\u001b[1m250/250\u001b[0m \u001b[32m━━━━━━━━━━━━━━━━━━━━\u001b[0m\u001b[37m\u001b[0m \u001b[1m1s\u001b[0m 4ms/step - accuracy: 0.8528 - loss: 0.3508 - val_accuracy: 0.8470 - val_loss: 0.3534\n",
      "Epoch 8/100\n",
      "\u001b[1m250/250\u001b[0m \u001b[32m━━━━━━━━━━━━━━━━━━━━\u001b[0m\u001b[37m\u001b[0m \u001b[1m1s\u001b[0m 4ms/step - accuracy: 0.8574 - loss: 0.3465 - val_accuracy: 0.8530 - val_loss: 0.3579\n",
      "Epoch 9/100\n",
      "\u001b[1m250/250\u001b[0m \u001b[32m━━━━━━━━━━━━━━━━━━━━\u001b[0m\u001b[37m\u001b[0m \u001b[1m1s\u001b[0m 4ms/step - accuracy: 0.8476 - loss: 0.3585 - val_accuracy: 0.8500 - val_loss: 0.3597\n",
      "Epoch 10/100\n",
      "\u001b[1m250/250\u001b[0m \u001b[32m━━━━━━━━━━━━━━━━━━━━\u001b[0m\u001b[37m\u001b[0m \u001b[1m1s\u001b[0m 4ms/step - accuracy: 0.8582 - loss: 0.3474 - val_accuracy: 0.8510 - val_loss: 0.3599\n",
      "Epoch 11/100\n",
      "\u001b[1m250/250\u001b[0m \u001b[32m━━━━━━━━━━━━━━━━━━━━\u001b[0m\u001b[37m\u001b[0m \u001b[1m1s\u001b[0m 4ms/step - accuracy: 0.8592 - loss: 0.3433 - val_accuracy: 0.8550 - val_loss: 0.3499\n",
      "Epoch 12/100\n",
      "\u001b[1m250/250\u001b[0m \u001b[32m━━━━━━━━━━━━━━━━━━━━\u001b[0m\u001b[37m\u001b[0m \u001b[1m1s\u001b[0m 3ms/step - accuracy: 0.8621 - loss: 0.3380 - val_accuracy: 0.8530 - val_loss: 0.3535\n",
      "Epoch 13/100\n",
      "\u001b[1m250/250\u001b[0m \u001b[32m━━━━━━━━━━━━━━━━━━━━\u001b[0m\u001b[37m\u001b[0m \u001b[1m1s\u001b[0m 3ms/step - accuracy: 0.8621 - loss: 0.3367 - val_accuracy: 0.8530 - val_loss: 0.3610\n",
      "Epoch 14/100\n",
      "\u001b[1m250/250\u001b[0m \u001b[32m━━━━━━━━━━━━━━━━━━━━\u001b[0m\u001b[37m\u001b[0m \u001b[1m1s\u001b[0m 3ms/step - accuracy: 0.8541 - loss: 0.3462 - val_accuracy: 0.8525 - val_loss: 0.3650\n",
      "Epoch 15/100\n",
      "\u001b[1m250/250\u001b[0m \u001b[32m━━━━━━━━━━━━━━━━━━━━\u001b[0m\u001b[37m\u001b[0m \u001b[1m1s\u001b[0m 3ms/step - accuracy: 0.8588 - loss: 0.3433 - val_accuracy: 0.8490 - val_loss: 0.3580\n"
     ]
    }
   ],
   "source": [
    "# Setting up TensorBoard for model evaluation\n",
    "log_dir = os.path.join(\"logs\", \"fit\", datetime.datetime.now().strftime(\"%Y%m%d-%H%M%S\"))\n",
    "\n",
    "tensor_board = TensorBoard(log_dir=log_dir, histogram_freq=1, write_images=True)\n",
    "\n",
    "# Fitting data to the model\n",
    "history = model_1.fit(x=X_train, y=y_train, epochs=100, callbacks=[early_stopping, tensor_board],\n",
    "                   validation_data=(X_test, y_test))"
   ]
  },
  {
   "cell_type": "code",
   "execution_count": 71,
   "id": "cc211632",
   "metadata": {
    "executionInfo": {
     "elapsed": 37,
     "status": "ok",
     "timestamp": 1725616508016,
     "user": {
      "displayName": "Sharooq Farzeen A K",
      "userId": "00254559679343624974"
     },
     "user_tz": -330
    },
    "id": "cc211632"
   },
   "outputs": [],
   "source": [
    "model_1.save('Models/Churn_prediction.keras')"
   ]
  },
  {
   "cell_type": "markdown",
   "id": "1c37b194",
   "metadata": {
    "id": "1c37b194"
   },
   "source": [
    "## Model Evaluation"
   ]
  },
  {
   "cell_type": "code",
   "execution_count": 72,
   "id": "21bc5d74",
   "metadata": {
    "executionInfo": {
     "elapsed": 37,
     "status": "ok",
     "timestamp": 1725616508017,
     "user": {
      "displayName": "Sharooq Farzeen A K",
      "userId": "00254559679343624974"
     },
     "user_tz": -330
    },
    "id": "21bc5d74"
   },
   "outputs": [
    {
     "name": "stdout",
     "output_type": "stream",
     "text": [
      "The tensorboard extension is already loaded. To reload it, use:\n",
      "  %reload_ext tensorboard\n"
     ]
    }
   ],
   "source": [
    "%load_ext tensorboard"
   ]
  },
  {
   "cell_type": "code",
   "execution_count": 73,
   "id": "QdIE2DHew_fO",
   "metadata": {
    "id": "QdIE2DHew_fO"
   },
   "outputs": [
    {
     "data": {
      "text/plain": [
       "Reusing TensorBoard on port 6006 (pid 2544), started 3:30:43 ago. (Use '!kill 2544' to kill it.)"
      ]
     },
     "metadata": {},
     "output_type": "display_data"
    },
    {
     "data": {
      "text/html": [
       "\n",
       "      <iframe id=\"tensorboard-frame-991f55dea58b5a14\" width=\"100%\" height=\"800\" frameborder=\"0\">\n",
       "      </iframe>\n",
       "      <script>\n",
       "        (function() {\n",
       "          const frame = document.getElementById(\"tensorboard-frame-991f55dea58b5a14\");\n",
       "          const url = new URL(\"/\", window.location);\n",
       "          const port = 6006;\n",
       "          if (port) {\n",
       "            url.port = port;\n",
       "          }\n",
       "          frame.src = url;\n",
       "        })();\n",
       "      </script>\n",
       "    "
      ],
      "text/plain": [
       "<IPython.core.display.HTML object>"
      ]
     },
     "metadata": {},
     "output_type": "display_data"
    }
   ],
   "source": [
    "%tensorboard --logdir logs/fit"
   ]
  },
  {
   "cell_type": "markdown",
   "id": "ac9a4301",
   "metadata": {
    "id": "ac9a4301"
   },
   "source": [
    "## Hyperparameter tuning"
   ]
  },
  {
   "cell_type": "raw",
   "id": "9ec99396",
   "metadata": {
    "executionInfo": {
     "elapsed": 22,
     "status": "ok",
     "timestamp": 1725616515361,
     "user": {
      "displayName": "Sharooq Farzeen A K",
      "userId": "00254559679343624974"
     },
     "user_tz": -330
    },
    "id": "99e33016"
   },
   "source": [
    "def create_model(neurons=32, layers=1, optimizer='adam'):\n",
    "    model = Sequential()\n",
    "\n",
    "    # HL1\n",
    "    model.add(Dense(units=neurons, activation='relu', input_shape=(X_train.shape[1],)))\n",
    "\n",
    "    # Successive Hidden Layers\n",
    "    for _ in range(layers-1):\n",
    "        model.add(Dense(units=neurons, activation='relu'))\n",
    "\n",
    "    # Output Layer\n",
    "    model.add(Dense(units=1, activation='sigmoid'))\n",
    "\n",
    "    model.compile(optimizer=optimizer, loss=\"binary_crossentropy\", metrics=['accuracy'])\n",
    "\n",
    "    return model"
   ]
  },
  {
   "cell_type": "raw",
   "id": "3cdd3ed6",
   "metadata": {
    "executionInfo": {
     "elapsed": 21,
     "status": "ok",
     "timestamp": 1725616515361,
     "user": {
      "displayName": "Sharooq Farzeen A K",
      "userId": "00254559679343624974"
     },
     "user_tz": -330
    },
    "id": "8a7cc66d"
   },
   "source": [
    "# Create a KerasClassifier instance\n",
    "model = KerasClassifier(model=create_model, verbose=1, neurons=32, layers=1, optimizer='adam')"
   ]
  },
  {
   "cell_type": "raw",
   "id": "f59ce7dc",
   "metadata": {
    "executionInfo": {
     "elapsed": 21,
     "status": "ok",
     "timestamp": 1725616515361,
     "user": {
      "displayName": "Sharooq Farzeen A K",
      "userId": "00254559679343624974"
     },
     "user_tz": -330
    },
    "id": "47cc97ca"
   },
   "source": [
    "# Paramgrid for hyperparameter tuning\n",
    "param_grid = {'neurons': [16, 32, 48, 64],\n",
    "             'layers': [1, 2],\n",
    "             'optimizer': ['adam', 'rmsprop'],\n",
    "              'batch_size': [400],\n",
    "              'epochs': [50, 100]\n",
    "             }"
   ]
  },
  {
   "cell_type": "raw",
   "id": "fb68cedb",
   "metadata": {
    "executionInfo": {
     "elapsed": 21,
     "status": "ok",
     "timestamp": 1725616515361,
     "user": {
      "displayName": "Sharooq Farzeen A K",
      "userId": "00254559679343624974"
     },
     "user_tz": -330
    },
    "id": "07de605a"
   },
   "source": [
    "# Perform grid search\n",
    "grid = GridSearchCV(estimator=model, param_grid=param_grid, cv=3, verbose=1)"
   ]
  },
  {
   "cell_type": "raw",
   "id": "0a3e6beb",
   "metadata": {
    "colab": {
     "background_save": true,
     "base_uri": "https://localhost:8080/"
    },
    "id": "e94c6147"
   },
   "source": [
    "# Fit the model\n",
    "grid_result = grid.fit(X_train, y_train)"
   ]
  },
  {
   "cell_type": "raw",
   "id": "47515bdc",
   "metadata": {
    "colab": {
     "background_save": true
    },
    "id": "047b12da"
   },
   "source": [
    "model.save('model.keras')"
   ]
  },
  {
   "cell_type": "markdown",
   "id": "f3f18bc0",
   "metadata": {},
   "source": [
    "## Predicting for new data"
   ]
  },
  {
   "cell_type": "code",
   "execution_count": 74,
   "id": "a655bb16",
   "metadata": {},
   "outputs": [],
   "source": [
    "# Example input data\n",
    "input_data = {\n",
    "    'CreditScore': 600,\n",
    "    'Geography': 'France',\n",
    "    'Gender': 'Male',\n",
    "    'Age': 40,\n",
    "    'Tenure': 3,\n",
    "    'Balance': 60000,\n",
    "    'NumOfProducts': 2,\n",
    "    'HasCrCard': 1,\n",
    "    'IsActiveMember': 1,\n",
    "    'EstimatedSalary': 50000\n",
    "}"
   ]
  },
  {
   "cell_type": "code",
   "execution_count": 79,
   "id": "196ad429",
   "metadata": {},
   "outputs": [],
   "source": [
    "data = pd.DataFrame(data=[input_data], index=None)"
   ]
  },
  {
   "cell_type": "code",
   "execution_count": 80,
   "id": "b54ea68f",
   "metadata": {},
   "outputs": [
    {
     "data": {
      "text/html": [
       "<div>\n",
       "<style scoped>\n",
       "    .dataframe tbody tr th:only-of-type {\n",
       "        vertical-align: middle;\n",
       "    }\n",
       "\n",
       "    .dataframe tbody tr th {\n",
       "        vertical-align: top;\n",
       "    }\n",
       "\n",
       "    .dataframe thead th {\n",
       "        text-align: right;\n",
       "    }\n",
       "</style>\n",
       "<table border=\"1\" class=\"dataframe\">\n",
       "  <thead>\n",
       "    <tr style=\"text-align: right;\">\n",
       "      <th></th>\n",
       "      <th>CreditScore</th>\n",
       "      <th>Geography</th>\n",
       "      <th>Gender</th>\n",
       "      <th>Age</th>\n",
       "      <th>Tenure</th>\n",
       "      <th>Balance</th>\n",
       "      <th>NumOfProducts</th>\n",
       "      <th>HasCrCard</th>\n",
       "      <th>IsActiveMember</th>\n",
       "      <th>EstimatedSalary</th>\n",
       "    </tr>\n",
       "  </thead>\n",
       "  <tbody>\n",
       "    <tr>\n",
       "      <th>0</th>\n",
       "      <td>600</td>\n",
       "      <td>France</td>\n",
       "      <td>Male</td>\n",
       "      <td>40</td>\n",
       "      <td>3</td>\n",
       "      <td>60000</td>\n",
       "      <td>2</td>\n",
       "      <td>1</td>\n",
       "      <td>1</td>\n",
       "      <td>50000</td>\n",
       "    </tr>\n",
       "  </tbody>\n",
       "</table>\n",
       "</div>"
      ],
      "text/plain": [
       "   CreditScore Geography Gender  Age  Tenure  Balance  NumOfProducts  \\\n",
       "0          600    France   Male   40       3    60000              2   \n",
       "\n",
       "   HasCrCard  IsActiveMember  EstimatedSalary  \n",
       "0          1               1            50000  "
      ]
     },
     "execution_count": 80,
     "metadata": {},
     "output_type": "execute_result"
    }
   ],
   "source": [
    "data.head()"
   ]
  },
  {
   "cell_type": "code",
   "execution_count": 82,
   "id": "133185d7",
   "metadata": {},
   "outputs": [],
   "source": [
    "new_data = preprocessor.transform(data)"
   ]
  },
  {
   "cell_type": "code",
   "execution_count": 83,
   "id": "8d29978b",
   "metadata": {},
   "outputs": [
    {
     "data": {
      "text/plain": [
       "array([[-0.53598516,  0.10479359, -0.69539349, -0.25781119,  0.80843615,\n",
       "        -0.87683221,  1.        ,  0.        ,  0.        ,  0.        ,\n",
       "         1.        ]])"
      ]
     },
     "execution_count": 83,
     "metadata": {},
     "output_type": "execute_result"
    }
   ],
   "source": [
    "new_data"
   ]
  },
  {
   "cell_type": "code",
   "execution_count": 85,
   "id": "835ad187",
   "metadata": {},
   "outputs": [
    {
     "name": "stdout",
     "output_type": "stream",
     "text": [
      "\u001b[1m1/1\u001b[0m \u001b[32m━━━━━━━━━━━━━━━━━━━━\u001b[0m\u001b[37m\u001b[0m \u001b[1m0s\u001b[0m 32ms/step\n"
     ]
    },
    {
     "data": {
      "text/plain": [
       "array([0.05117212], dtype=float32)"
      ]
     },
     "execution_count": 85,
     "metadata": {},
     "output_type": "execute_result"
    }
   ],
   "source": [
    "model_1.predict(new_data)"
   ]
  },
  {
   "cell_type": "code",
   "execution_count": 86,
   "id": "156b2a7a",
   "metadata": {},
   "outputs": [
    {
     "name": "stdout",
     "output_type": "stream",
     "text": [
      "\u001b[1m1/1\u001b[0m \u001b[32m━━━━━━━━━━━━━━━━━━━━\u001b[0m\u001b[37m\u001b[0m \u001b[1m0s\u001b[0m 29ms/step\n"
     ]
    }
   ],
   "source": [
    "prediction_proba = model_1.predict(new_data)[0][0]"
   ]
  },
  {
   "cell_type": "code",
   "execution_count": 87,
   "id": "c8704dfc",
   "metadata": {},
   "outputs": [
    {
     "name": "stdout",
     "output_type": "stream",
     "text": [
      "Customer is NOT likely to churn\n"
     ]
    }
   ],
   "source": [
    "print(\"Customer is likely to Churn\") if prediction_proba > 0.5 else print(\"Customer is NOT likely to churn\")"
   ]
  }
 ],
 "metadata": {
  "colab": {
   "name": "",
   "version": ""
  },
  "kernelspec": {
   "display_name": "Python 3 (ipykernel)",
   "language": "python",
   "name": "python3"
  },
  "language_info": {
   "codemirror_mode": {
    "name": "ipython",
    "version": 3
   },
   "file_extension": ".py",
   "mimetype": "text/x-python",
   "name": "python",
   "nbconvert_exporter": "python",
   "pygments_lexer": "ipython3",
   "version": "3.11.4"
  }
 },
 "nbformat": 4,
 "nbformat_minor": 5
}
